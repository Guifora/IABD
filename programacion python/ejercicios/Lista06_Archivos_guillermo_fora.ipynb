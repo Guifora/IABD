{
  "cells": [
    {
      "cell_type": "markdown",
      "id": "d287d88e",
      "metadata": {
        "id": "d287d88e"
      },
      "source": [
        "# LISTA 6 - ARCHIVOS\n",
        "## <ins>Ejercicios Obligatorios </ins>"
      ]
    },
    {
      "cell_type": "markdown",
      "id": "f99190d1",
      "metadata": {
        "id": "f99190d1"
      },
      "source": [
        "## EJERCICIO 1"
      ]
    },
    {
      "cell_type": "markdown",
      "id": "b3836703",
      "metadata": {
        "id": "b3836703"
      },
      "source": [
        "Pídele al usuario el nombre, el apellido, la edad y su color favorito. Guarda la información en un diccionario de claves name, surname, age y color.\n",
        "\n",
        "Crea y escribe un txt con 4 frases, una en cada línea. La primera debe indicar el nombre del usuario; la segunda, el apellido; la tercera, la edad; y la última, el color favorito del usuario."
      ]
    },
    {
      "cell_type": "code",
      "source": [
        "from google.colab import drive\n",
        "drive.mount('/content/drive')"
      ],
      "metadata": {
        "colab": {
          "base_uri": "https://localhost:8080/"
        },
        "id": "wl-SpigL0qVa",
        "outputId": "76c9569a-37a2-4d45-e0a6-8c0e3a2262bb"
      },
      "id": "wl-SpigL0qVa",
      "execution_count": null,
      "outputs": [
        {
          "output_type": "stream",
          "name": "stdout",
          "text": [
            "Drive already mounted at /content/drive; to attempt to forcibly remount, call drive.mount(\"/content/drive\", force_remount=True).\n"
          ]
        }
      ]
    },
    {
      "cell_type": "code",
      "source": [
        "# Solicita al usuario que ingrese su nombre y lo almacena en la variable 'nombre'.\n",
        "nombre = input(\"Escribe tu nombre: \")\n",
        "\n",
        "# Solicita al usuario que ingrese su apellido y lo almacena en la variable 'apellido'.\n",
        "apellido = input(\"Escribe tu apellido: \")\n",
        "\n",
        "# Solicita al usuario que ingrese su edad, convierte la entrada a un entero y la almacena en la variable 'edad'.\n",
        "edad = int(input(\"Escribe tu edad: \"))\n",
        "\n",
        "# Solicita al usuario que ingrese su color favorito y lo almacena en la variable 'color'.\n",
        "color = input(\"Escribe tu color favorito: \")\n",
        "\n",
        "# Crea un diccionario vacío llamado 'dicc'.\n",
        "dicc = {}\n",
        "\n",
        "# Agrega al diccionario 'dicc' la entrada del nombre bajo la clave \"name\".\n",
        "dicc[\"name\"] = nombre\n",
        "\n",
        "# Agrega al diccionario 'dicc' la entrada del apellido bajo la clave \"surname\".\n",
        "dicc[\"surname\"] = apellido\n",
        "\n",
        "# Agrega al diccionario 'dicc' la entrada de la edad como cadena bajo la clave \"age\".\n",
        "dicc[\"age\"] = str(edad)\n",
        "\n",
        "# Agrega al diccionario 'dicc' el color favorito bajo la clave \"color\".\n",
        "dicc[\"color\"] = color\n",
        "\n",
        "# Abre un archivo de texto en modo \"x\" (exclusivo para escritura) en la ruta especificada.\n",
        "# Si el archivo ya existe, se generará un error y el archivo no se creará.\n",
        "f = open(\"/content/drive/MyDrive/Datos/ejercicio1.txt\", mode=\"x\")\n",
        "\n",
        "# Escribe el nombre del usuario en el archivo, seguido de un salto de línea.\n",
        "f.write(dicc[\"name\"] + \"\\n\")\n",
        "\n",
        "# Escribe el apellido del usuario en el archivo, seguido de un salto de línea.\n",
        "# Se ha escrito \"v\" adicionalmente, lo que parece ser un error tipográfico.\n",
        "f.write(dicc[\"surname\"] + \"v\\n\")\n",
        "\n",
        "# Escribe la edad del usuario en el archivo, seguido de un salto de línea.\n",
        "f.write(dicc[\"age\"] + \"\\n\")\n",
        "\n",
        "# Escribe el color favorito del usuario en el archivo, seguido de un salto de línea.\n",
        "f.write(dicc[\"color\"] + \"\\n\")\n",
        "\n",
        "# Cierra el archivo para asegurarse de que todos los datos se hayan guardado correctamente.\n",
        "f.close()"
      ],
      "metadata": {
        "colab": {
          "base_uri": "https://localhost:8080/"
        },
        "id": "CjT_eyju0zdw",
        "outputId": "bb6a292c-602f-4c23-8133-e612785b2544"
      },
      "id": "CjT_eyju0zdw",
      "execution_count": null,
      "outputs": [
        {
          "output_type": "stream",
          "name": "stdout",
          "text": [
            "Escribe tu nombre: guillermo\n",
            "Escribe tu apellido: fora\n",
            "Escribe tu edad: 28\n",
            "Escribe tu color favorito: verde\n",
            "guillermo\n",
            "\n",
            "fora\n",
            "\n",
            "28\n",
            "\n",
            "verde\n",
            "\n"
          ]
        }
      ]
    },
    {
      "cell_type": "markdown",
      "id": "feb0417e",
      "metadata": {
        "id": "feb0417e"
      },
      "source": [
        "## EJERCICIO 2"
      ]
    },
    {
      "cell_type": "markdown",
      "id": "91cd8f7c",
      "metadata": {
        "id": "91cd8f7c"
      },
      "source": [
        "Lee el archivo txt creado en el ejercicio anterior para ver que se ha creado correctamente."
      ]
    },
    {
      "cell_type": "code",
      "source": [
        "# Se abre el archivo \"ejercicio1.txt\" en modo lectura utilizando una declaración 'with'.\n",
        "# Esto asegura que el archivo se cierre automáticamente después de su uso.\n",
        "with open(\"/content/drive/MyDrive/Datos/ejercicio1.txt\") as g:\n",
        "\n",
        "  # Se itera sobre cada línea del archivo.\n",
        "  for i in g:\n",
        "\n",
        "    # Se imprime cada línea del archivo en la consola.\n",
        "    print(i)"
      ],
      "metadata": {
        "colab": {
          "base_uri": "https://localhost:8080/"
        },
        "id": "DCbnt2Mr7SSx",
        "outputId": "17bbf5dd-96d1-4f4f-86b2-34a5ae454724"
      },
      "id": "DCbnt2Mr7SSx",
      "execution_count": null,
      "outputs": [
        {
          "output_type": "stream",
          "name": "stdout",
          "text": [
            "guillermo\n",
            "\n",
            "fora\n",
            "\n",
            "28\n",
            "\n",
            "verde\n",
            "\n"
          ]
        }
      ]
    },
    {
      "cell_type": "markdown",
      "id": "abf81a65",
      "metadata": {
        "id": "abf81a65"
      },
      "source": [
        "## EJERCICIO 3"
      ]
    },
    {
      "cell_type": "markdown",
      "id": "c0dda757",
      "metadata": {
        "id": "c0dda757"
      },
      "source": [
        "Crea un archivo txt vacío y llámalo ej3.txt."
      ]
    },
    {
      "cell_type": "code",
      "source": [
        "# Se intenta abrir el archivo \"ej3.txt\" en modo creación (mode=\"x\").\n",
        "# Este modo solo permite crear un nuevo archivo; si el archivo ya existe, se genera un error.\n",
        "f = open(\"/content/drive/MyDrive/Datos/ej3.txt\", mode=\"x\")\n",
        "\n",
        "# Se cierra el archivo abierto para liberar recursos y asegurar que no se produzcan cambios accidentales.\n",
        "f.close()"
      ],
      "metadata": {
        "id": "GNWaqw397Wx6"
      },
      "id": "GNWaqw397Wx6",
      "execution_count": null,
      "outputs": []
    },
    {
      "cell_type": "markdown",
      "id": "4d68e82b",
      "metadata": {
        "id": "4d68e82b"
      },
      "source": [
        "## EJERCICIO 4"
      ]
    },
    {
      "cell_type": "markdown",
      "id": "ec7f3b2a",
      "metadata": {
        "id": "ec7f3b2a"
      },
      "source": [
        "Elimina el archivo creado en el ejercicio 3."
      ]
    },
    {
      "cell_type": "code",
      "source": [
        "# Se importa el módulo 'os', que proporciona funciones para interactuar con el sistema operativo.\n",
        "import os\n",
        "\n",
        "# Se elimina el archivo \"ej3.txt\" ubicado en la ruta especificada.\n",
        "# Si el archivo no existe, se generará un FileNotFoundError.\n",
        "os.remove(\"/content/drive/MyDrive/Datos/ej3.txt\")"
      ],
      "metadata": {
        "id": "wpx_wYAY7i8m"
      },
      "id": "wpx_wYAY7i8m",
      "execution_count": null,
      "outputs": []
    },
    {
      "cell_type": "markdown",
      "id": "5c943554",
      "metadata": {
        "id": "5c943554"
      },
      "source": [
        "## EJERCICIO 5"
      ]
    },
    {
      "cell_type": "markdown",
      "id": "f2fe60bc",
      "metadata": {
        "id": "f2fe60bc"
      },
      "source": [
        "Crea un archivo txt vacío y llámalo ej5.txt. Después añádele las siguientes líneas:\n",
        "```\n",
        "\"x,y,Color,Shape\\n\"\n",
        "\"1,1,#6fb7ff,<\\n\"\n",
        "\"-1,1,#ffa66f,v\\n\"\n",
        "\"-1,-1,#ffee6f,>\\n\"\n",
        "\"1,-1,#db6fff,^\\n\"\n",
        "```"
      ]
    },
    {
      "cell_type": "code",
      "source": [
        "# Se intenta abrir el archivo \"ej5.txt\" en modo creación (mode=\"x\").\n",
        "# Este modo solo permite crear un nuevo archivo; si el archivo ya existe, se generará un error.\n",
        "f = open(\"/content/drive/MyDrive/Datos/ej5.txt\", mode=\"x\")\n",
        "\n",
        "# Se escriben los encabezados en el archivo, separados por comas.\n",
        "f.write(\"x,y,Color,Shape\\n\")\n",
        "\n",
        "# Se escriben varias filas de datos en el archivo, cada una en una nueva línea.\n",
        "f.write(\"1,1,#6fb7ff,<\\n\")  # Fila con coordenadas (1,1), color y forma '<'\n",
        "f.write(\"-1,-1,#ffee6f,>\\n\") # Fila con coordenadas (-1,-1), color y forma '>'\n",
        "f.write(\"-1,-1,#ffee6f,>\\n\") # Otra fila con las mismas coordenadas, color y forma '>'\n",
        "f.write(\"1,-1,#db6fff,^\\n\")  # Fila con coordenadas (1,-1), color y forma '^'\n",
        "\n",
        "# Se cierra el archivo para liberar recursos y asegurar que todos los datos se hayan escrito correctamente.\n",
        "f.close()\n",
        "\n",
        "# Se abre el archivo \"ej5.txt\" en modo lectura.\n",
        "with open(\"/content/drive/MyDrive/Datos/ej5.txt\") as g:\n",
        "    # Se itera sobre cada línea del archivo y se imprime en la consola.\n",
        "    for i in g:\n",
        "        print(i)"
      ],
      "metadata": {
        "colab": {
          "base_uri": "https://localhost:8080/"
        },
        "id": "JPJojZnQ78Bt",
        "outputId": "7180448e-34e7-4e7b-d86e-082a8a341ceb"
      },
      "id": "JPJojZnQ78Bt",
      "execution_count": null,
      "outputs": [
        {
          "output_type": "stream",
          "name": "stdout",
          "text": [
            "x,y,Color,Shape\n",
            "\n",
            "1,1,#6fb7ff,<\n",
            "\n",
            "-1,-1,#ffee6f,>\n",
            "\n",
            "-1,-1,#ffee6f,>\n",
            "\n",
            "1,-1,#db6fff,^\n",
            "\n"
          ]
        }
      ]
    }
  ],
  "metadata": {
    "kernelspec": {
      "display_name": "Python 3 (ipykernel)",
      "language": "python",
      "name": "python3"
    },
    "language_info": {
      "codemirror_mode": {
        "name": "ipython",
        "version": 3
      },
      "file_extension": ".py",
      "mimetype": "text/x-python",
      "name": "python",
      "nbconvert_exporter": "python",
      "pygments_lexer": "ipython3",
      "version": "3.10.9"
    },
    "colab": {
      "provenance": []
    }
  },
  "nbformat": 4,
  "nbformat_minor": 5
}