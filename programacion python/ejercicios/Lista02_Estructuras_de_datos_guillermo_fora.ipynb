{
  "cells": [
    {
      "cell_type": "markdown",
      "id": "d287d88e",
      "metadata": {
        "id": "d287d88e"
      },
      "source": [
        "# LISTA 2 - ESTRUCTURAS DE DATOS"
      ]
    },
    {
      "cell_type": "markdown",
      "id": "f99190d1",
      "metadata": {
        "id": "f99190d1"
      },
      "source": [
        "## EJERCICIO 1"
      ]
    },
    {
      "cell_type": "markdown",
      "id": "b3836703",
      "metadata": {
        "id": "b3836703"
      },
      "source": [
        "Crea un programa pida una cadena de caracteres al usuario, guarde cada carácter en una posición de una lista y finalmente muestre la lista al revés como si fuera un string."
      ]
    },
    {
      "cell_type": "code",
      "source": [
        "# Solicitamos una cadena de caracteres al usuario\n",
        "cadena = input(\"Escribe una cadena de caracteres: \")\n",
        "\n",
        "# Convertimos la cadena en una lista de caracteres\n",
        "lista = list(cadena)\n",
        "\n",
        "# Creamos una variable vacía para almacenar la cadena invertida\n",
        "cadena_inver = \"\"\n",
        "\n",
        "# Iteramos sobre la lista de caracteres en orden inverso\n",
        "for i in range(len(lista)-1, -1, -1):\n",
        "    # Agregamos cada carácter al final de cadena_inver\n",
        "    cadena_inver += lista[i]\n",
        "\n",
        "# Imprimimos el resultado\n",
        "print(\"La cadena que has introducido al revés sería:\", cadena_inver)"
      ],
      "metadata": {
        "colab": {
          "base_uri": "https://localhost:8080/"
        },
        "id": "lPQLn8rWqr-A",
        "outputId": "0316e768-c240-471b-8703-2869c99f910e"
      },
      "id": "lPQLn8rWqr-A",
      "execution_count": null,
      "outputs": [
        {
          "output_type": "stream",
          "name": "stdout",
          "text": [
            "Escribe una cadena de caracteres: hola\n",
            "La cadena que has introducido al reves seria:  aloh\n"
          ]
        }
      ]
    },
    {
      "cell_type": "markdown",
      "id": "feb0417e",
      "metadata": {
        "id": "feb0417e"
      },
      "source": [
        "## EJERCICIO 2"
      ]
    },
    {
      "cell_type": "markdown",
      "id": "91cd8f7c",
      "metadata": {
        "id": "91cd8f7c"
      },
      "source": [
        "Crea un programa que lea dos strings introducidos por el usuario de la misma longitud, los guarde intercalados en una lista y muestre el contenido de la nueva lista como si fuera un string.\n",
        "\n",
        "Por ejemplo, si introducimos hola caracola y adios marieta, debería mostrarse haodliao sc amraarcioeltaa."
      ]
    },
    {
      "cell_type": "code",
      "source": [
        "# Solicitamos dos cadenas de caracteres al usuario\n",
        "cadena1 = input(\"Escribe una cadena de caracteres: \")\n",
        "cadena2 = input(\"Escribe otra cadena de caracteres: \")\n",
        "\n",
        "# Convertimos las cadenas en listas de caracteres\n",
        "lista1 = list(cadena1)\n",
        "lista2 = list(cadena2)\n",
        "\n",
        "# Variable para almacenar la cadena resultante\n",
        "cadena_inver = \"\"\n",
        "\n",
        "# Comprobamos si las cadenas tienen la misma longitud\n",
        "if len(cadena1) == len(cadena2):\n",
        "    # Si son iguales, concatenamos los caracteres correspondientes en orden inverso\n",
        "    for i in range(len(cadena1)):\n",
        "        cadena_inver += cadena1[i] + cadena2[i]\n",
        "else:\n",
        "    # Si no son iguales, imprimimos un mensaje de advertencia\n",
        "    print(\"Las cadenas de caracteres no tienen la misma longitud\")\n",
        "\n",
        "# Imprimimos el resultado final\n",
        "print(\"La cadena resultante es:\", cadena_inver)"
      ],
      "metadata": {
        "colab": {
          "base_uri": "https://localhost:8080/"
        },
        "id": "n2Ai7F1FuCTv",
        "outputId": "7eeda014-0b14-4ce3-a7fa-8770a1a47ce1"
      },
      "id": "n2Ai7F1FuCTv",
      "execution_count": null,
      "outputs": [
        {
          "output_type": "stream",
          "name": "stdout",
          "text": [
            "Escribe una cadena de caracteres: hola caracola\n",
            "Escribe otra cadena de caracteres: adios marieta\n",
            "Las cadenas de caractares al reves e intercadalas es  haodliao sc amraarcioeltaa\n"
          ]
        }
      ]
    },
    {
      "cell_type": "markdown",
      "id": "abf81a65",
      "metadata": {
        "id": "abf81a65"
      },
      "source": [
        "## EJERCICIO 3"
      ]
    },
    {
      "cell_type": "markdown",
      "id": "c0dda757",
      "metadata": {
        "id": "c0dda757"
      },
      "source": [
        "Crea un programa que lea un string introducido por el usuario y guarde en una lista todas las consonantes, finalmente muestra el contenido de la lista."
      ]
    },
    {
      "cell_type": "code",
      "source": [
        "# Solicitamos una cadena al usuario\n",
        "cadena = input(\"Escribe una cadena: \")\n",
        "\n",
        "# Creamos una lista vacía para almacenar los caracteres no vocálicos\n",
        "lista = []\n",
        "\n",
        "# Definimos la lista de vocales (mayúsculas y minúsculas)\n",
        "vocales = ('a', 'e', 'i', 'o', 'u', 'A', 'E', 'I', 'O', 'U')\n",
        "\n",
        "# Iteramos sobre cada carácter en la cadena\n",
        "for char in cadena:\n",
        "    # Comprobamos si el carácter no está en la lista de vocales\n",
        "    if char not in vocales:\n",
        "        # Si no es una vocal, lo añadimos a nuestra lista\n",
        "        lista.append(char)\n",
        "\n",
        "# Convertimos la lista de caracteres nuevamente en una cadena\n",
        "print(\"El contenido de la lista es:\", ''.join(lista))"
      ],
      "metadata": {
        "colab": {
          "base_uri": "https://localhost:8080/"
        },
        "id": "B0wr0OxlyxKN",
        "outputId": "c4a1bd11-3190-4785-eecc-334165a1176b"
      },
      "id": "B0wr0OxlyxKN",
      "execution_count": null,
      "outputs": [
        {
          "output_type": "stream",
          "name": "stdout",
          "text": [
            "Escribe una cadena: hola\n",
            "El contenido de la lista es: hl\n"
          ]
        }
      ]
    },
    {
      "cell_type": "markdown",
      "id": "4d68e82b",
      "metadata": {
        "id": "4d68e82b"
      },
      "source": [
        "## EJERCICIO 4"
      ]
    },
    {
      "cell_type": "markdown",
      "id": "ec7f3b2a",
      "metadata": {
        "id": "ec7f3b2a"
      },
      "source": [
        "Crea un programa que lea una palabra introducida por el usuario, la guarde en una lista y compruebe si se trata de un palíndromo (se lee igual de derecha a izquierda que de derecha a izquierda, por ejemplo, reconocer)."
      ]
    },
    {
      "cell_type": "code",
      "source": [
        "# Solicitamos una palabra al usuario\n",
        "cadena = input(\"Escribe una palabra: \")\n",
        "\n",
        "# Creamos una lista vacía para almacenar los caracteres de la palabra\n",
        "lista = []\n",
        "\n",
        "# Iteramos sobre cada carácter en la palabra\n",
        "for char in cadena:\n",
        "    # Añadimos cada carácter a la lista\n",
        "    lista.append(char)\n",
        "\n",
        "# Comprobamos si la palabra es igual a su reversión\n",
        "if cadena == ''.join(lista):\n",
        "    print(f\"La palabra {cadena} es un palíndromo\")\n",
        "else:\n",
        "    print(f\"La palabra {cadena} no es palíndromo\")"
      ],
      "metadata": {
        "colab": {
          "base_uri": "https://localhost:8080/"
        },
        "id": "MewVch13dzND",
        "outputId": "65be94ea-5000-40cd-ccb6-7c7cadd2c308"
      },
      "id": "MewVch13dzND",
      "execution_count": null,
      "outputs": [
        {
          "output_type": "stream",
          "name": "stdout",
          "text": [
            "Escribe una palabra: reconocer\n",
            "La palabra reconocer es un palindromo\n"
          ]
        }
      ]
    },
    {
      "cell_type": "markdown",
      "id": "5c943554",
      "metadata": {
        "id": "5c943554"
      },
      "source": [
        "## EJERCICIO 5"
      ]
    },
    {
      "cell_type": "markdown",
      "id": "13d2c744",
      "metadata": {
        "id": "13d2c744"
      },
      "source": [
        "Crea un programa que lea un entero, n, introducido por el usuario y construya una matriz de tamaño n x n. Cada posición debe contener su orden en la matriz (desde 0 hasta n<sup>2</sup> - 1).\n",
        "\n",
        "Por ejemplo, si n es 3, deberá crearse la matriz:\n",
        "```\n",
        "[0, 1, 2]\n",
        "[3, 4, 5]\n",
        "[6, 7, 8]\n",
        "```"
      ]
    },
    {
      "cell_type": "code",
      "source": [
        "# Solicitamos un número entero al usuario\n",
        "numero = int(input(\"Escribe un número entero: \"))\n",
        "\n",
        "# Inicializamos un contador para numerar los elementos\n",
        "contador = 0\n",
        "\n",
        "# Creamos una matriz vacía para almacenar los resultados\n",
        "matriz = []\n",
        "\n",
        "# Primera iteración anidada: creamos filas\n",
        "for i in range(numero):\n",
        "    # Segunda iteración anidada: creamos columnas\n",
        "    cadena = []\n",
        "    for j in range(numero):\n",
        "        # Añadimos el valor actual del contador a la cadena\n",
        "        cadena.append(contador)\n",
        "        # Incrementamos el contador\n",
        "        contador += 1\n",
        "    # Añadimos la cadena (fila) a la matriz\n",
        "    matriz.append(cadena)\n",
        "\n",
        "# Segunda iteración anidada: imprimimos cada fila de la matriz\n",
        "for cadena in matriz:\n",
        "    print(cadena)"
      ],
      "metadata": {
        "colab": {
          "base_uri": "https://localhost:8080/"
        },
        "id": "iOTXpk0hhWYV",
        "outputId": "3a0a13ca-317a-4e1d-8d30-c3bea4ac5287"
      },
      "id": "iOTXpk0hhWYV",
      "execution_count": null,
      "outputs": [
        {
          "output_type": "stream",
          "name": "stdout",
          "text": [
            "Escribe un numero entero: 3\n",
            "[0, 1, 2]\n",
            "[3, 4, 5]\n",
            "[6, 7, 8]\n"
          ]
        }
      ]
    },
    {
      "cell_type": "markdown",
      "id": "2972dd7e",
      "metadata": {
        "id": "2972dd7e"
      },
      "source": [
        "## EJERCICIO 6"
      ]
    },
    {
      "cell_type": "markdown",
      "id": "ef3c12ce",
      "metadata": {
        "id": "ef3c12ce"
      },
      "source": [
        "Crea una matriz de n x m pidiendo las dimensiones y los valores de cada celda al usuario. El programa debe indicar si la suma de cada columna es el mismo valor.\n",
        "\n",
        "![image-2.png](attachment:image-2.png)"
      ]
    },
    {
      "cell_type": "code",
      "source": [
        "# Solicitamos el número de filas y columnas al usuario\n",
        "filas = int(input(\"Escribe un número de filas: \"))\n",
        "columnas = int(input(\"Escribe un número de columnas: \"))\n",
        "\n",
        "# Creamos una matriz vacía para almacenar los elementos\n",
        "matriz = []\n",
        "\n",
        "# Variable para sumar las dos primeras columnas\n",
        "suma = 0\n",
        "\n",
        "# Variables para sumar cada columna individualmente\n",
        "suma_columna1 = 0\n",
        "suma_columna2 = 0\n",
        "\n",
        "# Bandera para indicar si la suma es igual en ambas columnas\n",
        "total_suma = True\n",
        "\n",
        "# Primera iteración anidada: creamos filas y llenamos la matriz\n",
        "for i in range(filas):\n",
        "    cadena = []\n",
        "\n",
        "    # Segunda iteración anidada: creamos columnas y llenamos la fila actual\n",
        "    for j in range(columnas):\n",
        "        # Solicitamos el elemento al usuario y lo añadimos a la fila\n",
        "        cadena.append(int(input(f\"Introduce el elemento [{i}][{j}]: \")))\n",
        "\n",
        "    matriz.append(cadena)\n",
        "\n",
        "# Iteración para calcular la suma de ambas columnas\n",
        "for i in range(columnas - 1):\n",
        "    suma_columna1 = 0\n",
        "    suma_columna2 = 0\n",
        "\n",
        "    # Sumamos los elementos de la primera columna\n",
        "    for j in range(filas):\n",
        "        suma_columna1 += matriz[j][i]\n",
        "\n",
        "    # Sumamos los elementos de la segunda columna\n",
        "    for j in range(filas):\n",
        "        suma_columna2 += matriz[j][i + 1]\n",
        "\n",
        "    # Comprobamos si la suma de ambas columnas es igual\n",
        "    if suma_columna2 == suma_columna1:\n",
        "        total_suma = True\n",
        "    else:\n",
        "        total_suma = False\n",
        "\n",
        "# Imprimimos los resultados\n",
        "print(suma_columna2)\n",
        "print(suma_columna1)\n",
        "\n",
        "if total_suma == True:\n",
        "    print(f\"La suma de todas las columnas es igual: {suma_columna1}\")\n",
        "else:\n",
        "    print(\"La suma de todas las columnas no es igual\")"
      ],
      "metadata": {
        "colab": {
          "base_uri": "https://localhost:8080/"
        },
        "id": "cmGl4FK0oOHH",
        "outputId": "06885a67-92f4-4773-f949-0fdcc8e07a45"
      },
      "id": "cmGl4FK0oOHH",
      "execution_count": null,
      "outputs": [
        {
          "output_type": "stream",
          "name": "stdout",
          "text": [
            "Escribe un numero de filas: 2\n",
            "Escribe un numero de columnas: 3\n",
            "Introduce el elemento [0][0]: 2\n",
            "Introduce el elemento [0][1]: 2\n",
            "Introduce el elemento [0][2]: 2\n",
            "Introduce el elemento [1][0]: 2\n",
            "Introduce el elemento [1][1]: 2\n",
            "Introduce el elemento [1][2]: 2\n",
            "4\n",
            "4\n",
            "La suma de todas las columnas es igual : 4\n"
          ]
        }
      ]
    },
    {
      "cell_type": "markdown",
      "id": "cbbfb36c",
      "metadata": {
        "id": "cbbfb36c"
      },
      "source": [
        "## EJERCICIO 7"
      ]
    },
    {
      "cell_type": "markdown",
      "id": "f0211a75",
      "metadata": {
        "id": "f0211a75"
      },
      "source": [
        "Realiza un programa que calcule la matriz traspuesta de una matriz dada manualmente (usando bucles). Finalmente imprime por filas las dos matrices\n",
        "\n",
        "matriz=``` [[1,2,3],[4,5,6],[7,8,9]]```\n",
        "matriz_final= ```[[1,4,7],[2,5,8],[3,6,9]]```"
      ]
    },
    {
      "cell_type": "code",
      "source": [
        "# Definimos una matriz inicial\n",
        "matriz = [[1,2,3], [4,5,6], [7,8,9]]\n",
        "\n",
        "# Creamos una matriz vacía para almacenar la transposición\n",
        "matriz_inver = []\n",
        "\n",
        "# Primera iteración anidada: recorremos las filas de la matriz original\n",
        "for a in range(len(matriz)):\n",
        "    # Segunda iteración anidada: recorremos las columnas de la matriz original\n",
        "    cadena = []\n",
        "    for i in range(len(matriz[a])):\n",
        "        # Añadimos el elemento de la matriz original a la nueva matriz transpuesta\n",
        "        cadena.append(matriz[i][a])\n",
        "    # Añadimos la fila transpuesta a la nueva matriz\n",
        "    matriz_inver.append(cadena)\n",
        "\n",
        "# Tercera iteración anidada: imprimimos cada fila de la matriz transpuesta\n",
        "for cadena in matriz_inver:\n",
        "    print(cadena)"
      ],
      "metadata": {
        "colab": {
          "base_uri": "https://localhost:8080/"
        },
        "id": "zLOKPOSpxYzP",
        "outputId": "d8d60feb-1c99-4630-950b-e99cc43640b7"
      },
      "id": "zLOKPOSpxYzP",
      "execution_count": null,
      "outputs": [
        {
          "output_type": "stream",
          "name": "stdout",
          "text": [
            "[1, 4, 7]\n",
            "[2, 5, 8]\n",
            "[3, 6, 9]\n"
          ]
        }
      ]
    },
    {
      "cell_type": "code",
      "source": [],
      "metadata": {
        "id": "6sIiXrHSUVmX"
      },
      "id": "6sIiXrHSUVmX",
      "execution_count": null,
      "outputs": []
    },
    {
      "cell_type": "markdown",
      "id": "59397f22",
      "metadata": {
        "id": "59397f22"
      },
      "source": [
        "## EJERCICIO 8"
      ]
    },
    {
      "cell_type": "markdown",
      "id": "8272bcdf",
      "metadata": {
        "id": "8272bcdf"
      },
      "source": [
        "Crea un programa que pida un número entero positivo por teclado y que cree un diccionario cuyas claves sean desde el número 1 hasta el número indicado. Los valores de cada clave serán las propias claves elevadas al cubo. Finalmente muestra el diccionario."
      ]
    },
    {
      "cell_type": "markdown",
      "source": [],
      "metadata": {
        "id": "SkQhXy1hUU88"
      },
      "id": "SkQhXy1hUU88"
    },
    {
      "cell_type": "code",
      "source": [
        "# Solicitamos un número entero al usuario\n",
        "numero = int(input(\"Escribe un número entero: \"))\n",
        "\n",
        "# Creamos un diccionario vacío para almacenar los resultados\n",
        "dicc = {}\n",
        "\n",
        "if numero > 0:\n",
        "    # Iteramos desde 1 hasta el número introducido\n",
        "    for i in range(numero):\n",
        "        # Calculamos el cuadrado de i+1 y lo añadimos al diccionario\n",
        "        dicc[i+1] = pow(i+1, 3)\n",
        "\n",
        "    # Imprimimos el contenido del diccionario\n",
        "    print(dicc)\n",
        "else:\n",
        "    # Si el número es no positivo, imprimimos un mensaje de advertencia\n",
        "    print(\"El número que ha introducido no es positivo\")\n"
      ],
      "metadata": {
        "colab": {
          "base_uri": "https://localhost:8080/"
        },
        "id": "qVBWICgx64Ib",
        "outputId": "0afc7b47-1069-447a-c63a-9f576e0fba2c"
      },
      "id": "qVBWICgx64Ib",
      "execution_count": null,
      "outputs": [
        {
          "output_type": "stream",
          "name": "stdout",
          "text": [
            "Escribe un numero entero: 4\n",
            "{1: 1, 2: 4, 3: 9, 4: 16}\n"
          ]
        }
      ]
    },
    {
      "cell_type": "markdown",
      "id": "3e767176",
      "metadata": {
        "id": "3e767176"
      },
      "source": [
        "## EJERCICIO 9"
      ]
    },
    {
      "cell_type": "markdown",
      "id": "9da406b8",
      "metadata": {
        "id": "9da406b8"
      },
      "source": [
        "Escribe un programa que pregunte al usuario su nombre, edad y teléfono y lo guarde en un diccionario. Después, debe mostrar por pantalla el mensaje:\n",
        "\n",
        "{nombre} tiene {edad} años y su número de teléfono es {teléfono}."
      ]
    },
    {
      "cell_type": "code",
      "source": [
        "# Creamos un diccionario vacío para almacenar la información del usuario\n",
        "ficha_usuario = {}\n",
        "\n",
        "# Solicitamos y guardamos el nombre del usuario\n",
        "ficha_usuario[\"nombre\"] = str(input(\"Escribe tu nombre: \"))\n",
        "\n",
        "# Solicitamos y guardamos la edad del usuario\n",
        "ficha_usuario[\"edad\"] = int(input(\"Escribe tu edad: \"))\n",
        "\n",
        "# Solicitamos y guardamos el número de teléfono del usuario\n",
        "ficha_usuario[\"telefono\"] = int(input(\"Escribe tu teléfono: \"))\n",
        "\n",
        "# Imprimimos la información del usuario\n",
        "print(\"{} tiene {} años y su número de teléfono es {}\".format(ficha_usuario[\"nombre\"],ficha_usuario[\"edad\"],ficha_usuario[\"telefono\"]))"
      ],
      "metadata": {
        "colab": {
          "base_uri": "https://localhost:8080/"
        },
        "id": "gXlOWfDRTHMk",
        "outputId": "4e06cb0b-4fe4-4fb2-86a4-b5b10740a437"
      },
      "id": "gXlOWfDRTHMk",
      "execution_count": null,
      "outputs": [
        {
          "output_type": "stream",
          "name": "stdout",
          "text": [
            "Escribe tu nombre: guillermo\n",
            "Escribe tu edad: 24\n",
            "Escribe tu teléfono: 654675346\n",
            "guillermo tiene 24 años y su número de teléfono es 654675346\n"
          ]
        }
      ]
    },
    {
      "cell_type": "markdown",
      "id": "b97cdccc",
      "metadata": {
        "id": "b97cdccc"
      },
      "source": [
        "## EJERCICIO 10"
      ]
    },
    {
      "cell_type": "markdown",
      "id": "4bbf4135",
      "metadata": {
        "id": "4bbf4135"
      },
      "source": [
        "Escribe un programa que cree un diccionario simulando una cesta de la compra. El programa debe preguntar el artículo y su precio por unidad. El artículo será la clave y el valor el precio, hasta que el usuario decida terminar. Después se debe mostrar por pantalla la lista de la compra y el coste total, con el siguiente formato.\n",
        "\n",
        "![image-2.png](attachment:image-2.png)"
      ]
    },
    {
      "cell_type": "code",
      "source": [
        "# Inicializamos un diccionario vacío para almacenar los productos y sus precios\n",
        "compra = {}\n",
        "# Inicializamos una variable para acumular el total de la compra\n",
        "total = 0\n",
        "# Inicializamos una variable para controlar el bucle de compra\n",
        "seguir = \"si\"\n",
        "\n",
        "# Iniciamos un bucle while que continuará mientras el usuario desee seguir comprando\n",
        "while seguir.lower() == \"si\":\n",
        "    # Solicitamos al usuario el nombre del producto\n",
        "    articulo = str(input(\"Nombre del producto: \"))\n",
        "\n",
        "    # Solicitamos al usuario el precio del producto\n",
        "    precio = int(input(\"Escribe el precio: \"))\n",
        "\n",
        "    # Guardamos el producto y su precio en el diccionario\n",
        "    compra[articulo] = precio\n",
        "\n",
        "    # Solicitamos al usuario si quiere seguir comprando\n",
        "    seguir = input(\"¿Quieres seguir comprando? si/no \")\n",
        "\n",
        "# Calculamos el total de la compra sumando todos los valores del diccionario\n",
        "total = sum(compra.values())\n",
        "\n",
        "# Imprimimos una línea en blanco para separar la lista de la compra del total\n",
        "print(\"\")\n",
        "\n",
        "# Imprimimos la lista de la compra\n",
        "for articulo, precio in compra.items():\n",
        "    print(f\"{articulo} -> {precio}€\")\n",
        "\n",
        "# Imprimimos el total de la compra\n",
        "print(f\"El precio total de la compra es: {total} €\")"
      ],
      "metadata": {
        "colab": {
          "base_uri": "https://localhost:8080/"
        },
        "id": "31doJ_pvUUE6",
        "outputId": "437f6bd9-6c6f-4b8a-fbb6-ade915ed2148"
      },
      "id": "31doJ_pvUUE6",
      "execution_count": null,
      "outputs": [
        {
          "output_type": "stream",
          "name": "stdout",
          "text": [
            "Nombre del producto: Platano\n",
            "Escribe el precio: 4\n",
            "¿Quieres seguir comprando? si /no si\n",
            "Nombre del producto: Manzana\n",
            "Escribe el precio: 8\n",
            "¿Quieres seguir comprando? si /no si\n",
            "Nombre del producto: Pan\n",
            "Escribe el precio: 10\n",
            "¿Quieres seguir comprando? si /no no\n",
            "\n",
            "Lista de la compra\n",
            "Platano  ->  4 €\n",
            "Manzana  ->  8 €\n",
            "Pan  ->  10 €\n",
            "El precio total de la compra es: 22 €\n"
          ]
        }
      ]
    },
    {
      "cell_type": "markdown",
      "id": "17b343e6",
      "metadata": {
        "id": "17b343e6"
      },
      "source": [
        "## EJERCICIO 11"
      ]
    },
    {
      "cell_type": "markdown",
      "id": "eb6f147e",
      "metadata": {
        "id": "eb6f147e"
      },
      "source": [
        "Crea un programa que permita al usuario introducir los nombres de los alumnos de una clase y las notas que han obtenido. Cada alumno puede tener distinta cantidad de notas. Guarda la información en un diccionario cuyas claves serán los nombres de los alumnos y los valores serán listas con las notas de cada alumno.\n",
        "\n",
        "El programa va a pedir el nombre de un estudiante e irá pidiendo sus notas hasta que introduzcamos un -1. Al final, cuando el nombre que introduzcamos sea un string vacío, el programa nos mostrará la lista de alumnos, sus notas y la nota media obtenida por cada uno de ellos (con dos decimales)."
      ]
    },
    {
      "cell_type": "code",
      "source": [
        "# Inicializamos un diccionario vacío para almacenar las notas de cada estudiante\n",
        "notas_colegio = {}\n",
        "\n",
        "# Iniciamos un bucle infinito para permitir múltiples entradas de estudiantes\n",
        "while True:\n",
        "    # Solicitamos el nombre del estudiante\n",
        "    nombre = input(\"Escribe un nombre: \")\n",
        "\n",
        "    # Si el nombre está vacío, salimos del bucle\n",
        "    if nombre == \"\":\n",
        "        break\n",
        "\n",
        "    # Inicializamos una lista para almacenar las notas del estudiante\n",
        "    notas = []\n",
        "\n",
        "    # Solicitamos la primera nota y continuamos hasta que se ingrese -1\n",
        "    nota = int(input(\"Escribe la nota: \"))\n",
        "    while nota != -1:\n",
        "        # Guardamos cada nota en la lista\n",
        "        notas.append(nota)\n",
        "        # Solicitamos otra nota\n",
        "        nota = int(input(\"Escribe otra nota: \"))\n",
        "\n",
        "    # Guardamos las notas del estudiante en el diccionario\n",
        "    notas_colegio[nombre] = notas\n",
        "\n",
        "# Imprimimos la información de todas las notas\n",
        "print(\"Notas del Colegio\")\n",
        "print(\"\")\n",
        "for nombre, notas in notas_colegio.items():\n",
        "    # Calculamos la nota media del estudiante\n",
        "    nota_media = round(sum(notas) / len(notas), 2)\n",
        "\n",
        "    # Imprimimos el nombre del estudiante y sus notas\n",
        "    print(f\"{nombre}: {notas}\")\n",
        "\n",
        "    # Imprimimos la nota media del estudiante\n",
        "    print(f\"La nota media de {nombre} es {nota_media}\")\n",
        "    print(\"\")"
      ],
      "metadata": {
        "colab": {
          "base_uri": "https://localhost:8080/"
        },
        "id": "x27AzG0xbLMD",
        "outputId": "008fc9e6-3504-460c-8b0f-55f2fe48cb64"
      },
      "id": "x27AzG0xbLMD",
      "execution_count": null,
      "outputs": [
        {
          "output_type": "stream",
          "name": "stdout",
          "text": [
            "Escribe un nombre: erick\n",
            "Escribe la nota: 8\n",
            "Escribe otra nota: 9\n",
            "Escribe otra nota: 7\n",
            "Escribe otra nota: 8\n",
            "Escribe otra nota: -1\n",
            "Escribe un nombre: guillermo\n",
            "Escribe la nota: 6\n",
            "Escribe otra nota: 7\n",
            "Escribe otra nota: 8\n",
            "Escribe otra nota: 6\n",
            "Escribe otra nota: 9\n",
            "Escribe otra nota: 10\n",
            "Escribe otra nota: -1\n",
            "Escribe un nombre: \n",
            "Notas del Colegio\n",
            "erick [8, 9, 7, 8]\n",
            "La nota media de erick es 8.0\n",
            "\n",
            "guillermo [6, 7, 8, 6, 9, 10]\n",
            "La nota media de guillermo es 7.67\n",
            "\n"
          ]
        }
      ]
    },
    {
      "cell_type": "markdown",
      "id": "88fe1c72",
      "metadata": {
        "id": "88fe1c72"
      },
      "source": [
        "## EJERCICIO 12"
      ]
    },
    {
      "cell_type": "markdown",
      "id": "f7446bb5",
      "metadata": {
        "id": "f7446bb5"
      },
      "source": [
        "Crea un programa que pida el número de palabras a introducir. Crear un diccionario de clave la palabra y de valor el número de vocales de la palabra."
      ]
    },
    {
      "cell_type": "code",
      "source": [
        "# Solicitamos el número de palabras que el usuario quiere introducir\n",
        "numero = int(input(\"¿Cuántas palabras quieres introducir? \"))\n",
        "\n",
        "# Inicializamos un diccionario vacío para almacenar las palabras y su conteo de vocales\n",
        "dicc = {}\n",
        "\n",
        "# Definimos la lista de vocales (sin distinguir entre mayúsculas y minúsculas)\n",
        "vocales = (\"a\", \"e\", \"i\", \"o\", \"u\")\n",
        "\n",
        "# Inicializamos un contador para contar las vocales en cada palabra\n",
        "contador = 0\n",
        "\n",
        "# Iteramos el número de veces solicitado por el usuario\n",
        "for i in range(numero):\n",
        "    # Solicitamos una palabra al usuario\n",
        "    nombre = str(input(\"Escribe una palabra: \"))\n",
        "\n",
        "    # Iteramos sobre cada caracter en la palabra\n",
        "    for char in nombre:\n",
        "        # Si el caracter es una vocal (ignorando mayúsculas/minúsculas), incrementamos el contador\n",
        "        if char.lower() in vocales:\n",
        "            contador += 1\n",
        "\n",
        "    # Guardamos el conteo de vocales para la palabra actual en el diccionario\n",
        "    dicc[nombre] = contador\n",
        "    # Reiniciamos el contador para la siguiente palabra\n",
        "    contador = 0\n",
        "\n",
        "# Imprimimos la información sobre cada palabra y su conteo de vocales\n",
        "print(\"Conteo de vocales en las palabras:\")\n",
        "for nombre, contador in dicc.items():\n",
        "    print(f\"La palabra {nombre} tiene {contador} vocales\")"
      ],
      "metadata": {
        "colab": {
          "base_uri": "https://localhost:8080/"
        },
        "id": "JLDQ8v8PhMEO",
        "outputId": "724e35c1-ed15-4930-ebf6-45247f12db02"
      },
      "id": "JLDQ8v8PhMEO",
      "execution_count": null,
      "outputs": [
        {
          "output_type": "stream",
          "name": "stdout",
          "text": [
            "¿Cuantas palabra quieres introducir? 3\n",
            "Escribe una palabra: platano\n",
            "Escribe una palabra: peras\n",
            "Escribe una palabra: manzanas\n",
            "La palabra platano tiene 3 vocales\n",
            "La palabra peras tiene 2 vocales\n",
            "La palabra manzanas tiene 3 vocales\n"
          ]
        }
      ]
    },
    {
      "cell_type": "markdown",
      "id": "6bcd805d",
      "metadata": {
        "id": "6bcd805d"
      },
      "source": [
        "## EJERCICIO 13"
      ]
    },
    {
      "cell_type": "markdown",
      "id": "18202d6c",
      "metadata": {
        "id": "18202d6c"
      },
      "source": [
        "Dado un número entero introducido por el usuario, guarda sus divisores en un conjunto y muéstralo."
      ]
    },
    {
      "cell_type": "code",
      "source": [
        "# Solicitamos un número entero al usuario\n",
        "numero = int(input(\"Escribe un número entero: \"))\n",
        "\n",
        "# Inicializamos un conjunto vacío para almacenar los divisores\n",
        "divisores = set()\n",
        "\n",
        "# Iteramos desde 1 hasta el número ingresado\n",
        "for i in range(1, numero + 1):\n",
        "    # Verificamos si el número es divisible por i\n",
        "    if numero % i == 0:\n",
        "        # Si es divisible, añadimos i al conjunto de divisores\n",
        "        divisores.add(i)\n",
        "\n",
        "# Imprimimos los divisores encontrados\n",
        "print(f\"El número {numero} tiene los siguientes divisores: {divisores}\")\n"
      ],
      "metadata": {
        "colab": {
          "base_uri": "https://localhost:8080/"
        },
        "id": "dEptKyuYmOGN",
        "outputId": "0781bdff-de0f-4edd-a546-53fbf24a2b5f"
      },
      "id": "dEptKyuYmOGN",
      "execution_count": null,
      "outputs": [
        {
          "name": "stdout",
          "output_type": "stream",
          "text": [
            "Escribe un número entero: 10\n"
          ]
        },
        {
          "output_type": "execute_result",
          "data": {
            "text/plain": [
              "{1, 2, 5, 10}"
            ]
          },
          "metadata": {},
          "execution_count": 100
        }
      ]
    },
    {
      "cell_type": "markdown",
      "id": "e60749fd",
      "metadata": {
        "id": "e60749fd"
      },
      "source": [
        "## EJERCICIO 14"
      ]
    },
    {
      "cell_type": "markdown",
      "id": "e7b12a5a",
      "metadata": {
        "id": "e7b12a5a"
      },
      "source": [
        "Crea un programa que dado un conjunto de números entero, nos devuelva su mínimo. Debes hacerlo sin recurrir a la función min().\n",
        "\n",
        "conjunto={-2,-15,1,6,9,-50,100,200,10,20,5}"
      ]
    },
    {
      "cell_type": "code",
      "source": [
        "# Definimos el conjunto de números\n",
        "conjunto = set([-2,-15,1,6,9,-50,100,200,10,20,5])\n",
        "\n",
        "# Inicializamos minimo con un valor grande (por ejemplo, 100000)\n",
        "minimo = 100000\n",
        "\n",
        "# Iteramos sobre cada elemento en el conjunto\n",
        "for i in conjunto:\n",
        "    # Si encontramos un número menor que minimo, lo actualizamos\n",
        "    if i < minimo:\n",
        "        minimo = i\n",
        "\n",
        "# Imprimimos el menor número encontrado\n",
        "print(f\"El menor número en el conjunto {conjunto} es {minimo}\")"
      ],
      "metadata": {
        "colab": {
          "base_uri": "https://localhost:8080/"
        },
        "id": "qH16Nc1QtjdP",
        "outputId": "8547530a-e76d-42e6-ea5d-d8c7086f598f"
      },
      "id": "qH16Nc1QtjdP",
      "execution_count": null,
      "outputs": [
        {
          "output_type": "stream",
          "name": "stdout",
          "text": [
            "El menor numero es -50\n"
          ]
        }
      ]
    },
    {
      "cell_type": "markdown",
      "id": "f4d9baeb",
      "metadata": {
        "id": "f4d9baeb"
      },
      "source": [
        "## EJERCICIO 15"
      ]
    },
    {
      "cell_type": "markdown",
      "id": "a4d923cf",
      "metadata": {
        "id": "a4d923cf"
      },
      "source": [
        "Dado un conjunto, crea un programa que nos devuelva el carácter con mayor valor ASCII. Debes hacerlo sin recurrir a la función max().\n",
        "\n",
        "conjunto={\"0\",\"*\",\"a\",\"A\",\"z\"}"
      ]
    },
    {
      "cell_type": "code",
      "source": [
        "# Se define un conjunto de caracteres que incluye \"0\", \"*\", \"a\", \"A\" y \"z\".\n",
        "conjunto = {\"0\", \"*\", \"a\", \"A\", \"z\"}\n",
        "\n",
        "# Inicializa una variable 'asci' para almacenar el valor ASCII actual.\n",
        "asci = 0\n",
        "\n",
        "# Inicializa 'maximo' para rastrear el valor ASCII máximo encontrado.\n",
        "maximo = 0\n",
        "\n",
        "# Inicializa 'mayor' para almacenar el carácter con el valor ASCII más alto.\n",
        "mayor = \"\"\n",
        "\n",
        "# Itera sobre cada carácter en el conjunto.\n",
        "for i in conjunto:\n",
        "    # Obtiene el valor ASCII del carácter actual.\n",
        "    asci = ord(i)\n",
        "\n",
        "    # Si el valor ASCII del carácter actual es mayor que el máximo encontrado hasta ahora:\n",
        "    if asci > maximo:\n",
        "        # Actualiza el máximo y almacena el carácter actual como el mayor.\n",
        "        maximo = asci\n",
        "        mayor = i\n",
        "\n",
        "# Imprime el carácter con el mayor valor ASCII y su valor correspondiente.\n",
        "print(f\"El mayor caracter ASCII es {mayor} que su valor es {maximo}\")"
      ],
      "metadata": {
        "colab": {
          "base_uri": "https://localhost:8080/"
        },
        "id": "KHF0zpcJzb2D",
        "outputId": "aac1aef2-876f-46dd-b000-aef51727a7f3"
      },
      "id": "KHF0zpcJzb2D",
      "execution_count": null,
      "outputs": [
        {
          "output_type": "stream",
          "name": "stdout",
          "text": [
            "El mayor caracter ASCII es z que su valor es 122\n"
          ]
        }
      ]
    },
    {
      "cell_type": "markdown",
      "id": "d435b059",
      "metadata": {
        "id": "d435b059"
      },
      "source": [
        "## EJERCICIO 16"
      ]
    },
    {
      "cell_type": "markdown",
      "id": "7e6b011b",
      "metadata": {
        "id": "7e6b011b"
      },
      "source": [
        "Dada una frase introducida por teclado, guarda en un conjunto la primera letra de cada palabra (en minúscula) y muestra el contenido del conjunto."
      ]
    },
    {
      "cell_type": "code",
      "source": [
        "# Se solicita al usuario que introduzca una frase, que luego se divide en palabras y se almacena en una lista.\n",
        "frase = input(\"Escribe una frase: \").split()\n",
        "\n",
        "# Se crea un conjunto vacío para almacenar las letras iniciales de las palabras.\n",
        "conjunto = set()\n",
        "\n",
        "# Se itera sobre cada palabra en la lista 'frase'.\n",
        "for palabra in frase:\n",
        "    # Se añade la letra inicial de cada palabra al conjunto, convirtiéndola a minúscula.\n",
        "    conjunto.add(palabra[0].lower())\n",
        "\n",
        "# Se imprime el conjunto de letras iniciales, que eliminará duplicados automáticamente.\n",
        "print(conjunto)"
      ],
      "metadata": {
        "colab": {
          "base_uri": "https://localhost:8080/"
        },
        "id": "KJmU-DTh8rGC",
        "outputId": "84d43192-aef2-42d2-9d67-c36033b1ba2a"
      },
      "id": "KJmU-DTh8rGC",
      "execution_count": null,
      "outputs": [
        {
          "output_type": "stream",
          "name": "stdout",
          "text": [
            "Escribe una frase: hola caracola\n",
            "{'c', 'h'}\n"
          ]
        }
      ]
    },
    {
      "cell_type": "markdown",
      "id": "b13661b8",
      "metadata": {
        "id": "b13661b8"
      },
      "source": [
        "## EJERCICIO 17"
      ]
    },
    {
      "cell_type": "markdown",
      "id": "7938709a",
      "metadata": {
        "id": "7938709a"
      },
      "source": [
        "Pide al usuario el número de números enteros que va a introducir por teclado. Para cada uno de esos números, crea una tupla donde la primera entrada sea el número entero y, la segunda, la palabra “par” o “impar” según la paridad del número entero. Muestra la tupla recién creada al usuario."
      ]
    },
    {
      "cell_type": "code",
      "source": [
        "# Inicia un bucle infinito que se ejecutará hasta que se rompa con una instrucción 'break'.\n",
        "while True:\n",
        "    # Se solicita al usuario que introduzca un número entero y se convierte a entero.\n",
        "    numero = int(input(\"Introduce un numero entero: \"))\n",
        "\n",
        "    # Si el número ingresado es 0, se sale del bucle.\n",
        "    if numero == 0:\n",
        "        break\n",
        "\n",
        "    # Se verifica si el número es par (divisible por 2 sin resto).\n",
        "    if numero % 2 == 0:\n",
        "        print(f\"El numero {numero} es par\")\n",
        "    else:\n",
        "        # Si no es par, entonces es impar.\n",
        "        print(f\"El numero {numero} es impar\")"
      ],
      "metadata": {
        "colab": {
          "base_uri": "https://localhost:8080/"
        },
        "id": "1cF9iJmqC5a4",
        "outputId": "83febd64-4383-4a0a-8e24-f06a466bf40f"
      },
      "id": "1cF9iJmqC5a4",
      "execution_count": null,
      "outputs": [
        {
          "output_type": "stream",
          "name": "stdout",
          "text": [
            "¿Cuantos numero enteros vas a introducir? 2\n",
            "Introduce un numero: 4\n",
            "Introduce un numero: 10\n",
            "[(4, 'par'), (10, 'par')]\n",
            "Es numero 4 es par\n",
            "Es numero 10 es par\n"
          ]
        }
      ]
    },
    {
      "cell_type": "markdown",
      "id": "091b0304",
      "metadata": {
        "id": "091b0304"
      },
      "source": [
        "## EJERCICIO 18"
      ]
    },
    {
      "cell_type": "markdown",
      "id": "91a02890",
      "metadata": {
        "id": "91a02890"
      },
      "source": [
        "Dada una frase proporcionada por el usuario, crea una lista de tuplas indicando palabra, longitud de cada palabra, letra inicial y posición que ocupan dentro de la frase."
      ]
    },
    {
      "cell_type": "code",
      "source": [
        "# Se solicita al usuario que escriba una frase y se divide en palabras usando el método split().\n",
        "frase = str(input(\"Escribe un frase: \")).split()\n",
        "\n",
        "# Se inicializa una lista vacía para almacenar los detalles de cada palabra.\n",
        "lista = []\n",
        "\n",
        "# Se inicializa un contador para llevar un registro del número de palabras.\n",
        "contador = 0\n",
        "\n",
        "# Un bucle que itera sobre cada palabra en la lista 'frase'.\n",
        "for palabra in frase:\n",
        "    # Se incrementa el contador por cada palabra.\n",
        "    contador += 1\n",
        "\n",
        "    # Se añade una tupla a la lista 'lista' que contiene:\n",
        "    # - la palabra\n",
        "    # - la longitud de la palabra\n",
        "    # - el primer carácter de la palabra\n",
        "    # - el contador que indica la posición de la palabra.\n",
        "    lista.append((palabra, len(palabra), palabra[0], contador))\n",
        "\n",
        "# Se convierte la lista de tuplas en una tupla llamada 'tabla'.\n",
        "tabla = tuple(lista)\n",
        "\n",
        "# Se imprime la tupla 'tabla' que contiene la información de las palabras.\n",
        "print(tabla)"
      ],
      "metadata": {
        "colab": {
          "base_uri": "https://localhost:8080/"
        },
        "id": "b0HYBhdFQRoZ",
        "outputId": "a4d09663-770b-4780-a367-4e8b1825a35f"
      },
      "id": "b0HYBhdFQRoZ",
      "execution_count": null,
      "outputs": [
        {
          "output_type": "stream",
          "name": "stdout",
          "text": [
            "Escribe un frasehola caracola\n",
            "(('hola', 4, 'h', 1), ('caracola', 8, 'c', 2))\n"
          ]
        }
      ]
    },
    {
      "cell_type": "markdown",
      "id": "d4717e6e",
      "metadata": {
        "id": "d4717e6e"
      },
      "source": [
        "## EJERCICIO 19"
      ]
    },
    {
      "cell_type": "markdown",
      "id": "972ffc33",
      "metadata": {
        "id": "972ffc33"
      },
      "source": [
        "Haz que el usuario introduzca palabras hasta que introduzca una palabra vacía. Guarda todas las palabras en una tupla y muestra la primera y la última introducidas haciendo uso del método unpacking. Para guardar los elementos de uno en uno vas a tener que utilizar un tipo de dato que no es tupla y luego transformarlo a tupla."
      ]
    },
    {
      "cell_type": "code",
      "source": [
        "# Se inicializa una lista vacía llamada 'tupla' (aunque debería llamarse 'lista' para mayor claridad).\n",
        "tupla = []\n",
        "\n",
        "# Se inicia un bucle infinito que se ejecutará hasta que se rompa con un 'break'.\n",
        "while True:\n",
        "    # Se solicita al usuario que introduzca una palabra.\n",
        "    palabra = input(\"Escribe un palabra: \")\n",
        "\n",
        "    # Si la palabra introducida está vacía (usuario presiona Enter), se sale del bucle.\n",
        "    if palabra == \"\":\n",
        "        break\n",
        "\n",
        "    # Se añade la palabra ingresada a la lista 'tupla'.\n",
        "    tupla.append(palabra)\n",
        "\n",
        "# Se convierte la lista 'tupla' en una tupla llamada 'tabla'.\n",
        "tabla = tuple(tupla)\n",
        "\n",
        "# Se desempaquetan las palabras de la tupla 'tabla':\n",
        "# - 'primera' recibe la primera palabra.\n",
        "# - 'palabras' recibe todas las palabras intermedias (si las hay).\n",
        "# - 'ultima' recibe la última palabra.\n",
        "(primera, *palabras, ultima) = tabla\n",
        "\n",
        "# Se imprime la primera y la última palabra ingresadas.\n",
        "print(f\"La primera palabra que has escrito es {primera} y la ultima palabra es {ultima}\")\n",
        "\n",
        "## Otra forma seria\n",
        "## print(tabla[0],tabla[-1])"
      ],
      "metadata": {
        "colab": {
          "base_uri": "https://localhost:8080/"
        },
        "id": "8uHsjXddSvzU",
        "outputId": "f4a766e8-1164-43bb-b689-cc3c1f296d03"
      },
      "id": "8uHsjXddSvzU",
      "execution_count": 3,
      "outputs": [
        {
          "output_type": "stream",
          "name": "stdout",
          "text": [
            "Escribe un palabra: hola\n",
            "Escribe un palabra: que\n",
            "Escribe un palabra: tal\n",
            "Escribe un palabra: estas\n",
            "Escribe un palabra: \n",
            "La primera palabra que has escrito es hola y la ultima palabra es estas\n"
          ]
        }
      ]
    },
    {
      "cell_type": "markdown",
      "id": "5682170e",
      "metadata": {
        "id": "5682170e"
      },
      "source": [
        "## EJERCICO 20"
      ]
    },
    {
      "cell_type": "markdown",
      "id": "0099ce69",
      "metadata": {
        "id": "0099ce69"
      },
      "source": [
        "Dada una lista de palabras, crea otra lista del mismo tamaño que guarde la longitud de cada palabra. Usa la función zip() para crear un diccionario con claves las palabras y valores su longitud.\n",
        "\n",
        "palabras=```[\"prueba\",\"ejemplo\",\"largo\",\"funcionar\"]```"
      ]
    },
    {
      "cell_type": "code",
      "source": [
        "# Se define una lista de palabras.\n",
        "palabras = [\"prueba\", \"ejemplo\", \"largo\", \"funcionar\"]\n",
        "\n",
        "# Se inicializa una lista vacía para almacenar las longitudes de las palabras.\n",
        "longitud = []\n",
        "\n",
        "# Un bucle que itera sobre cada palabra en la lista 'palabras'.\n",
        "for palabra in palabras:\n",
        "    # Se añade a la lista 'longitud' la longitud de cada palabra usando len().\n",
        "    longitud.append(len(palabra))\n",
        "\n",
        "# Se crea un objeto zip que combina las palabras con sus longitudes.\n",
        "total = zip(palabras, longitud)\n",
        "\n",
        "# Se convierte el objeto zip en un diccionario y se devuelve.\n",
        "dict(total)"
      ],
      "metadata": {
        "colab": {
          "base_uri": "https://localhost:8080/"
        },
        "id": "oSi_RgtfXdbz",
        "outputId": "e775aa3a-fe95-49d3-cc03-0cbb4694c0bd"
      },
      "id": "oSi_RgtfXdbz",
      "execution_count": 1,
      "outputs": [
        {
          "output_type": "execute_result",
          "data": {
            "text/plain": [
              "{'prueba': 6, 'ejemplo': 7, 'largo': 5, 'funcionar': 9}"
            ]
          },
          "metadata": {},
          "execution_count": 1
        }
      ]
    },
    {
      "cell_type": "markdown",
      "id": "21c66890",
      "metadata": {
        "id": "21c66890"
      },
      "source": [
        "## EJERCICIO 21"
      ]
    },
    {
      "cell_type": "markdown",
      "id": "5defefec",
      "metadata": {
        "id": "5defefec"
      },
      "source": [
        "Pide al usuario dos números enteros por teclado. Asegúrate de que el primero es mayor o igual al segundo. Realiza la división entera y guarda en una tupla el dividendo, el divisor, el cociente y el resto de la división entera realizada y muéstrale al usuario el resultado por pantalla."
      ]
    },
    {
      "cell_type": "code",
      "source": [
        "# Se solicita al usuario que introduzca dos números enteros.\n",
        "numero1 = int(input(\"Escribe un numero entero: \"))\n",
        "numero2 = int(input(\"Escribe otro numero entero: \"))\n",
        "\n",
        "# Se inicializa una lista vacía llamada 'tupla' para almacenar los resultados.\n",
        "tupla = []\n",
        "\n",
        "# Se verifica si el primer número es mayor o igual que el segundo.\n",
        "if numero1 >= numero2:\n",
        "    # Si es así, se añaden a la lista 'tupla' los siguientes valores:\n",
        "    # - el primer número (dividendo),\n",
        "    # - el segundo número (divisor),\n",
        "    # - el cociente de la división entera (//) de numero1 entre numero2,\n",
        "    # - el resto (%) de la división de numero1 entre numero2.\n",
        "    tupla.append((numero1, numero2, numero1 // numero2, numero1 % numero2))\n",
        "else:\n",
        "    # Si el primer número es menor que el segundo, se imprime un mensaje.\n",
        "    print(\"El primer numero es mejor que el segundo\")\n",
        "\n",
        "# Se convierte la lista 'tupla' en una tupla llamada 'tabla'.\n",
        "tabla = tuple(tupla)\n",
        "\n",
        "# Se imprime la tupla 'tabla'.\n",
        "print(tabla)\n",
        "\n",
        "# Se utiliza un bucle para desempaquetar y mostrar los resultados de la tupla 'tabla'.\n",
        "for dividendo, divisor, cociente, resto in tabla:\n",
        "    print(\"dividendo = {} dividendo = {} cociente= {} y resto= {}\".format(dividendo, divisor, cociente, resto))"
      ],
      "metadata": {
        "colab": {
          "base_uri": "https://localhost:8080/"
        },
        "id": "0pEpZErpbgJT",
        "outputId": "e5158bfa-1ca4-45a3-e4f2-22a02d2cb587"
      },
      "id": "0pEpZErpbgJT",
      "execution_count": 7,
      "outputs": [
        {
          "output_type": "stream",
          "name": "stdout",
          "text": [
            "Escribe un numero entero: 3\n",
            "Escribe otro numero entero: 10\n",
            "El primer numero es mejor que el segundo\n",
            "()\n"
          ]
        }
      ]
    },
    {
      "cell_type": "markdown",
      "id": "2ce74141",
      "metadata": {
        "id": "2ce74141"
      },
      "source": [
        "## EJERCICIO 22"
      ]
    },
    {
      "cell_type": "markdown",
      "id": "60d3eef3",
      "metadata": {
        "id": "60d3eef3"
      },
      "source": [
        "Pide al usuario números entre 0 y 360 (comprueba que el número introducido sea un entero entre 0 y 360). Para cada número, crea una tupla donde la primera entrada sea dicho número y, la segunda, la medida angular correspondiente en radianes. Recuerda, 360◦ = 2π rad."
      ]
    },
    {
      "cell_type": "code",
      "source": [
        "# Se define la constante pi con un valor aproximado de 3.141592.\n",
        "pi = 3.141592\n",
        "\n",
        "# Se inicializa una variable 'numero' en 0 para controlar el bucle.\n",
        "numero = 0\n",
        "\n",
        "# Se inicializa una lista vacía llamada 'tuplas' para almacenar los resultados.\n",
        "tuplas = []\n",
        "\n",
        "# Se inicia un bucle que continuará hasta que 'numero' sea igual a -1.\n",
        "while numero != -1:\n",
        "    # Se solicita al usuario que introduzca un número entre 0 y 360.\n",
        "    numero = int(input(\"Escribe un numero entre 0 y 360: \"))\n",
        "\n",
        "    # Se verifica si el número está en el rango válido (0 a 360).\n",
        "    if numero >= 0 and numero <= 360:\n",
        "        # Se convierte el número de grados a radianes utilizando la fórmula.\n",
        "        radianes = pi * numero / 180\n",
        "\n",
        "        # Se añade una tupla con el número y su equivalente en radianes a la lista 'tuplas'.\n",
        "        tuplas.append((numero, radianes))\n",
        "    else:\n",
        "        # Si el número está fuera del rango, se imprime un mensaje de error.\n",
        "        print(\"El numero que has introducido no esta entre 0 y 360\")\n",
        "\n",
        "# Se convierte la lista 'tuplas' en una tupla llamada 'tabla'.\n",
        "tabla = tuple(tuplas)\n",
        "\n",
        "# Se imprime la tupla que contiene los números y sus equivalentes en radianes.\n",
        "print(tabla)"
      ],
      "metadata": {
        "colab": {
          "base_uri": "https://localhost:8080/"
        },
        "id": "Su2-hirfeFQg",
        "outputId": "270e98b9-278f-418e-bc33-11705ab5f4a6"
      },
      "id": "Su2-hirfeFQg",
      "execution_count": 11,
      "outputs": [
        {
          "output_type": "stream",
          "name": "stdout",
          "text": [
            "Escribe un numero entre 0 y 360: 0\n",
            "Escribe un numero entre 0 y 360: 360\n",
            "Escribe un numero entre 0 y 360: 100\n",
            "Escribe un numero entre 0 y 360: 200\n",
            "Escribe un numero entre 0 y 360: 263\n",
            "Escribe un numero entre 0 y 360: -1\n",
            "El numero que has introducido no esta entre 0 y 360\n",
            "((0, 0.0), (360, 6.283184), (100, 1.745328888888889), (200, 3.490657777777778), (263, 4.590214977777777))\n"
          ]
        }
      ]
    }
  ],
  "metadata": {
    "kernelspec": {
      "display_name": "Python 3 (ipykernel)",
      "language": "python",
      "name": "python3"
    },
    "language_info": {
      "codemirror_mode": {
        "name": "ipython",
        "version": 3
      },
      "file_extension": ".py",
      "mimetype": "text/x-python",
      "name": "python",
      "nbconvert_exporter": "python",
      "pygments_lexer": "ipython3",
      "version": "3.10.9"
    },
    "colab": {
      "provenance": []
    }
  },
  "nbformat": 4,
  "nbformat_minor": 5
}