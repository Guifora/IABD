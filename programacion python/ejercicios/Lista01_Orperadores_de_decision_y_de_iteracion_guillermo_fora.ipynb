{
  "cells": [
    {
      "cell_type": "markdown",
      "id": "f9c06951",
      "metadata": {
        "id": "f9c06951"
      },
      "source": [
        "# LISTA 1 - OPERADORES DE DECISIÓN Y DE ITERACIÓN"
      ]
    },
    {
      "cell_type": "markdown",
      "id": "d70d2839",
      "metadata": {
        "id": "d70d2839"
      },
      "source": [
        "## EJERCICIO 1"
      ]
    },
    {
      "cell_type": "markdown",
      "id": "6de3f4d0",
      "metadata": {
        "id": "6de3f4d0"
      },
      "source": [
        "Haz que el usuario introduzca números enteros por teclado. Mientras el usuario no introduzca el 0, muestra si el número introducido es par o impar."
      ]
    },
    {
      "cell_type": "code",
      "source": [
        "# Ciclo infinito que se ejecutará hasta que se cumpla la condición de parada.\n",
        "while True:\n",
        "\n",
        "  # Solicita al usuario un número y lo convierte en entero.\n",
        "  numero = int(input(\"Escribe un numero:\"))\n",
        "\n",
        "  # Si el número es igual a 0, se sale del ciclo.\n",
        "  if numero == 0:\n",
        "    break\n",
        "\n",
        "  # Si no es 0, verifica si es par o impar.\n",
        "  else:\n",
        "    # Si el número es divisible entre 2 (residuo 0), es par.\n",
        "    if numero % 2 == 0:\n",
        "      print(\"Este numero es par\")\n",
        "    # Si no es divisible entre 2, es impar.\n",
        "    else:\n",
        "      print(\"Este numero es impar\")\n",
        "\n"
      ],
      "metadata": {
        "colab": {
          "base_uri": "https://localhost:8080/"
        },
        "id": "JQzP2hclvEbg",
        "outputId": "0c6e5cb3-d882-4d27-cb69-9dd6b1b0155c"
      },
      "id": "JQzP2hclvEbg",
      "execution_count": null,
      "outputs": [
        {
          "name": "stdout",
          "output_type": "stream",
          "text": [
            "Escribe un numero:3\n",
            "Este numero es impar\n",
            "Escribe un numero:2\n",
            "Este numero es par\n",
            "Escribe un numero:1\n",
            "Este numero es impar\n",
            "Escribe un numero:0\n"
          ]
        }
      ]
    },
    {
      "cell_type": "markdown",
      "id": "28b6f5c0",
      "metadata": {
        "id": "28b6f5c0"
      },
      "source": [
        "## EJERCICIO 2"
      ]
    },
    {
      "cell_type": "markdown",
      "id": "9ccfc0d9",
      "metadata": {
        "id": "9ccfc0d9"
      },
      "source": [
        "Haz que un usuario introduzca su nombre y evalúa con operadores if y else si dicho nombre tiene una longitud mayor a 10 caracteres o no. Devuelve por pantalla el resultado en cada caso (en el resultado debe aparecer el nombre usado por el usuario, para ello usa format en el método print)."
      ]
    },
    {
      "cell_type": "code",
      "source": [
        "# Solicita al usuario que ingrese su nombre y lo almacena en la variable 'nombre'.\n",
        "nombre = input(\"Escribe tu nombre: \")\n",
        "\n",
        "# Verifica si la longitud del nombre es exactamente 10 caracteres.\n",
        "if len(nombre) == 10:\n",
        "  # Si el nombre tiene 10 caracteres, muestra un mensaje indicando la longitud.\n",
        "  print(\"{} tiene 10 caracteres\".format(nombre))\n",
        "\n",
        "# Si la longitud del nombre es mayor a 10 caracteres.\n",
        "elif len(nombre) > 10:\n",
        "  # Muestra un mensaje indicando que el nombre tiene más de 10 caracteres.\n",
        "  print(\"{} tiene más de 10 caracteres\".format(nombre))\n",
        "\n",
        "# Si la longitud del nombre es menor a 10 caracteres.\n",
        "else:\n",
        "  # Muestra un mensaje indicando que el nombre tiene menos de 10 caracteres.\n",
        "  print(\"{} tiene menos de 10 caracteres\".format(nombre))\n"
      ],
      "metadata": {
        "colab": {
          "base_uri": "https://localhost:8080/"
        },
        "id": "swJKzFxF5mud",
        "outputId": "10066a4a-049b-4e30-b483-576b4569e6f0"
      },
      "id": "swJKzFxF5mud",
      "execution_count": null,
      "outputs": [
        {
          "output_type": "stream",
          "name": "stdout",
          "text": [
            "Escribe tu nombre: eruetsaire\n",
            "eruetsaire tiene 10 caracteres\n"
          ]
        }
      ]
    },
    {
      "cell_type": "markdown",
      "id": "73f81d57",
      "metadata": {
        "id": "73f81d57"
      },
      "source": [
        "## EJERCICIO 3"
      ]
    },
    {
      "cell_type": "markdown",
      "id": "49fb6c34",
      "metadata": {
        "id": "49fb6c34"
      },
      "source": [
        "Pide al usuario que introduzca dos números enteros por pantalla y:\n",
        "* Comprueba si el primer número es mayor o igual al segundo número introducido por el usuario e informa al usuario (x>=y)\n",
        "* Haz la división entera pertinente en cada caso.\n",
        "  * Si la división es exacta, entonces devolver por pantalla el cociente e indicar que la división es exacta.\n",
        "  * Si la división no es exacta, entonces devolver por pantalla el cociente y el resto e indicar que la división realizada no es exacta."
      ]
    },
    {
      "cell_type": "code",
      "source": [
        "# Solicita al usuario que ingrese el primer número y lo convierte a entero.\n",
        "numero1 = int(input(\"Escribe un numero: \"))\n",
        "\n",
        "# Solicita al usuario que ingrese el segundo número y lo convierte a entero.\n",
        "numero2 = int(input(\"Escribe un numero: \"))\n",
        "\n",
        "# Comprueba si el primer número es mayor o igual al segundo número.\n",
        "if numero1 >= numero2:\n",
        "\n",
        "  # Si es mayor o igual, verifica si el primer número es divisible entre el segundo sin dejar residuo.\n",
        "  if numero1 % numero2 == 0:\n",
        "\n",
        "    # Calcula el resultado de la división exacta.\n",
        "    division = numero1 % numero2\n",
        "\n",
        "    # Imprime el mensaje indicando que la división es exacta y muestra el resultado.\n",
        "    print(\"La división es exacta y el resultado es {}\".format(division))\n",
        "\n",
        "  # Si la división no es exacta (tiene residuo).\n",
        "  else:\n",
        "\n",
        "    # Calcula el cociente de la división entera.\n",
        "    cociente = numero1 // numero2\n",
        "\n",
        "    # Calcula el resto de la división.\n",
        "    resto = numero1 % numero2\n",
        "\n",
        "    # Imprime el mensaje indicando que la división no es exacta y muestra el cociente y el resto.\n",
        "    print(\"La división no es exacta, el cociente es {} y el resto es {}\".format(cociente, resto))\n",
        "\n",
        "# Si el primer número es menor que el segundo.\n",
        "else:\n",
        "  # Muestra un mensaje indicando que el segundo número es mayor que el primero.\n",
        "  print(\"El número {} es mayor que {}\".format(numero2, numero1))\n"
      ],
      "metadata": {
        "colab": {
          "base_uri": "https://localhost:8080/"
        },
        "id": "i3CS6H1w8r3V",
        "outputId": "cab3d051-39ec-40fd-d27a-f27ce1dde12a"
      },
      "id": "i3CS6H1w8r3V",
      "execution_count": null,
      "outputs": [
        {
          "output_type": "stream",
          "name": "stdout",
          "text": [
            "Escribe un numero: 2\n",
            "Escribe un numero: 6\n",
            "El numero 6 es mayor que 2\n"
          ]
        }
      ]
    },
    {
      "cell_type": "markdown",
      "id": "75e63cb2",
      "metadata": {
        "id": "75e63cb2"
      },
      "source": [
        "## EJERCICIO 4"
      ]
    },
    {
      "cell_type": "markdown",
      "id": "2c98004a",
      "metadata": {
        "id": "2c98004a"
      },
      "source": [
        "Haz que un usuario introduzca dos números enteros positivos. Comprueba si el mayor es múltiplo del menor. Devuelve por pantalla el resultado en cada caso."
      ]
    },
    {
      "cell_type": "code",
      "source": [
        "# Bucle infinito para asegurar que se ingrese un número válido.\n",
        "while True:\n",
        "  try:\n",
        "    # Solicita al usuario que ingrese el primer número y lo convierte a entero.\n",
        "    numero1 = int(input(\"Introduce un numero: \"))\n",
        "\n",
        "    # Si el número ingresado es menor a 0, pide un número positivo.\n",
        "    if numero1 < 0:\n",
        "      numero1 = int(input(\"Introduce un numero positivo: \"))\n",
        "    else:\n",
        "      # Si el número es válido (positivo), se rompe el bucle.\n",
        "      break\n",
        "\n",
        "  # Captura el error si el valor ingresado no es un número (ValueError).\n",
        "  except ValueError:\n",
        "    # Imprime un mensaje pidiendo un número positivo si ocurre un error de conversión.\n",
        "    print(\"Introduce un numero positivo:\")\n",
        "\n",
        "# Segundo bucle infinito para el segundo número, con el mismo patrón.\n",
        "while True:\n",
        "  try:\n",
        "    # Solicita al usuario que ingrese el segundo número y lo convierte a entero.\n",
        "    numero2 = int(input(\"Escribe otro numero: \"))\n",
        "\n",
        "    # Si el número ingresado es menor a 0, pide un número positivo.\n",
        "    if numero2 < 0:\n",
        "      numero2 = int(input(\"Introduce un numero positivo: \"))\n",
        "    else:\n",
        "      # Si el número es válido (positivo), se rompe el bucle.\n",
        "      break\n",
        "\n",
        "  # Captura el error si el valor ingresado no es un número (ValueError).\n",
        "  except ValueError:\n",
        "    # Imprime un mensaje pidiendo un número positivo si ocurre un error de conversión.\n",
        "    print(\"Introduce un numero positivo:\")\n",
        "\n",
        "# Comprueba cuál de los dos números es mayor.\n",
        "if numero1 > numero2:\n",
        "\n",
        "  # Si el primer número es mayor, verifica si es múltiplo del segundo número.\n",
        "  if numero1 % numero2 == 0:\n",
        "    # Si es múltiplo, muestra un mensaje indicando que es múltiplo.\n",
        "    print(\"{} es múltiplo de {}\".format(numero1, numero2))\n",
        "  else:\n",
        "    # Si no es múltiplo, muestra el mensaje correspondiente.\n",
        "    print(\"{} no es múltiplo de {}\".format(numero1, numero2))\n",
        "\n",
        "# Si el primer número no es mayor, verifica si el segundo es múltiplo del primero.\n",
        "else:\n",
        "  if numero2 % numero1 == 0:\n",
        "    # Si es múltiplo, muestra un mensaje indicando que es múltiplo.\n",
        "    print(\"{} es múltiplo de {}\".format(numero2, numero1))\n",
        "  else:\n",
        "    # Si no es múltiplo, muestra el mensaje correspondiente.\n",
        "    print(\"{} no es múltiplo de {}\".format(numero2, numero1))"
      ],
      "metadata": {
        "colab": {
          "base_uri": "https://localhost:8080/"
        },
        "id": "Q6oD_EDU_fbo",
        "outputId": "fe4066b9-8cc1-43fa-cf4f-b66115fdde18"
      },
      "id": "Q6oD_EDU_fbo",
      "execution_count": null,
      "outputs": [
        {
          "output_type": "stream",
          "name": "stdout",
          "text": [
            "Introduce un numero: -2\n",
            "Introduce un numero positivo: -2\n",
            "Introduce un numero: -2\n",
            "Introduce un numero positivo: -2\n",
            "Introduce un numero: 2\n",
            "Escribe otro numero: 5\n",
            "5 no es multipo de 2\n"
          ]
        }
      ]
    },
    {
      "cell_type": "markdown",
      "id": "a044da35",
      "metadata": {
        "id": "a044da35"
      },
      "source": [
        "## EJERCICIO 5"
      ]
    },
    {
      "cell_type": "markdown",
      "id": "473a499c",
      "metadata": {
        "id": "473a499c"
      },
      "source": [
        "Haz que un usuario introduzca una palabra y comprueba si dicha palabra empieza por mayúscula. Devuelve por pantalla el resultado en cada caso."
      ]
    },
    {
      "cell_type": "code",
      "source": [
        "# Solicita al usuario que ingrese una palabra y la almacena en la variable 'palabra'.\n",
        "palabra = input(\"Escribe una palabra: \")\n",
        "\n",
        "# Verifica si la primera letra de la palabra ingresada es mayúscula.\n",
        "# `palabra.capitalize()` devuelve la palabra con la primera letra en mayúscula y el resto en minúsculas.\n",
        "# Si `palabra.capitalize()` es igual a `palabra`, significa que ya empieza con mayúscula.\n",
        "if palabra.capitalize() == palabra:\n",
        "\n",
        "  # Si la condición se cumple, imprime que la palabra empieza con mayúscula.\n",
        "  print(\"La palabra {} empieza por Mayúscula\".format(palabra))\n",
        "else:\n",
        "  # Si la palabra no empieza con mayúscula, imprime que comienza con minúscula.\n",
        "  print(\"La palabra {} empieza por Minúscula\".format(palabra))"
      ],
      "metadata": {
        "colab": {
          "base_uri": "https://localhost:8080/"
        },
        "id": "xX54gjH7IGtz",
        "outputId": "f14ad540-f996-4eda-fcdc-aea1bcea41df"
      },
      "id": "xX54gjH7IGtz",
      "execution_count": null,
      "outputs": [
        {
          "output_type": "stream",
          "name": "stdout",
          "text": [
            "Escribe una palabra: Hola\n",
            "La palabra Hola empieza por Mayuscula\n"
          ]
        }
      ]
    },
    {
      "cell_type": "markdown",
      "id": "1e0c6b87",
      "metadata": {
        "id": "1e0c6b87"
      },
      "source": [
        "## EJERCICIO 6"
      ]
    },
    {
      "cell_type": "markdown",
      "id": "fdad22cc",
      "metadata": {
        "id": "fdad22cc"
      },
      "source": [
        "Haz que un usuario introduzca una letra y comprueba si se trata de una vocal. Si el usuario introduce un string de más de un carácter, infórmale de que no se puede procesar el dato, pues debe tener como máximo tamaño 1. Convierte la letra introducida a minúsculas para tener que realizar menos comprobaciones."
      ]
    },
    {
      "cell_type": "code",
      "source": [
        "# Solicita al usuario que ingrese una letra y la almacena en la variable 'letra'.\n",
        "letra = input(\"Escribe una letra: \")\n",
        "\n",
        "# Verifica si la longitud del dato ingresado es mayor a 1 (más de un carácter).\n",
        "if len(letra) > 1:\n",
        "  # Si es mayor a 1, muestra un mensaje indicando que no se puede procesar porque se ha ingresado más de una letra.\n",
        "  print(\"No se puede procesar el dato porque has puesto más de una letra\")\n",
        "\n",
        "# Verifica si la letra (convertida a minúscula con `lower()`) está en la tupla de vocales ('a', 'e', 'i', 'o', 'u').\n",
        "if letra.lower() in ('a', 'e', 'i', 'o', 'u'):\n",
        "  # Si la letra es una vocal, muestra un mensaje indicando que se ha ingresado una vocal.\n",
        "  print(\"La letra que has introducido es una vocal\")\n",
        "else:\n",
        "  # Si la letra no es una vocal, entonces se asume que es una consonante y se muestra el mensaje correspondiente.\n",
        "  print(\"La letra que has introducido es una consonante\")"
      ],
      "metadata": {
        "colab": {
          "base_uri": "https://localhost:8080/"
        },
        "id": "BV2TMplAJyFw",
        "outputId": "8948df4b-885d-4774-dc85-a6072873fdb6"
      },
      "id": "BV2TMplAJyFw",
      "execution_count": null,
      "outputs": [
        {
          "output_type": "stream",
          "name": "stdout",
          "text": [
            "Escribe una letra: 1\n",
            "La letra que has introducido es una consonante\n"
          ]
        }
      ]
    },
    {
      "cell_type": "markdown",
      "id": "df74b4e7",
      "metadata": {
        "id": "df74b4e7"
      },
      "source": [
        "## EJERCICIO 7"
      ]
    },
    {
      "cell_type": "markdown",
      "id": "aff89d46",
      "metadata": {
        "id": "aff89d46"
      },
      "source": [
        "Haz que el usuario introduzca los valores de los coeficientes a, b y c de una ecuación de segundo grado (ax2 + bx + c = 0) y resuelve la ecuación siempre que tenga soluciones reales. Muestra las soluciones sólo con dos decimales (usa format dentro de print)"
      ]
    },
    {
      "cell_type": "code",
      "source": [
        "# Importa la librería matemática 'math' para usar funciones como la raíz cuadrada (sqrt).\n",
        "import math\n",
        "\n",
        "# Solicita al usuario que ingrese el coeficiente 'a' y lo convierte a un número de punto flotante (float).\n",
        "a = float(input(\"Introduce un coeficiente a: \"))\n",
        "\n",
        "# Solicita al usuario que ingrese el coeficiente 'b' y lo convierte a un número de punto flotante (float).\n",
        "b = float(input(\"Introduce un coeficiente b: \"))\n",
        "\n",
        "# Solicita al usuario que ingrese el coeficiente 'c' y lo convierte a un número de punto flotante (float).\n",
        "c = float(input(\"Introduce un coeficiente c: \"))\n",
        "\n",
        "# Calcula el discriminante de la ecuación cuadrática con la fórmula b^2 - 4ac.\n",
        "ecuacion = pow(b, 2) - (4 * a * c)\n",
        "\n",
        "# Verifica si el discriminante es menor que 0.\n",
        "if ecuacion < 0:\n",
        "  # Si el discriminante es negativo, no hay soluciones reales, se imprime el mensaje.\n",
        "  print(\"La ecuación no tiene soluciones reales\")\n",
        "\n",
        "# Si el discriminante es mayor o igual a 0, se procede a calcular las raíces.\n",
        "else:\n",
        "  # Calcula la primera raíz con la fórmula cuadrática (-b + √discriminante) / (2a).\n",
        "  x1 = round(float((-b + math.sqrt(ecuacion)) / (2 * a)), 2)\n",
        "\n",
        "  # Calcula la segunda raíz con la fórmula cuadrática (-b - √discriminante) / (2a).\n",
        "  x2 = round(float((-b - math.sqrt(ecuacion)) / (2 * a)), 2)\n",
        "\n",
        "  # Muestra las soluciones de la ecuación con dos decimales de precisión.\n",
        "  print(\"Las soluciones son {} y {}\".format(x1, x2))"
      ],
      "metadata": {
        "colab": {
          "base_uri": "https://localhost:8080/"
        },
        "id": "dpEe57zEMFwW",
        "outputId": "d5b0a142-2c50-4cc9-d62a-b61b6b113106"
      },
      "id": "dpEe57zEMFwW",
      "execution_count": null,
      "outputs": [
        {
          "output_type": "stream",
          "name": "stdout",
          "text": [
            "Introduce un coeficiente a: 2\n",
            "Introduce un coeficiente b: 4\n",
            "Introduce un coeficiente c: -6\n",
            "La soluciones son 1.0 y -3.0\n"
          ]
        }
      ]
    },
    {
      "cell_type": "markdown",
      "id": "3bbee414",
      "metadata": {
        "id": "3bbee414"
      },
      "source": [
        "## EJERCICIO 8"
      ]
    },
    {
      "cell_type": "markdown",
      "id": "1acacbca",
      "metadata": {
        "id": "1acacbca"
      },
      "source": [
        "Haz que el usuario introduzca números enteros por teclado. Mientras el usuario no introduzca el 0, muestra si el número introducido es par o impar."
      ]
    },
    {
      "cell_type": "code",
      "source": [
        "# Inicia un bucle infinito que se ejecutará hasta que se rompa con una instrucción 'break'.\n",
        "while True:\n",
        "    # Se solicita al usuario que introduzca un número entero y se convierte a entero.\n",
        "    numero = int(input(\"Introduce un numero entero: \"))\n",
        "\n",
        "    # Si el número ingresado es 0, se sale del bucle.\n",
        "    if numero == 0:\n",
        "        break\n",
        "\n",
        "    # Se verifica si el número es par (divisible por 2 sin resto).\n",
        "    if numero % 2 == 0:\n",
        "        print(f\"El numero {numero} es par\")\n",
        "    else:\n",
        "        # Si no es par, entonces es impar.\n",
        "        print(f\"El numero {numero} es impar\")"
      ],
      "metadata": {
        "id": "dGKUNw7lUKAs",
        "colab": {
          "base_uri": "https://localhost:8080/"
        },
        "outputId": "e692c6b6-163b-4520-f134-ac7e561272d9"
      },
      "id": "dGKUNw7lUKAs",
      "execution_count": 4,
      "outputs": [
        {
          "name": "stdout",
          "output_type": "stream",
          "text": [
            "Introduce un numero entero: 4\n",
            "El numero 4 es par\n",
            "Introduce un numero entero: 10\n",
            "El numero 10 es par\n",
            "Introduce un numero entero: 11\n",
            "El numero 11 es impar\n",
            "Introduce un numero entero: 0\n"
          ]
        }
      ]
    },
    {
      "cell_type": "markdown",
      "id": "c0a5faa8",
      "metadata": {
        "id": "c0a5faa8"
      },
      "source": [
        "## EJERCICIO 9"
      ]
    },
    {
      "cell_type": "markdown",
      "id": "cb1b44fb",
      "metadata": {
        "id": "cb1b44fb"
      },
      "source": [
        "Haz que el usuario introduzca precios por teclado (si introduce 0, entonces es que ha finalizado). Si el usuario pasa de 200€, entonces ya no debe poder introducir más precios pues se ha pasado de presupuesto. Sea cual sea el resultado (o bien el precio final o bien que no tiene más presupuesto y la cantidad final)."
      ]
    },
    {
      "cell_type": "code",
      "source": [
        "# Solicita al usuario que ingrese el primer precio y lo convierte a un número de punto flotante (float).\n",
        "precio = float(input(\"Escribe un precio: \"))\n",
        "\n",
        "# Verifica si el precio inicial es 0 o si es mayor a 200.\n",
        "if precio == 0 or precio > 200:\n",
        "  # Si el precio es 0 o superior a 200, muestra el presupuesto ingresado.\n",
        "  print(\"El presupuesto es {}\".format(precio))\n",
        "\n",
        "# Si el precio es mayor a 0 y menor o igual a 200, entra en el bloque 'else'.\n",
        "else:\n",
        "  # Asigna el valor de 'precio' a una nueva variable 'precioT' para llevar el total acumulado.\n",
        "  precioT = precio\n",
        "\n",
        "  # Mientras el total acumulado (precioT) sea menor a 200, sigue solicitando precios adicionales.\n",
        "  while precioT < 200:\n",
        "    # Solicita al usuario que ingrese otro precio adicional y lo convierte a float.\n",
        "    precio2 = float(input(\"Escribe otro precio: \"))\n",
        "\n",
        "    # Verifica si el total acumulado ya es mayor a 200 (esto no se cumpliría la primera vez).\n",
        "    if precioT > 200:\n",
        "      # Si el total excede 200, muestra el total gastado y un mensaje indicando que se superó el presupuesto.\n",
        "      print(\"Te has gastado {}\".format(precioT))\n",
        "      print(\"Te has pasado del presupuesto\")\n",
        "\n",
        "    # Si el precio ingresado es 0, el usuario desea terminar el ingreso de precios.\n",
        "    elif precio2 == 0:\n",
        "      # Imprime el total acumulado y sale del bucle con 'break'.\n",
        "      print(\"Te has gastado {}\".format(precioT))\n",
        "      break\n",
        "\n",
        "    # Si el precio ingresado es distinto de 0 y no se ha superado el presupuesto.\n",
        "    else:\n",
        "      # Suma el precio ingresado al total acumulado.\n",
        "      precioT = precioT + precio2\n",
        "      # Muestra el total acumulado hasta el momento.\n",
        "      print(\"Te has gastado {}\".format(precioT))"
      ],
      "metadata": {
        "colab": {
          "base_uri": "https://localhost:8080/"
        },
        "id": "HjWzO3eVU9Kf",
        "outputId": "2e62fa7d-958a-4257-b2ec-6988bb53b5e8"
      },
      "id": "HjWzO3eVU9Kf",
      "execution_count": null,
      "outputs": [
        {
          "name": "stdout",
          "output_type": "stream",
          "text": [
            "Escribe un precio: 200\n"
          ]
        }
      ]
    },
    {
      "cell_type": "markdown",
      "id": "285580df",
      "metadata": {
        "id": "285580df"
      },
      "source": [
        "## EJERCICIO 10"
      ]
    },
    {
      "cell_type": "markdown",
      "id": "c7ec2aab",
      "metadata": {
        "id": "c7ec2aab"
      },
      "source": [
        "Haz que el usuario introduzca números enteros por teclado. Mientras el usuario no introduzca el 0, calcula cuántos números positivos y cuántos negativos ha introducido y muéstraselo al final."
      ]
    },
    {
      "cell_type": "code",
      "source": [
        "# Inicializa el contador de números positivos en 0.\n",
        "cantidad_positivos = 0\n",
        "\n",
        "# Inicializa el contador de números negativos en 0.\n",
        "cantidad_negativos = 0\n",
        "\n",
        "# Crea una lista vacía para almacenar los números positivos ingresados.\n",
        "numeros_positivos = []\n",
        "\n",
        "# Crea una lista vacía para almacenar los números negativos ingresados.\n",
        "numeros_negativos = []\n",
        "\n",
        "# Bucle infinito para solicitar números hasta que el usuario introduzca un 0.\n",
        "while True:\n",
        "  # Solicita al usuario un número entero y lo convierte a tipo int.\n",
        "  numero = int(input(\"Introduce un numero entero: \"))\n",
        "\n",
        "  # Si el número ingresado es 0, se termina el ciclo.\n",
        "  if numero == 0:\n",
        "    # Muestra la cantidad de números positivos ingresados y la lista con esos números.\n",
        "    print(\"Ha introducido {} numeros positivos y son {}\".format(cantidad_positivos, numeros_positivos))\n",
        "\n",
        "    # Muestra la cantidad de números negativos ingresados y la lista con esos números.\n",
        "    print(\"Ha introducido {} numeros negativos y son {}\".format(cantidad_negativos, numeros_negativos))\n",
        "\n",
        "    # Sale del bucle `while` con 'break'.\n",
        "    break\n",
        "\n",
        "  # Si el número ingresado es mayor que 0, es un número positivo.\n",
        "  elif numero > 0:\n",
        "    # Incrementa el contador de números positivos en 1.\n",
        "    cantidad_positivos += 1\n",
        "\n",
        "    # Añade el número ingresado a la lista de números positivos.\n",
        "    numeros_positivos.append(numero)\n",
        "\n",
        "  # Si el número ingresado es menor que 0, es un número negativo.\n",
        "  elif numero < 0:\n",
        "    # Incrementa el contador de números negativos en 1.\n",
        "    cantidad_negativos += 1\n",
        "\n",
        "    # Añade el número ingresado a la lista de números negativos.\n",
        "    numeros_negativos.append(numero)\n"
      ],
      "metadata": {
        "id": "vrpgwN8ialBJ",
        "colab": {
          "base_uri": "https://localhost:8080/"
        },
        "outputId": "8d82a675-8129-4b43-8ac7-a3f3a1a8d5ef"
      },
      "id": "vrpgwN8ialBJ",
      "execution_count": null,
      "outputs": [
        {
          "output_type": "stream",
          "name": "stdout",
          "text": [
            "Introduce un numero entero: 5\n",
            "Introduce un numero entero: 6\n",
            "Introduce un numero entero: -10\n",
            "Introduce un numero entero: 11\n",
            "Introduce un numero entero: -3\n",
            "Introduce un numero entero: -4\n",
            "Introduce un numero entero: 0\n",
            "Ha introducido 3 numeros positivos y son [5, 6, 11]\n",
            "Ha introducido 3 numeros negativos y son [-10, -3, -4]\n"
          ]
        }
      ]
    },
    {
      "cell_type": "markdown",
      "id": "82261b10",
      "metadata": {
        "id": "82261b10"
      },
      "source": [
        "## EJERCICIO 11"
      ]
    },
    {
      "cell_type": "markdown",
      "id": "38918bae",
      "metadata": {
        "id": "38918bae"
      },
      "source": [
        "Haz que el usuario introduzca dos números enteros por teclado. El primero será el extremo izquierdo del intervalo y, el segundo, el extremo derecho. Imprime la suma de todos los múltiplos de 3 que se encuentren entre los dos números introducidos por el usuario (los extremos incluidos). Finalmente, muestra por pantalla el resultado de la media de los múltiplos de 3."
      ]
    },
    {
      "cell_type": "code",
      "source": [
        "# Solicita al usuario que ingrese el primer número del intervalo y lo convierte a un número entero (int).\n",
        "numero1 = int(input(\"Introduce un numero: \"))\n",
        "\n",
        "# Solicita al usuario que ingrese el segundo número del intervalo y lo convierte a un número entero (int).\n",
        "numero2 = int(input(\"Introduce un numero: \"))\n",
        "\n",
        "# Inicializa la variable 'suma' en 0 para almacenar la suma de los múltiplos de 3 dentro del intervalo.\n",
        "suma = 0\n",
        "\n",
        "# Inicializa la variable 'contador' en 0 para llevar el conteo de los múltiplos de 3 encontrados.\n",
        "contador = 0\n",
        "\n",
        "# Bucle `for` que itera desde el número `numero1` hasta `numero2` (incluyendo `numero2` gracias a `+1` en `range`).\n",
        "for i in range(numero1, numero2 + 1):\n",
        "\n",
        "  # Verifica si el número actual `i` es múltiplo de 3 (si el residuo de `i` al dividirlo entre 3 es 0).\n",
        "  if i % 3 == 0:\n",
        "    # Si es múltiplo, lo suma a la variable `suma`.\n",
        "    suma += i\n",
        "\n",
        "    # Incrementa el contador en 1 cada vez que se encuentra un múltiplo de 3.\n",
        "    contador += 1\n",
        "\n",
        "# Si se encontraron múltiplos de 3 (es decir, si el contador es mayor a 0).\n",
        "if contador > 0:\n",
        "  # Muestra la suma de los múltiplos de 3 y la media aritmética (suma total dividida por el número de múltiplos).\n",
        "  # Se usa `//` para hacer una división entera (sin decimales).\n",
        "  print(f\"La suma de todos los múltiplos de 3 en este intervalo es {suma} con media de {suma // contador}\")\n",
        "\n",
        "# Si no se encontró ningún múltiplo de 3 en el intervalo.\n",
        "else:\n",
        "  # Imprime un mensaje indicando que no hay múltiplos de 3 en el intervalo dado.\n",
        "  print(\"No hay múltiplos de 3\")\n"
      ],
      "metadata": {
        "colab": {
          "base_uri": "https://localhost:8080/"
        },
        "id": "msWYaRiEdYvh",
        "outputId": "e7260ae1-f441-49b5-dca9-da010e0d1a6e"
      },
      "id": "msWYaRiEdYvh",
      "execution_count": null,
      "outputs": [
        {
          "output_type": "stream",
          "name": "stdout",
          "text": [
            "Introduce un numero: 1\n",
            "Introduce un numero: 11\n",
            "La suma de todos los multipos de 3 en este intervalos es 18 con media de 6\n"
          ]
        }
      ]
    },
    {
      "cell_type": "markdown",
      "id": "c3d775ce",
      "metadata": {
        "id": "c3d775ce"
      },
      "source": [
        "## EJERCICIO 12"
      ]
    },
    {
      "cell_type": "markdown",
      "id": "06be9e73",
      "metadata": {
        "id": "06be9e73"
      },
      "source": [
        "Pídele al usuario cuántos números va a introducir. Con un bucle for, solicítale esa cantidad de números y calcula su producto."
      ]
    },
    {
      "cell_type": "code",
      "source": [
        "# Se solicita al usuario que ingrese la cantidad de números que va a introducir.\n",
        "cantidad_numeros = int(input(\"¿Cuantos numero vas a introducir? \"))\n",
        "\n",
        "# Inicializa una variable llamada 'producto' con el valor 1. Esta variable se usará para calcular el producto de los números.\n",
        "producto = 1\n",
        "\n",
        "# Un bucle que se repetirá 'cantidad_numeros' veces.\n",
        "for i in range(cantidad_numeros):\n",
        "    # En cada iteración, se pide al usuario que introduzca un número y se convierte a entero.\n",
        "    num_producto = int(input(\"Escribe un numero: \"))\n",
        "\n",
        "    # Multiplica el número introducido por el valor actual de 'producto'.\n",
        "    producto *= num_producto\n",
        "\n",
        "# Finalmente, se imprime el resultado del producto de todos los números introducidos por el usuario.\n",
        "print(f\"El producto de los numeros que has introducido es {producto}\")"
      ],
      "metadata": {
        "colab": {
          "base_uri": "https://localhost:8080/"
        },
        "id": "kRTTw1gemDQ7",
        "outputId": "22c56088-cce5-4a42-f702-2c3a5c59237b"
      },
      "id": "kRTTw1gemDQ7",
      "execution_count": null,
      "outputs": [
        {
          "output_type": "stream",
          "name": "stdout",
          "text": [
            "¿Cuantos numero vas a introducir? 20\n",
            "Escribe un numero: 5\n",
            "Escribe un numero: 10\n",
            "Escribe un numero: 20\n",
            "Escribe un numero: 50\n",
            "Escribe un numero: 100\n",
            "Escribe un numero: 20\n",
            "Escribe un numero: 15\n",
            "Escribe un numero: 320\n",
            "Escribe un numero: 32\n",
            "Escribe un numero: 24\n",
            "Escribe un numero: 54\n",
            "Escribe un numero: 36\n",
            "Escribe un numero: 43\n",
            "Escribe un numero: 20\n",
            "Escribe un numero: 20\n",
            "Escribe un numero: 11100\n",
            "Escribe un numero: 24\n",
            "Escribe un numero: 54\n",
            "Escribe un numero: 20\n",
            "Escribe un numero: 20\n",
            "El producto de los numeros que has introducido es 70927579065876480000000000000000\n"
          ]
        }
      ]
    },
    {
      "cell_type": "markdown",
      "id": "8f71c1c4",
      "metadata": {
        "id": "8f71c1c4"
      },
      "source": [
        "## EJERCICIO 13"
      ]
    },
    {
      "cell_type": "markdown",
      "id": "533bd6bd",
      "metadata": {
        "id": "533bd6bd"
      },
      "source": [
        "Haz que el usuario introduzca un número entero. Muestra un triánguloy luego un rectángulo de lado y altura, respectivamente, el número entero introducido.\n",
        "\n",
        "Por ejemplo, si el usuario introduce como número 5, se deberá mostrar:\n",
        "\n",
        "![image-2.png](attachment:image-2.png)"
      ]
    },
    {
      "cell_type": "code",
      "source": [
        "# Se solicita al usuario que introduzca un número y se convierte a entero.\n",
        "numero = int(input(\"Introduce un numero: \"))\n",
        "\n",
        "# Primer bloque: Dibuja un triángulo isósceles\n",
        "for i in range(1, numero + 1):\n",
        "    # Imprime espacios en blanco para centrar el triángulo\n",
        "    print(\" \" * (numero - i) + \"*\" * (2 * i - 1))\n",
        "\n",
        "# Imprime una línea en blanco para separar la salida\n",
        "print()\n",
        "\n",
        "# Segundo bloque: Imprime números en forma de triángulo creciente\n",
        "for i in range(1, numero + 1):\n",
        "    for j in range(i):\n",
        "        # Imprime la suma de i y j sin salto de línea\n",
        "        print(i + j, end=\"\")\n",
        "    # Salto de línea después de imprimir cada fila\n",
        "    print()\n",
        "\n",
        "# Imprime una línea en blanco para separar la salida\n",
        "print()\n",
        "\n",
        "# Tercer bloque: Imprime una matriz de números que incrementan por fila\n",
        "for i in range(numero):\n",
        "    for j in range(numero):\n",
        "        # Imprime la suma de i y j incrementada en 1, sin salto de línea\n",
        "        print((i + j) + 1, end=\"\")\n",
        "    # Salto de línea después de imprimir cada fila\n",
        "    print()"
      ],
      "metadata": {
        "id": "dO_Sc1TdoSIe",
        "colab": {
          "base_uri": "https://localhost:8080/"
        },
        "outputId": "843eb4e3-bf3d-4ee1-c72e-e02331fdb542"
      },
      "id": "dO_Sc1TdoSIe",
      "execution_count": 5,
      "outputs": [
        {
          "output_type": "stream",
          "name": "stdout",
          "text": [
            "Introduce un numero: 10\n",
            "         *\n",
            "        ***\n",
            "       *****\n",
            "      *******\n",
            "     *********\n",
            "    ***********\n",
            "   *************\n",
            "  ***************\n",
            " *****************\n",
            "*******************\n",
            "\n",
            "1\n",
            "23\n",
            "345\n",
            "4567\n",
            "56789\n",
            "67891011\n",
            "78910111213\n",
            "89101112131415\n",
            "91011121314151617\n",
            "10111213141516171819\n",
            "\n",
            "12345678910\n",
            "234567891011\n",
            "3456789101112\n",
            "45678910111213\n",
            "567891011121314\n",
            "6789101112131415\n",
            "78910111213141516\n",
            "891011121314151617\n",
            "9101112131415161718\n",
            "10111213141516171819\n"
          ]
        }
      ]
    }
  ],
  "metadata": {
    "kernelspec": {
      "display_name": "Python 3 (ipykernel)",
      "language": "python",
      "name": "python3"
    },
    "language_info": {
      "codemirror_mode": {
        "name": "ipython",
        "version": 3
      },
      "file_extension": ".py",
      "mimetype": "text/x-python",
      "name": "python",
      "nbconvert_exporter": "python",
      "pygments_lexer": "ipython3",
      "version": "3.10.9"
    },
    "colab": {
      "provenance": [],
      "collapsed_sections": [
        "3bbee414"
      ]
    }
  },
  "nbformat": 4,
  "nbformat_minor": 5
}