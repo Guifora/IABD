{
  "cells": [
    {
      "cell_type": "markdown",
      "id": "d287d88e",
      "metadata": {
        "id": "d287d88e"
      },
      "source": [
        "# LISTA 10 -  LIBRERÍA NUMPY"
      ]
    },
    {
      "cell_type": "markdown",
      "id": "ccd0bc04",
      "metadata": {
        "id": "ccd0bc04"
      },
      "source": [
        "## <ins>Ejercicios Obligatorios </ins>"
      ]
    },
    {
      "cell_type": "code",
      "source": [
        "import numpy as np\n",
        "from numpy import random"
      ],
      "metadata": {
        "id": "2-BOF9MjHet9"
      },
      "id": "2-BOF9MjHet9",
      "execution_count": 2,
      "outputs": []
    },
    {
      "cell_type": "markdown",
      "id": "f99190d1",
      "metadata": {
        "id": "f99190d1"
      },
      "source": [
        "## EJERCICIO 1"
      ]
    },
    {
      "cell_type": "markdown",
      "id": "93a99146-6700-4082-b986-0aa25349c711",
      "metadata": {
        "id": "93a99146-6700-4082-b986-0aa25349c711"
      },
      "source": [
        "Crea un array unidimensional de 9 elementos y transfórmalo en un array 3D. Muestra la dimensión y la shape antes y después del reshape."
      ]
    },
    {
      "cell_type": "code",
      "source": [
        "# Creamos un array unidimensional que contiene los números del 0 al 8.\n",
        "d1 = np.arange(9)\n",
        "\n",
        "# Cambiamos la forma del array d1 a un array 3D con dimensiones 3x3x1.\n",
        "# Esto significa que tendrá 3 \"capas\", cada una con 3 filas y 1 columna.\n",
        "d3 = d1.reshape(3, 3, 1)\n",
        "\n",
        "# Imprimimos el array d3 para ver su nueva forma.\n",
        "print(d3)\n",
        "\n",
        "# Obtenemos el número de dimensiones del array d3.\n",
        "# La propiedad ndim devuelve el número de dimensiones del array.\n",
        "d3.ndim"
      ],
      "metadata": {
        "colab": {
          "base_uri": "https://localhost:8080/"
        },
        "id": "vhLxqekyHicE",
        "outputId": "6c6e1fba-d0fb-472a-b764-82be4e12d7af"
      },
      "id": "vhLxqekyHicE",
      "execution_count": null,
      "outputs": [
        {
          "output_type": "stream",
          "name": "stdout",
          "text": [
            "[[[0]\n",
            "  [1]\n",
            "  [2]]\n",
            "\n",
            " [[3]\n",
            "  [4]\n",
            "  [5]]\n",
            "\n",
            " [[6]\n",
            "  [7]\n",
            "  [8]]]\n"
          ]
        },
        {
          "output_type": "execute_result",
          "data": {
            "text/plain": [
              "3"
            ]
          },
          "metadata": {},
          "execution_count": 9
        }
      ]
    },
    {
      "cell_type": "markdown",
      "id": "feb0417e",
      "metadata": {
        "id": "feb0417e"
      },
      "source": [
        "## EJERCICIO 2"
      ]
    },
    {
      "cell_type": "markdown",
      "id": "91cd8f7c",
      "metadata": {
        "id": "91cd8f7c"
      },
      "source": [
        "Dados los arrays 2D ```[[-6, 5], [-4, 3], [-2, 1]] y [[1, 2], [3, 4], [5, 6]]```, concaténalos de modo que obtengas el array ```[[1, 2, -6, -5], [3, 4, -4, -3], [5, 6, -2, -1]]```"
      ]
    },
    {
      "cell_type": "code",
      "source": [
        "# Creamos el primer array 2D con valores negativos y positivos.\n",
        "d1 = np.array([[-6, 5], [-4, 3], [-2, -1]])\n",
        "\n",
        "# Creamos el segundo array 2D con valores positivos.\n",
        "d2 = np.array([[1, 2], [3, 4], [5, 6]])\n",
        "\n",
        "# Concatenamos d2 y d1 a lo largo del eje 1 (columnas).\n",
        "# Esto significa que estamos agregando las columnas de d1 a las de d2.\n",
        "d_fin = np.concatenate((d2, d1), axis=1)\n",
        "\n",
        "# Imprimimos el resultado final de la concatenación.\n",
        "print(d_fin)"
      ],
      "metadata": {
        "colab": {
          "base_uri": "https://localhost:8080/"
        },
        "id": "4Dnu3DcGKrBM",
        "outputId": "3c238be7-10cc-4444-b41f-7dc8cb86bb84"
      },
      "id": "4Dnu3DcGKrBM",
      "execution_count": null,
      "outputs": [
        {
          "output_type": "stream",
          "name": "stdout",
          "text": [
            "[[ 1  2 -6  5]\n",
            " [ 3  4 -4  3]\n",
            " [ 5  6 -2 -1]]\n"
          ]
        }
      ]
    },
    {
      "cell_type": "markdown",
      "id": "4d68e82b",
      "metadata": {
        "id": "4d68e82b"
      },
      "source": [
        "## EJERCICIO 3"
      ]
    },
    {
      "cell_type": "markdown",
      "id": "ec7f3b2a",
      "metadata": {
        "id": "ec7f3b2a"
      },
      "source": [
        "Dado el array 2D ```[[\"ala\", \"delfín\", \"arroz\"], [\"cena\", \"kayak\", \"picnic\"], [\"hoja\", \"gato\", \"elle\"]]```, busca las palabras que sean palíndromos. Necesitarás una función universal."
      ]
    },
    {
      "cell_type": "code",
      "source": [
        "# Definimos una función que verifica si una palabra es un palíndromo.\n",
        "def palin(palabra):\n",
        "    # Comparamos la palabra original con su reverso. Si son iguales, es un palíndromo.\n",
        "    return palabra == palabra[::-1]\n",
        "\n",
        "# Usamos np.frompyfunc para aplicar la función 'palin' a un array de numpy.\n",
        "# Esta función permite que 'palin' se aplique a cada elemento del array.\n",
        "my_palin = np.frompyfunc(palin, 1, 1)\n",
        "\n",
        "# Creamos un array 2D que contiene varias palabras para evaluar.\n",
        "d2 = np.array([[\"ala\", \"delfín\", \"arroz\"], [\"cena\", \"kayak\", \"picnic\"], [\"hoja\", \"gato\", \"elle\"]])\n",
        "\n",
        "# Iteramos a través de cada fila del array 2D.\n",
        "for fila in d2:\n",
        "    # Iteramos a través de cada palabra en la fila actual.\n",
        "    for palabra in fila:\n",
        "        # Llamamos a 'my_palin' para verificar si la palabra es un palíndromo.\n",
        "        if my_palin(palabra):\n",
        "            # Si es un palíndromo, imprimimos un mensaje indicando que la palabra es un palíndromo.\n",
        "            print(f\"La palabra {palabra} es un palíndromo\")"
      ],
      "metadata": {
        "colab": {
          "base_uri": "https://localhost:8080/"
        },
        "id": "WLFtnOAZLWO6",
        "outputId": "9128fc22-dc17-49df-c705-41af605f8f8e"
      },
      "id": "WLFtnOAZLWO6",
      "execution_count": null,
      "outputs": [
        {
          "output_type": "stream",
          "name": "stdout",
          "text": [
            "La palabra ala es un palindromo\n",
            "La palabra kayak es un palindromo\n",
            "La palabra elle es un palindromo\n"
          ]
        }
      ]
    },
    {
      "cell_type": "markdown",
      "id": "5c943554",
      "metadata": {
        "id": "5c943554"
      },
      "source": [
        "## EJERCICIO 4"
      ]
    },
    {
      "cell_type": "markdown",
      "id": "13d2c744",
      "metadata": {
        "id": "13d2c744"
      },
      "source": [
        "Crea un minijuego que piense un número aleatorio entre 1 y 10 y, hasta que no lo aciertes, te pida un número del 1 al 10. Cuando aciertes, tendrá que devolver el número de intentos y la frase: “¡¡¡ENHORABUENA!!! Has acertado el número que había pensado: el {}”. En caso de que falles, el juego deberá mostrar la frase “¡Has fallado! ¡Prueba otra vez!”"
      ]
    },
    {
      "cell_type": "code",
      "source": [
        "# Generamos un número aleatorio entre 1 y 10.\n",
        "num_alt = random.randint(1, 10)\n",
        "\n",
        "# Inicializamos el contador de intentos en 0.\n",
        "intentos = 0\n",
        "\n",
        "# Pedimos al usuario que adivine el número y lo convertimos a un entero.\n",
        "numero = int(input(\"Adivina el número aleatorio entre el 1 y el 10: \"))\n",
        "\n",
        "# Iniciamos un bucle que se repetirá mientras el número adivinado sea diferente al número aleatorio.\n",
        "while numero != num_alt:\n",
        "    # Incrementamos el contador de intentos por cada intento fallido.\n",
        "    intentos += 1\n",
        "    # Informamos al usuario que su intento fue incorrecto.\n",
        "    print(\"¡Has fallado! ¡Prueba otra vez!\")\n",
        "    # Pedimos al usuario que adivine nuevamente el número.\n",
        "    numero = int(input(\"Adivina el número aleatorio entre el 1 y el 10: \"))\n",
        "\n",
        "# Una vez que el usuario adivina correctamente, incrementamos el contador de intentos por el último intento exitoso.\n",
        "intentos += 1\n",
        "\n",
        "# Mostramos un mensaje de felicitación al usuario indicando el número adivinado y el total de intentos realizados.\n",
        "print(\"¡¡¡ENHORABUENA!!! Has acertado el número que había pensado: el {}. Lo has acertado al {} intento\".format(num_alt, intentos))"
      ],
      "metadata": {
        "colab": {
          "base_uri": "https://localhost:8080/"
        },
        "id": "x8cL0gVQIgF5",
        "outputId": "c80c493e-d866-4d9d-f3cc-7a7521dfe3a8"
      },
      "id": "x8cL0gVQIgF5",
      "execution_count": null,
      "outputs": [
        {
          "output_type": "stream",
          "name": "stdout",
          "text": [
            "Adivina el numero aleatorio entre el 1 y el 10: 1\n",
            "¡Has fallado! ¡Prueba otra vez!\n",
            "Adivina el numero aleatorio entre el 1 y el 10: 2\n",
            "¡Has fallado! ¡Prueba otra vez!\n",
            "Adivina el numero aleatorio entre el 1 y el 10: 3\n",
            "¡Has fallado! ¡Prueba otra vez!\n",
            "Adivina el numero aleatorio entre el 1 y el 10: 4\n",
            "¡¡¡ENHORABUENA!!! Has acertado el número que había pensado: el 4. Lo has acertado al 4 intento\n"
          ]
        }
      ]
    },
    {
      "cell_type": "code",
      "source": [
        "# Generamos un número aleatorio entre 1 y 10.\n",
        "num_alt = random.randint(1, 10)\n",
        "\n",
        "# Inicializamos el contador de intentos en 0.\n",
        "intentos = 0\n",
        "\n",
        "# Iniciamos un bucle infinito que se repetirá hasta que el usuario adivine el número.\n",
        "while True:\n",
        "    # Pedimos al usuario que adivine el número y lo convertimos a un entero.\n",
        "    numero = int(input(\"Adivina el número aleatorio entre el 1 y el 10: \"))\n",
        "\n",
        "    # Comparamos el número introducido por el usuario con el número aleatorio generado.\n",
        "    if numero == num_alt:\n",
        "        intentos += 1  # Incrementamos el contador de intentos.\n",
        "        # Si el usuario adivina correctamente, mostramos un mensaje de felicitación.\n",
        "        print(\"¡¡¡ENHORABUENA!!! Has acertado el número que había pensado: el {}. Lo has acertado al {} intento\".format(num_alt, intentos))\n",
        "        break  # Salimos del bucle porque se ha acertado el número.\n",
        "    else:\n",
        "        intentos += 1  # Incrementamos el contador de intentos por un intento fallido.\n",
        "        # Informamos al usuario que su intento fue incorrecto y le pedimos que lo intente de nuevo.\n",
        "        print(\"¡Has fallado! ¡Prueba otra vez!\")"
      ],
      "metadata": {
        "id": "tWCrFmjrPYgc",
        "colab": {
          "base_uri": "https://localhost:8080/"
        },
        "outputId": "fb79b7b3-87cd-4840-dc33-43c719b9a321"
      },
      "id": "tWCrFmjrPYgc",
      "execution_count": null,
      "outputs": [
        {
          "output_type": "stream",
          "name": "stdout",
          "text": [
            "Adivina el numero aleatorio entre el 1 y el 10: 9\n",
            "¡Has fallado! ¡Prueba otra vez!\n",
            "Adivina el numero aleatorio entre el 1 y el 10: 2\n",
            "¡Has fallado! ¡Prueba otra vez!\n",
            "Adivina el numero aleatorio entre el 1 y el 10: 3\n",
            "¡Has fallado! ¡Prueba otra vez!\n",
            "Adivina el numero aleatorio entre el 1 y el 10: 4\n",
            "¡Has fallado! ¡Prueba otra vez!\n",
            "Adivina el numero aleatorio entre el 1 y el 10: 5\n",
            "¡¡¡ENHORABUENA!!! Has acertado el número que había pensado: el 5. Lo has acertado al 5 intento\n"
          ]
        }
      ]
    },
    {
      "cell_type": "markdown",
      "id": "2972dd7e",
      "metadata": {
        "id": "2972dd7e"
      },
      "source": [
        "## EJERCICIO 5"
      ]
    },
    {
      "cell_type": "markdown",
      "id": "ef3c12ce",
      "metadata": {
        "id": "ef3c12ce"
      },
      "source": [
        "Crea un minijuego que piense un array 1D aleatorio de 5 elementos. Los elementos serán números enteros entre 1 y 20. Para cada intento, primero tendrá que pedir 5 números enteros del 1 al 20. El juego nos tendrá que decir cuántos números del array hemos acertado y cuántos números del array están bien colocados. El juego no termina hasta que no se hayan acertado todos los números pensados en la posición correspondiente. Al acabar, se tendrá que mostrar la frase: “¡¡¡ENHORABUENA!!! Has acertado el array que había pensado: {}”"
      ]
    },
    {
      "cell_type": "code",
      "source": [
        "# Generamos un arreglo de 5 números enteros aleatorios entre 1 y 20.\n",
        "acertado = random.randint(1, 20, size=5)\n",
        "\n",
        "# Solicitamos al usuario que ingrese 5 números separados por comas.\n",
        "numeros = input(\"Escribe 5 números separados por comas que estén entre 1 y 20: \")\n",
        "\n",
        "# Convertimos la entrada del usuario en un array de enteros.\n",
        "num_array = np.array(numeros.split(\",\")).astype(int)\n",
        "\n",
        "# Comprobamos si la entrada del usuario es válida (5 números en total, todos entre 1 y 20).\n",
        "while len(num_array) != 5 or np.any((num_array < 1) | (num_array > 20)):\n",
        "    # Si no es válida, pedimos al usuario que lo intente de nuevo.\n",
        "    numeros = input(\"No has introducido 5 números o no están dentro del rango, vuelve a intentarlo: \")\n",
        "    num_array = np.array(numeros.split(\",\")).astype(int)\n",
        "\n",
        "# Bucle principal que se repite hasta que el usuario adivine el arreglo acertado.\n",
        "while not np.array_equal(num_array, acertado):\n",
        "    cont_num = 0  # Contador de números acertados\n",
        "    cont_pos = 0  # Contador de posiciones acertadas\n",
        "\n",
        "    # Comprobamos cada número introducido por el usuario.\n",
        "    for i in range(len(num_array)):\n",
        "        # Si el número está en el arreglo acertado, incrementamos el contador de números acertados.\n",
        "        if num_array[i] in acertado:\n",
        "            cont_num += 1\n",
        "        # Si el número está en la misma posición, incrementamos el contador de posiciones acertadas.\n",
        "        if num_array[i] == acertado[i]:\n",
        "            cont_pos += 1\n",
        "\n",
        "    # Imprimimos el array introducido por el usuario y los resultados de la comparación.\n",
        "    print(f\"El array que has escrito es: {num_array}\")\n",
        "    print(\"Has acertado {} números y {} posiciones\".format(cont_num, cont_pos))\n",
        "\n",
        "    # Solicitamos al usuario que ingrese nuevamente 5 números.\n",
        "    numeros = input(\"Escribe 5 números separados por comas que estén entre 1 y 20: \")\n",
        "    num_array = np.array(numeros.split(\",\")).astype(int)\n",
        "\n",
        "    # Repetimos la validación de la entrada del usuario.\n",
        "    while len(num_array) != 5 or np.any((num_array < 1) | (num_array > 20)):\n",
        "        numeros = input(\"No has introducido 5 números o no están dentro del rango, vuelve a intentarlo: \")\n",
        "        num_array = np.array(numeros.split(\",\")).astype(int)\n",
        "\n",
        "# Cuando el usuario acierta, mostramos un mensaje de felicitación.\n",
        "print(f\"¡¡ENHORABUENA!!! Has acertado el array que había pensado: {acertado}\")"
      ],
      "metadata": {
        "colab": {
          "base_uri": "https://localhost:8080/"
        },
        "id": "7tnMMyYHGT52",
        "outputId": "18cc2bdf-0564-4f4a-bc5a-6d937b60253e"
      },
      "id": "7tnMMyYHGT52",
      "execution_count": null,
      "outputs": [
        {
          "output_type": "stream",
          "name": "stdout",
          "text": [
            "Escribe 5 numero separados por comas que esten entre 1 y 20: 4,10,20,4,5\n",
            "El array que has escrito es: [ 4 10 20  4  5]\n",
            "Has acertado 2 numeros y 1 posiciones\n",
            "Escribe 5 numero separados por comas que esten entre 1 y 20: 4,10,20,9,5\n",
            "El array que has escrito es: [ 4 10 20  9  5]\n",
            "Has acertado 1 numeros y 1 posiciones\n",
            "Escribe 5 numero separados por comas que esten entre 1 y 20: 4,11,15,12,8\n",
            "El array que has escrito es: [ 4 11 15 12  8]\n",
            "Has acertado 2 numeros y 1 posiciones\n",
            "Escribe 5 numero separados por comas que esten entre 1 y 20: 4,11,9,15,8\n",
            "El array que has escrito es: [ 4 11  9 15  8]\n",
            "Has acertado 2 numeros y 1 posiciones\n",
            "Escribe 5 numero separados por comas que esten entre 1 y 20: 4,11,9,9,9\n",
            "El array que has escrito es: [ 4 11  9  9  9]\n",
            "Has acertado 1 numeros y 1 posiciones\n",
            "Escribe 5 numero separados por comas que esten entre 1 y 20: 4,8,9,9,9\n",
            "El array que has escrito es: [4 8 9 9 9]\n",
            "Has acertado 2 numeros y 2 posiciones\n",
            "Escribe 5 numero separados por comas que esten entre 1 y 20: 4,8,13,14,19\n",
            "El array que has escrito es: [ 4  8 13 14 19]\n",
            "Has acertado 2 numeros y 2 posiciones\n",
            "Escribe 5 numero separados por comas que esten entre 1 y 20: 4,8,3,6,7\n",
            "El array que has escrito es: [4 8 3 6 7]\n",
            "Has acertado 2 numeros y 2 posiciones\n",
            "Escribe 5 numero separados por comas que esten entre 1 y 20: 4,8,1,2,16\n",
            "El array que has escrito es: [ 4  8  1  2 16]\n",
            "Has acertado 4 numeros y 2 posiciones\n",
            "Escribe 5 numero separados por comas que esten entre 1 y 20: 4,8,2,1,9\n",
            "El array que has escrito es: [4 8 2 1 9]\n",
            "Has acertado 3 numeros y 2 posiciones\n",
            "Escribe 5 numero separados por comas que esten entre 1 y 20: 4,8,2,16,9\n",
            "El array que has escrito es: [ 4  8  2 16  9]\n",
            "Has acertado 4 numeros y 3 posiciones\n",
            "Escribe 5 numero separados por comas que esten entre 1 y 20: 4,8,16,2,9\n",
            "El array que has escrito es: [ 4  8 16  2  9]\n",
            "Has acertado 4 numeros y 3 posiciones\n",
            "Escribe 5 numero separados por comas que esten entre 1 y 20: 4,8,16,2,18\n",
            "El array que has escrito es: [ 4  8 16  2 18]\n",
            "Has acertado 4 numeros y 3 posiciones\n",
            "Escribe 5 numero separados por comas que esten entre 1 y 20: 4,8,16,2,17\n",
            "El array que has escrito es: [ 4  8 16  2 17]\n",
            "Has acertado 4 numeros y 3 posiciones\n",
            "Escribe 5 numero separados por comas que esten entre 1 y 20: 4,8,16,19,2\n",
            "El array que has escrito es: [ 4  8 16 19  2]\n",
            "Has acertado 4 numeros y 4 posiciones\n",
            "Escribe 5 numero separados por comas que esten entre 1 y 20: 4,8,16,20,2\n",
            "El array que has escrito es: [ 4  8 16 20  2]\n",
            "Has acertado 4 numeros y 4 posiciones\n",
            "Escribe 5 numero separados por comas que esten entre 1 y 20: 4,8,16,21,2\n",
            "El array que has escrito es: [ 4  8 16 21  2]\n",
            "Has acertado 4 numeros y 4 posiciones\n",
            "Escribe 5 numero separados por comas que esten entre 1 y 20: 22,4,8,16,20,2\n",
            "No has introducido 5 numeros o no estan dentro del rango, vuelve a intentarlo: 4,8,16,19,2\n",
            "El array que has escrito es: [ 4  8 16 19  2]\n",
            "Has acertado 4 numeros y 4 posiciones\n",
            "Escribe 5 numero separados por comas que esten entre 1 y 20: 4,8,16,4,2\n",
            "El array que has escrito es: [ 4  8 16  4  2]\n",
            "Has acertado 5 numeros y 4 posiciones\n",
            "Escribe 5 numero separados por comas que esten entre 1 y 20: 4,8,8,8,8\n",
            "El array que has escrito es: [4 8 8 8 8]\n",
            "Has acertado 5 numeros y 2 posiciones\n",
            "Escribe 5 numero separados por comas que esten entre 1 y 20: 4,8,16,1,2\n",
            "El array que has escrito es: [ 4  8 16  1  2]\n",
            "Has acertado 4 numeros y 4 posiciones\n",
            "Escribe 5 numero separados por comas que esten entre 1 y 20: 4,8,16,2,2\n",
            "El array que has escrito es: [ 4  8 16  2  2]\n",
            "Has acertado 5 numeros y 4 posiciones\n",
            "Escribe 5 numero separados por comas que esten entre 1 y 20: 4,8,16,3,2\n",
            "El array que has escrito es: [ 4  8 16  3  2]\n",
            "Has acertado 4 numeros y 4 posiciones\n",
            "Escribe 5 numero separados por comas que esten entre 1 y 20: 4,8,16,4,2\n",
            "El array que has escrito es: [ 4  8 16  4  2]\n",
            "Has acertado 5 numeros y 4 posiciones\n",
            "Escribe 5 numero separados por comas que esten entre 1 y 20: 4,8,16,5,2\n",
            "El array que has escrito es: [ 4  8 16  5  2]\n",
            "Has acertado 4 numeros y 4 posiciones\n",
            "Escribe 5 numero separados por comas que esten entre 1 y 20: 4,8,16,6,2\n",
            "El array que has escrito es: [ 4  8 16  6  2]\n",
            "Has acertado 4 numeros y 4 posiciones\n",
            "Escribe 5 numero separados por comas que esten entre 1 y 20: 4,8,16,7,2\n",
            "El array que has escrito es: [ 4  8 16  7  2]\n",
            "Has acertado 4 numeros y 4 posiciones\n",
            "Escribe 5 numero separados por comas que esten entre 1 y 20: 4,8,16,8,2\n",
            "El array que has escrito es: [ 4  8 16  8  2]\n",
            "Has acertado 5 numeros y 4 posiciones\n",
            "Escribe 5 numero separados por comas que esten entre 1 y 20: 4,8,16,9,2\n",
            "El array que has escrito es: [ 4  8 16  9  2]\n",
            "Has acertado 4 numeros y 4 posiciones\n",
            "Escribe 5 numero separados por comas que esten entre 1 y 20: 4,8,16,10,2\n",
            "El array que has escrito es: [ 4  8 16 10  2]\n",
            "Has acertado 4 numeros y 4 posiciones\n",
            "Escribe 5 numero separados por comas que esten entre 1 y 20: 4,8,16,11,2\n",
            "El array que has escrito es: [ 4  8 16 11  2]\n",
            "Has acertado 4 numeros y 4 posiciones\n",
            "Escribe 5 numero separados por comas que esten entre 1 y 20: 4,8,16,12,2\n",
            "El array que has escrito es: [ 4  8 16 12  2]\n",
            "Has acertado 4 numeros y 4 posiciones\n",
            "Escribe 5 numero separados por comas que esten entre 1 y 20: 4,8,16,13,2\n",
            "El array que has escrito es: [ 4  8 16 13  2]\n",
            "Has acertado 4 numeros y 4 posiciones\n",
            "Escribe 5 numero separados por comas que esten entre 1 y 20: 4,8,16,14,2\n",
            "El array que has escrito es: [ 4  8 16 14  2]\n",
            "Has acertado 4 numeros y 4 posiciones\n",
            "Escribe 5 numero separados por comas que esten entre 1 y 20: 4,8,1615,2\n",
            "No has introducido 5 numeros o no estan dentro del rango, vuelve a intentarlo: 4,8,16,15,2\n",
            "El array que has escrito es: [ 4  8 16 15  2]\n",
            "Has acertado 4 numeros y 4 posiciones\n",
            "Escribe 5 numero separados por comas que esten entre 1 y 20: 4,8,16,16,2\n",
            "¡¡ENHORABUENA!!! Has acertado el array que había pensado: [ 4  8 16 16  2]\n"
          ]
        }
      ]
    },
    {
      "cell_type": "code",
      "source": [
        "#ESTE ES EL ANTIGUO, NO PUNTUAR\n",
        "d1_alt=random.randint(1,20, size = 5)\n",
        "while True:\n",
        "  num_array=[]\n",
        "  numero1=int(input(\"Escribe el primer numero del 1 al 20: \"))\n",
        "  while True:\n",
        "    if numero1>0 and numero1<21:\n",
        "      num_array.append(numero1)\n",
        "      break\n",
        "    else:\n",
        "      numero1=int(input(\"El numero que has introducido no esta entre el 1 y 20, escribe un numero dentro del rango: \"))\n",
        "\n",
        "  numero2=int(input(\"Escribe el segundo numero del 1 al 20: \"))\n",
        "  while True:\n",
        "    if numero2>0 and numero2<21:\n",
        "      num_array.append(numero2)\n",
        "      break\n",
        "    else:\n",
        "      numero2=int(input(\"El numero que has introducido no esta entre el 1 y 20, escribe un numero dentro del rango: \"))\n",
        "\n",
        "  numero3=int(input(\"Escribe el tercer numero del 1 al 20: \"))\n",
        "  while True:\n",
        "    if numero3>0 and numero3<21:\n",
        "      num_array.append(numero3)\n",
        "      break\n",
        "    else:\n",
        "      numero3=int(input(\"El numero que has introducido no esta entre el 1 y 20, escribe un numero dentro del rango: \"))\n",
        "\n",
        "  numero4=int(input(\"Escribe el cuarto numero del 1 al 20: \"))\n",
        "  while True:\n",
        "    if numero4>0 and numero4<21:\n",
        "      num_array.append(numero4)\n",
        "      break\n",
        "    else:\n",
        "      numero4=int(input(\"El numero que has introducido no esta entre el 1 y 20, escribe un numero dentro del rango: \"))\n",
        "\n",
        "  numero5=int(input(\"Escribe el quinto numero del 1 al 20: \"))\n",
        "  while True:\n",
        "    if numero5>0 and numero5<21:\n",
        "      num_array.append(numero5)\n",
        "      break\n",
        "    else:\n",
        "      numero5=int(input(\"El numero que has introducido no esta entre el 1 y 20, escribe un numero dentro del rango: \"))\n",
        "\n",
        "  #print(num_array)\n",
        "  #print(d1_alt)\n",
        "  cont_num=0\n",
        "  cont_pos=0\n",
        "  for x in d1_alt:\n",
        "    if numero1 == x:\n",
        "      cont_num+=1\n",
        "    elif numero2 == x:\n",
        "      cont_num+=1\n",
        "    elif numero3 == x:\n",
        "      cont_num+=1\n",
        "    elif numero4 == x:\n",
        "      cont_num+=1\n",
        "    elif numero5 == x:\n",
        "      cont_num+=1\n",
        "\n",
        "  for y in range(len(d1_alt)):\n",
        "    if num_array[y] == d1_alt[y]:\n",
        "      cont_pos+=1\n",
        "  if (num_array == d1_alt).all():\n",
        "    print(f\"¡¡ENHORABUENA!!! Has acertado el array que había pensado: {d1_alt}\")\n",
        "    break\n",
        "  else:\n",
        "    print(f\"El array que has escrito es: {num_array}\")\n",
        "    print(\"Has acertado {} numeros y {} posiciones\".format(cont_num,cont_pos))\n"
      ],
      "metadata": {
        "colab": {
          "base_uri": "https://localhost:8080/",
          "height": 222
        },
        "id": "MHRYboUXrceE",
        "outputId": "dc8bf057-747a-45e0-8385-f162f5ec9578"
      },
      "id": "MHRYboUXrceE",
      "execution_count": null,
      "outputs": [
        {
          "output_type": "error",
          "ename": "NameError",
          "evalue": "name 'random' is not defined",
          "traceback": [
            "\u001b[0;31m---------------------------------------------------------------------------\u001b[0m",
            "\u001b[0;31mNameError\u001b[0m                                 Traceback (most recent call last)",
            "\u001b[0;32m<ipython-input-1-2dbd66416031>\u001b[0m in \u001b[0;36m<cell line: 1>\u001b[0;34m()\u001b[0m\n\u001b[0;32m----> 1\u001b[0;31m \u001b[0md1_alt\u001b[0m\u001b[0;34m=\u001b[0m\u001b[0mrandom\u001b[0m\u001b[0;34m.\u001b[0m\u001b[0mrandint\u001b[0m\u001b[0;34m(\u001b[0m\u001b[0;36m1\u001b[0m\u001b[0;34m,\u001b[0m\u001b[0;36m20\u001b[0m\u001b[0;34m,\u001b[0m \u001b[0msize\u001b[0m \u001b[0;34m=\u001b[0m \u001b[0;36m5\u001b[0m\u001b[0;34m)\u001b[0m\u001b[0;34m\u001b[0m\u001b[0;34m\u001b[0m\u001b[0m\n\u001b[0m\u001b[1;32m      2\u001b[0m \u001b[0;32mwhile\u001b[0m \u001b[0;32mTrue\u001b[0m\u001b[0;34m:\u001b[0m\u001b[0;34m\u001b[0m\u001b[0;34m\u001b[0m\u001b[0m\n\u001b[1;32m      3\u001b[0m   \u001b[0mnum_array\u001b[0m\u001b[0;34m=\u001b[0m\u001b[0;34m[\u001b[0m\u001b[0;34m]\u001b[0m\u001b[0;34m\u001b[0m\u001b[0;34m\u001b[0m\u001b[0m\n\u001b[1;32m      4\u001b[0m   \u001b[0mnumero1\u001b[0m\u001b[0;34m=\u001b[0m\u001b[0mint\u001b[0m\u001b[0;34m(\u001b[0m\u001b[0minput\u001b[0m\u001b[0;34m(\u001b[0m\u001b[0;34m\"Escribe el primer numero del 1 al 20: \"\u001b[0m\u001b[0;34m)\u001b[0m\u001b[0;34m)\u001b[0m\u001b[0;34m\u001b[0m\u001b[0;34m\u001b[0m\u001b[0m\n\u001b[1;32m      5\u001b[0m   \u001b[0;32mwhile\u001b[0m \u001b[0;32mTrue\u001b[0m\u001b[0;34m:\u001b[0m\u001b[0;34m\u001b[0m\u001b[0;34m\u001b[0m\u001b[0m\n",
            "\u001b[0;31mNameError\u001b[0m: name 'random' is not defined"
          ]
        }
      ]
    },
    {
      "cell_type": "markdown",
      "id": "cbbfb36c",
      "metadata": {
        "id": "cbbfb36c"
      },
      "source": [
        "## EJERCICIO 6"
      ]
    },
    {
      "cell_type": "markdown",
      "id": "f0211a75",
      "metadata": {
        "id": "f0211a75"
      },
      "source": [
        "A partir de la lista ```[-3, -2, -1, 0, 1, 2, 3]```, genera dos arrays aleatorios 2D de size = (3, 4) y súmalos."
      ]
    },
    {
      "cell_type": "code",
      "source": [
        "# Creamos un arreglo unidimensional que va de -3 a 3 (excluyendo 4).\n",
        "lista = np.arange(-3, 4)\n",
        "\n",
        "# Seleccionamos aleatoriamente valores de 'lista' y creamos una matriz de 3 filas y 4 columnas.\n",
        "# `random.choice` selecciona elementos de forma aleatoria con reemplazo.\n",
        "lista1 = random.choices(lista, k=(3, 4))\n",
        "print(lista1)\n",
        "\n",
        "# Seleccionamos nuevamente valores aleatorios de 'lista' y creamos otra matriz de 3 filas y 4 columnas.\n",
        "lista2 = random.choices(lista, k=(3, 4))\n",
        "print(lista2)\n",
        "\n",
        "# Sumamos los dos arreglos `lista1` y `lista2` elemento a elemento.\n",
        "resultado = np.add(lista1, lista2)\n",
        "\n",
        "# Obtenemos el número de dimensiones del arreglo resultado.\n",
        "#dimensiones = resultado.ndim\n",
        "\n",
        "# Imprimimos el resultado de la suma de las dos matrices.\n",
        "print(resultado)"
      ],
      "metadata": {
        "colab": {
          "base_uri": "https://localhost:8080/"
        },
        "id": "jAA9A2VO-J3a",
        "outputId": "d69607f0-ca19-4568-fb50-df73cfc3f9b5"
      },
      "id": "jAA9A2VO-J3a",
      "execution_count": null,
      "outputs": [
        {
          "output_type": "stream",
          "name": "stdout",
          "text": [
            "[[-3  2 -2  0]\n",
            " [ 0 -3  3  2]\n",
            " [ 2 -3  3  0]]\n",
            "[[-3  3 -3  3]\n",
            " [ 1 -1 -2 -3]\n",
            " [-2  1 -1 -2]]\n",
            "[[-6  5 -5  3]\n",
            " [ 1 -4  1 -1]\n",
            " [ 0 -2  2 -2]]\n"
          ]
        }
      ]
    },
    {
      "cell_type": "markdown",
      "id": "58dd922a",
      "metadata": {
        "id": "58dd922a"
      },
      "source": [
        "## <ins>Ejercicios Opcionales </ins>"
      ]
    },
    {
      "cell_type": "markdown",
      "id": "2f3cd026",
      "metadata": {
        "id": "2f3cd026"
      },
      "source": [
        "## EJERCICIO 7"
      ]
    },
    {
      "cell_type": "markdown",
      "id": "de8639f8",
      "metadata": {
        "id": "de8639f8"
      },
      "source": [
        "Dado el array 2D ```[[1, 2, 3],[-1, 0, 1], [4, 5, 6], [-4, 0, 4], [3, 2, 1], [-3, 0, 3]]``` divídelo en 3 arrays 2D."
      ]
    },
    {
      "cell_type": "code",
      "source": [
        "# Definimos el array 2D original\n",
        "array_2d = [[1, 2, 3], [-1, 0, 1], [4, 5, 6], [-4, 0, 4], [3, 2, 1], [-3, 0, 3]]\n",
        "\n",
        "# Dividir el array en 3 arrays 2D\n",
        "array_1 = array_2d[:2]  # Primeras dos filas\n",
        "array_2 = array_2d[2:4]  # Siguientes dos filas\n",
        "array_3 = array_2d[4:]  # Última fila\n",
        "\n",
        "# Imprimir los resultados\n",
        "print(\"Array 1:\", array_1)\n",
        "print(\"Array 2:\", array_2)\n",
        "print(\"Array 3:\", array_3)"
      ],
      "metadata": {
        "colab": {
          "base_uri": "https://localhost:8080/"
        },
        "id": "1bYZoVKpMFp4",
        "outputId": "051c0f86-dd31-4807-9cd5-9e7fd1d6f254"
      },
      "id": "1bYZoVKpMFp4",
      "execution_count": 1,
      "outputs": [
        {
          "output_type": "stream",
          "name": "stdout",
          "text": [
            "Array 1: [[1, 2, 3], [-1, 0, 1]]\n",
            "Array 2: [[4, 5, 6], [-4, 0, 4]]\n",
            "Array 3: [[3, 2, 1], [-3, 0, 3]]\n"
          ]
        }
      ]
    },
    {
      "cell_type": "markdown",
      "id": "f754dfad",
      "metadata": {
        "id": "f754dfad"
      },
      "source": [
        "## EJERCICIO 8"
      ]
    },
    {
      "cell_type": "markdown",
      "id": "c4d05217",
      "metadata": {
        "id": "c4d05217"
      },
      "source": [
        "Crea una función universal que dado un array de strings devuelva el número total de vocales de cada string."
      ]
    },
    {
      "cell_type": "code",
      "source": [
        "# Definimos una lista de palabras\n",
        "lista = [\"colegio\", \"patio\", \"ordenador\", \"python\", \"programacion\"]\n",
        "\n",
        "# Definimos una función que cuenta el número de vocales en una palabra\n",
        "def contarvoc(palabra):\n",
        "    vocales = \"aeiou\"  # Definimos las vocales que queremos contar\n",
        "    contador = 0  # Inicializamos un contador en 0 para las vocales\n",
        "    # Iteramos sobre cada carácter en la palabra\n",
        "    for char in palabra:\n",
        "        # Verificamos si el carácter es una vocal (sin distinción de mayúsculas o minúsculas)\n",
        "        if char.lower() in vocales:\n",
        "            contador += 1  # Incrementamos el contador si es una vocal\n",
        "    return contador  # Devolvemos el total de vocales contadas\n",
        "\n",
        "# Convertimos la función contarvoc a una función universal usando np.frompyfunc\n",
        "my_contarvoc = np.frompyfunc(contarvoc, 1, 1)\n",
        "\n",
        "# Aplicamos la función universal al array de palabras\n",
        "resultado = my_contarvoc(lista)\n",
        "\n",
        "# Imprimimos el resultado\n",
        "print(resultado)  # Salida esperada: un array con el número de vocales en cada palabra"
      ],
      "metadata": {
        "colab": {
          "base_uri": "https://localhost:8080/"
        },
        "id": "8TTZmeC7MGJF",
        "outputId": "fa677cd9-e4b2-4818-d8c8-d9467f57f24d"
      },
      "id": "8TTZmeC7MGJF",
      "execution_count": 6,
      "outputs": [
        {
          "output_type": "stream",
          "name": "stdout",
          "text": [
            "[4 3 4 1 5]\n"
          ]
        }
      ]
    },
    {
      "cell_type": "code",
      "source": [],
      "metadata": {
        "id": "I7VFuVtlNABk"
      },
      "id": "I7VFuVtlNABk",
      "execution_count": null,
      "outputs": []
    }
  ],
  "metadata": {
    "kernelspec": {
      "display_name": "Python 3 (ipykernel)",
      "language": "python",
      "name": "python3"
    },
    "language_info": {
      "codemirror_mode": {
        "name": "ipython",
        "version": 3
      },
      "file_extension": ".py",
      "mimetype": "text/x-python",
      "name": "python",
      "nbconvert_exporter": "python",
      "pygments_lexer": "ipython3",
      "version": "3.11.4"
    },
    "colab": {
      "provenance": []
    }
  },
  "nbformat": 4,
  "nbformat_minor": 5
}