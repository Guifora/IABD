{
  "cells": [
    {
      "cell_type": "markdown",
      "id": "d287d88e",
      "metadata": {
        "id": "d287d88e"
      },
      "source": [
        "# LISTA 5 - EXPRESIONES REGULARES - regex101.com\n",
        "## <ins>Ejercicios Obligatorios </ins>"
      ]
    },
    {
      "cell_type": "code",
      "source": [
        "import re"
      ],
      "metadata": {
        "id": "X-5TGTC1R257"
      },
      "id": "X-5TGTC1R257",
      "execution_count": null,
      "outputs": []
    },
    {
      "cell_type": "markdown",
      "id": "f99190d1",
      "metadata": {
        "id": "f99190d1"
      },
      "source": [
        "## EJERCICIO 1"
      ]
    },
    {
      "cell_type": "markdown",
      "id": "b3836703",
      "metadata": {
        "id": "b3836703"
      },
      "source": [
        "El siguiente texto contiene una secuencia de palabras delimitadas por espacios y caracteres de puntuación (puntos y comas). Elabora una expresión regular a partir de la cual podamos descomponer (método split) el texto en todas las palabras que lo componen:\n",
        "\n",
        "Alternativamente, TAMBIÉN puedes buscar (método findall) todas las palabras existentes en el texto.\n",
        "```\n",
        "TEXTO = \"\"\"En un lugar de la Mancha, de cuyo nombre no quiero acordarme,\n",
        "no ha mucho tiempo que vivía un hidalgo de los de lanza en astillero,\n",
        "adarga antigua, rocín flaco y galgo corredor\"\"\"\n",
        "```"
      ]
    },
    {
      "cell_type": "code",
      "source": [
        "TEXTO = \"\"\"En un lugar de la Mancha, de cuyo nombre no quiero acordarme,\n",
        "no ha mucho tiempo que vivía un hidalgo de los de lanza en astillero,\n",
        "adarga antigua, rocín flaco y galgo corredor\"\"\"\n",
        "\n",
        "p = re.compile(r'\\W+')  # Compilar una expresión regular que busca uno o más caracteres no alfanuméricos\n",
        "palabras = p.split(TEXTO)  # Dividir el texto en palabras utilizando los delimitadores encontrados\n",
        "print(palabras)  # Imprimir la lista de palabras resultante"
      ],
      "metadata": {
        "colab": {
          "base_uri": "https://localhost:8080/"
        },
        "id": "Y9fK_GDVPc1C",
        "outputId": "f1079640-f822-47b5-fe9f-8228162b3ea4"
      },
      "id": "Y9fK_GDVPc1C",
      "execution_count": null,
      "outputs": [
        {
          "output_type": "stream",
          "name": "stdout",
          "text": [
            "['En', 'un', 'lugar', 'de', 'la', 'Mancha', 'de', 'cuyo', 'nombre', 'no', 'quiero', 'acordarme', 'no', 'ha', 'mucho', 'tiempo', 'que', 'vivía', 'un', 'hidalgo', 'de', 'los', 'de', 'lanza', 'en', 'astillero', 'adarga', 'antigua', 'rocín', 'flaco', 'y', 'galgo', 'corredor']\n"
          ]
        }
      ]
    },
    {
      "cell_type": "markdown",
      "id": "feb0417e",
      "metadata": {
        "id": "feb0417e"
      },
      "source": [
        "## EJERCICIO 2"
      ]
    },
    {
      "cell_type": "markdown",
      "id": "91cd8f7c",
      "metadata": {
        "id": "91cd8f7c"
      },
      "source": [
        "Escribe una expresión regular que capture los años del siguiente texto acerca de la historia de España obtenido de la Wikipedia:\n",
        "```\n",
        "TEXTO = \"\"\"En 1492 los Reyes Católicos financiaron el proyecto del navegante Cristóbal\n",
        "Colón en la búsqueda de una nueva ruta comercial con Asia a través del océano\n",
        "Atlántico, y proclamarían la expulsión de los judíos. La llegada al Nuevo Mundo\n",
        "y la posterior conquista de América forjaron la creación del Imperio español.\n",
        "Durante los siguientes siglos España se alzaría como actor principal del mundo\n",
        "occidental y primera potencia de la época. Durante los siglos xvi y xvii\n",
        "tendría lugar también la época de mayor apogeo de la cultura y las artes\n",
        "hispanas conocida como Siglo de Oro.\n",
        "\n",
        "El Imperio español en 1580, tras la unificación de la península ibérica bajo un\n",
        "único rey español Felipe II, comprendía América del Sur, América Central y el\n",
        "Caribe, grandes áreas de América del Norte en diferentes grados de influencia o\n",
        "control, las islas Filipinas en Asia, así como enclaves de diversa importancia\n",
        "en las costas de África y la India. Incluía además numerosas posesiones en\n",
        "Europa, los Países Bajos españoles, el Ducado de Milán o el Reino de Nápoles, la\n",
        "mayoría de ellas perdidas tras la paz de Utrecht de 1713.\"\"\"\n",
        "```"
      ]
    },
    {
      "cell_type": "code",
      "source": [
        "TEXTO = \"\"\"En 1492 los Reyes Católicos financiaron el proyecto del navegante Cristóbal\n",
        "Colón en la búsqueda de una nueva ruta comercial con Asia a través del océano\n",
        "Atlántico, y proclamarían la expulsión de los judíos. La llegada al Nuevo Mundo\n",
        "y la posterior conquista de América forjaron la creación del Imperio español.\n",
        "Durante los siguientes siglos España se alzaría como actor principal del mundo\n",
        "occidental y primera potencia de la época. Durante los siglos xvi y xvii\n",
        "tendría lugar también la época de mayor apogeo de la cultura y las artes\n",
        "hispanas conocida como Siglo de Oro.\n",
        "\n",
        "El Imperio español en 1580, tras la unificación de la península ibérica bajo un\n",
        "único rey español Felipe II, comprendía América del Sur, América Central y el\n",
        "Caribe, grandes áreas de América del Norte en diferentes grados de influencia o\n",
        "control, las islas Filipinas en Asia, así como enclaves de diversa importancia\n",
        "en las costas de África y la India. Incluía además numerosas posesiones en\n",
        "Europa, los Países Bajos españoles, el Ducado de Milán o el Reino de Nápoles, la\n",
        "mayoría de ellas perdidas tras la paz de Utrecht de 1713.\"\"\"\n",
        "\n",
        "p = re.compile(r\"\\d+\")  # Compilar una expresión regular para buscar uno o más dígitos\n",
        "años = p.findall(TEXTO)  # Encontrar todos los números en el texto\n",
        "print(años)  # Imprimir la lista de años encontrados\n"
      ],
      "metadata": {
        "colab": {
          "base_uri": "https://localhost:8080/"
        },
        "id": "xTEVKH5JSStm",
        "outputId": "dbbcbbfa-4094-4429-9ede-44658c1b17f3"
      },
      "id": "xTEVKH5JSStm",
      "execution_count": null,
      "outputs": [
        {
          "output_type": "stream",
          "name": "stdout",
          "text": [
            "['1492', '1580', '1713']\n"
          ]
        }
      ]
    },
    {
      "cell_type": "markdown",
      "id": "abf81a65",
      "metadata": {
        "id": "abf81a65"
      },
      "source": [
        "## EJERCICIO 3"
      ]
    },
    {
      "cell_type": "markdown",
      "id": "c0dda757",
      "metadata": {
        "id": "c0dda757"
      },
      "source": [
        "Escribe una expresión regular que detecte caracteres simbólicos (\\W) repetidos y los sustituya por una única ocurrencia:\n",
        "\n",
        "PISTA: puedes referenciar a un grupo previamente capturado mediante \\\\{número}.\n",
        "```\n",
        "TEXTO = \"¡¡¡¡¡¡¡QUÉ SORPRESA!!!!!!!\"\n",
        "```"
      ]
    },
    {
      "cell_type": "code",
      "source": [
        "TEXTO = \"¡¡¡¡¡¡¡QUÉ SORPRESA!!!!!!!\"  # Definición del texto de entrada\n",
        "p = re.compile(r\"(\\W)\\1+\")  # Compilar una expresión regular que busca caracteres no alfanuméricos repetidos\n",
        "resultado = p.sub(r\"\\1\", TEXTO)  # Sustituir las repeticiones por un solo carácter\n",
        "print(resultado)  # Imprimir el resultado final"
      ],
      "metadata": {
        "colab": {
          "base_uri": "https://localhost:8080/"
        },
        "id": "tiPoExj3USiW",
        "outputId": "34aee1b6-ab10-4714-b588-bd19ae27181f"
      },
      "id": "tiPoExj3USiW",
      "execution_count": null,
      "outputs": [
        {
          "output_type": "stream",
          "name": "stdout",
          "text": [
            "¡QUÉ SORPRESA!\n"
          ]
        }
      ]
    },
    {
      "cell_type": "markdown",
      "id": "4d68e82b",
      "metadata": {
        "id": "4d68e82b"
      },
      "source": [
        "## EJERCICIO 4"
      ]
    },
    {
      "cell_type": "markdown",
      "id": "ec7f3b2a",
      "metadata": {
        "id": "ec7f3b2a"
      },
      "source": [
        "Escribe una expresión regular que detecte palabras repetidas y las reemplace por una única ocurrencia:\n",
        "\n",
        "PISTA: metacaracteres \\w y \\b.\n",
        "```\n",
        "TEXTO = \"Me lo he pasado muy muy muy bien.\"\n",
        "```"
      ]
    },
    {
      "cell_type": "code",
      "source": [
        "TEXTO = \"Me lo he pasado muy muy muy bien.\"  # Definición del texto de entrada\n",
        "p = re.compile(r\"(\\b\\w+\\b)(\\s+\\1)+\")  # Compilar una expresión regular que busca palabras repetidas\n",
        "resultado = p.sub(r\"\\1\", TEXTO)  # Sustituir las repeticiones por una sola instancia de la palabra\n",
        "print(resultado)  # Imprimir el resultado final"
      ],
      "metadata": {
        "colab": {
          "base_uri": "https://localhost:8080/"
        },
        "id": "5NkNBCi9VvWK",
        "outputId": "26dfce5f-fba2-4579-85e6-b49a4dde8aa9"
      },
      "id": "5NkNBCi9VvWK",
      "execution_count": null,
      "outputs": [
        {
          "output_type": "stream",
          "name": "stdout",
          "text": [
            "Me lo he pasado muy bien.\n"
          ]
        }
      ]
    },
    {
      "cell_type": "markdown",
      "id": "5c943554",
      "metadata": {
        "id": "5c943554"
      },
      "source": [
        "## EJERCICIO 5"
      ]
    },
    {
      "cell_type": "markdown",
      "id": "f2fe60bc",
      "metadata": {
        "id": "f2fe60bc"
      },
      "source": [
        "Escribe una expresión regular que extraiga las direcciones de correo electrónico y los importes del siguiente texto. Asigna al grupo que contenga el email el nombre correo y al que contenga el importe precio:\n",
        "```\n",
        "TEXTO = \"\"\"Se ha facturado un total de 1500 € al usuario test@dominio.es durante\n",
        "el año 2019. Otros usuarios, como prueba@otro.com o new@contact.com han gastado\n",
        "solamente 500€.\"\"\"\n",
        "```\n"
      ]
    },
    {
      "cell_type": "code",
      "source": [
        "TEXTO = \"\"\"Se ha facturado un total de 1500 € al usuario test@dominio.es durante\n",
        "el año 2019. Otros usuarios, como prueba@otro.com o new@contact.com han gastado\n",
        "solamente 500€.\"\"\"\n",
        "\n",
        "# Compilación de la expresión regular\n",
        "p = re.compile(r\"(?P<correo>\\b\\w+[\\w\\.-]*@\\w+\\.\\w{2,}\\b)|(?P<importe>\\b\\d+[,.]?\\d*\\s?€)\")\n",
        "\n",
        "resultado = p.finditer(TEXTO)  # Buscar coincidencias en el texto\n",
        "\n",
        "for match in resultado:\n",
        "    if match.group('correo'):\n",
        "        print(f\"Correo: {match.group('correo')}\")\n",
        "    if match.group('importe'):\n",
        "        print(f\"Precio: {match.group('importe')}\")"
      ],
      "metadata": {
        "colab": {
          "base_uri": "https://localhost:8080/"
        },
        "id": "EcXO4qKkZp6n",
        "outputId": "534688b6-cd6d-496b-83f4-496598fbda63"
      },
      "id": "EcXO4qKkZp6n",
      "execution_count": null,
      "outputs": [
        {
          "output_type": "stream",
          "name": "stdout",
          "text": [
            "Precio: 1500 €\n",
            "Correo: test@dominio.es\n",
            "Correo: prueba@otro.com\n",
            "Correo: new@contact.com\n",
            "Precio: 500€\n"
          ]
        }
      ]
    },
    {
      "cell_type": "markdown",
      "id": "2972dd7e",
      "metadata": {
        "id": "2972dd7e"
      },
      "source": [
        "## EJERCICIO 6"
      ]
    },
    {
      "cell_type": "markdown",
      "id": "ef3c12ce",
      "metadata": {
        "id": "ef3c12ce"
      },
      "source": [
        "Dada la siguiente enumeración de números de teléfono con diferentes formatos, prepara una expresión regular que sea capaz de reconocerlos y de devolverlos con el mismo formato:\n",
        "```\n",
        "TELEFONOS = \"968 12 23 31, 900 141 142, 945112233, 656-247733\"\n",
        "```"
      ]
    },
    {
      "cell_type": "code",
      "source": [
        "TELEFONOS = \"968 12 23 31, 900 141 142, 945112233, 656-247733\"\n",
        "# Definición de la expresión regular para capturar números de teléfono\n",
        "p = re.compile(r'(\\d{3})[\\s-]?(\\d{2,3})[\\s]?(\\d{2})[\\s]?(\\d{0,3})')\n",
        "\n",
        "# Sustitución para dar formato a los números de teléfono\n",
        "resultado = re.sub(p, r'\\1 \\2 \\3 \\4', TELEFONOS)\n",
        "\n",
        "# Eliminar espacios adicionales\n",
        "resultado = re.sub(r'\\s+', '', resultado)\n",
        "\n",
        "# Imprimir el resultado\n",
        "print(resultado)"
      ],
      "metadata": {
        "colab": {
          "base_uri": "https://localhost:8080/"
        },
        "id": "0i3g6LmCeRXC",
        "outputId": "17ca2af6-e770-4020-f72d-1924f3b62fc2"
      },
      "id": "0i3g6LmCeRXC",
      "execution_count": null,
      "outputs": [
        {
          "output_type": "stream",
          "name": "stdout",
          "text": [
            "968122331,900141142,945112233,656247733\n"
          ]
        }
      ]
    },
    {
      "cell_type": "markdown",
      "id": "7d7c4a0d",
      "metadata": {
        "id": "7d7c4a0d"
      },
      "source": [
        "## EJERCICIO 7"
      ]
    },
    {
      "cell_type": "markdown",
      "id": "1c5d3b3f",
      "metadata": {
        "id": "1c5d3b3f"
      },
      "source": [
        "\n",
        "Validación de direcciones de correo electrónico. Escribe una expresión regular que valide si una dirección de correo electrónico es correcta según el formato estándar. El formato debe ser nombre@dominio.ext, donde:\n",
        "\n",
        "<ul>\n",
        "    <li>nombre puede contener letras, números, puntos, guiones bajos y guiones.</li>\n",
        "    <li>dominio puede contener letras y números.</li>\n",
        "    <li>ext debe ser de 2 a 6 letras (por ejemplo, .com, .es, .info).</li>\n",
        "</ul>"
      ]
    },
    {
      "cell_type": "code",
      "execution_count": null,
      "id": "09b73fe9",
      "metadata": {
        "vscode": {
          "languageId": "plaintext"
        },
        "colab": {
          "base_uri": "https://localhost:8080/"
        },
        "id": "09b73fe9",
        "outputId": "ae1eee36-76ce-42ce-c415-216dee6e52be"
      },
      "outputs": [
        {
          "output_type": "stream",
          "name": "stdout",
          "text": [
            "Escribe una cuenta de correo: pepe123@yahoo2.exe\n",
            "El correo es valido\n"
          ]
        }
      ],
      "source": [
        "correo = input(\"Escribe una cuenta de correo: \")\n",
        "# Definición de la expresión regular para validar el correo\n",
        "p = re.compile(r\"\\b\\w+[\\w\\.-]*@\\w+\\.\\w{2,6}$\")\n",
        "\n",
        "# Verificar si el correo coincide completamente con la expresión regular\n",
        "if p.fullmatch(correo):\n",
        "    print(\"El correo es válido\")\n",
        "else:\n",
        "    print(\"El correo no es válido\")"
      ]
    }
  ],
  "metadata": {
    "kernelspec": {
      "display_name": "Python 3 (ipykernel)",
      "language": "python",
      "name": "python3"
    },
    "language_info": {
      "codemirror_mode": {
        "name": "ipython",
        "version": 3
      },
      "file_extension": ".py",
      "mimetype": "text/x-python",
      "name": "python",
      "nbconvert_exporter": "python",
      "pygments_lexer": "ipython3",
      "version": "3.10.9"
    },
    "colab": {
      "provenance": []
    }
  },
  "nbformat": 4,
  "nbformat_minor": 5
}