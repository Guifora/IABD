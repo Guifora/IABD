{
  "cells": [
    {
      "cell_type": "markdown",
      "id": "d287d88e",
      "metadata": {
        "id": "d287d88e"
      },
      "source": [
        "# LISTA 10 - MODULOS MATH, DATETIME Y EXCEPCIONES"
      ]
    },
    {
      "cell_type": "markdown",
      "id": "3b5dac37",
      "metadata": {
        "id": "3b5dac37"
      },
      "source": [
        "## <ins>Ejercicios Obligatorios </ins>"
      ]
    },
    {
      "cell_type": "markdown",
      "id": "f99190d1",
      "metadata": {
        "id": "f99190d1"
      },
      "source": [
        "## MODULO MATH"
      ]
    },
    {
      "cell_type": "markdown",
      "id": "e38807ed-ac94-4575-ad88-c53e775cf3b1",
      "metadata": {
        "id": "e38807ed-ac94-4575-ad88-c53e775cf3b1"
      },
      "source": [
        "## EJERCICIO 1"
      ]
    },
    {
      "cell_type": "markdown",
      "id": "5001702b-dac9-4ca0-b6ce-4a1a2f9f9d1a",
      "metadata": {
        "tags": [],
        "id": "5001702b-dac9-4ca0-b6ce-4a1a2f9f9d1a"
      },
      "source": [
        "Escriba un programa Python para convertir grados a radianes.\n",
        "\n",
        "Nota: El radian es la unidad estándar de medida angular, utilizada en muchas áreas de las matemáticas.\n",
        "La medida de un ángulo en radianes es numéricamente igual a la longitud de un arco correspondiente de un círculo unitario;\n",
        "un radian equivale a poco menos de 57,3 grados (cuando la longitud del arco es igual al radio).\n",
        "\n",
        "Datos de prueba:\n",
        "Grado : 15\n",
        "Resultado esperado en radianes: 0,2619047619047619"
      ]
    },
    {
      "cell_type": "code",
      "execution_count": null,
      "id": "7c25d5e4-8edf-4e54-88e6-2d6214d6e1e7",
      "metadata": {
        "colab": {
          "base_uri": "https://localhost:8080/"
        },
        "id": "7c25d5e4-8edf-4e54-88e6-2d6214d6e1e7",
        "outputId": "9ce0ef1f-cb76-4cc0-ffa5-9712b29fd674"
      },
      "outputs": [
        {
          "name": "stdout",
          "output_type": "stream",
          "text": [
            "Escribe grados de 0 a 360: 100\n",
            "100 grados son 1.7453292519943295 radianes\n",
            "Escribe grados de 0 a 360: 15\n",
            "15 grados son 0.2617993877991494 radianes\n",
            "Escribe grados de 0 a 360: -1\n"
          ]
        }
      ],
      "source": [
        "# Importa la biblioteca math y la renombra como 'mt' para su uso\n",
        "import math as mt\n",
        "\n",
        "# Solicita al usuario que introduzca un valor de grados entre 0 y 360\n",
        "grados = int(input(\"Escribe grados de 0 a 360: \"))\n",
        "\n",
        "# Comienza un bucle que se ejecutará mientras los grados estén entre 0 y 360 (exclusivo)\n",
        "while 0 < grados < 360:\n",
        "    # Convierte los grados a radianes usando la función radians de la biblioteca math\n",
        "    print(\"{} grados son {} radianes\".format(grados, mt.radians(grados)))\n",
        "\n",
        "    # Solicita al usuario que introduzca otro valor de grados\n",
        "    grados = int(input(\"Escribe grados de 0 a 360: \"))"
      ]
    },
    {
      "cell_type": "markdown",
      "id": "a84c6a7e-6e46-4798-bdbd-6e5034562439",
      "metadata": {
        "id": "a84c6a7e-6e46-4798-bdbd-6e5034562439"
      },
      "source": [
        "## EJERCICIO 2"
      ]
    },
    {
      "cell_type": "markdown",
      "id": "8cf0595a-cab0-48e9-a4fd-1e8b363f070d",
      "metadata": {
        "id": "8cf0595a-cab0-48e9-a4fd-1e8b363f070d"
      },
      "source": [
        "Escriba un programa Python para calcular el volumen superficial y el área de un cilindro.\n",
        "\n",
        "Nota: Un cilindro es una de las formas geométricas curvilíneas más básicas,\n",
        "la superficie formada por los puntos a una distancia fija de una línea recta determinada, el eje del cilindro.\n",
        "\n",
        "Datos de prueba:\n",
        "volumen: Altura (4), Radio (6)\n",
        "\n",
        "Rendimiento esperado:\n",
        "El volumen es: 452.57142857142856\n",
        "El área de superficie es: 377.1428571428571"
      ]
    },
    {
      "cell_type": "code",
      "execution_count": null,
      "id": "e5ec59b9-1e2d-4c1f-a6a0-93917ead5c0e",
      "metadata": {
        "colab": {
          "base_uri": "https://localhost:8080/"
        },
        "id": "e5ec59b9-1e2d-4c1f-a6a0-93917ead5c0e",
        "outputId": "674dff96-594c-405c-ba0d-441eb181dc24"
      },
      "outputs": [
        {
          "name": "stdout",
          "output_type": "stream",
          "text": [
            "Escribe la altura del cilindro: 4\n",
            "Escribe el radio del cilindro: 6\n",
            "El volumen es: 452.3893421169302\n",
            "El area de superficie es: 376.99111843077515\n",
            "Escribe la altura del cilindro: -1\n",
            "Escribe el radio del cilindro: -1\n"
          ]
        }
      ],
      "source": [
        "# Importa la biblioteca math y la renombra como 'mt' para su uso\n",
        "import math as mt\n",
        "\n",
        "# Solicita al usuario que introduzca la altura del cilindro y la convierte a un número decimal\n",
        "altura = float(input(\"Escribe la altura del cilindro: \"))\n",
        "# Solicita al usuario que introduzca el radio del cilindro y la convierte a un número decimal\n",
        "radio = float(input(\"Escribe el radio del cilindro: \"))\n",
        "\n",
        "# Comienza un bucle que se ejecutará mientras la altura o el radio sean mayores o iguales a 0\n",
        "while altura >= 0 or radio >= 0:\n",
        "    # Calcula el área de superficie del cilindro\n",
        "    area = (2 * mt.pi * pow(radio, 2)) + (2 * mt.pi * radio * altura)\n",
        "    # Calcula el volumen del cilindro\n",
        "    volumen = (mt.pi * pow(radio, 2) * altura)\n",
        "\n",
        "    # Imprime el volumen del cilindro\n",
        "    print(f\"El volumen es: {volumen}\")\n",
        "    # Imprime el área de superficie del cilindro\n",
        "    print(f\"El área de superficie es: {area}\")\n",
        "\n",
        "    # Solicita al usuario que introduzca nuevamente la altura del cilindro\n",
        "    altura = float(input(\"Escribe la altura del cilindro: \"))\n",
        "    # Solicita al usuario que introduzca nuevamente el radio del cilindro\n",
        "    radio = float(input(\"Escribe el radio del cilindro: \"))"
      ]
    },
    {
      "cell_type": "markdown",
      "id": "6aabcb23-baf4-49d8-aa4d-d57f0ec9570a",
      "metadata": {
        "id": "6aabcb23-baf4-49d8-aa4d-d57f0ec9570a"
      },
      "source": [
        "## EJERCICIO 3"
      ]
    },
    {
      "cell_type": "markdown",
      "id": "a986fa9c-70de-44b5-9e62-d679fc03bc99",
      "metadata": {
        "id": "a986fa9c-70de-44b5-9e62-d679fc03bc99"
      },
      "source": [
        "Escriba un programa Python para calcular la diferencia entre la suma al cuadrado de los primeros n números naturales y\n",
        "la suma de los primeros n números naturales al cuadrado (valor predeterminado de número = 2).\n",
        "\n",
        "Datos de prueba:\n",
        "Si suma_diferencia(12)\n",
        "\n",
        "Rendimiento esperado :\n",
        "5434"
      ]
    },
    {
      "cell_type": "code",
      "execution_count": null,
      "id": "5f2a5dd8-e034-4e73-a563-f202353df2cf",
      "metadata": {
        "colab": {
          "base_uri": "https://localhost:8080/"
        },
        "id": "5f2a5dd8-e034-4e73-a563-f202353df2cf",
        "outputId": "9a545540-5f46-4cd7-a669-3bd5442bf3d3"
      },
      "outputs": [
        {
          "name": "stdout",
          "output_type": "stream",
          "text": [
            "Escribe un numero natural entero:12\n",
            "5434\n",
            "Escribe un numero natural entero:-1\n"
          ]
        }
      ],
      "source": [
        "# Importa la biblioteca math y la renombra como 'mt' para su uso\n",
        "import math as mt\n",
        "\n",
        "# Define la función que calcula la diferencia entre el cuadrado de la suma\n",
        "# y la suma de los cuadrados de los primeros 'num' números naturales.\n",
        "def suma_diferencia(num):\n",
        "    suma_cuadrado = 0  # Inicializa la suma de los números naturales\n",
        "    suma_de_cuadrados = 0  # Inicializa la suma de los cuadrados de los números naturales\n",
        "\n",
        "    # Itera sobre cada número natural desde 1 hasta 'num'\n",
        "    for i in range(1, num + 1):\n",
        "        suma_cuadrado += i  # Suma el número actual a la suma total\n",
        "        suma_de_cuadrados += pow(i, 2)  # Suma el cuadrado del número actual a la suma de cuadrados\n",
        "\n",
        "        # Calcula la diferencia entre el cuadrado de la suma y la suma de los cuadrados\n",
        "        diferencia = pow(suma_cuadrado, 2) - suma_de_cuadrados\n",
        "\n",
        "    return diferencia  # Devuelve la diferencia calculada\n",
        "\n",
        "# Solicita al usuario que introduzca un número natural entero\n",
        "numero = int(input(\"Escribe un número natural entero: \"))\n",
        "\n",
        "# Comienza un bucle que se ejecutará mientras el número sea mayor que 0\n",
        "while numero > 0:\n",
        "    print(suma_diferencia(numero))  # Imprime el resultado de la función para el número introducido\n",
        "    numero = int(input(\"Escribe un número natural entero: \"))  # Vuelve a pedir un número al usuario"
      ]
    },
    {
      "cell_type": "markdown",
      "id": "922c88ea-96a8-4ef1-a7f1-a395815c32ae",
      "metadata": {
        "id": "922c88ea-96a8-4ef1-a7f1-a395815c32ae"
      },
      "source": [
        "## EJERCICIO 4"
      ]
    },
    {
      "cell_type": "markdown",
      "id": "a4f92524-6938-44d9-83aa-0651933e94a3",
      "metadata": {
        "id": "a4f92524-6938-44d9-83aa-0651933e94a3"
      },
      "source": [
        "Escriba un programa Python para implementar el algoritmo euclidiano para calcular el máximo común divisor (MCD).\n",
        "\n",
        "Rendimiento esperado :\n",
        "\n",
        "304 = 2 * 150 + 4\n",
        "150 = 37 * 4 + 2\n",
        "4 = 2 * 2 + 0\n",
        "mcd es 2\n",
        ".........\n",
        "6 = 2 * 3 + 0\n",
        "mcd es 3\n"
      ]
    },
    {
      "cell_type": "code",
      "execution_count": null,
      "id": "082e279c-8bfb-41bf-86ad-82c874292926",
      "metadata": {
        "colab": {
          "base_uri": "https://localhost:8080/"
        },
        "id": "082e279c-8bfb-41bf-86ad-82c874292926",
        "outputId": "0db18b2f-23ef-4c18-c1df-3e505ae7fcd9"
      },
      "outputs": [
        {
          "name": "stdout",
          "output_type": "stream",
          "text": [
            "Introduce un numero: 304\n",
            "Introduce otro numero: 6\n"
          ]
        },
        {
          "output_type": "execute_result",
          "data": {
            "text/plain": [
              "2"
            ]
          },
          "metadata": {},
          "execution_count": 22
        }
      ],
      "source": [
        "# Importa la biblioteca math y le asigna un alias 'mt'\n",
        "import math as mt\n",
        "\n",
        "# Define la función mcd_eucli que calcula el máximo común divisor (MCD) usando el algoritmo de Euclides\n",
        "def mcd_eucli(x, y):\n",
        "    # Calcula el resto de la división de x entre y\n",
        "    resto1 = x % y\n",
        "\n",
        "    # Calcula el resto de la división de y entre el primer resto\n",
        "    resto2 = y % resto1\n",
        "\n",
        "    # Devuelve el segundo resto, que debería ser el MCD\n",
        "    return resto2\n",
        "\n",
        "# Solicita al usuario que introduzca dos números y los convierte a enteros, pasando los valores a la función mcd_eucli\n",
        "mcd_eucli(int(input(\"Introduce un numero: \")), int(input(\"Introduce otro numero: \")))"
      ]
    },
    {
      "cell_type": "markdown",
      "id": "2327c30f-6f55-4746-b9f9-f45b2f3fa4e7",
      "metadata": {
        "id": "2327c30f-6f55-4746-b9f9-f45b2f3fa4e7"
      },
      "source": [
        "## EJERCICIO 5"
      ]
    },
    {
      "cell_type": "markdown",
      "id": "5d487a6a-35ca-4a2d-b541-7cd24ea92609",
      "metadata": {
        "id": "5d487a6a-35ca-4a2d-b541-7cd24ea92609"
      },
      "source": [
        "Escriba un programa Python para crear una calculadora del teorema de Pitágoras.\n",
        "\n",
        "Nota: En matemáticas, el teorema de Pitágoras, también conocido como teorema de Pitágoras,\n",
        "es una relación fundamental en la geometría euclidiana entre los tres lados de un triángulo rectángulo.\n",
        "Dice que el cuadrado de la hipotenusa (el lado opuesto al ángulo recto) es igual a la suma de los cuadrados\n",
        "de los otros dos lados.\n",
        "\n",
        "Rendimiento esperado :\n",
        "\n",
        "¡Calculadora del teorema de Pitágoras! Calcula los lados de tu triángulo.\n",
        "Supongamos que los lados son a, b, c y c es la hipotenusa (el lado opuesto al derecho\n",
        " ángulo\n",
        "¿Qué lado (a, b, c) deseas calcular? lado>a\n",
        "Ingrese la longitud del lado b:10\n",
        "Introduzca la longitud del lado c:20\n",
        "La longitud del lado a es\n",
        "17.320508075688775"
      ]
    },
    {
      "cell_type": "code",
      "execution_count": null,
      "id": "f80b2984-ac8d-4970-9927-6a0afb16b6d2",
      "metadata": {
        "colab": {
          "base_uri": "https://localhost:8080/"
        },
        "id": "f80b2984-ac8d-4970-9927-6a0afb16b6d2",
        "outputId": "db155bec-8536-4cae-d1f7-7fce51b4d545"
      },
      "outputs": [
        {
          "name": "stdout",
          "output_type": "stream",
          "text": [
            "¡Calculadora del teorema de Pitágoras! \n",
            "Supongamos que los lados son a, b, c y c es la hipotenusa (el lado opuesto al derecho ángulo)\n",
            "¿Qué lado (a, b, c) deseas calcular? e\n",
            "La letra que has introducido es distinta de a,b,c\n",
            "Si quieres salir pulsa Q\n",
            "¿Qué lado (a, b, c) deseas calcular? a\n",
            "Ingrese la longitud del lado:10\n",
            "Ingrese la longitud del lado:20\n",
            "La longitud del lado es: 17.320508075688775\n",
            "Si quieres salir pulsa Q\n",
            "¿Qué lado (a, b, c) deseas calcular? q\n"
          ]
        }
      ],
      "source": [
        "# Importa la biblioteca math y la renombra como 'mt' para su uso\n",
        "import math as mt\n",
        "\n",
        "# Imprime un mensaje de bienvenida al usuario\n",
        "print(\"¡Calculadora del teorema de Pitágoras! \")\n",
        "print(\"Supongamos que los lados son a, b, c y c es la hipotenusa (el lado opuesto al derecho ángulo)\")\n",
        "\n",
        "# Función para solicitar al usuario la longitud de un lado\n",
        "def ingrese_print():\n",
        "    return input(\"Ingrese la longitud del lado:\")\n",
        "\n",
        "# Función para imprimir el resultado\n",
        "def resultado_print(numero):\n",
        "    frase = \"La longitud del lado es: \" + str(numero)\n",
        "    return frase\n",
        "\n",
        "# Solicita al usuario qué lado desea calcular\n",
        "lado = input(\"¿Qué lado (a, b, c) deseas calcular? \")\n",
        "\n",
        "# Inicia un bucle que se ejecutará hasta que el usuario ingrese 'q'\n",
        "while lado.lower() != \"q\":\n",
        "    # Si el usuario quiere calcular el lado 'a'\n",
        "    if lado.lower() == \"a\":\n",
        "        b = int(ingrese_print())  # Solicita la longitud del lado b\n",
        "        c = int(ingrese_print())  # Solicita la longitud de la hipotenusa c\n",
        "        resultado = mt.sqrt(pow(c, 2) - pow(b, 2))  # Calcula la longitud del lado a usando el teorema de Pitágoras\n",
        "        print(resultado_print(resultado))  # Imprime el resultado\n",
        "        print(\"Si quieres salir pulsa Q\")  # Mensaje para salir del programa\n",
        "        lado = input(\"¿Qué lado (a, b, c) deseas calcular? \")  # Solicita de nuevo qué lado calcular\n",
        "\n",
        "    # Si el usuario quiere calcular el lado 'b'\n",
        "    elif lado.lower() == \"b\":\n",
        "        a = int(ingrese_print())  # Solicita la longitud del lado a\n",
        "        c = int(ingrese_print())  # Solicita la longitud de la hipotenusa c\n",
        "        resultado = mt.sqrt(pow(c, 2) - pow(a, 2))  # Calcula la longitud del lado b\n",
        "        print(resultado_print(resultado))  # Imprime el resultado\n",
        "        print(\"Si quieres salir pulsa Q\")  # Mensaje para salir del programa\n",
        "        lado = input(\"¿Qué lado (a, b, c) deseas calcular? \")  # Solicita de nuevo qué lado calcular\n",
        "\n",
        "    # Si el usuario quiere calcular la hipotenusa 'c'\n",
        "    elif lado.lower() == \"c\":\n",
        "        a = int(ingrese_print())  # Solicita la longitud del lado a\n",
        "        b = int(ingrese_print())  # Solicita la longitud del lado b\n",
        "        resultado = mt.sqrt(pow(a, 2) + pow(b, 2))  # Calcula la longitud de la hipotenusa c\n",
        "        print(resultado_print(resultado))  # Imprime el resultado\n",
        "        print(\"Si quieres salir pulsa Q\")  # Mensaje para salir del programa\n",
        "        lado = input(\"¿Qué lado (a, b, c) deseas calcular? \")  # Solicita de nuevo qué lado calcular\n",
        "\n",
        "    # Si el usuario ingresa una letra distinta de 'a', 'b' o 'c'\n",
        "    else:\n",
        "        print(\"La letra que has introducido es distinta de a,b,c\")  # Mensaje de error\n",
        "        print(\"Si quieres salir pulsa Q\")  # Mensaje para salir del programa\n",
        "        lado = input(\"¿Qué lado (a, b, c) deseas calcular? \")  # Solicita de nuevo qué lado calcular"
      ]
    },
    {
      "cell_type": "markdown",
      "id": "269c4b20-4a4d-4c25-bc8d-090abc7f4dad",
      "metadata": {
        "id": "269c4b20-4a4d-4c25-bc8d-090abc7f4dad"
      },
      "source": [
        "## MODULO DATE TIME"
      ]
    },
    {
      "cell_type": "markdown",
      "id": "4e700cd7-0b76-466f-b769-abfeb7c8a5c4",
      "metadata": {
        "id": "4e700cd7-0b76-466f-b769-abfeb7c8a5c4"
      },
      "source": [
        "## EJERCICIO 6"
      ]
    },
    {
      "cell_type": "markdown",
      "id": "1d0e5894-7eaa-4010-ae50-4c0ba58e7857",
      "metadata": {
        "id": "1d0e5894-7eaa-4010-ae50-4c0ba58e7857"
      },
      "source": [
        "Escriba un script de Python para mostrar los distintos formatos de fecha y hora:\n",
        "a) Fecha y hora actuales\n",
        "b) año en curso\n",
        "c) Mes del año\n",
        "d) Número de semana del año\n",
        "e) Día laborable de la semana\n",
        "f) Día del año\n",
        "g) Día del mes\n",
        "h) Día de la semana"
      ]
    },
    {
      "cell_type": "code",
      "execution_count": null,
      "id": "c38aad9c-aa2d-4a4c-8dd3-0afe3d2cb947",
      "metadata": {
        "colab": {
          "base_uri": "https://localhost:8080/"
        },
        "id": "c38aad9c-aa2d-4a4c-8dd3-0afe3d2cb947",
        "outputId": "77e1ad7f-8c5a-4ce7-f769-2b1978e5b8d4"
      },
      "outputs": [
        {
          "output_type": "stream",
          "name": "stdout",
          "text": [
            "a) Fecha y hora actuales: 01/10/2024 15:14\n",
            "b) Año en curso: 2024\n",
            "c) Mes en curso: October\n",
            "d) Numero de semana del año: 40\n",
            "e) Dia laborable de la semana: 2\n",
            "f) Dia del año : 275\n",
            "g) Dia del mes: 01\n",
            "h) Dia de la semana: Tuesday\n"
          ]
        }
      ],
      "source": [
        "import datetime as dt\n",
        "today=dt.datetime.now()\n",
        "print(\"a) Fecha y hora actuales: {}\".format(today.strftime(\"%d/%m/%Y %H:%M\")))\n",
        "print(\"b) Año en curso: {}\".format(today.year))\n",
        "print(\"c) Mes en curso: {}\".format(today.strftime(\"%B\")))\n",
        "print(\"d) Numero de semana del año: {}\".format(today.strftime(\"%W\")))\n",
        "print(\"e) Dia laborable de la semana: {}\".format(today.strftime(\"%w\")))\n",
        "print(\"f) Dia del año : {}\".format(today.strftime(\"%j\")))\n",
        "print(\"g) Dia del mes: {}\".format(today.strftime(\"%d\")))\n",
        "print(\"h) Dia de la semana: {}\".format(today.strftime(\"%A\")))"
      ]
    },
    {
      "cell_type": "markdown",
      "id": "51834dc8-91dd-49d1-adf6-ec489068b5f2",
      "metadata": {
        "id": "51834dc8-91dd-49d1-adf6-ec489068b5f2"
      },
      "source": [
        "## EJERCICIO 7"
      ]
    },
    {
      "cell_type": "markdown",
      "id": "46e61586-83a9-44fd-a502-a17008540c1a",
      "metadata": {
        "id": "46e61586-83a9-44fd-a502-a17008540c1a"
      },
      "source": [
        "Escriba un programa Python para restar cinco días de la fecha actual.\n",
        "Fecha de muestra:\n",
        "Fecha actual: 2015-06-22\n",
        "5 días antes Fecha actual: 2015-06-17"
      ]
    },
    {
      "cell_type": "code",
      "execution_count": null,
      "id": "3c7c83ab-3915-408b-8b19-f9af02ed4f5a",
      "metadata": {
        "colab": {
          "base_uri": "https://localhost:8080/"
        },
        "id": "3c7c83ab-3915-408b-8b19-f9af02ed4f5a",
        "outputId": "f1558362-04c6-44f4-950d-bf07a85b04e5"
      },
      "outputs": [
        {
          "output_type": "stream",
          "name": "stdout",
          "text": [
            "Fecha actual: 2024-10-01\n",
            "5 dias antes de fecha actual: 2024-09-26\n"
          ]
        }
      ],
      "source": [
        "import datetime as dt\n",
        "fecha_actual=dt.datetime.now()\n",
        "# Restar 5 días\n",
        "nuevo_dia = fecha_actual.day - 5\n",
        "nuevo_mes = fecha_actual.month\n",
        "nuevo_año = fecha_actual.year\n",
        "\n",
        "# Ajustar el día, mes y año\n",
        "if nuevo_dia <= 0:\n",
        "    nuevo_mes -= 1\n",
        "    if nuevo_mes == 0:  # Si el mes se vuelve 0, retrocedemos al año anterior\n",
        "        nuevo_mes = 12\n",
        "        nuevo_año -= 1\n",
        "\n",
        "    # Calcular el último día del mes anterior\n",
        "    if nuevo_mes in [1, 3, 5, 7, 8, 10, 12]:  # Meses con 31 días\n",
        "        nuevo_dia += 31\n",
        "    elif nuevo_mes in [4, 6, 9, 11]:  # Meses con 30 días\n",
        "        nuevo_dia += 30\n",
        "    else:  # Febrero (consideramos 28 días aquí)\n",
        "        nuevo_dia += 28\n",
        "\n",
        "# Crear nueva fecha\n",
        "fecha_resta = fecha_actual.replace(year=nuevo_año, month=nuevo_mes, day=nuevo_dia)\n",
        "\n",
        "print(\"Fecha actual: {}\".format(fecha_actual.strftime(\"%Y-%m-%d\")))\n",
        "print(\"5 dias antes de fecha actual: {}\".format(fecha_resta.strftime(\"%Y-%m-%d\")))"
      ]
    },
    {
      "cell_type": "markdown",
      "id": "082309e7-cb10-4f2d-a719-8264b95f3682",
      "metadata": {
        "id": "082309e7-cb10-4f2d-a719-8264b95f3682"
      },
      "source": [
        "## MODULO EXCEPTIONS"
      ]
    },
    {
      "cell_type": "markdown",
      "id": "feb0417e",
      "metadata": {
        "id": "feb0417e"
      },
      "source": [
        "## EJERCICIO 8"
      ]
    },
    {
      "cell_type": "markdown",
      "id": "91cd8f7c",
      "metadata": {
        "id": "91cd8f7c"
      },
      "source": [
        "Dada la función divisors(), muestra TypeError con el mensaje correspondiente si el parámetro n no se trata de un número entero y muestra ValueError con el mensaje correspondiente si n no se trata de un número positivo.\n",
        "\n",
        "```\n",
        "def divisors(n):\n",
        "    \"\"\"\n",
        "    Calcula los divisores de un número entero positivo.\n",
        "    Args:\n",
        "        n: Número entero positive\n",
        "    Returns:\n",
        "        divisors: Lista de divisores de n\n",
        "    \"\"\"\"\n",
        "    divisors = []\n",
        "    for i in range(1, n + 1):\n",
        "        if n % i == 0: divisors.append(i)\n",
        "             return divisors\n",
        "```"
      ]
    },
    {
      "cell_type": "code",
      "execution_count": 21,
      "id": "e292b60b-089a-40b4-a395-41f8a19a9c70",
      "metadata": {
        "colab": {
          "base_uri": "https://localhost:8080/"
        },
        "id": "e292b60b-089a-40b4-a395-41f8a19a9c70",
        "outputId": "8a32ad2d-2db8-440a-ed8f-d1e835802cdb"
      },
      "outputs": [
        {
          "output_type": "stream",
          "name": "stdout",
          "text": [
            "Escribe un número entero positivo: 100.2\n",
            "Error: El valor introducido no es un número entero.\n"
          ]
        }
      ],
      "source": [
        "def divisors(n):\n",
        "    \"\"\"\n",
        "    Calcula los divisores de un número entero positivo.\n",
        "\n",
        "    Args:\n",
        "        n: Número entero positivo.\n",
        "\n",
        "    Returns:\n",
        "        divisors: Lista de divisores de n.\n",
        "    \"\"\"\n",
        "    # Verifica si n es un entero. Si no, lanza un error de tipo.\n",
        "    if not isinstance(n, int):\n",
        "        raise TypeError(\"El valor introducido no es un número entero.\")\n",
        "\n",
        "    # Verifica si n es un número positivo. Si no, lanza un error de valor.\n",
        "    if n <= 0:\n",
        "        raise ValueError(\"El valor introducido no es un número positivo.\")\n",
        "\n",
        "    # Genera una lista de divisores de n utilizando una comprensión de listas.\n",
        "    # Se itera sobre cada número i desde 1 hasta n (inclusive) y se comprueba\n",
        "    # si n es divisible por i (n % i == 0). Si es así, i se añade a la lista.\n",
        "    divisors = [i for i in range(1, n + 1) if n % i == 0]\n",
        "\n",
        "    # Devuelve la lista de divisores.\n",
        "    return divisors\n",
        "\n",
        "# Intenta ejecutar el bloque de código que sigue\n",
        "try:\n",
        "    # Solicita al usuario que introduzca un número entero positivo.\n",
        "    numero = input(\"Escribe un número entero positivo: \")\n",
        "\n",
        "    # Llama a la función divisors y almacena el resultado.\n",
        "    resultado = divisors(numero)\n",
        "\n",
        "    # Imprime los divisores obtenidos.\n",
        "    print(f\"Los divisores de {numero} son: {resultado}\")\n",
        "\n",
        "# Captura errores de tipo y valor, y muestra un mensaje de error.\n",
        "except TypeError as e:\n",
        "    print(f\"Error: {e}\")\n",
        "except ValueError as e:\n",
        "    print(f\"Error: {e}\")"
      ]
    },
    {
      "cell_type": "markdown",
      "id": "59397f22",
      "metadata": {
        "id": "59397f22"
      },
      "source": [
        "## EJERCICIO 9"
      ]
    },
    {
      "cell_type": "markdown",
      "id": "8272bcdf",
      "metadata": {
        "id": "8272bcdf"
      },
      "source": [
        "Crea una función que solicite al usuario la edad. Lanza una excepción en caso de que no se trate de una edad válida. Se considera edad no válida una edad negativa o mayor a 150. En cada caso, lanza el mensaje correspondiente."
      ]
    },
    {
      "cell_type": "code",
      "execution_count": 6,
      "id": "a127d166-e17c-459c-a10c-6fe487e327b5",
      "metadata": {
        "id": "a127d166-e17c-459c-a10c-6fe487e327b5",
        "colab": {
          "base_uri": "https://localhost:8080/"
        },
        "outputId": "2b0a7702-1afb-42a2-8554-ada651c11cd6"
      },
      "outputs": [
        {
          "output_type": "stream",
          "name": "stdout",
          "text": [
            "Escribe tu edad: 150\n",
            "Tu edad es 150\n"
          ]
        }
      ],
      "source": [
        "# Intenta ejecutar el bloque de código que sigue\n",
        "try:\n",
        "    # Solicita al usuario que introduzca su edad y convierte la entrada a un entero.\n",
        "    edad = int(input(\"Escribe tu edad: \"))\n",
        "\n",
        "    # Verifica si la edad es negativa.\n",
        "    if edad < 0:\n",
        "        # Si la edad es negativa, lanza una excepción de valor con un mensaje específico.\n",
        "        raise ValueError(\"La edad no puede ser negativa.\")\n",
        "\n",
        "    # Verifica si la edad es mayor de 150.\n",
        "    elif edad > 150:\n",
        "        # Si la edad es mayor de 150, lanza una excepción de valor con un mensaje específico.\n",
        "        raise ValueError(\"La edad no puede ser mayor de 150.\")\n",
        "\n",
        "    # Si la edad es válida, imprime la edad del usuario.\n",
        "    print(f\"Tu edad es {edad}\")\n",
        "\n",
        "# Captura cualquier excepción de tipo ValueError que se haya lanzado.\n",
        "except ValueError as e:\n",
        "    # Imprime un mensaje de error si se produjo una excepción, mostrando el mensaje específico.\n",
        "    print(f\"Error: {e}\")"
      ]
    },
    {
      "cell_type": "markdown",
      "id": "5e2e3866",
      "metadata": {
        "id": "5e2e3866"
      },
      "source": [
        "## <ins>Ejercicios Opcionales </ins>"
      ]
    },
    {
      "cell_type": "markdown",
      "id": "0327de3d",
      "metadata": {
        "id": "0327de3d"
      },
      "source": [
        "## EJERCICIO 10"
      ]
    },
    {
      "cell_type": "markdown",
      "id": "7dd833aa",
      "metadata": {
        "id": "7dd833aa"
      },
      "source": [
        "Crea una función que solicite al usuario una letra en mayúscula. Lanza una excepción en caso de que el usuario no haya introducido nada, no haya introducido una letra, no haya introducido una letra mayúscula o no haya introducido solamente un carácter. La función tiene que capturar todas las excepciones ocurridas y mostrar el mensaje de la excepción (sólo el mensaje, para que el usuario vea lo que ha pasado pero no tenga información que no le dice nada)."
      ]
    },
    {
      "cell_type": "code",
      "execution_count": null,
      "id": "e5f0459b",
      "metadata": {
        "id": "e5f0459b"
      },
      "outputs": [],
      "source": []
    },
    {
      "cell_type": "markdown",
      "id": "822dc443",
      "metadata": {
        "id": "822dc443"
      },
      "source": [
        "## EJERCICIO 11"
      ]
    },
    {
      "cell_type": "markdown",
      "id": "c54ded62",
      "metadata": {
        "id": "c54ded62"
      },
      "source": [
        "Escriba un programa Python para agregar años a una fecha determinada y mostrar la fecha actualizada.\n",
        "\n",
        "Datos de muestra: (addYears es el nombre de la función definida por el usuario)\n",
        "imprimir (agregar años (fecha y hora. fecha (2015,1,1), -1))\n",
        "imprimir (agregar años (fecha y hora. fecha (2015,1,1), 0))\n",
        "imprimir (agregar años (fecha y hora. fecha (2015,1,1), 2))\n",
        "imprimir(agregarAños(fechahora.fecha(2000,2,29),1))\n",
        "\n",
        "Rendimiento esperado :\n",
        "2014-01-01\n",
        "2015-01-01\n",
        "2017-01-01\n",
        "2001-03-01"
      ]
    },
    {
      "cell_type": "code",
      "execution_count": null,
      "id": "f65661eb",
      "metadata": {
        "id": "f65661eb"
      },
      "outputs": [],
      "source": []
    },
    {
      "cell_type": "markdown",
      "id": "f18c4085",
      "metadata": {
        "id": "f18c4085"
      },
      "source": [
        "## EJERCICIO 12"
      ]
    },
    {
      "cell_type": "markdown",
      "id": "3a561f46",
      "metadata": {
        "id": "3a561f46"
      },
      "source": [
        "Dada la función divisors(), asegura con assert que el parámetro n se trata de un número entero positivo. De lo contrario, muestra como mensaje que \"n debe ser de tipo int y debe ser mayor que 0\"\n",
        "\n",
        "```\n",
        "def divisors(n):\n",
        "    \"\"\"\n",
        "    Calcula los divisores de un número entero positivo.\n",
        "    Args:\n",
        "        n: Número entero positive\n",
        "    Returns:\n",
        "        divisors: Lista de divisores de n\n",
        "    \"\"\"\"\n",
        "    divisors = []\n",
        "    for i in range(1, n + 1):\n",
        "        if n % i == 0: divisors.append(i)\n",
        "     return divisors\n",
        "```"
      ]
    },
    {
      "cell_type": "code",
      "execution_count": null,
      "id": "d6733eec",
      "metadata": {
        "id": "d6733eec"
      },
      "outputs": [],
      "source": []
    },
    {
      "cell_type": "markdown",
      "id": "e4c6bd63",
      "metadata": {
        "id": "e4c6bd63"
      },
      "source": [
        "## EJERCICIO 13"
      ]
    },
    {
      "cell_type": "markdown",
      "id": "4f56267d",
      "metadata": {
        "id": "4f56267d"
      },
      "source": [
        "Dada la función is_palindrome(), asegura con assert que el parámetro word se trata de una variable de tipo string. De lo contrario, muestra como mensaje que \"word debe ser de tipo string\".\n",
        "\n",
        "```\n",
        "def is_palindrome(word):\n",
        "    \"\"\"\n",
        "    Devuelve si la palabra word es palíndroma.\n",
        "    Args:\n",
        "        word: Palabra\n",
        "    Returns:\n",
        "        isPalindrome: Booleano\n",
        "    \"\"\"\n",
        "    word = word.lower()\n",
        "    l = []\n",
        "    isPalindrome = True\n",
        "    for c in word:\n",
        "        l.append(c)\n",
        "        n = len(l)\n",
        "    for i in range(int(n / 2)):\n",
        "        if l[i] != l[n - (i + 1)]:\n",
        "            isPalindrome = False\n",
        "     return isPalindrome\n",
        "```"
      ]
    },
    {
      "cell_type": "code",
      "execution_count": null,
      "id": "7374d478",
      "metadata": {
        "id": "7374d478"
      },
      "outputs": [],
      "source": []
    },
    {
      "cell_type": "markdown",
      "id": "f3265650",
      "metadata": {
        "id": "f3265650"
      },
      "source": [
        "## EJERCICIO 14"
      ]
    },
    {
      "cell_type": "markdown",
      "id": "d61c5301",
      "metadata": {
        "id": "d61c5301"
      },
      "source": [
        "Dada la función is_palindrome(), muestra TypeError con el mensaje correspondiente si word no se trata de una variable de tipo string.\n",
        "```\n",
        "def is_palindrome(word):\n",
        "    \"\"\"\n",
        "    Devuelve si la palabra word es palíndroma.\n",
        "    Args:\n",
        "        word: Palabra\n",
        "    Returns:\n",
        "        isPalindrome: Booleano\n",
        "    \"\"\"\n",
        "    word = word.lower()\n",
        "    l = []\n",
        "    isPalindrome = True\n",
        "    for c in word:\n",
        "        l.append(c)\n",
        "        n = len(l)\n",
        "    for i in range(int(n / 2)):\n",
        "        if l[i] != l[n - (i + 1)]:\n",
        "            isPalindrome = False\n",
        "     return isPalindrome\n",
        "```"
      ]
    },
    {
      "cell_type": "code",
      "execution_count": null,
      "id": "3d0f69cd",
      "metadata": {
        "id": "3d0f69cd"
      },
      "outputs": [],
      "source": []
    },
    {
      "cell_type": "markdown",
      "id": "03d1590d",
      "metadata": {
        "id": "03d1590d"
      },
      "source": [
        "## EJERCICIO 15"
      ]
    },
    {
      "cell_type": "markdown",
      "id": "22f8ae59",
      "metadata": {
        "id": "22f8ae59"
      },
      "source": [
        "Dada la función is_palindrome(), muestra ValueError con el mensaje correspondiente si word no se trata de una palabra. Es decir, si una vez ha pasado la comprobación de ser una variable de tipo string, comprueba que no tiene espacios.\n",
        "\n",
        "```\n",
        "def is_palindrome(word):\n",
        "    \"\"\"\n",
        "    Devuelve si la palabra word es palíndroma.\n",
        "    Args:\n",
        "        word: Palabra\n",
        "    Returns:\n",
        "        isPalindrome: Booleano\n",
        "    \"\"\"\n",
        "    word = word.lower()\n",
        "    l = []\n",
        "    isPalindrome = True\n",
        "    for c in word:\n",
        "        l.append(c)\n",
        "        n = len(l)\n",
        "    for i in range(int(n / 2)):\n",
        "        if l[i] != l[n - (i + 1)]:\n",
        "            isPalindrome = False\n",
        "     return isPalindrome\n",
        "```"
      ]
    },
    {
      "cell_type": "code",
      "execution_count": null,
      "id": "deb6d99b",
      "metadata": {
        "id": "deb6d99b"
      },
      "outputs": [],
      "source": []
    },
    {
      "cell_type": "markdown",
      "id": "cbcf1a79",
      "metadata": {
        "id": "cbcf1a79"
      },
      "source": [
        "## EJERCICIO 16"
      ]
    },
    {
      "cell_type": "markdown",
      "id": "ffa12522",
      "metadata": {
        "id": "ffa12522"
      },
      "source": [
        "Utiliza try / except para dado un objeto de Python guardarlo en la variable x, aplicarle el método .index() y localizar el elemento \"c\". En el bloque try, guarda el resultado en la variable result. En el bloque except, en la variable result, si el objeto x es una lista, guarda el mensaje \"La lista no tiene el elemento 'c'\". En caso contrario, guarda el mensaje \"El objeto {tipo del objeto que sea x} no tiene el método .index()\". Finalmente, imprime por pantalla el resultado."
      ]
    },
    {
      "cell_type": "code",
      "execution_count": null,
      "id": "3f6fea32",
      "metadata": {
        "id": "3f6fea32"
      },
      "outputs": [],
      "source": []
    },
    {
      "cell_type": "markdown",
      "id": "5cef8509",
      "metadata": {
        "id": "5cef8509"
      },
      "source": [
        "## EJERCICIO 17"
      ]
    },
    {
      "cell_type": "markdown",
      "id": "39b5ab2e",
      "metadata": {
        "id": "39b5ab2e"
      },
      "source": [
        "Crea una función que calcule el área de un cuadrado. Como parámetro se recibirá un número real, correspondiente a la longitud de la base. Lanza las excepciones pertinentes siempre que el parámetro no se trate de un número real o entero positivo."
      ]
    },
    {
      "cell_type": "code",
      "execution_count": null,
      "id": "5bdb0dbb",
      "metadata": {
        "id": "5bdb0dbb"
      },
      "outputs": [],
      "source": []
    },
    {
      "cell_type": "markdown",
      "id": "1196822e",
      "metadata": {
        "id": "1196822e"
      },
      "source": [
        "## EJERCICIO 18"
      ]
    },
    {
      "cell_type": "markdown",
      "id": "4f536572",
      "metadata": {
        "id": "4f536572"
      },
      "source": [
        "Crea una función que solicite al usuario una letra en mayúscula. Lanza una excepción en caso de que el usuario no haya introducido nada, no haya introducido una letra, no haya introducido una letra mayúscula o no haya introducido solamente un carácter. La función tiene que capturar todas las excepciones ocurridas y mostrar el mensaje de la excepción (sólo el mensaje, para que el usuario vea lo que ha pasado pero no tenga información que no le dice nada)."
      ]
    },
    {
      "cell_type": "code",
      "execution_count": null,
      "id": "b8c8c022",
      "metadata": {
        "id": "b8c8c022"
      },
      "outputs": [],
      "source": []
    },
    {
      "cell_type": "markdown",
      "id": "dc864064",
      "metadata": {
        "id": "dc864064"
      },
      "source": []
    }
  ],
  "metadata": {
    "kernelspec": {
      "display_name": "Python 3 (ipykernel)",
      "language": "python",
      "name": "python3"
    },
    "language_info": {
      "codemirror_mode": {
        "name": "ipython",
        "version": 3
      },
      "file_extension": ".py",
      "mimetype": "text/x-python",
      "name": "python",
      "nbconvert_exporter": "python",
      "pygments_lexer": "ipython3",
      "version": "3.11.4"
    },
    "colab": {
      "provenance": []
    }
  },
  "nbformat": 4,
  "nbformat_minor": 5
}