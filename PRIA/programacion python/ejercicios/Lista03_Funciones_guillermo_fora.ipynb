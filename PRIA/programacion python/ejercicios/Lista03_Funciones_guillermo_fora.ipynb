{
  "cells": [
    {
      "cell_type": "markdown",
      "id": "d287d88e",
      "metadata": {
        "id": "d287d88e"
      },
      "source": [
        "# LISTA 3 - FUNCIONES\n",
        "## <ins>Ejercicios Obligatorios </ins>"
      ]
    },
    {
      "cell_type": "markdown",
      "id": "f99190d1",
      "metadata": {
        "id": "f99190d1"
      },
      "source": [
        "## EJERCICIO 1"
      ]
    },
    {
      "cell_type": "markdown",
      "id": "b3836703",
      "metadata": {
        "id": "b3836703"
      },
      "source": [
        "Crea una función que devuelva la lista de todos los divisores de un número entero positivo pasado por parámetro (hay que comprobar el dato sea correcto)."
      ]
    },
    {
      "cell_type": "code",
      "source": [
        "def divisores(x):\n",
        "    # Inicializa una lista vacía para almacenar los divisores.\n",
        "    total_divisores = []\n",
        "\n",
        "    # Verifica si el número ingresado es menor o igual a 0.\n",
        "    if x <= 0:\n",
        "        print(\"El numero no es positivo\")  # Imprime un mensaje de error si el número no es positivo.\n",
        "\n",
        "    # Itera desde 1 hasta el número 'x' (inclusive).\n",
        "    for i in range(1, x + 1):\n",
        "        # Comprueba si 'i' es un divisor de 'x'.\n",
        "        if x % i == 0:\n",
        "            total_divisores.append(i)  # Si lo es, agrega 'i' a la lista de divisores.\n",
        "\n",
        "    return total_divisores  # Devuelve la lista de divisores encontrados.\n",
        "\n",
        "# Llama a la función y solicita al usuario que introduzca un número.\n",
        "divisores(int(input(\"Escribe un numero: \")))\n"
      ],
      "metadata": {
        "colab": {
          "base_uri": "https://localhost:8080/"
        },
        "id": "2KArYArvoyDi",
        "outputId": "657266c4-96b0-4e5c-971f-6a7acae19242"
      },
      "id": "2KArYArvoyDi",
      "execution_count": null,
      "outputs": [
        {
          "name": "stdout",
          "output_type": "stream",
          "text": [
            "Escribe un numero: 50\n"
          ]
        },
        {
          "output_type": "execute_result",
          "data": {
            "text/plain": [
              "[1, 2, 5, 10, 25, 50]"
            ]
          },
          "metadata": {},
          "execution_count": 51
        }
      ]
    },
    {
      "cell_type": "markdown",
      "id": "feb0417e",
      "metadata": {
        "id": "feb0417e"
      },
      "source": [
        "## EJERCICIO 2"
      ]
    },
    {
      "cell_type": "markdown",
      "id": "91cd8f7c",
      "metadata": {
        "id": "91cd8f7c"
      },
      "source": [
        "Crea una función que devuelva True si el carácter introducido por parámetro se trata de una vocal y False en caso contrario."
      ]
    },
    {
      "cell_type": "code",
      "source": [
        "# Se define una función llamada 'iden_caracter' que toma un parámetro 'letra'.\n",
        "def iden_caracter(letra):\n",
        "\n",
        "    # Se define una tupla que contiene las vocales en minúscula.\n",
        "    vocales = (\"a\", \"e\", \"i\", \"o\", \"u\")\n",
        "\n",
        "    # Se verifica si la letra ingresada, convertida a minúsculas, está en la tupla de vocales.\n",
        "    if letra.lower() in vocales:\n",
        "        return True  # Si la letra es una vocal, se retorna True.\n",
        "    else:\n",
        "        return False  # Si no es una vocal, se retorna False.\n",
        "\n",
        "# Se llama a la función pidiendo al usuario que introduzca una letra.\n",
        "iden_caracter(input(\"Escribe una letra: \"))\n"
      ],
      "metadata": {
        "colab": {
          "base_uri": "https://localhost:8080/"
        },
        "id": "_K1fk5Nxs-O3",
        "outputId": "dc07f3b8-91cb-4ae1-86bf-1bda679c9eb7"
      },
      "id": "_K1fk5Nxs-O3",
      "execution_count": null,
      "outputs": [
        {
          "name": "stdout",
          "output_type": "stream",
          "text": [
            "Escribe una letra: j\n"
          ]
        },
        {
          "output_type": "execute_result",
          "data": {
            "text/plain": [
              "False"
            ]
          },
          "metadata": {},
          "execution_count": 19
        }
      ]
    },
    {
      "cell_type": "markdown",
      "id": "abf81a65",
      "metadata": {
        "id": "abf81a65"
      },
      "source": [
        "## EJERCICIO 3"
      ]
    },
    {
      "cell_type": "markdown",
      "id": "ec7f3b2a",
      "metadata": {
        "id": "ec7f3b2a"
      },
      "source": [
        "Crea una función que dado un string por parámetro cuente cuántas veces sale cada carácter en dicho string y devuelva toda esa información en un diccionario."
      ]
    },
    {
      "cell_type": "code",
      "source": [
        "# Define la función contarcar que toma como parámetro una cadena de texto llamada palabra\n",
        "def contarcar(palabra):\n",
        "    # Inicializa un diccionario vacío para almacenar los caracteres y sus respectivas cuentas\n",
        "    dicc = {}\n",
        "\n",
        "    # Itera sobre cada carácter en la cadena de texto proporcionada\n",
        "    for char in palabra:\n",
        "        # Para cada carácter, cuenta cuántas veces aparece en la palabra\n",
        "        dicc[char] = palabra.count(char)\n",
        "\n",
        "    # Devuelve el diccionario que contiene los caracteres y sus respectivas cuentas\n",
        "    return dicc\n",
        "\n",
        "# Llama a la función contarcar con una entrada del usuario y muestra el resultado\n",
        "contarcar(input(\"Escribe algo: \"))"
      ],
      "metadata": {
        "colab": {
          "base_uri": "https://localhost:8080/"
        },
        "id": "dqoiT5BhtuNW",
        "outputId": "32f30641-a386-4788-bfee-9bdc3fefe548"
      },
      "id": "dqoiT5BhtuNW",
      "execution_count": null,
      "outputs": [
        {
          "name": "stdout",
          "output_type": "stream",
          "text": [
            "Escribe algo: hola caracola\n"
          ]
        },
        {
          "output_type": "execute_result",
          "data": {
            "text/plain": [
              "{'h': 1, 'o': 2, 'l': 2, 'a': 4, ' ': 1, 'c': 2, 'r': 1}"
            ]
          },
          "metadata": {},
          "execution_count": 20
        }
      ]
    },
    {
      "cell_type": "markdown",
      "id": "4d68e82b",
      "metadata": {
        "id": "4d68e82b"
      },
      "source": [
        "## EJERCICIO 4"
      ]
    },
    {
      "cell_type": "markdown",
      "id": "f0211a75",
      "metadata": {
        "id": "f0211a75"
      },
      "source": [
        "Dada una lista de palabras, quédate con filter() con las que tengan más vocales que consonantes. Necesitarás una función que devuelva si una palabra tiene más vocales que consonantes."
      ]
    },
    {
      "cell_type": "code",
      "source": [
        "def mas_vocales(palabra):\n",
        "    # Definimos una tupla con las vocales en minúsculas\n",
        "    vocales = (\"a\", \"e\", \"i\", \"o\", \"u\")\n",
        "\n",
        "    # Inicializamos contadores para vocales y consonantes\n",
        "    cont_vocal = 0\n",
        "    cont_conso = 0\n",
        "\n",
        "    # Iteramos sobre cada carácter en la palabra\n",
        "    for char in palabra:\n",
        "        # Si el carácter es una vocal (ignorando mayúsculas)\n",
        "        if char.lower() in vocales:\n",
        "            cont_vocal += 1  # Incrementamos el contador de vocales\n",
        "        else:\n",
        "            cont_conso += 1  # Incrementamos el contador de consonantes (o caracteres no vocales)\n",
        "\n",
        "        # Comprobamos si hay más vocales que consonantes\n",
        "        if cont_vocal > cont_conso:\n",
        "            return True  # Retornamos True si hay más vocales\n",
        "\n",
        "    # Si el bucle termina y no se ha retornado, no hay más vocales que consonantes\n",
        "    return False  # Retornamos False si no hay más vocales que consonantes\n",
        "\n",
        "# Pedimos al usuario que introduzca varias palabras y las separamos en una lista\n",
        "frase = input(\"Escribe varias palabras: \").split()\n",
        "\n",
        "# Usamos filter para aplicar la función mas_vocales a cada palabra en la lista\n",
        "resultado = filter(mas_vocales, frase)\n",
        "\n",
        "# Convertimos el resultado filtrado a una lista y lo imprimimos\n",
        "print(list(resultado))  # Mostramos las palabras que tienen más vocales que consonantes"
      ],
      "metadata": {
        "colab": {
          "base_uri": "https://localhost:8080/"
        },
        "id": "CYuCrokUu3fX",
        "outputId": "1f250bd3-a0a6-41f6-f792-59e488e11f7c"
      },
      "id": "CYuCrokUu3fX",
      "execution_count": null,
      "outputs": [
        {
          "output_type": "stream",
          "name": "stdout",
          "text": [
            "Escribe varias palabras: aa eee derfa terreste\n",
            "['aa', 'eee']\n"
          ]
        }
      ]
    },
    {
      "cell_type": "markdown",
      "id": "5c943554",
      "metadata": {
        "id": "5c943554"
      },
      "source": [
        "## EJERCICIO 5"
      ]
    },
    {
      "cell_type": "markdown",
      "id": "8272bcdf",
      "metadata": {
        "id": "8272bcdf"
      },
      "source": [
        "Dada una lista de números enteros, quédate con filter() con los que tengan más de 5 divisores. Necesitarás una función que devuelva el número de divisores de un número dado."
      ]
    },
    {
      "cell_type": "code",
      "source": [
        "def mas5divisores(lista):\n",
        "    # Inicializamos un contador para contar los divisores\n",
        "    cont = 0\n",
        "\n",
        "    # Iteramos desde 1 hasta el número dado en 'lista'\n",
        "    for i in range(1, lista + 1):\n",
        "        # Comprobamos si 'i' es un divisor de 'lista'\n",
        "        if lista % i == 0:\n",
        "            cont += 1  # Incrementamos el contador si 'i' es un divisor\n",
        "\n",
        "    # Verificamos si el número de divisores es mayor que 5\n",
        "    if cont > 5:\n",
        "        return True  # Retornamos True si hay más de 5 divisores\n",
        "    else:\n",
        "        return False  # Retornamos False si hay 5 o menos divisores\n",
        "\n",
        "# Creamos una lista para almacenar los números ingresados por el usuario\n",
        "lista_numeros = []\n",
        "\n",
        "# Bucle que permite al usuario ingresar números hasta que decida parar\n",
        "while True:\n",
        "    numero = (input(\"Escribe un numero: \"))  # Pedimos un número al usuario\n",
        "    if numero == \"\":  # Si el usuario no ingresa nada (presiona Enter)\n",
        "        break  # Salimos del bucle\n",
        "    else:\n",
        "        # Convertimos el número ingresado a entero y lo añadimos a la lista\n",
        "        lista_numeros.append(int(numero))\n",
        "\n",
        "# Usamos filter para aplicar la función mas5divisores a cada número en la lista\n",
        "resultado = filter(mas5divisores, lista_numeros)\n",
        "\n",
        "# Convertimos el resultado filtrado a una lista y lo imprimimos\n",
        "print(list(resultado))  # Mostramos los números que tienen más de 5 divisores"
      ],
      "metadata": {
        "colab": {
          "base_uri": "https://localhost:8080/"
        },
        "id": "_X393vMu1VzL",
        "outputId": "8a9cd309-ebf0-4cb3-ab14-e89da5823bec"
      },
      "id": "_X393vMu1VzL",
      "execution_count": null,
      "outputs": [
        {
          "output_type": "stream",
          "name": "stdout",
          "text": [
            "Escribe un numero: 100\n",
            "Escribe un numero: 10000\n",
            "Escribe un numero: 9\n",
            "Escribe un numero: 23\n",
            "Escribe un numero: 167\n",
            "Escribe un numero: 15\n",
            "Escribe un numero: 84\n",
            "Escribe un numero: \n",
            "[100, 10000, 84]\n"
          ]
        }
      ]
    },
    {
      "cell_type": "markdown",
      "id": "2972dd7e",
      "metadata": {
        "id": "2972dd7e"
      },
      "source": [
        "## EJERCICIO 6"
      ]
    },
    {
      "cell_type": "markdown",
      "id": "9da406b8",
      "metadata": {
        "id": "9da406b8"
      },
      "source": [
        "Dada una lista de palabras, quédate con reduce() con la palabra más larga. Necesitarás una función que compare dos palabras y devuelva la que tenga mayor longitud."
      ]
    },
    {
      "cell_type": "code",
      "source": [
        "# Importar la función reduce desde la biblioteca functools\n",
        "from functools import reduce\n",
        "\n",
        "# Definir una función que compara la longitud de dos palabras\n",
        "def compara_palabras(primera, segunda):\n",
        "  # Si la palabra prima es más larga, retornarla; caso contrario, retornar la segunda\n",
        "  if len(primera) > len(segunda):\n",
        "    return primera\n",
        "  else:\n",
        "    return segunda\n",
        "\n",
        "# Pedir al usuario que escriba varias palabras\n",
        "frase = input(\"Escribe varias palabras: \").split()\n",
        "\n",
        "# Aplicar la función compara_palabras a todas las palabras de la frase\n",
        "# y obtener la palabra más larga\n",
        "palabra_más_larga = reduce(compara_palabras, frase)\n",
        "\n",
        "# Imprimir la palabra más larga encontrada\n",
        "print(palabra_más_larga)"
      ],
      "metadata": {
        "colab": {
          "base_uri": "https://localhost:8080/"
        },
        "id": "2NOF6W6l4ALv",
        "outputId": "c8cf0cd7-1ad7-4959-8802-083a2a39271f"
      },
      "id": "2NOF6W6l4ALv",
      "execution_count": null,
      "outputs": [
        {
          "output_type": "stream",
          "name": "stdout",
          "text": [
            "Escribe varias palabras: hola me llamo guillermo y tengo un elefante tetrahidrocanabilado\n",
            "tetrahidrocanabilado\n"
          ]
        }
      ]
    },
    {
      "cell_type": "markdown",
      "id": "cbbfb36c",
      "metadata": {
        "id": "cbbfb36c"
      },
      "source": [
        "## EJERCICIO 7"
      ]
    },
    {
      "cell_type": "markdown",
      "id": "eb6f147e",
      "metadata": {
        "id": "eb6f147e"
      },
      "source": [
        "Dada una lista de palabras, quédate con reduce() y map() con la palabra con más consonantes (hay que mostrar el número de consonantes). Necesitarás una función que cuente el número de consonantes de una palabra y otra que dados dos números, devuelva el mayor."
      ]
    },
    {
      "cell_type": "code",
      "source": [
        "# Importar la función reduce desde la biblioteca functools\n",
        "from functools import reduce\n",
        "\n",
        "# Definir una función que cuenta el número de consonantes en una palabra\n",
        "def contar_conso(palabra):\n",
        "    # Definir un conjunto de vocales para mayor eficiencia\n",
        "    vocales = (\"a\", \"e\", \"i\", \"o\", \"u\")\n",
        "    cont = 0\n",
        "    # Iterar sobre cada caracter en la palabra\n",
        "    for char in palabra.lower():\n",
        "        # Si el caracter no está en las vocales, incrementar el contador\n",
        "        if char not in vocales:\n",
        "            cont += 1\n",
        "    # Devolver el conteo total de consonantes\n",
        "    return cont\n",
        "\n",
        "# Definir una función que compara dos números y devuelve el mayor\n",
        "def comparar(x, y):\n",
        "    if x > y:\n",
        "        return x\n",
        "    else:\n",
        "        return y\n",
        "\n",
        "# Definir una función que encuentra palabras con un número específico de consonantes\n",
        "def pal_max(lista, num_max):\n",
        "    palabras = []  # Inicializar una lista vacía para almacenar palabras\n",
        "    # Iterar sobre cada palabra en la lista\n",
        "    for palabra in lista:\n",
        "        # Si la cantidad de consonantes de la palabra es igual al número máximo, agregarla a la lista\n",
        "        if contar_conso(palabra) == num_max:\n",
        "            palabras.append(palabra)\n",
        "    return palabras  # Devolver la lista de palabras que cumplen la condición\n",
        "\n",
        "# Pedir al usuario que ingrese varias palabras\n",
        "lista = input(\"Escribe varias palabras: \").split()  # Leer las palabras y dividirlas en una lista\n",
        "\n",
        "# Usar reduce y map para contar consonantes y comparar\n",
        "# contador = reduce(comparar, map(contar_conso, lista))  # Se utiliza para encontrar el número máximo de consonantes\n",
        "# resultado = pal_max(lista, contador)  # Obtener las palabras que tienen el número máximo de consonantes\n",
        "\n",
        "# o puedes hacerlo todo en la misma funciona de pal_max\n",
        "resultado=pal_max(lista,reduce(comparar,map(contar_conso,lista)))\n",
        "\n",
        "# Imprimir la palabra con más consonantes\n",
        "print(f\"La palabra con más consonantes es: {resultado}\")  # Mostrar el resultado"
      ],
      "metadata": {
        "colab": {
          "base_uri": "https://localhost:8080/"
        },
        "id": "A_14CEd-6bBn",
        "outputId": "f5155ec8-9b68-435b-ace8-4fe483c57346"
      },
      "id": "A_14CEd-6bBn",
      "execution_count": null,
      "outputs": [
        {
          "output_type": "stream",
          "name": "stdout",
          "text": [
            "Escribe varias palabras: este ejercicio es muy interesante\n",
            "La palabra con más consonantes es: ['interesante']\n"
          ]
        }
      ]
    },
    {
      "cell_type": "markdown",
      "id": "4ec84fb7",
      "metadata": {
        "id": "4ec84fb7"
      },
      "source": [
        "## <ins>Ejercicios Opcionales </ins>"
      ]
    },
    {
      "cell_type": "markdown",
      "id": "59397f22",
      "metadata": {
        "id": "59397f22"
      },
      "source": [
        "## EJERCICIO 8"
      ]
    },
    {
      "cell_type": "markdown",
      "id": "c0dda757",
      "metadata": {
        "id": "c0dda757"
      },
      "source": [
        "Crea una función que dado un color en hexadecimal devuelva una lista de 3 posiciones, cada una de ellas correspondiente al valor R, G y B en este orden. Los valores de RGB varían entre 0 y 255."
      ]
    },
    {
      "cell_type": "code",
      "source": [
        "def hex_a_rgb(hex_color):\n",
        "    # Eliminar el símbolo '#' si está presente\n",
        "    hex_color = hex_color.lstrip('#')\n",
        "\n",
        "    # Convertir cada par de caracteres hexadecimales en un valor entero\n",
        "    r = int(hex_color[0:2], 16)\n",
        "    g = int(hex_color[2:4], 16)\n",
        "    b = int(hex_color[4:6], 16)\n",
        "\n",
        "    # Devolver los valores de R, G y B en una lista\n",
        "    return [r, g, b]\n",
        "\n",
        "color_hex = \"#FF5733\"\n",
        "rgb = hex_a_rgb(color_hex)\n",
        "print(rgb)\n"
      ],
      "metadata": {
        "colab": {
          "base_uri": "https://localhost:8080/"
        },
        "id": "bDTs_uWpEgXJ",
        "outputId": "201551ce-bd80-4e02-8366-bdbcb9622db5"
      },
      "id": "bDTs_uWpEgXJ",
      "execution_count": null,
      "outputs": [
        {
          "output_type": "stream",
          "name": "stdout",
          "text": [
            "[255, 87, 51]\n"
          ]
        }
      ]
    },
    {
      "cell_type": "markdown",
      "id": "3e767176",
      "metadata": {
        "id": "3e767176"
      },
      "source": [
        "## EJERCICIO 9"
      ]
    },
    {
      "cell_type": "markdown",
      "id": "13d2c744",
      "metadata": {
        "id": "13d2c744"
      },
      "source": [
        "Crea una función lambda que dado un número entero multiplique por su anterior y su siguiente. Por ejemplo, si proporcionamos n = 3, nos tendrá que devolver 2 x 3 x 4 = 24."
      ]
    },
    {
      "cell_type": "code",
      "source": [
        "# Definimos una función lambda que calcula el producto de un número x, su anterior (x - 1) y su siguiente (x + 1)\n",
        "resultado = lambda x: (x - 1) * x * (x + 1)\n",
        "\n",
        "# Llamamos a la función lambda con el argumento 3\n",
        "# Esto calculará el producto de 2 (3 - 1), 3 y 4 (3 + 1)\n",
        "# Imprimimos el resultado de la operación\n",
        "print(resultado(3))"
      ],
      "metadata": {
        "colab": {
          "base_uri": "https://localhost:8080/"
        },
        "id": "dookHY2ICp0M",
        "outputId": "3a40a4fe-ca94-4069-d1a0-85db67fbd890"
      },
      "id": "dookHY2ICp0M",
      "execution_count": null,
      "outputs": [
        {
          "output_type": "stream",
          "name": "stdout",
          "text": [
            "24\n"
          ]
        }
      ]
    },
    {
      "cell_type": "markdown",
      "id": "b97cdccc",
      "metadata": {
        "id": "b97cdccc"
      },
      "source": [
        "## EJERCICIO 10"
      ]
    },
    {
      "cell_type": "markdown",
      "id": "4bbf4135",
      "metadata": {
        "id": "4bbf4135"
      },
      "source": [
        "Dada una lista de palabras, calcula el número de vocales de cada una con map()."
      ]
    },
    {
      "cell_type": "code",
      "source": [
        "# Definimos una lista de palabras\n",
        "lista = [\"colegio\", \"patio\", \"comida\", \"bebida\"]\n",
        "\n",
        "# Definimos una función que cuenta las vocales en una palabra\n",
        "def contarvoc(palabra):\n",
        "    # Definimos las vocales que queremos contar\n",
        "    vocales = \"aeiou\"\n",
        "\n",
        "    # Inicializamos un contador para las vocales\n",
        "    contador = 0\n",
        "\n",
        "    # Recorremos cada carácter de la palabra\n",
        "    for char in palabra:\n",
        "        # Si el carácter es una vocal, incrementamos el contador\n",
        "        if char.lower() in vocales:\n",
        "            contador += 1\n",
        "\n",
        "    # Devolvemos el número total de vocales en la palabra\n",
        "    return contador\n",
        "\n",
        "# Aplicamos la función 'contarvoc' a cada palabra de la lista usando 'map'\n",
        "# Convertimos el resultado de 'map' a una lista\n",
        "resultado = list(map(contarvoc, lista))\n",
        "\n",
        "# Imprimimos la lista que contiene el número de vocales en cada palabra\n",
        "print(resultado)  # Salida esperada: [4, 3, 3, 3]"
      ],
      "metadata": {
        "colab": {
          "base_uri": "https://localhost:8080/"
        },
        "id": "d5Y4G8j6CjjB",
        "outputId": "99e12a40-0192-471d-cbdd-f5256f48560a"
      },
      "id": "d5Y4G8j6CjjB",
      "execution_count": null,
      "outputs": [
        {
          "output_type": "stream",
          "name": "stdout",
          "text": [
            "[4, 3, 3, 3]\n"
          ]
        }
      ]
    },
    {
      "cell_type": "markdown",
      "id": "17b343e6",
      "metadata": {
        "id": "17b343e6"
      },
      "source": [
        "## EJERCICIO 11"
      ]
    },
    {
      "cell_type": "markdown",
      "id": "ef3c12ce",
      "metadata": {
        "id": "ef3c12ce"
      },
      "source": [
        "Crea una función lambda que dados dos números devuelva si el primero es mayor."
      ]
    },
    {
      "cell_type": "code",
      "source": [
        "# Definimos una función lambda que compara dos números\n",
        "# La función devuelve True si x es mayor que y, de lo contrario devuelve False\n",
        "mayor = lambda x, y: x > y\n",
        "\n",
        "# Llamamos a la función mayor con los argumentos 12 y 3\n",
        "# Imprimimos el resultado de la comparación\n",
        "print(mayor(12, 3))  # Salida esperada: True"
      ],
      "metadata": {
        "colab": {
          "base_uri": "https://localhost:8080/"
        },
        "id": "YqOL80buExVJ",
        "outputId": "1893e3a6-91c3-4f7c-afa8-c50625dde07c"
      },
      "id": "YqOL80buExVJ",
      "execution_count": null,
      "outputs": [
        {
          "output_type": "stream",
          "name": "stdout",
          "text": [
            "True\n"
          ]
        }
      ]
    },
    {
      "cell_type": "markdown",
      "id": "88fe1c72",
      "metadata": {
        "id": "88fe1c72"
      },
      "source": [
        "## EJERCICIO 12"
      ]
    },
    {
      "cell_type": "markdown",
      "id": "f7446bb5",
      "metadata": {
        "id": "f7446bb5"
      },
      "source": [
        "Dada una lista de números enteros, calcula otra lista con el número anterior de cada elemento con map()."
      ]
    },
    {
      "cell_type": "code",
      "source": [
        "# Definimos una lista de números enteros\n",
        "lista = [10, 43, 50, 26, 18, 100]\n",
        "\n",
        "# Definimos una función que calcula el número anterior a un número dado\n",
        "def cal_num_ant(numero):\n",
        "    # Restamos 1 al número proporcionado y devolvemos el resultado\n",
        "    return numero - 1\n",
        "\n",
        "# Usamos map() para aplicar la función cal_num_ant a cada elemento de la lista\n",
        "# map() devuelve un objeto iterable, por lo que lo convertimos a una lista usando list()\n",
        "resultado = list(map(cal_num_ant, lista))\n",
        "\n",
        "# Imprimimos la lista de resultados, que contiene el número anterior de cada elemento de la lista original\n",
        "print(resultado)"
      ],
      "metadata": {
        "colab": {
          "base_uri": "https://localhost:8080/"
        },
        "id": "jkskDGKCFFBU",
        "outputId": "c7d4e3be-fea0-4743-ce4d-33060e71af2a"
      },
      "id": "jkskDGKCFFBU",
      "execution_count": null,
      "outputs": [
        {
          "output_type": "stream",
          "name": "stdout",
          "text": [
            "[9, 42, 49, 25, 17, 99]\n"
          ]
        }
      ]
    },
    {
      "cell_type": "markdown",
      "id": "6bcd805d",
      "metadata": {
        "id": "6bcd805d"
      },
      "source": [
        "## EJERCICIO 13"
      ]
    },
    {
      "cell_type": "markdown",
      "id": "18202d6c",
      "metadata": {
        "id": "18202d6c"
      },
      "source": [
        "Dada una lista de números reales, ordénalos con sorted() por valor absoluto de menor a mayor."
      ]
    },
    {
      "cell_type": "code",
      "source": [
        "# Definimos una lista de números enteros\n",
        "lista = [10, 43, 50, 26, 18, 100]\n",
        "\n",
        "# Definimos una función que ordena una lista de números de menor a mayor\n",
        "def ord_menor_mayor(numeros):\n",
        "    # Usamos la función sorted() para ordenar la lista 'numeros'\n",
        "    # sorted() devuelve una nueva lista ordenada sin modificar la original\n",
        "    return sorted(numeros)\n",
        "\n",
        "# Llamamos a la función ord_menor_mayor con la lista de números y\n",
        "# imprimimos el resultado\n",
        "print(ord_menor_mayor(lista))"
      ],
      "metadata": {
        "colab": {
          "base_uri": "https://localhost:8080/"
        },
        "id": "lln4eEsIFse0",
        "outputId": "addb5f00-d55b-4120-d222-978b8f05f24d"
      },
      "id": "lln4eEsIFse0",
      "execution_count": null,
      "outputs": [
        {
          "output_type": "stream",
          "name": "stdout",
          "text": [
            "[10, 18, 26, 43, 50, 100]\n"
          ]
        }
      ]
    },
    {
      "cell_type": "markdown",
      "id": "e60749fd",
      "metadata": {
        "id": "e60749fd"
      },
      "source": [
        "## EJERCICIO 14"
      ]
    },
    {
      "cell_type": "markdown",
      "id": "e7b12a5a",
      "metadata": {
        "id": "e7b12a5a"
      },
      "source": [
        "Dada una lista de palabras, ordénalos con sorted() por número de consonantes de mayor a menor."
      ]
    },
    {
      "cell_type": "code",
      "source": [
        "# Definimos una lista de palabras\n",
        "lista = [\"colegio\", \"patio\", \"comida\", \"bebida\"]\n",
        "\n",
        "# Definimos una función que cuenta el número de consonantes en una palabra\n",
        "def contarcons(palabra):\n",
        "    # Definimos las vocales que queremos excluir del conteo\n",
        "    vocales = \"aeiou\"\n",
        "\n",
        "    # Inicializamos un contador para las consonantes en la palabra\n",
        "    contador = 0\n",
        "\n",
        "    # Recorremos cada carácter de la palabra\n",
        "    for char in palabra:\n",
        "        # Si el carácter no es una vocal, es una consonante, así que incrementamos el contador\n",
        "        if char.lower() not in vocales:\n",
        "            contador += 1\n",
        "\n",
        "    # Devolvemos el número total de consonantes en la palabra\n",
        "    return contador\n",
        "\n",
        "# Definimos una función que ordena una lista de palabras por número de consonantes\n",
        "def ord_cons_mayor_menor(lista):\n",
        "    # Usamos sorted() para ordenar la lista basada en el número de consonantes\n",
        "    # 'key=contarcons' indica que se usará la función contarcons para determinar el orden\n",
        "    # 'reverse=True' indica que queremos el orden de mayor a menor\n",
        "    return sorted(lista, key=contarcons, reverse=True)\n",
        "\n",
        "# Aplicamos la función de ordenamiento a la lista\n",
        "resultado = ord_cons_mayor_menor(lista)\n",
        "\n",
        "# Imprimimos la lista de palabras ordenadas por el número de consonantes\n",
        "print(resultado)  # Salida esperada: ['colegio', 'bebida', 'comida', 'patio']"
      ],
      "metadata": {
        "colab": {
          "base_uri": "https://localhost:8080/"
        },
        "id": "aqpEwwmUGYzG",
        "outputId": "9c060e9f-144f-4a7e-b7eb-d585e6ae844f"
      },
      "id": "aqpEwwmUGYzG",
      "execution_count": null,
      "outputs": [
        {
          "output_type": "stream",
          "name": "stdout",
          "text": [
            "['colegio', 'comida', 'bebida', 'patio']\n"
          ]
        }
      ]
    }
  ],
  "metadata": {
    "kernelspec": {
      "display_name": "Python 3 (ipykernel)",
      "language": "python",
      "name": "python3"
    },
    "language_info": {
      "codemirror_mode": {
        "name": "ipython",
        "version": 3
      },
      "file_extension": ".py",
      "mimetype": "text/x-python",
      "name": "python",
      "nbconvert_exporter": "python",
      "pygments_lexer": "ipython3",
      "version": "3.10.9"
    },
    "colab": {
      "provenance": []
    }
  },
  "nbformat": 4,
  "nbformat_minor": 5
}