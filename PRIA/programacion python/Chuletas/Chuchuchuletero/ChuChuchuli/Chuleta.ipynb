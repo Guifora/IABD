{
 "cells": [
  {
   "cell_type": "markdown",
   "metadata": {
    "id": "2HpKY32aha07"
   },
   "source": [
    "# PRIA - Examen PYTHON 01/12/2023 - 30 puntos"
   ]
  },
  {
   "cell_type": "markdown",
   "metadata": {
    "id": "dl2_sxL1rLqM"
   },
   "source": [
    "\n",
    "## UD01 - INTRODUCCIÓN PROGRAMACIÓN PYTHON y UD02 - LIBRERIAS PYTHON"
   ]
  },
  {
   "cell_type": "markdown",
   "metadata": {},
   "source": [
    "---\n",
    "## Ejercicio 1 - 2 Puntos"
   ]
  },
  {
   "cell_type": "markdown",
   "metadata": {},
   "source": [
    "Tenemos el siguiente fragmento de codigo que fuerza una división entre 0. Para ello se pide el divisor al usuario por pantalla. Para poder utilizar este codigo adecuadamente deberemos incluir las siguientes instrucciones para controlar errores: \n",
    "\n",
    "* Código\n",
    "    \n",
    "    divisor= input(\"Introduzca el divisor:\")\n",
    "    x = 2/int(divisor)\n",
    "\n",
    "* Intrucciones a añadir:\n",
    "    \n",
    "    * Incluir un control de excepciones\n",
    "    * Controlar errores de división por zero -> Mostrar mensaje \"No se ha podido realizar la división por dividir por cero\"\n",
    "    * Controlar mensaje a mostrar si la división va bien -> Mostrar mensaje \"La división se ejecuta correctamente\"\n",
    "    * Bloque que se muestre siempre al finalizar el proceso -> Mostrar mensaje \"Entra en la última parte, se ejecuta el bloque siempre\"\n",
    "\n"
   ]
  },
  {
   "cell_type": "code",
   "execution_count": 4,
   "metadata": {},
   "outputs": [
    {
     "name": "stdout",
     "output_type": "stream",
     "text": [
      "No se ha podido realizar la división por dividir por cero\n",
      "Entra en la última parte, se ejecuta el bloque siempre\n"
     ]
    }
   ],
   "source": [
    "try:\n",
    "  divisor = int(input(\"Introduzca el divisor: \"))\n",
    "  x= 2/divisor\n",
    "  print(x)\n",
    "  print(\"La división se ejecuta correctamente\")\n",
    "except ZeroDivisionError:\n",
    "  print(\"No se ha podido realizar la división por dividir por cero\")\n",
    "except ValueError:\n",
    "  print(\"El valor que has introducido no es un numero\")\n",
    "\n",
    "print(\"Entra en la última parte, se ejecuta el bloque siempre\")\n"
   ]
  },
  {
   "cell_type": "markdown",
   "metadata": {},
   "source": [
    "---\n",
    "## Ejercicio 2 - 2 Puntos"
   ]
  },
  {
   "cell_type": "markdown",
   "metadata": {},
   "source": [
    "Utiliza una función Lambda que permita calcular el cuadrado de un número y utilizar esta función lambda al imprimir por pantalla el resultado para los numeros 3, 4 y 5 \n"
   ]
  },
  {
   "cell_type": "code",
   "execution_count": 5,
   "metadata": {},
   "outputs": [
    {
     "name": "stdout",
     "output_type": "stream",
     "text": [
      "[9, 16, 25]\n"
     ]
    }
   ],
   "source": [
    "nums = [3, 4, 5]\n",
    "#calcularCuadrado = lambda x: x * x, nums\n",
    "resultado = list(map(lambda x: pow(x,2),nums))\n",
    "print(resultado)"
   ]
  },
  {
   "cell_type": "code",
   "execution_count": 6,
   "metadata": {},
   "outputs": [
    {
     "name": "stdout",
     "output_type": "stream",
     "text": [
      "El cuadrado de 3 es: 9\n",
      "El cuadrado de 4 es: 16\n",
      "El cuadrado de 5 es: 25\n"
     ]
    }
   ],
   "source": [
    "cuadrado= lambda x: pow(x,2)\n",
    "print(f\"El cuadrado de 3 es: {cuadrado(3)}\")\n",
    "print(f\"El cuadrado de 4 es: {cuadrado(4)}\")\n",
    "print(f\"El cuadrado de 5 es: {cuadrado(5)}\")"
   ]
  },
  {
   "cell_type": "markdown",
   "metadata": {},
   "source": [
    "---\n",
    "## Ejercicio 3 - 6 Puntos"
   ]
  },
  {
   "cell_type": "markdown",
   "metadata": {},
   "source": [
    "Realizar un programa que conste de una clase llamada Alumno que tenga como atributos el nombre y la nota del alumno. Definir los siguientes métodos:\n",
    "\n",
    "* Metodo para inicializar sus atributos\n",
    "* Metodo para sobreescribir el metodo string para la impresión de los atributos\n",
    "* Metodo de clase para imprimir los atributos\n",
    "* Metodo estatico comparar con un mensaje con la comparación de la nota de dos alumnos.\n",
    "\n",
    "Será necesarío crear dos objetos alumnos y utilizar los metodos creados."
   ]
  },
  {
   "cell_type": "code",
   "execution_count": 7,
   "metadata": {},
   "outputs": [],
   "source": [
    "class Alumno:\n",
    "    def __init__(self, nombre, nota):\n",
    "        self.nombre = nombre\n",
    "        self.nota = nota\n",
    "\n",
    "    def __str__(self):\n",
    "        return f\"Alumno: {self.nombre}, Nota: {self.nota}\"\n",
    "    \n",
    "    @classmethod\n",
    "    def imprimir_atributos(cls, alumno):\n",
    "        print(f\"Nombre: {alumno.nombre}, Nota: {alumno.nota}\")\n",
    "\n",
    "    @staticmethod\n",
    "    def comparar_notas(alumno1, alumno2):\n",
    "        if alumno1.nota > alumno2.nota:\n",
    "            return f\"{alumno1.nombre} tiene una nota mayor ({alumno1.nota}) que {alumno2.nombre} ({alumno2.nota}).\"\n",
    "        elif alumno1.nota < alumno2.nota:\n",
    "            return f\"{alumno2.nombre} tiene una nota mayor ({alumno2.nota}) que {alumno1.nombre} ({alumno1.nota}).\"\n",
    "        else:\n",
    "            return\n",
    "        "
   ]
  },
  {
   "cell_type": "code",
   "execution_count": 8,
   "metadata": {},
   "outputs": [
    {
     "name": "stdout",
     "output_type": "stream",
     "text": [
      "Alumno: Ana, Nota: 8.5\n",
      "Alumno: Luis, Nota: 7.0\n",
      "Nombre: Ana, Nota: 8.5\n",
      "Nombre: Luis, Nota: 7.0\n",
      "Ana tiene una nota mayor (8.5) que Luis (7.0).\n"
     ]
    }
   ],
   "source": [
    "# Crear dos objetos de la clase Alumno\n",
    "alumno1 = Alumno(\"Ana\", 8.5)\n",
    "alumno2 = Alumno(\"Luis\", 7.0)\n",
    "\n",
    "# Usar el método __str__ para imprimir los atributos\n",
    "print(alumno1)\n",
    "print(alumno2)\n",
    "\n",
    "# Usar el método de clase para imprimir los atributos\n",
    "Alumno.imprimir_atributos(alumno1)\n",
    "Alumno.imprimir_atributos(alumno2)\n",
    "\n",
    "# Usar el método estático para comparar las notas\n",
    "resultado_comparacion = Alumno.comparar_notas(alumno1, alumno2)\n",
    "print(resultado_comparacion)"
   ]
  },
  {
   "cell_type": "markdown",
   "metadata": {},
   "source": [
    "---\n",
    "## Ejercicio 4 - 1 Punto"
   ]
  },
  {
   "cell_type": "markdown",
   "metadata": {
    "id": "nBzwPHmJrOVC"
   },
   "source": [
    "Como siempre, antes de empezar, importa todas las librerías que necesitas para trabajar: numpy, pandas y matplot.pyplot con los nombres reconocidos para cada uno."
   ]
  },
  {
   "cell_type": "code",
   "execution_count": 9,
   "metadata": {},
   "outputs": [],
   "source": [
    "import numpy as np\n",
    "import pandas as pd\n",
    "import matplotlib.pyplot as plt\n",
    "from numpy import random"
   ]
  },
  {
   "cell_type": "markdown",
   "metadata": {
    "id": "jKx-RWxVrTvP"
   },
   "source": [
    "---\n",
    "## Ejercicio 5 - 4 Puntos"
   ]
  },
  {
   "cell_type": "markdown",
   "metadata": {
    "id": "49hRG_zFrUTq"
   },
   "source": [
    "Genera una matriz (100 filas x 6 columnas) de números enteros aleatorios del 0 al 9 con NumPy. Muestra(imprime) la siguiente información de la misma:\n",
    "\n",
    "*   Tamaño (cantidad de elementos en total)\n",
    "*   Forma\n",
    "*   Todos los valores entre las filas 25 y 27 (ambas incluídas)"
   ]
  },
  {
   "cell_type": "code",
   "execution_count": 10,
   "metadata": {},
   "outputs": [
    {
     "name": "stdout",
     "output_type": "stream",
     "text": [
      "El tamaño de la matriz: 600\n",
      "La forma de la matriz: (100, 6)\n",
      "Valores entre las filas 25 y 27 (incluidas):\n",
      "[[7 8 5 5 8 6]\n",
      " [1 6 9 7 7 2]\n",
      " [5 8 2 0 9 6]]\n"
     ]
    }
   ],
   "source": [
    "matriz=random.randint(0,10,size=(100,6))\n",
    "print(f\"El tamaño de la matriz: {matriz.size}\")\n",
    "print(f\"La forma de la matriz: {matriz.shape}\")\n",
    "print(\"Valores entre las filas 25 y 27 (incluidas):\")\n",
    "print(matriz[25:28]) "
   ]
  },
  {
   "cell_type": "markdown",
   "metadata": {},
   "source": [
    "Crear una matriz de 5x5 de ceros y crear una matriz de 5x5 de unos\n",
    "* Crea una nueva matriz concatenando las filas de la matriz ceros y la matriz unos\n",
    "* Crea una nueva matriz concatenando las columnas de la matriz ceros y la matriz unos\n",
    "* Crea una nueva matriz sumando la matriz de ceros y lka matriz de unos"
   ]
  },
  {
   "cell_type": "code",
   "execution_count": null,
   "metadata": {},
   "outputs": [
    {
     "name": "stdout",
     "output_type": "stream",
     "text": [
      "[[0. 0. 0. 0. 0.]\n",
      " [0. 0. 0. 0. 0.]\n",
      " [0. 0. 0. 0. 0.]\n",
      " [0. 0. 0. 0. 0.]\n",
      " [0. 0. 0. 0. 0.]]\n",
      "[[1. 1. 1. 1. 1.]\n",
      " [1. 1. 1. 1. 1.]\n",
      " [1. 1. 1. 1. 1.]\n",
      " [1. 1. 1. 1. 1.]\n",
      " [1. 1. 1. 1. 1.]]\n",
      "[[0. 0. 0. 0. 0.]\n",
      " [0. 0. 0. 0. 0.]\n",
      " [0. 0. 0. 0. 0.]\n",
      " [0. 0. 0. 0. 0.]\n",
      " [0. 0. 0. 0. 0.]\n",
      " [1. 1. 1. 1. 1.]\n",
      " [1. 1. 1. 1. 1.]\n",
      " [1. 1. 1. 1. 1.]\n",
      " [1. 1. 1. 1. 1.]\n",
      " [1. 1. 1. 1. 1.]]\n",
      "[[0. 0. 0. 0. 0. 1. 1. 1. 1. 1.]\n",
      " [0. 0. 0. 0. 0. 1. 1. 1. 1. 1.]\n",
      " [0. 0. 0. 0. 0. 1. 1. 1. 1. 1.]\n",
      " [0. 0. 0. 0. 0. 1. 1. 1. 1. 1.]\n",
      " [0. 0. 0. 0. 0. 1. 1. 1. 1. 1.]]\n",
      "[[1. 1. 1. 1. 1.]\n",
      " [1. 1. 1. 1. 1.]\n",
      " [1. 1. 1. 1. 1.]\n",
      " [1. 1. 1. 1. 1.]\n",
      " [1. 1. 1. 1. 1.]]\n"
     ]
    }
   ],
   "source": [
    "matriz_ceros=np.zeros((5,5))\n",
    "matriz_unos=np.ones((5,5))\n",
    "matriz_filas_concatenada = np.concatenate((matriz_ceros, matriz_unos), axis=0)\n",
    "matriz_columnas_concatenada = np.concatenate((matriz_ceros, matriz_unos), axis=1)\n",
    "matriz_suma = matriz_ceros + matriz_unos\n",
    "print(matriz_ceros)\n",
    "print(matriz_unos)\n",
    "print(matriz_filas_concatenada)\n",
    "print(matriz_columnas_concatenada)\n",
    "print(matriz_suma)"
   ]
  },
  {
   "cell_type": "markdown",
   "metadata": {
    "id": "IHQyY4iorbDV"
   },
   "source": [
    "---\n",
    "## Ejercicio 6 - 4 puntos"
   ]
  },
  {
   "cell_type": "markdown",
   "metadata": {
    "id": "znWcQDjLrb3M"
   },
   "source": [
    "Partiendo del dataset \"06-vg_sales.csv\" y utilizando Pandas, muestra el dataFrame por pantalla y añade tras el dataFrame la siguiente información:\n",
    "* muestra la forma  \n",
    "* índice\n",
    "* número de filas\n",
    "* media de la columna JP_Sales: \n",
    "* valores máximos de la columna NA_Sales:\n",
    "* valores mínimos de la columna EU_Sales:\n",
    "* Muestra los 5 últimas filas para el año 2006\n",
    "* Muestra las 5 primeras filas con los indices pares\n",
    "\n",
    "\n",
    "** Nota: Si alguno de los metodos utilizados diera un Warning añadir a los metodos el siguiente valor -> numeric_only=True"
   ]
  },
  {
   "cell_type": "code",
   "execution_count": 26,
   "metadata": {},
   "outputs": [
    {
     "name": "stdout",
     "output_type": "stream",
     "text": [
      "\n",
      "Forma del Dataframe (16598, 11)\n",
      "\n",
      "Índice del DataFrame: RangeIndex(start=0, stop=16598, step=1)\n",
      "\n",
      "Número de filas: 16598\n",
      "\n",
      "Media de la columna JP_Sales: 0.077781660441017\n",
      "\n",
      "Valor máximo de la columna NA_Sales: 41.49\n",
      "\n",
      "Valor mínimo de la columna EU_Sales: 0.0\n",
      "\n",
      "Últimas 5 filas para el año 2006:\n",
      "         Rank                                  Name Platform    Year  \\\n",
      "16513  16516                       Deal or No Deal       PC  2006.0   \n",
      "16520  16523  Tengai Makyo: Dai Yon no Mokushiroku      PSP  2006.0   \n",
      "16523  16526               Style Book: Cinnamoroll       DS  2006.0   \n",
      "16547  16550                       Bookworm Deluxe       PC  2006.0   \n",
      "16568  16571                           XI Coliseum      PSP  2006.0   \n",
      "\n",
      "              Genre                    Publisher  NA_Sales  EU_Sales  \\\n",
      "16513          Misc       Focus Home Interactive      0.00      0.01   \n",
      "16520  Role-Playing                  Hudson Soft      0.00      0.00   \n",
      "16523          Misc           Namco Bandai Games      0.00      0.00   \n",
      "16547        Puzzle                 PopCap Games      0.01      0.00   \n",
      "16568        Puzzle  Sony Computer Entertainment      0.00      0.00   \n",
      "\n",
      "       JP_Sales  Other_Sales  Global_Sales  \n",
      "16513      0.00          0.0          0.01  \n",
      "16520      0.01          0.0          0.01  \n",
      "16523      0.01          0.0          0.01  \n",
      "16547      0.00          0.0          0.01  \n",
      "16568      0.01          0.0          0.01  \n",
      "\n",
      "Primeras 5 filas con índices pares:\n",
      "    Rank                       Name Platform    Year         Genre Publisher  \\\n",
      "0     1                 Wii Sports      Wii  2006.0        Sports  Nintendo   \n",
      "2     3             Mario Kart Wii      Wii  2008.0        Racing  Nintendo   \n",
      "4     5   Pokemon Red/Pokemon Blue       GB  1996.0  Role-Playing  Nintendo   \n",
      "6     7      New Super Mario Bros.       DS  2006.0      Platform  Nintendo   \n",
      "8     9  New Super Mario Bros. Wii      Wii  2009.0      Platform  Nintendo   \n",
      "\n",
      "   NA_Sales  EU_Sales  JP_Sales  Other_Sales  Global_Sales  \n",
      "0     41.49     29.02      3.77         8.46         82.74  \n",
      "2     15.85     12.88      3.79         3.31         35.82  \n",
      "4     11.27      8.89     10.22         1.00         31.37  \n",
      "6     11.38      9.23      6.50         2.90         30.01  \n",
      "8     14.59      7.06      4.70         2.26         28.62  \n"
     ]
    }
   ],
   "source": [
    "df=pd.read_csv(\"06-vg_sales.csv\")\n",
    "print(f\"\\nForma del Dataframe\",df.shape)\n",
    "print(\"\\nÍndice del DataFrame:\", df.index)\n",
    "print(\"\\nNúmero de filas:\", len(df)) #df.shape[0]\n",
    "print(\"\\nMedia de la columna JP_Sales:\", df['JP_Sales'].mean())\n",
    "print(\"\\nValor máximo de la columna NA_Sales:\", df['NA_Sales'].max())\n",
    "print(\"\\nValor mínimo de la columna EU_Sales:\", df['EU_Sales'].min())\n",
    "print(\"\\nÚltimas 5 filas para el año 2006:\\n\",df[df['Year'] == 2006].tail(5))\n",
    "print(\"\\nPrimeras 5 filas con índices pares:\\n\",df.iloc[::2].head(5))\n"
   ]
  },
  {
   "cell_type": "markdown",
   "metadata": {
    "id": "sBjnAsUvrUzi"
   },
   "source": [
    "---\n",
    "## Ejercicio 7 - 5 puntos"
   ]
  },
  {
   "cell_type": "markdown",
   "metadata": {
    "id": "lsJM0MOprVuF"
   },
   "source": [
    "Genera una matriz (50 filas x 2 columnas) de datos aleatorios entre 0 y 1 con NumPy. Muestra un gráfico de dispersión teniendo en cuenta que los datos de la primera columna serán los valores del eje X, mientras que los datos de la segunda columna serán los valores del eje Y. Añade un array de 50 colores y asignale al grafico una barra de colores y asocia el colorbar de tipo cmap=\"hsv\""
   ]
  },
  {
   "cell_type": "code",
   "execution_count": 32,
   "metadata": {},
   "outputs": [
    {
     "data": {
      "image/png": "[encoded data removed]",
      "text/plain": [
       "<Figure size 640x480 with 2 Axes>"
      ]
     },
     "metadata": {},
     "output_type": "display_data"
    }
   ],
   "source": [
    "matriz=random.rand(50,2)\n",
    "colores=random.rand(50) #color = random.randint(0,50, 50)\n",
    "x=matriz[:,0]\n",
    "y=matriz[:,1]\n",
    "plt.scatter(x ,y,c=colores,cmap=\"hsv\")\n",
    "plt.xlabel(\"X\")\n",
    "plt.ylabel(\"Y\")\n",
    "plt.title(\"Gráfico de dispersión con colores HSV\")\n",
    "plt.colorbar(label=\"Escala de colores (HSV)\")\n",
    "plt.show()"
   ]
  },
  {
   "cell_type": "markdown",
   "metadata": {
    "id": "qmLjk4dfrXgx"
   },
   "source": [
    "---\n",
    "## Ejercicio 8 - 6 puntos"
   ]
  },
  {
   "cell_type": "markdown",
   "metadata": {
    "id": "PmnzqKBLrYUs"
   },
   "source": [
    "Partimos del dataset \"06-vg_sales.csv\" importado anteriormente. Este dataset contiene una lista de videojuegos con más de 100.000 copias vendidas. \n",
    "\n",
    "* Crea un grafico de tarta con los datos de la fila relacionada con la consola Wii sports\n",
    "* Muestra los  datos (a excepción del campo \"Global_Sales\")\n",
    "* Como título del gráfico utiliza el nombre de la consola. \n",
    "* En cada porción del círculo muestra los porcentajes con el formato \"%1.1f%%\" (parámetro autopct).\n",
    "* A la hora de mostrar las piezas:\n",
    "*   - incluye sombreado\n",
    "*   - separación de 0.5 al sector más pequeño\n",
    "*   - haz que empiece en el ángulo 90"
   ]
  },
  {
   "cell_type": "code",
   "execution_count": 40,
   "metadata": {},
   "outputs": [
    {
     "data": {
      "image/png": "[encoded data removed]",
      "text/plain": [
       "<Figure size 800x800 with 1 Axes>"
      ]
     },
     "metadata": {},
     "output_type": "display_data"
    }
   ],
   "source": [
    "# Filtrar la fila relacionada con el videojuego 'Wii Sports'\n",
    "fila_wii_sports = df[df['Name'] == 'Wii Sports']\n",
    "\n",
    "# Seleccionar los datos de ventas por región (excepto \"Global_Sales\")\n",
    "datos_wii_sports = fila_wii_sports[['NA_Sales', 'EU_Sales', 'JP_Sales', 'Other_Sales']].iloc[0]\n",
    "\n",
    "# Etiquetas para las regiones\n",
    "etiquetas = ['NA_Sales', 'EU_Sales', 'JP_Sales', 'Other_Sales']\n",
    "\n",
    "# Crear el gráfico de tarta\n",
    "plt.figure(figsize=(8, 8))\n",
    "explosion = [0.5 if valor == datos_wii_sports.min() else 0 for valor in datos_wii_sports]\n",
    "\n",
    "plt.pie(\n",
    "    datos_wii_sports, \n",
    "    labels=etiquetas, \n",
    "    autopct='%1.1f%%', \n",
    "    startangle=90, \n",
    "    explode=explosion, \n",
    "    shadow=True\n",
    ")\n",
    "\n",
    "# Título con el nombre del videojuego\n",
    "plt.title(\"Wii Sports\")\n",
    "\n",
    "# Mostrar el gráfico\n",
    "plt.show()\n"
   ]
  }
 ],
 "metadata": {
  "colab": {
   "authorship_tag": "ABX9TyM4M7mfdYR53UI6peUyCYMc",
   "collapsed_sections": [],
   "name": "06-Examen_RESUELTO.ipynb",
   "provenance": []
  },
  "kernelspec": {
   "display_name": "machinelearning",
   "language": "python",
   "name": "python3"
  },
  "language_info": {
   "codemirror_mode": {
    "name": "ipython",
    "version": 3
   },
   "file_extension": ".py",
   "mimetype": "text/x-python",
   "name": "python",
   "nbconvert_exporter": "python",
   "pygments_lexer": "ipython3",
   "version": "3.12.7"
  }
 },
 "nbformat": 4,
 "nbformat_minor": 0
}
