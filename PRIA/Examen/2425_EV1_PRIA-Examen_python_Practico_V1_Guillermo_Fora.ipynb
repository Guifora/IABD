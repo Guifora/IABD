{
 "cells": [
  {
   "cell_type": "markdown",
   "metadata": {
    "id": "2HpKY32aha07"
   },
   "source": [
    "# PRIA - Examen PYTHON 09/12/2024 - TOTAL 30 Puntos"
   ]
  },
  {
   "cell_type": "markdown",
   "metadata": {
    "id": "dl2_sxL1rLqM"
   },
   "source": [
    "\n",
    "## UD01 - INTRODUCCIÓN PROGRAMACIÓN PYTHON y  LIBRERIAS PYTHON"
   ]
  },
  {
   "cell_type": "markdown",
   "metadata": {},
   "source": [
    "---\n",
    "## Ejercicio 1 - Importación de librerias- 1 Punto"
   ]
  },
  {
   "cell_type": "markdown",
   "metadata": {},
   "source": [
    "Como siempre, antes de empezar, importa todas las librerías que necesitas para trabajar: numpy, pandas y matplot.pyplot con los nombres reconocidos para cada uno."
   ]
  },
  {
   "cell_type": "code",
   "execution_count": 213,
   "metadata": {},
   "outputs": [],
   "source": [
    "import numpy as np\n",
    "import pandas as pd\n",
    "import matplotlib.pyplot as plt\n",
    "from numpy import random"
   ]
  },
  {
   "cell_type": "markdown",
   "metadata": {},
   "source": [
    "---\n",
    "## Ejercicio 2 - Excepciones - 3 Puntos"
   ]
  },
  {
   "cell_type": "markdown",
   "metadata": {},
   "source": [
    "Tenemos el siguiente fragmento de codigo que fuerza una división entre 0. Para ello se pide el divisor al usuario por pantalla. Para poder utilizar este codigo adecuadamente deberemos incluir las siguientes instrucciones para controlar errores: \n",
    "\n",
    "* Código\n",
    "    \n",
    "    divisor= input(\"Introduzca el divisor:\")\n",
    "    x = 2/int(divisor)\n",
    "\n",
    "* Intrucciones a seguir:\n",
    "    \n",
    "    * Incluir un control de excepciones\n",
    "    * Controlar errores de división por zero -> Mostrar mensaje \"No se ha podido realizar la división por dividir por cero\"\n",
    "    * Controlar mensaje a mostrar si la división va bien -> Mostrar mensaje \"La división se ejecuta correctamente\" siempre que no haya excepciones\n",
    "    * Bloque que se muestre siempre al finalizar el proceso -> Mostrar mensaje \"Entra en la última parte, se ejecuta el bloque siempre\"\n",
    "\n"
   ]
  },
  {
   "cell_type": "code",
   "execution_count": 214,
   "metadata": {},
   "outputs": [
    {
     "name": "stdout",
     "output_type": "stream",
     "text": [
      "1.0\n",
      "La división se ejecuta correctamente\n",
      "Entra en la última parte, se ejecuta el bloque siempre\n"
     ]
    }
   ],
   "source": [
    "try:\n",
    "    divisor=input(\"Introduce el divisor: \")\n",
    "    x=2/int(divisor)\n",
    "    print(x)\n",
    "    print(\"La división se ejecuta correctamente\")\n",
    "except ZeroDivisionError:\n",
    "    print(\"No se ha podido realizar la división por dividir por cero\")\n",
    "except ValueError:\n",
    "    print(\"El valor que has introducido no es un numero\")\n",
    "finally:\n",
    "    print(\"Entra en la última parte, se ejecuta el bloque siempre\")"
   ]
  },
  {
   "cell_type": "markdown",
   "metadata": {},
   "source": [
    "---\n",
    "## Ejercicio 3 - Creación y manejo de una clase Alumno - 6 Puntos"
   ]
  },
  {
   "cell_type": "markdown",
   "metadata": {},
   "source": [
    "Realizar un programa que conste de una clase llamada Alumno que tenga como atributos el nombre y la nota del alumno. Definir los siguientes métodos:\n",
    "\n",
    "1. Definir la clase Alumno:\n",
    "\n",
    "* **Atributos:**\n",
    "    * nombre: nombre del alumno.\n",
    "    * nota: calificación obtenida por el alumno.\n",
    "* **Métodos:**\n",
    "    * Método constructor: Inicializa el nombre y la nota del alumno.\n",
    "    * Sobrescritura del método to_string: Devuelve una representación amigable de los atributos del alumno.\n",
    "    * Método de instancia `mostrar_detalle()`: Imprime los atributos con la frase: \"El alumno XXX ha sacado la nota YYY.\"\n",
    "    * Método de clase `asignar_nota_aleatoria(cls, nombre)`: Crea un nuevo alumno con una nota aleatoria entre 0 y 10.\n",
    "    * Método estático `comparar_notas(alumno1, alumno2)`: Compara las notas de dos alumnos y devuelve un mensaje indicando cuál tiene la mayor nota, o si están empatados.\n",
    "2. Crear dos objetos:\n",
    "    * Uno utilizando el constructor normal.\n",
    "    * Otro utilizando el método de clase.\n",
    "3. Utilizar los métodos:\n",
    "    * Mostrar los detalles de ambos alumnos.\n",
    "    * Comparar sus notas con el método estático.\n"
   ]
  },
  {
   "cell_type": "code",
   "execution_count": 215,
   "metadata": {},
   "outputs": [
    {
     "name": "stdout",
     "output_type": "stream",
     "text": [
      "Alumno: Pedro, Nota: 6\n",
      "El alumno Pedro ha sacado la nota 6\n",
      "El alumno Pepe ha sacado la nota 4\n"
     ]
    },
    {
     "data": {
      "text/plain": [
       "'Pedro tiene una nota mayor (6) que Pepe (4).'"
      ]
     },
     "execution_count": 215,
     "metadata": {},
     "output_type": "execute_result"
    }
   ],
   "source": [
    "class Alumno:\n",
    "    def __init__(self,nombre,nota):\n",
    "        self.nombre=nombre\n",
    "        self.nota=nota\n",
    "\n",
    "    def __str__(self):\n",
    "        return (\"Alumno: {}, Nota: {}\".format(self.nombre,self.nota))\n",
    "    \n",
    "    def mostrar_detalle(self):\n",
    "        return f\"El alumno {self.nombre} ha sacado la nota {self.nota}\"\n",
    "    \n",
    "    @classmethod\n",
    "    def asignar_nota_aleatoria(cls,nombre):\n",
    "        nota=random.randint(11)\n",
    "        return cls(nombre,nota)\n",
    "    \n",
    "    @staticmethod\n",
    "    def comparar_notas(alumno1,alumno2):\n",
    "        if alumno1.nota > alumno2.nota:\n",
    "            return f\"{alumno1.nombre} tiene una nota mayor ({alumno1.nota}) que {alumno2.nombre} ({alumno2.nota}).\"\n",
    "        elif alumno1.nota < alumno2.nota:\n",
    "            return f\"{alumno2.nombre} tiene una nota mayor ({alumno2.nota}) que {alumno1.nombre} ({alumno1.nota}).\"\n",
    "        else:\n",
    "            return f\"{alumno1.nombre} tiene la misma nota que {alumno1.nombre} ({alumno1.nota}).\"\n",
    "\n",
    "Pedro=Alumno(\"Pedro\",6)\n",
    "print(Pedro)\n",
    "Pepe=Alumno.asignar_nota_aleatoria(\"Pepe\")\n",
    "print(Pedro.mostrar_detalle())\n",
    "print(Pepe.mostrar_detalle())\n",
    "Alumno.comparar_notas(Pedro,Pepe)"
   ]
  },
  {
   "cell_type": "markdown",
   "metadata": {
    "id": "jKx-RWxVrTvP"
   },
   "source": [
    "---\n",
    "## Ejercicio 4 - Operaciones con Matrices - 4 Puntos"
   ]
  },
  {
   "cell_type": "markdown",
   "metadata": {
    "id": "49hRG_zFrUTq"
   },
   "source": [
    "**Parte 1(2 puntos):** \n",
    "Genera una matriz (100 filas x 6 columnas) de números enteros aleatorios del 0 al 9 con NumPy. Muestra(imprime) la siguiente información de la misma:\n",
    "\n",
    "*   Tamaño (cantidad de elementos en total)\n",
    "*   Forma\n",
    "*   Todos los valores entre las filas 25 y 27 (ambas incluídas) en una sola linea y sin utilizar bucles\n",
    "*   Todos los valores de atras adelante en una sola linea y sin utilizar bucles"
   ]
  },
  {
   "cell_type": "code",
   "execution_count": 216,
   "metadata": {},
   "outputs": [
    {
     "name": "stdout",
     "output_type": "stream",
     "text": [
      "Tamaño de la matriz: 600\n",
      "Forma de la matriz: (100, 6)\n",
      "Valores entre las filas 25 y 27 (incluidas):\n",
      "[[5 2 0 8 0 6]\n",
      " [3 8 4 3 9 2]\n",
      " [4 1 3 4 1 0]]\n",
      "\n",
      "Valores de atras adelante\n",
      "[[9 1 3 8 5 2]\n",
      " [0 9 6 2 4 4]\n",
      " [2 4 3 8 1 3]\n",
      " [9 8 9 8 0 8]\n",
      " [3 8 6 4 9 2]\n",
      " [9 5 4 0 9 8]\n",
      " [3 4 8 0 3 7]\n",
      " [9 0 6 2 2 5]\n",
      " [5 3 0 0 1 9]\n",
      " [0 5 5 1 7 1]\n",
      " [5 2 5 5 7 8]\n",
      " [6 4 8 0 8 9]\n",
      " [1 4 5 1 4 8]\n",
      " [3 5 0 4 8 3]\n",
      " [2 1 6 1 0 0]\n",
      " [6 9 2 8 3 3]\n",
      " [0 7 4 2 6 7]\n",
      " [9 5 2 8 4 3]\n",
      " [0 8 3 2 5 1]\n",
      " [2 0 3 6 5 1]\n",
      " [3 5 4 0 8 2]\n",
      " [8 3 4 4 0 7]\n",
      " [7 9 7 8 9 2]\n",
      " [8 6 3 9 5 6]\n",
      " [4 3 5 9 7 7]\n",
      " [7 8 8 3 4 6]\n",
      " [2 8 2 0 2 6]\n",
      " [7 1 2 7 2 3]\n",
      " [7 8 9 0 1 2]\n",
      " [7 4 1 7 8 5]\n",
      " [6 3 5 9 7 4]\n",
      " [4 9 0 5 4 4]\n",
      " [7 9 9 9 8 7]\n",
      " [7 0 5 4 3 5]\n",
      " [8 7 4 6 7 8]\n",
      " [7 9 3 9 3 1]\n",
      " [1 1 7 3 4 2]\n",
      " [0 9 6 3 0 4]\n",
      " [4 6 8 2 9 7]\n",
      " [6 5 7 8 0 7]\n",
      " [1 4 7 1 3 0]\n",
      " [8 5 0 3 6 8]\n",
      " [6 3 5 5 3 5]\n",
      " [3 7 8 7 4 4]\n",
      " [1 5 8 1 3 5]\n",
      " [2 3 5 1 0 8]\n",
      " [9 5 6 1 8 9]\n",
      " [0 7 4 2 6 4]\n",
      " [8 5 5 9 4 7]\n",
      " [5 7 7 2 9 1]\n",
      " [4 5 3 0 3 0]\n",
      " [9 5 9 9 6 1]\n",
      " [2 4 2 2 4 2]\n",
      " [6 7 9 9 5 5]\n",
      " [9 0 0 0 9 6]\n",
      " [1 5 5 2 1 2]\n",
      " [8 6 6 9 2 3]\n",
      " [9 5 6 0 9 9]\n",
      " [9 6 4 7 7 0]\n",
      " [6 5 5 9 5 3]\n",
      " [1 0 3 4 3 6]\n",
      " [4 9 8 5 5 9]\n",
      " [2 4 9 0 4 3]\n",
      " [2 4 8 1 1 4]\n",
      " [6 8 4 1 4 6]\n",
      " [1 0 8 3 0 9]\n",
      " [1 9 7 0 4 9]\n",
      " [7 9 7 3 9 4]\n",
      " [3 9 3 5 8 3]\n",
      " [0 8 0 0 0 5]\n",
      " [5 7 1 2 4 6]\n",
      " [2 7 5 5 6 3]\n",
      " [4 1 3 4 1 0]\n",
      " [3 8 4 3 9 2]\n",
      " [5 2 0 8 0 6]\n",
      " [2 9 2 2 3 9]\n",
      " [4 5 5 1 2 0]\n",
      " [4 9 0 6 3 1]\n",
      " [8 6 4 5 1 1]\n",
      " [5 4 1 0 0 1]\n",
      " [6 7 2 8 9 0]\n",
      " [9 2 7 6 7 3]\n",
      " [6 4 8 0 6 7]\n",
      " [0 3 2 8 1 7]\n",
      " [8 8 7 4 8 9]\n",
      " [8 8 1 4 1 0]\n",
      " [7 7 4 9 1 5]\n",
      " [1 1 0 8 3 8]\n",
      " [3 0 6 3 1 0]\n",
      " [3 0 9 6 6 6]\n",
      " [8 3 2 0 6 3]\n",
      " [8 4 2 8 8 4]\n",
      " [5 6 0 0 4 4]\n",
      " [6 0 2 5 6 0]\n",
      " [2 2 8 4 0 8]\n",
      " [9 3 5 1 9 3]\n",
      " [1 3 3 7 1 1]\n",
      " [4 1 9 9 0 3]\n",
      " [4 1 5 6 6 9]\n",
      " [3 8 1 0 8 3]]\n"
     ]
    }
   ],
   "source": [
    "matriz=random.randint(10,size=(100,6))\n",
    "print(f\"Tamaño de la matriz: {matriz.size}\")\n",
    "print(f\"Forma de la matriz: {matriz.shape}\")\n",
    "print(\"Valores entre las filas 25 y 27 (incluidas):\")\n",
    "print(matriz[25:28]) \n",
    "print(\"\\nValores de atras adelante\")\n",
    "print(matriz[::-1])"
   ]
  },
  {
   "cell_type": "markdown",
   "metadata": {},
   "source": [
    "**Parte 2(2 puntos):**\n",
    "1. Crea dos matrices:\n",
    "    * Una matriz de ceros de tamaño 4x4.\n",
    "    * Una matriz de unos de tamaño 4x4.\n",
    "2. Concatenaciones:\n",
    "    * Concatenar las matrices por filas (una debajo de la otra) \n",
    "    * Concatenar las matrices por columnas (una al lado de la otra)\n",
    "3. Operaciones con las matrices:\n",
    "    * Suma la matriz de ceros y la matriz de unos para obtener una nueva matriz.\n",
    "    * Multiplica la matriz de ceros y la matriz de unos. Analiza el resultado.\n",
    "4. Muestra los siguiente información:\n",
    "    * \"Tamaño de la matriz de ceros:\"\n",
    "    * \"Forma(dimensiones) de la matriz de unos:\"\n",
    "    * \"Tipo de datos de la matriz de 0s:\"\n",
    "    * \"Tipo de datos de la matriz de 1s:\"\n",
    "    * \"Matriz concatenada por filas:\\n\"\n",
    "    * \"Matriz concatenada por columnas:\\n\"\n",
    "    * \"Matriz sumada:\\n\"\n",
    "    * \"Matriz multiplicada:\\n\""
   ]
  },
  {
   "cell_type": "code",
   "execution_count": 217,
   "metadata": {
    "colab": {
     "base_uri": "https://localhost:8080/"
    },
    "executionInfo": {
     "elapsed": 3,
     "status": "ok",
     "timestamp": 1637831539615,
     "user": {
      "displayName": "Mikel Aingeru Jorge Soteras",
      "photoUrl": "https://lh3.googleusercontent.com/a/default-user=s64",
      "userId": "17327455162631325979"
     },
     "user_tz": -60
    },
    "id": "qz-NqWPrrUiW",
    "outputId": "de030d7b-bae5-4c20-987b-5a6e238a7984"
   },
   "outputs": [
    {
     "name": "stdout",
     "output_type": "stream",
     "text": [
      "Tamaño de la matriz de ceros: 25\n",
      "Forma de la matriz de unos: 2\n",
      "Tipo de datos de la matriz 0s: <class 'numpy.ndarray'>\n",
      "Tipo de datos de la matriz 1s: <class 'numpy.ndarray'>\n",
      "Matriz concatenada por filas:\n",
      "\n",
      "[[0. 0. 0. 0. 0.]\n",
      " [0. 0. 0. 0. 0.]\n",
      " [0. 0. 0. 0. 0.]\n",
      " [0. 0. 0. 0. 0.]\n",
      " [0. 0. 0. 0. 0.]\n",
      " [1. 1. 1. 1. 1.]\n",
      " [1. 1. 1. 1. 1.]\n",
      " [1. 1. 1. 1. 1.]\n",
      " [1. 1. 1. 1. 1.]\n",
      " [1. 1. 1. 1. 1.]]\n",
      "Matriz concatenada por columnas:\n",
      "\n",
      "[[0. 0. 0. 0. 0. 1. 1. 1. 1. 1.]\n",
      " [0. 0. 0. 0. 0. 1. 1. 1. 1. 1.]\n",
      " [0. 0. 0. 0. 0. 1. 1. 1. 1. 1.]\n",
      " [0. 0. 0. 0. 0. 1. 1. 1. 1. 1.]\n",
      " [0. 0. 0. 0. 0. 1. 1. 1. 1. 1.]]\n",
      "Matriz sumada:\n",
      "\n",
      "[[1. 1. 1. 1. 1.]\n",
      " [1. 1. 1. 1. 1.]\n",
      " [1. 1. 1. 1. 1.]\n",
      " [1. 1. 1. 1. 1.]\n",
      " [1. 1. 1. 1. 1.]]\n",
      "Matriz multiplicada:\n",
      "\n",
      "[[0. 0. 0. 0. 0.]\n",
      " [0. 0. 0. 0. 0.]\n",
      " [0. 0. 0. 0. 0.]\n",
      " [0. 0. 0. 0. 0.]\n",
      " [0. 0. 0. 0. 0.]]\n"
     ]
    }
   ],
   "source": [
    "matriz_ceros=np.zeros((5,5))\n",
    "matriz_unos=np.ones((5,5))\n",
    "matriz_filas_concatenada = np.concatenate((matriz_ceros, matriz_unos), axis=0)\n",
    "matriz_columnas_concatenada = np.concatenate((matriz_ceros, matriz_unos), axis=1)\n",
    "matriz_suma = matriz_ceros + matriz_unos\n",
    "matriz_multiplicada= matriz_ceros*matriz_unos\n",
    "print(f\"Tamaño de la matriz de ceros: {matriz_ceros.size}\")\n",
    "print(f\"Forma de la matriz de unos: {matriz.ndim}\")\n",
    "print(f\"Tipo de datos de la matriz 0s: {type(matriz_ceros)}\")\n",
    "print(f\"Tipo de datos de la matriz 1s: {type(matriz_unos)}\")\n",
    "print(f\"Matriz concatenada por filas:\\n\")\n",
    "print(matriz_filas_concatenada)\n",
    "print(f\"Matriz concatenada por columnas:\\n\")\n",
    "print(matriz_columnas_concatenada)\n",
    "print(f\"Matriz sumada:\\n\")\n",
    "print(matriz_suma)\n",
    "print(f\"Matriz multiplicada:\\n\")\n",
    "print(matriz_multiplicada)"
   ]
  },
  {
   "cell_type": "markdown",
   "metadata": {
    "id": "IHQyY4iorbDV"
   },
   "source": [
    "---\n",
    "## Ejercicio 5 - Manejo de la información con Dataframes - 6 puntos"
   ]
  },
  {
   "cell_type": "markdown",
   "metadata": {
    "id": "znWcQDjLrb3M"
   },
   "source": [
    "**Intrucciones:**\n",
    "* Carga el archivo `06-vg_sales.csv` en un DataFrame con Pandas.\n",
    "* Realiza las siguientes operaciones y muestra los resultados por pantalla:\n",
    "    * Muestra la forma del DataFrame (número de filas y columnas).\n",
    "    * Obtén el índice (index) del DataFrame.\n",
    "    * Calcula el número de filas.\n",
    "    * Calcula la media de la columna JP_Sales.\n",
    "    * Encuentra el valor máximo de la columna NA_Sales.\n",
    "    * Encuentra el valor mínimo de la columna EU_Sales.\n",
    "    * Filtra y muestra las 5 últimas filas correspondientes al año 2006.\n",
    "    * Muestra las 5 primeras filas con índices pares.\n",
    "    * Obtén la información general del DataFrame (info()).\n",
    "    * Calcula y muestra los datos estadísticos del DataFrame (describe()).\n",
    "    * Muestra los 5 primeros elementos del DataFrame.\n",
    "    * Muestra los 5 últimos elementos del DataFrame.\n",
    "\n",
    "** Nota: Si alguno de los metodos utilizados diera un Warning añadir a los metodos el siguiente valor -> numeric_only=True\n"
   ]
  },
  {
   "cell_type": "code",
   "execution_count": 218,
   "metadata": {
    "colab": {
     "base_uri": "https://localhost:8080/"
    },
    "executionInfo": {
     "elapsed": 1077,
     "status": "ok",
     "timestamp": 1637913786685,
     "user": {
      "displayName": "Mikel Aingeru Jorge Soteras",
      "photoUrl": "https://lh3.googleusercontent.com/a/default-user=s64",
      "userId": "17327455162631325979"
     },
     "user_tz": -60
    },
    "id": "ra3tRJvHrcM7",
    "outputId": "c4984b7a-866d-4a5f-ddf2-366c078d57a5"
   },
   "outputs": [
    {
     "name": "stdout",
     "output_type": "stream",
     "text": [
      "\n",
      "Forma del Dataframe (16598, 11)\n",
      "\n",
      "Índice del DataFrame: RangeIndex(start=0, stop=16598, step=1)\n",
      "\n",
      "Número de filas: 16598\n",
      "\n",
      "Media de la columna JP_Sales: 0.077781660441017\n",
      "\n",
      "Valor máximo de la columna NA_Sales: 41.49\n",
      "\n",
      "Valor mínimo de la columna EU_Sales: 0.0\n",
      "\n",
      "Últimas 5 filas para el año 2006:\n",
      "         Rank                                  Name Platform    Year  \\\n",
      "16513  16516                       Deal or No Deal       PC  2006.0   \n",
      "16520  16523  Tengai Makyo: Dai Yon no Mokushiroku      PSP  2006.0   \n",
      "16523  16526               Style Book: Cinnamoroll       DS  2006.0   \n",
      "16547  16550                       Bookworm Deluxe       PC  2006.0   \n",
      "16568  16571                           XI Coliseum      PSP  2006.0   \n",
      "\n",
      "              Genre                    Publisher  NA_Sales  EU_Sales  \\\n",
      "16513          Misc       Focus Home Interactive      0.00      0.01   \n",
      "16520  Role-Playing                  Hudson Soft      0.00      0.00   \n",
      "16523          Misc           Namco Bandai Games      0.00      0.00   \n",
      "16547        Puzzle                 PopCap Games      0.01      0.00   \n",
      "16568        Puzzle  Sony Computer Entertainment      0.00      0.00   \n",
      "\n",
      "       JP_Sales  Other_Sales  Global_Sales  \n",
      "16513      0.00          0.0          0.01  \n",
      "16520      0.01          0.0          0.01  \n",
      "16523      0.01          0.0          0.01  \n",
      "16547      0.00          0.0          0.01  \n",
      "16568      0.01          0.0          0.01  \n",
      "\n",
      "Primeras 5 filas con índices pares:\n",
      "    Rank                       Name Platform    Year         Genre Publisher  \\\n",
      "0     1                 Wii Sports      Wii  2006.0        Sports  Nintendo   \n",
      "2     3             Mario Kart Wii      Wii  2008.0        Racing  Nintendo   \n",
      "4     5   Pokemon Red/Pokemon Blue       GB  1996.0  Role-Playing  Nintendo   \n",
      "6     7      New Super Mario Bros.       DS  2006.0      Platform  Nintendo   \n",
      "8     9  New Super Mario Bros. Wii      Wii  2009.0      Platform  Nintendo   \n",
      "\n",
      "   NA_Sales  EU_Sales  JP_Sales  Other_Sales  Global_Sales  \n",
      "0     41.49     29.02      3.77         8.46         82.74  \n",
      "2     15.85     12.88      3.79         3.31         35.82  \n",
      "4     11.27      8.89     10.22         1.00         31.37  \n",
      "6     11.38      9.23      6.50         2.90         30.01  \n",
      "8     14.59      7.06      4.70         2.26         28.62  \n",
      "\n",
      "Informacion general del Dataframe\n",
      "\n",
      "<class 'pandas.core.frame.DataFrame'>\n",
      "RangeIndex: 16598 entries, 0 to 16597\n",
      "Data columns (total 11 columns):\n",
      " #   Column        Non-Null Count  Dtype  \n",
      "---  ------        --------------  -----  \n",
      " 0   Rank          16598 non-null  int64  \n",
      " 1   Name          16598 non-null  object \n",
      " 2   Platform      16598 non-null  object \n",
      " 3   Year          16327 non-null  float64\n",
      " 4   Genre         16598 non-null  object \n",
      " 5   Publisher     16540 non-null  object \n",
      " 6   NA_Sales      16598 non-null  float64\n",
      " 7   EU_Sales      16598 non-null  float64\n",
      " 8   JP_Sales      16598 non-null  float64\n",
      " 9   Other_Sales   16598 non-null  float64\n",
      " 10  Global_Sales  16598 non-null  float64\n",
      "dtypes: float64(6), int64(1), object(4)\n",
      "memory usage: 1.4+ MB\n",
      "None\n",
      "\n",
      "Datos estaditicos del Dataframe:\n",
      "\n",
      "               Rank          Year      NA_Sales      EU_Sales      JP_Sales  \\\n",
      "count  16598.000000  16327.000000  16598.000000  16598.000000  16598.000000   \n",
      "mean    8300.605254   2006.406443      0.264667      0.146652      0.077782   \n",
      "std     4791.853933      5.828981      0.816683      0.505351      0.309291   \n",
      "min        1.000000   1980.000000      0.000000      0.000000      0.000000   \n",
      "25%     4151.250000   2003.000000      0.000000      0.000000      0.000000   \n",
      "50%     8300.500000   2007.000000      0.080000      0.020000      0.000000   \n",
      "75%    12449.750000   2010.000000      0.240000      0.110000      0.040000   \n",
      "max    16600.000000   2020.000000     41.490000     29.020000     10.220000   \n",
      "\n",
      "        Other_Sales  Global_Sales  \n",
      "count  16598.000000  16598.000000  \n",
      "mean       0.048063      0.537441  \n",
      "std        0.188588      1.555028  \n",
      "min        0.000000      0.010000  \n",
      "25%        0.000000      0.060000  \n",
      "50%        0.010000      0.170000  \n",
      "75%        0.040000      0.470000  \n",
      "max       10.570000     82.740000  \n",
      "\n",
      "Primeros 5 elementos del Dataframe\n",
      "    Rank                      Name Platform    Year         Genre Publisher  \\\n",
      "0     1                Wii Sports      Wii  2006.0        Sports  Nintendo   \n",
      "1     2         Super Mario Bros.      NES  1985.0      Platform  Nintendo   \n",
      "2     3            Mario Kart Wii      Wii  2008.0        Racing  Nintendo   \n",
      "3     4         Wii Sports Resort      Wii  2009.0        Sports  Nintendo   \n",
      "4     5  Pokemon Red/Pokemon Blue       GB  1996.0  Role-Playing  Nintendo   \n",
      "\n",
      "   NA_Sales  EU_Sales  JP_Sales  Other_Sales  Global_Sales  \n",
      "0     41.49     29.02      3.77         8.46         82.74  \n",
      "1     29.08      3.58      6.81         0.77         40.24  \n",
      "2     15.85     12.88      3.79         3.31         35.82  \n",
      "3     15.75     11.01      3.28         2.96         33.00  \n",
      "4     11.27      8.89     10.22         1.00         31.37  \n",
      "\n",
      "Ultimos 5 elementos del Dataframe\n",
      "         Rank                                              Name Platform  \\\n",
      "16593  16596                Woody Woodpecker in Crazy Castle 5      GBA   \n",
      "16594  16597                     Men in Black II: Alien Escape       GC   \n",
      "16595  16598  SCORE International Baja 1000: The Official Game      PS2   \n",
      "16596  16599                                        Know How 2       DS   \n",
      "16597  16600                                  Spirits & Spells      GBA   \n",
      "\n",
      "         Year     Genre   Publisher  NA_Sales  EU_Sales  JP_Sales  \\\n",
      "16593  2002.0  Platform       Kemco      0.01      0.00       0.0   \n",
      "16594  2003.0   Shooter  Infogrames      0.01      0.00       0.0   \n",
      "16595  2008.0    Racing  Activision      0.00      0.00       0.0   \n",
      "16596  2010.0    Puzzle    7G//AMES      0.00      0.01       0.0   \n",
      "16597  2003.0  Platform     Wanadoo      0.01      0.00       0.0   \n",
      "\n",
      "       Other_Sales  Global_Sales  \n",
      "16593          0.0          0.01  \n",
      "16594          0.0          0.01  \n",
      "16595          0.0          0.01  \n",
      "16596          0.0          0.01  \n",
      "16597          0.0          0.01  \n"
     ]
    }
   ],
   "source": [
    "df=pd.read_csv(\"Recursos/06-vg_sales.csv\")\n",
    "print(f\"\\nForma del Dataframe\",df.shape)\n",
    "print(\"\\nÍndice del DataFrame:\", df.index)\n",
    "print(\"\\nNúmero de filas:\", len(df))\n",
    "print(\"\\nMedia de la columna JP_Sales:\", df['JP_Sales'].mean())\n",
    "print(\"\\nValor máximo de la columna NA_Sales:\", df['NA_Sales'].max())\n",
    "print(\"\\nValor mínimo de la columna EU_Sales:\", df['EU_Sales'].min())\n",
    "print(\"\\nÚltimas 5 filas para el año 2006:\\n\",df[df['Year'] == 2006].tail(5))\n",
    "print(\"\\nPrimeras 5 filas con índices pares:\\n\",df.iloc[::2].head(5))\n",
    "print(\"\\nInformacion general del Dataframe\\n\")\n",
    "print(df.info())\n",
    "print(\"\\nDatos estaditicos del Dataframe:\\n\")\n",
    "print(df.describe())\n",
    "print(\"\\nPrimeros 5 elementos del Dataframe\\n\", df.head(5))\n",
    "print(\"\\nUltimos 5 elementos del Dataframe\\n\", df.tail(5))"
   ]
  },
  {
   "cell_type": "markdown",
   "metadata": {
    "id": "sBjnAsUvrUzi"
   },
   "source": [
    "---\n",
    "## Ejercicio 6 - Gráficos de Dispersión con Personalización - 10 puntos"
   ]
  },
  {
   "cell_type": "markdown",
   "metadata": {
    "id": "lsJM0MOprVuF"
   },
   "source": [
    "**Objetivo:**\n",
    "* Combinar distintos tipos de gráficos en una sola figura.\n",
    "* Aprender a personalizar gráficos de tarta, dispersión, y barras.\n",
    "* Desarrollar habilidades en manipulación y visualización de datos.\n",
    "\n",
    "**Instrucciones:**\n",
    "1. Carga el dataset:\n",
    "    * Asegúrate de que el archivo 06-vg_sales.csv esté disponible y cárgalo como un DataFrame.\n",
    "2. Crear la figura:\n",
    "    * Crea 3 graficos de tipo gráficos de tarta, dispersión, y barras. Agrupalos en una figura organizada.\n",
    "    * Asegúrate de que el gráfico de tarta sea el más grafico principal y más grande.\n",
    "        * La figura ocupa 3 filas x 3 columnas\n",
    "        * El gráfico de tarta ocupa 2 filas x 3 columnas\n",
    "        * El gráfico de dispersión ocupa 1 filas x 2 columnas\n",
    "        * El gráfico de barras ocupa 1 filas x 1 columnas\n",
    "3. Gráfico de Tarta (principal):\n",
    "    * Filtra los datos relacionados con el videojuego \"Wii Sports\".\n",
    "    * Crea un gráfico de tarta utilizando las columnas relacionadas con las ventas por región: `NA_Sales`, `EU_Sales`, `JP_Sales`, y `Other_Sales`.\n",
    "    * Personaliza el gráfico:\n",
    "        * Añade sombreado.\n",
    "        * Separa 0.5 del sector correspondiente al valor más pequeño (`JP_Sales`).\n",
    "        * Empieza el gráfico en el ángulo 90.\n",
    "        * Muestra los porcentajes con el formato \"%1.1f%%\".\n",
    "        * Como título, utiliza el nombre del videojuego.\n",
    "        * Colores: \n",
    "            * #fbb4ae - Light Pink\n",
    "            * #b3cde3 - Light Blue\n",
    "            * #ccebc5 - Light Green\n",
    "            * #decbe4 - Lavender\n",
    "3. Gráfico de Dispersión:\n",
    "    * Crea un gráfico de dispersión utilizando dos columnas relacionadas con las ventas (e.g., `NA_Sales` en el eje X y `EU_Sales` en el eje Y).\n",
    "    * Personaliza el gráfico:\n",
    "        * Escalar `JP_Sales` para el tamaño de los puntos en 50\n",
    "        * Asignale al grafico una barra de colores y asocia el colorbar de tipo cmap=`Set3`\n",
    "4. Gráfico de Barras:\n",
    "    * Genera un gráfico de barras que muestre las 5 consolas con mayores ventas globales (`Global_Sales`).\n",
    "    * Color: #809ab0\n"
   ]
  },
  {
   "cell_type": "code",
   "execution_count": 219,
   "metadata": {},
   "outputs": [
    {
     "data": {
      "image/png": "[encoded data removed]",
      "text/plain": [
       "<Figure size 640x480 with 3 Axes>"
      ]
     },
     "metadata": {},
     "output_type": "display_data"
    }
   ],
   "source": [
    "df\n",
    "fig = plt.figure(constrained_layout = True)\n",
    "# Configuramos que tendrá 3 filas y 3 columnas\n",
    "gs = fig.add_gridspec(3, 3)\n",
    "\n",
    "# Grafico de tarta\n",
    "g1=fig.add_subplot(gs[0:2,0:3])\n",
    "g1.set_title(\"Wii Sports\")\n",
    "fila_wii_sports =df[df['Name'] == 'Wii Sports']\n",
    "datos_wii_sports = fila_wii_sports[['NA_Sales', 'EU_Sales', 'JP_Sales', 'Other_Sales']].iloc[0]\n",
    "etiquetas = ['NA_Sales', 'EU_Sales', 'JP_Sales', 'Other_Sales']\n",
    "explosion = [0.5 if valor == datos_wii_sports.min() else 0 for valor in datos_wii_sports]\n",
    "\n",
    "g1.pie(\n",
    "    datos_wii_sports, \n",
    "    labels=etiquetas, \n",
    "    autopct='%1.1f%%', \n",
    "    startangle=90, \n",
    "    explode=explosion,\n",
    "    colors = [\"#fbb4ae\",\"#b3cde3\",\"#ccebc5\",\"#decbe4\"], \n",
    "    shadow=True\n",
    ")\n",
    "\n",
    "## Grafico Dispersion\n",
    "g2=fig.add_subplot(gs[2,0:2])\n",
    "scatter=g2.scatter(data=df, x=\"NA_Sales\", y=\"EU_Sales\", s=df[\"JP_Sales\"]*50, c=df[\"JP_Sales\"]*50,cmap=\"Set3\")\n",
    "#fig.colorbar(\"colorbar\")\n",
    "\n",
    "##Grafico de Barras\n",
    "g3=fig.add_subplot(gs[2,2])\n",
    "dfconsolas=df.copy()\n",
    "df_agrupado=dfconsolas.groupby(\"Platform\")[\"Global_Sales\"].sum().reset_index()\n",
    "df_ordenado=df_agrupado.sort_values(by=\"Global_Sales\", ascending=False).head(5)\n",
    "g3.bar(df_ordenado[\"Platform\"],df_ordenado[\"Global_Sales\"], color=\"#809ab0\")\n",
    "\n",
    "plt.show()\n"
   ]
  }
 ],
 "metadata": {
  "colab": {
   "authorship_tag": "ABX9TyM4M7mfdYR53UI6peUyCYMc",
   "collapsed_sections": [],
   "name": "06-Examen_RESUELTO.ipynb",
   "provenance": []
  },
  "kernelspec": {
   "display_name": "MachineLearning",
   "language": "python",
   "name": "python3"
  },
  "language_info": {
   "codemirror_mode": {
    "name": "ipython",
    "version": 3
   },
   "file_extension": ".py",
   "mimetype": "text/x-python",
   "name": "python",
   "nbconvert_exporter": "python",
   "pygments_lexer": "ipython3",
   "version": "3.12.7"
  }
 },
 "nbformat": 4,
 "nbformat_minor": 0
}
