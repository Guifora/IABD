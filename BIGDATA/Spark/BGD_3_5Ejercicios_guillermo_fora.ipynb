{
 "cells": [
  {
   "cell_type": "markdown",
   "metadata": {},
   "source": [
    "# EJERCICIOS"
   ]
  },
  {
   "cell_type": "code",
   "execution_count": null,
   "metadata": {},
   "outputs": [
    {
     "name": "stderr",
     "output_type": "stream",
     "text": [
      "25/02/12 19:52:56 WARN Utils: Your hostname, iadb-06 resolves to a loopback address: 127.0.1.1; using 172.20.104.38 instead (on interface wlp44s0f0)\n",
      "25/02/12 19:52:56 WARN Utils: Set SPARK_LOCAL_IP if you need to bind to another address\n",
      "Setting default log level to \"WARN\".\n",
      "To adjust logging level use sc.setLogLevel(newLevel). For SparkR, use setLogLevel(newLevel).\n",
      "25/02/12 19:52:56 WARN NativeCodeLoader: Unable to load native-hadoop library for your platform... using builtin-java classes where applicable\n"
     ]
    },
    {
     "name": "stderr",
     "output_type": "stream",
     "text": [
      "25/02/12 19:53:11 WARN GarbageCollectionMetrics: To enable non-built-in garbage collector(s) List(G1 Concurrent GC), users should configure it(them) to spark.eventLog.gcMetrics.youngGenerationGarbageCollectors or spark.eventLog.gcMetrics.oldGenerationGarbageCollectors\n"
     ]
    }
   ],
   "source": [
    "import pandas as pd\n",
    "from pyspark.sql import SparkSession\n",
    "\n",
    "spark = SparkSession.builder.master(\"local[*]\").appName(\"pyspark_rdd\").getOrCreate()\n",
    "#spark = SparkSession.builder.getOrCreate()\n",
    "sc = spark.sparkContext"
   ]
  },
  {
   "cell_type": "markdown",
   "metadata": {},
   "source": [
    "## EJERCICIO 0\n",
    "En un documento word haz una lista de las diferentes operaciones con una breve descripción de lo que hace y un ejemplo de como se utiliza (justo la parte donde se utiliza sin contexto).\n",
    "\n",
    "Ejemplo:\n",
    "\n",
    "* map: aplica una funcion a todos los elementos de un rdd - rdd.map(lambda x: x * 2)"
   ]
  },
  {
   "cell_type": "markdown",
   "metadata": {},
   "source": [
    "## EJERCICIO 1"
   ]
  },
  {
   "cell_type": "markdown",
   "metadata": {},
   "source": [
    "Si tenemos dos RDD (A y B):\n",
    "* rddA = sc.parallelize([1,2,3,4])\n",
    "* rddB = sc.parallelize([3,4,5,6])\n",
    "\n",
    "¿Cómo conseguimos los elementos que están en A y no B y los de B que no están en A? (es decir [1, 2, 5, 6]):"
   ]
  },
  {
   "cell_type": "code",
   "execution_count": 2,
   "metadata": {},
   "outputs": [
    {
     "name": "stderr",
     "output_type": "stream",
     "text": [
      "                                                                                \r"
     ]
    },
    {
     "data": {
      "text/plain": [
       "[1, 2, 5, 6]"
      ]
     },
     "execution_count": 2,
     "metadata": {},
     "output_type": "execute_result"
    }
   ],
   "source": [
    "rddA = sc.parallelize([1,2,3,4])\n",
    "rddB = sc.parallelize([3,4,5,6])\n",
    "\n",
    "#  Elementos en A pero no en B\n",
    "result_A_not_B = rddA.subtract(rddB)\n",
    "\n",
    "# Elementos en B pero no en A\n",
    "result_B_not_A = rddB.subtract(rddA)\n",
    "\n",
    "# Unir ambos resultados\n",
    "final_result = result_A_not_B.union(result_B_not_A)\n",
    "\n",
    "# Mostrar el resultado\n",
    "final_result.collect()\n"
   ]
  },
  {
   "cell_type": "markdown",
   "metadata": {},
   "source": [
    "## EJERCICIO 2"
   ]
  },
  {
   "cell_type": "markdown",
   "metadata": {},
   "source": [
    "A partir de la lista implicita en el string \"Perro Gato Loro Pez León Tortuga Gallina\"\n",
    "1.\tCrea un RDD a partir de esta lista\n",
    "2.\tConvierte el RDD normal en un RDD de pares cuya clave sea la primera letra del animal\n",
    "3.\tCrea otro RDD de pares pero poniendo como clave un número incremental\n",
    "4.\t¿Y si queremos que el índice incremental empiece en 100?\n"
   ]
  },
  {
   "cell_type": "code",
   "execution_count": 3,
   "metadata": {},
   "outputs": [
    {
     "data": {
      "text/plain": [
       "['Perro', 'Gato', 'Loro', 'Pez', 'León', 'Tortuga', 'Gallina']"
      ]
     },
     "execution_count": 3,
     "metadata": {},
     "output_type": "execute_result"
    }
   ],
   "source": [
    "animals = \"Perro Gato Loro Pez León Tortuga Gallina\".split()\n",
    "rdd = sc.parallelize(animals)\n",
    "rdd.collect()"
   ]
  },
  {
   "cell_type": "code",
   "execution_count": 4,
   "metadata": {},
   "outputs": [
    {
     "data": {
      "text/plain": [
       "[('P', 'Perro'),\n",
       " ('G', 'Gato'),\n",
       " ('L', 'Loro'),\n",
       " ('P', 'Pez'),\n",
       " ('L', 'León'),\n",
       " ('T', 'Tortuga'),\n",
       " ('G', 'Gallina')]"
      ]
     },
     "execution_count": 4,
     "metadata": {},
     "output_type": "execute_result"
    }
   ],
   "source": [
    "rdd_pairs_by_letter = rdd.map(lambda x: (x[0], x))\n",
    "rdd_pairs_by_letter.collect()"
   ]
  },
  {
   "cell_type": "code",
   "execution_count": 5,
   "metadata": {},
   "outputs": [
    {
     "data": {
      "text/plain": [
       "[('Perro', 0),\n",
       " ('Gato', 1),\n",
       " ('Loro', 2),\n",
       " ('Pez', 3),\n",
       " ('León', 4),\n",
       " ('Tortuga', 5),\n",
       " ('Gallina', 6)]"
      ]
     },
     "execution_count": 5,
     "metadata": {},
     "output_type": "execute_result"
    }
   ],
   "source": [
    "rdd_pairs_with_index = rdd.zipWithIndex()\n",
    "rdd_pairs_with_index.collect()"
   ]
  },
  {
   "cell_type": "code",
   "execution_count": 6,
   "metadata": {},
   "outputs": [
    {
     "data": {
      "text/plain": [
       "[(100, 'Perro'),\n",
       " (101, 'Gato'),\n",
       " (102, 'Loro'),\n",
       " (103, 'Pez'),\n",
       " (104, 'León'),\n",
       " (105, 'Tortuga'),\n",
       " (106, 'Gallina')]"
      ]
     },
     "execution_count": 6,
     "metadata": {},
     "output_type": "execute_result"
    }
   ],
   "source": [
    "rdd_pairs_with_index_100 = rdd.zipWithIndex().map(lambda x: (x[1] + 100, x[0]))\n",
    "rdd_pairs_with_index_100.collect()"
   ]
  },
  {
   "cell_type": "markdown",
   "metadata": {},
   "source": [
    "## EJERCICIO 3"
   ]
  },
  {
   "cell_type": "markdown",
   "metadata": {},
   "source": [
    "Dada la siguiente lista de compra:\n",
    "\n",
    "lista = [('pan',3), ('agua',2), ('azúcar',1), ('leche',2), ('pan',1), ('cereales',3), ('agua',0.5), ('leche',2), ('filetes',5)]\n",
    "\n",
    "Calcula:\n",
    "1.\tEl total que se ha gastado por cada producto\n",
    "2.\tCuánto es lo máximo que se ha pagado por cada producto"
   ]
  },
  {
   "cell_type": "code",
   "execution_count": 7,
   "metadata": {},
   "outputs": [
    {
     "name": "stdout",
     "output_type": "stream",
     "text": [
      "[('pan', 4), ('cereales', 3), ('agua', 2.5), ('azúcar', 1), ('filetes', 5), ('leche', 4)]\n"
     ]
    }
   ],
   "source": [
    "lista = [('pan',3), ('agua',2), ('azúcar',1), ('leche',2), ('pan',1), ('cereales',3), ('agua',0.5), ('leche',2), ('filetes',5)]\n",
    "rdd = sc.parallelize(lista)\n",
    "total= rdd.reduceByKey(lambda x,y: x+y)\n",
    "print(total.collect())"
   ]
  },
  {
   "cell_type": "code",
   "execution_count": 8,
   "metadata": {},
   "outputs": [
    {
     "name": "stdout",
     "output_type": "stream",
     "text": [
      "[('pan', 3), ('cereales', 3), ('agua', 2), ('azúcar', 1), ('filetes', 5), ('leche', 2)]\n"
     ]
    }
   ],
   "source": [
    "maximo= rdd.reduceByKey(lambda x,y: max(x,y))\n",
    "print(maximo.collect())"
   ]
  },
  {
   "cell_type": "markdown",
   "metadata": {},
   "source": [
    "## EJERCICIO 4"
   ]
  },
  {
   "cell_type": "markdown",
   "metadata": {},
   "source": [
    "Ahora tenemos las cuentas de las compras de 3 días:\n",
    "* día 1: pan 3€, agua 2€, azúcar 1€, leche 2€, pan 4€\n",
    "* día 2: pan 1€, cereales 3€, agua 0.5€, leche 2€, filetes 5€\n",
    "* día 3: filetes 2€, cereales 1€\n",
    "\n",
    "Dada la siguiente lista de compra:\n",
    "\n",
    "- dia1 = [('pan',3), ('agua',2), ('azúcar',1), ('leche',2), ('pan',4)]\n",
    "- dia2 = [('pan',1), ('cereales',3), ('agua',0.5), ('leche',2), ('filetes',5)]\n",
    "- dia3 = [('filetes',2), ('cereales',1)]\n",
    "\n",
    "Responde:\n",
    "1.\t¿Cómo obtenemos lo que hemos gastado en cada producto?\n",
    "2.\t¿Y el gasto medio que hemos realizado en cada uno de ellos?"
   ]
  },
  {
   "cell_type": "code",
   "execution_count": 9,
   "metadata": {},
   "outputs": [
    {
     "name": "stdout",
     "output_type": "stream",
     "text": [
      "[('azúcar', 1), ('filetes', 7), ('cereales', 4), ('pan', 8), ('agua', 2.5), ('leche', 4)]\n"
     ]
    }
   ],
   "source": [
    "dia1 = [('pan',3), ('agua',2), ('azúcar',1), ('leche',2), ('pan',4)]\n",
    "dia2 = [('pan',1), ('cereales',3), ('agua',0.5), ('leche',2), ('filetes',5)]\n",
    "dia3 = [('filetes',2), ('cereales',1)]\n",
    "rdd1 = sc.parallelize(dia1)\n",
    "rdd2 = sc.parallelize(dia2)\n",
    "rdd3 = sc.parallelize(dia3)\n",
    "rdd = rdd1.union(rdd2).union(rdd3)\n",
    "total= rdd.reduceByKey(lambda x,y: x+y)\n",
    "print(total.collect())"
   ]
  },
  {
   "cell_type": "code",
   "execution_count": 10,
   "metadata": {},
   "outputs": [
    {
     "name": "stdout",
     "output_type": "stream",
     "text": [
      "[('azúcar', 1.0), ('filetes', 3.5), ('cereales', 2.0), ('pan', 2.6666666666666665), ('agua', 1.25), ('leche', 2.0)]\n"
     ]
    }
   ],
   "source": [
    "gasto_medio= rdd.mapValues(lambda x: (x,1)).reduceByKey(lambda x,y: (x[0]+y[0], x[1]+y[1])).mapValues(lambda x: x[0]/x[1])\n",
    "print(gasto_medio.collect())"
   ]
  },
  {
   "cell_type": "markdown",
   "metadata": {},
   "source": [
    "## EJERCICIO 5"
   ]
  },
  {
   "cell_type": "markdown",
   "metadata": {},
   "source": [
    "A partir de la lista ciudades = ['Alicante', 'Elche', 'Valencia', 'Madrid', 'Barcelona', 'Bilbao', 'Sevilla'] crea rdds con las siguientes características:\n",
    "\n",
    "1. Sólo las ciudades que tengan la letra e en su nombre y muéstralas.\n",
    "2. Ciudades que tienen la letra e y el número de veces que aparece en cada nombre.\n",
    "3. Averigua las ciudades que solo tengan una única e.\n",
    "4. Nos han enviado una nueva lista pero no han separado bien las ciudades. Reorganiza la lista y colocalas correctamente, y cuenta las apariciones de la letra e de cada ciudad.\n",
    "\n",
    "    ciudades_mal = [['Alicante.Elche', 'Valencia', 'Madrid.Barcelona', 'Bilbao.Sevilla'], ['Murcia', 'San Sebastián', 'Melilla.Aspe']]"
   ]
  },
  {
   "cell_type": "code",
   "execution_count": 6,
   "metadata": {},
   "outputs": [
    {
     "name": "stdout",
     "output_type": "stream",
     "text": [
      "['Alicante', 'Elche', 'Valencia', 'Barcelona', 'Sevilla']\n"
     ]
    }
   ],
   "source": [
    "ciudades = ['Alicante', 'Elche', 'Valencia', 'Madrid', 'Barcelona', 'Bilbao', 'Sevilla']\n",
    "rdd = sc.parallelize(ciudades)\n",
    "solo_e= rdd.filter(lambda x: 'e' in x)\n",
    "print(solo_e.collect())"
   ]
  },
  {
   "cell_type": "code",
   "execution_count": 7,
   "metadata": {},
   "outputs": [
    {
     "name": "stdout",
     "output_type": "stream",
     "text": [
      "[('Sevilla', 1), ('Barcelona', 1), ('Alicante', 1), ('Elche', 2), ('Valencia', 1)]\n"
     ]
    }
   ],
   "source": [
    "veces_e= solo_e.map(lambda x: (x, x.lower().count('e'))).reduceByKey(lambda x,y: x+y)\n",
    "print(veces_e.collect())"
   ]
  },
  {
   "cell_type": "code",
   "execution_count": 8,
   "metadata": {},
   "outputs": [
    {
     "data": {
      "text/plain": [
       "['Alicante', 'Valencia', 'Barcelona', 'Sevilla']"
      ]
     },
     "execution_count": 8,
     "metadata": {},
     "output_type": "execute_result"
    }
   ],
   "source": [
    "ciudades_una_e = rdd.filter(lambda ciudad: ciudad.lower().count('e') == 1)\n",
    "ciudades_una_e.collect()"
   ]
  },
  {
   "cell_type": "code",
   "execution_count": 21,
   "metadata": {},
   "outputs": [
    {
     "data": {
      "text/plain": [
       "[('Sevilla', 1),\n",
       " ('Bilbao', 0),\n",
       " ('Barcelona', 1),\n",
       " ('San Sebastián', 1),\n",
       " ('Alicante', 1),\n",
       " ('Madrid', 0),\n",
       " ('Melilla', 1),\n",
       " ('Aspe', 1),\n",
       " ('Elche', 2),\n",
       " ('Murcia', 0),\n",
       " ('Valencia', 1)]"
      ]
     },
     "execution_count": 21,
     "metadata": {},
     "output_type": "execute_result"
    }
   ],
   "source": [
    "ciudades_mal = [['Alicante.Elche', 'Valencia', 'Madrid.Barcelona', 'Bilbao.Sevilla'], ['Murcia', 'San Sebastián', 'Melilla.Aspe']]\n",
    "reorganizado_conteo= sc.parallelize(ciudades_mal).flatMap(lambda x: x).flatMap(lambda x: x.split('.')).map(lambda x: (x, x.lower().count('e'))).reduceByKey(lambda x,y: x+y)\n",
    "reorganizado_conteo.collect()"
   ]
  },
  {
   "cell_type": "markdown",
   "metadata": {},
   "source": [
    "## EJERCICIO 6"
   ]
  },
  {
   "cell_type": "markdown",
   "metadata": {},
   "source": [
    "A partir de las siguientes listas:\n",
    "* Inglés: hello, table, angel, cat, dog, animal, chocolate, dark, doctor, hospital, computer\n",
    "* Español: hola, mesa, angel, gato, perro, animal, chocolate, oscuro, doctor, hospital, ordenador\n",
    "\n",
    "Crea un RDD con tuplas de palabras y su traducción: \n",
    "[('hello', 'hola'),\n",
    " ('table', 'mesa'),\n",
    " ('angel', 'angel'),\n",
    " ('cat', 'gato')...]\n",
    "\n",
    "Averigua:\n",
    "1. Palabras que se escriben igual en inglés y en español\n",
    "2. Palabras que en español son distintas que en inglés\n",
    "3. Obtén una única lista con las palabras en ambos idiomas que son distintas entre ellas (['hello', 'hola', 'table', ...)\n",
    "4. Haz dos grupos con todas las palabras, uno con las que empiezan por vocal y otro con las que empiecen por consonante.\n"
   ]
  },
  {
   "cell_type": "code",
   "execution_count": 13,
   "metadata": {},
   "outputs": [
    {
     "data": {
      "text/plain": [
       "[('hello', 'hola'),\n",
       " ('table', 'mesa'),\n",
       " ('angel', 'angel'),\n",
       " ('cat', 'gato'),\n",
       " ('dog', 'perro'),\n",
       " ('animal', 'animal'),\n",
       " ('chocolate', 'chocolate'),\n",
       " ('dark', 'oscuro'),\n",
       " ('doctor', 'doctor'),\n",
       " ('hospital', 'hospital'),\n",
       " ('computer', 'ordenador')]"
      ]
     },
     "execution_count": 13,
     "metadata": {},
     "output_type": "execute_result"
    }
   ],
   "source": [
    "Inglés=['hello', 'table', 'angel', 'cat', 'dog', 'animal', 'chocolate', 'dark', 'doctor', 'hospital', 'computer']\n",
    "Español=['hola', 'mesa', 'angel','gato','perro', 'animal', 'chocolate', 'oscuro', 'doctor', 'hospital', 'ordenador']\n",
    "rdd = sc.parallelize(zip(Inglés, Español))\n",
    "rdd.collect()"
   ]
  },
  {
   "cell_type": "code",
   "execution_count": 14,
   "metadata": {},
   "outputs": [
    {
     "data": {
      "text/plain": [
       "['angel', 'chocolate', 'doctor', 'hospital', 'animal']"
      ]
     },
     "execution_count": 14,
     "metadata": {},
     "output_type": "execute_result"
    }
   ],
   "source": [
    "rdd_ingles=sc.parallelize(Inglés)\n",
    "rdd_español=sc.parallelize(Español)\n",
    "rdd_comun= rdd_ingles.intersection(rdd_español)\n",
    "rdd_comun.collect()"
   ]
  },
  {
   "cell_type": "code",
   "execution_count": 15,
   "metadata": {},
   "outputs": [
    {
     "data": {
      "text/plain": [
       "['perro', 'oscuro', 'gato', 'ordenador', 'mesa', 'hola']"
      ]
     },
     "execution_count": 15,
     "metadata": {},
     "output_type": "execute_result"
    }
   ],
   "source": [
    "rdd_español_distintas= rdd_español.subtract(rdd_ingles)\n",
    "rdd_español_distintas.collect()"
   ]
  },
  {
   "cell_type": "code",
   "execution_count": 16,
   "metadata": {},
   "outputs": [
    {
     "data": {
      "text/plain": [
       "['hello',\n",
       " 'dog',\n",
       " 'computer',\n",
       " 'cat',\n",
       " 'dark',\n",
       " 'table',\n",
       " 'perro',\n",
       " 'oscuro',\n",
       " 'gato',\n",
       " 'ordenador',\n",
       " 'mesa',\n",
       " 'hola']"
      ]
     },
     "execution_count": 16,
     "metadata": {},
     "output_type": "execute_result"
    }
   ],
   "source": [
    "rdd_ingles_distintas= rdd_ingles.subtract(rdd_español)\n",
    "rdd_palabras_distinas= rdd_ingles_distintas.union(rdd_español_distintas)\n",
    "rdd_palabras_distinas.collect()"
   ]
  },
  {
   "cell_type": "code",
   "execution_count": 17,
   "metadata": {},
   "outputs": [
    {
     "data": {
      "text/plain": [
       "['angel', 'animal', 'angel', 'animal', 'oscuro', 'ordenador']"
      ]
     },
     "execution_count": 17,
     "metadata": {},
     "output_type": "execute_result"
    }
   ],
   "source": [
    "rdd_total= rdd_ingles.union(rdd_español)\n",
    "rdd_vocales= rdd_total.filter(lambda x: x[0].lower() in 'aeiou')\n",
    "rdd_vocales.collect()\n"
   ]
  },
  {
   "cell_type": "code",
   "execution_count": 18,
   "metadata": {},
   "outputs": [
    {
     "data": {
      "text/plain": [
       "['hello',\n",
       " 'table',\n",
       " 'cat',\n",
       " 'dog',\n",
       " 'chocolate',\n",
       " 'dark',\n",
       " 'doctor',\n",
       " 'hospital',\n",
       " 'computer',\n",
       " 'hola',\n",
       " 'mesa',\n",
       " 'gato',\n",
       " 'perro',\n",
       " 'chocolate',\n",
       " 'doctor',\n",
       " 'hospital']"
      ]
     },
     "execution_count": 18,
     "metadata": {},
     "output_type": "execute_result"
    },
    {
     "name": "stderr",
     "output_type": "stream",
     "text": [
      "25/02/03 18:52:12 WARN GarbageCollectionMetrics: To enable non-built-in garbage collector(s) List(G1 Concurrent GC), users should configure it(them) to spark.eventLog.gcMetrics.youngGenerationGarbageCollectors or spark.eventLog.gcMetrics.oldGenerationGarbageCollectors\n"
     ]
    }
   ],
   "source": [
    "rdd_total= rdd_ingles.union(rdd_español)\n",
    "rdd_vocales= rdd_total.filter(lambda x: x[0].lower() not in 'aeiou')\n",
    "rdd_vocales.collect()"
   ]
  },
  {
   "cell_type": "markdown",
   "metadata": {},
   "source": [
    "## EJERCICIO 7"
   ]
  },
  {
   "cell_type": "markdown",
   "metadata": {},
   "source": [
    "A partir del fichero de El Quijote:\n",
    "1. Crear un rdd con todas las palabras del documento.\n",
    "2. ¿Cuantas veces aparece la palabra Dulcinea (independientemente de si está en mayúsculas o minúsculas)? ¿Y Rocinante?\n",
    "3. Devuelve una lista ordenada según el número de veces que sale cada palabra de más a menos.\n",
    "4. Guarda el resultado en el disco"
   ]
  },
  {
   "cell_type": "code",
   "execution_count": 39,
   "metadata": {},
   "outputs": [
    {
     "data": {
      "text/plain": [
       "[('DULCINEA', 2), ('Dulcinea', 45)]"
      ]
     },
     "execution_count": 39,
     "metadata": {},
     "output_type": "execute_result"
    }
   ],
   "source": [
    "read_quijote= sc.textFile('/home/iabd/Documentos/IABD/IABD/BIGDATA/Spark/recursos/el_quijote.txt')\n",
    "rdd_quijote= read_quijote.flatMap(lambda x: x.split(' ')).map(lambda x: (x,1)).reduceByKey(lambda x,y: x+y)\n",
    "rdd_dulcinea=rdd_quijote.filter(lambda x: x[0].lower() == 'dulcinea')\n",
    "rdd_dulcinea.collect()"
   ]
  },
  {
   "cell_type": "code",
   "execution_count": 37,
   "metadata": {},
   "outputs": [
    {
     "data": {
      "text/plain": [
       "[('Rocinante', 43)]"
      ]
     },
     "execution_count": 37,
     "metadata": {},
     "output_type": "execute_result"
    }
   ],
   "source": [
    "rdd_quijote.filter(lambda x: x[0].lower() == 'rocinante').collect()"
   ]
  },
  {
   "cell_type": "code",
   "execution_count": 41,
   "metadata": {},
   "outputs": [
    {
     "data": {
      "text/plain": [
       "[('Dulcinea', 45), ('Rocinante', 43), ('DULCINEA', 2)]"
      ]
     },
     "execution_count": 41,
     "metadata": {},
     "output_type": "execute_result"
    }
   ],
   "source": [
    "rdd_lista=rdd_dulcinea.union(rdd_quijote.filter(lambda x: x[0].lower() == 'rocinante'))\n",
    "rdd_lista.sortBy(lambda x: x[1], ascending=False).collect()"
   ]
  },
  {
   "cell_type": "code",
   "execution_count": null,
   "metadata": {},
   "outputs": [],
   "source": [
    "rdd_sorted = rdd_lista.sortBy(lambda x: x[1], ascending=False)\n",
    "\n",
    "# Guardar el resultado en un archivo de texto\n",
    "rdd_sorted.saveAsTextFile(\"ruta/del/directorio/resultado.txt\")"
   ]
  },
  {
   "cell_type": "markdown",
   "metadata": {},
   "source": [
    "## EJERCICIO 8"
   ]
  },
  {
   "cell_type": "markdown",
   "metadata": {},
   "source": [
    "Dada una cadena que contiene una lista de nombres Juan, Jimena, Luis, Cristian, Laura, Lorena, Cristina, Jacobo, Jorge:\n",
    "1. Tranforma la cadena en una lista y luego en un RDD\n",
    "2. Agrúpalos según su inicial, de manera que tengamos tuplas formadas por la letra inicial y todos los nombres que comienzan por dicha letra:\n",
    "\n",
    "    [('J', ['Juan', 'Jimena', 'Jacobo', 'Jorge']),\n",
    "\n",
    "    ('L', ['Luis', 'Laura', 'Lorena']),\n",
    "    \n",
    "    ('C', ['Cristian', 'Cristina'])]\n",
    "3. De la lista original, obtén una muestra de 5 elementos sin repetir valores.\n",
    "4. Devuelve una muestra de datos de aproximadamente la mitad de registros que la lista original con datos que pudieran llegar a repetirse."
   ]
  },
  {
   "cell_type": "code",
   "execution_count": 43,
   "metadata": {},
   "outputs": [
    {
     "data": {
      "text/plain": [
       "['Juan',\n",
       " 'Jimena',\n",
       " 'Luis',\n",
       " 'Cristian',\n",
       " 'Laura',\n",
       " 'Lorena',\n",
       " 'Cristina',\n",
       " 'Jacobo',\n",
       " 'Jorge']"
      ]
     },
     "execution_count": 43,
     "metadata": {},
     "output_type": "execute_result"
    }
   ],
   "source": [
    "nombre=\"Juan, Jimena, Luis, Cristian, Laura, Lorena, Cristina, Jacobo, Jorge\"\n",
    "lista_nombres=nombre.split(', ')\n",
    "rdd_nombres=sc.parallelize(lista_nombres)\n",
    "rdd_nombres.collect()"
   ]
  },
  {
   "cell_type": "code",
   "execution_count": 49,
   "metadata": {},
   "outputs": [
    {
     "data": {
      "text/plain": [
       "[('C', ['Cristian', 'Cristina']),\n",
       " ('L', ['Luis', 'Laura', 'Lorena']),\n",
       " ('J', ['Juan', 'Jimena', 'Jacobo', 'Jorge'])]"
      ]
     },
     "execution_count": 49,
     "metadata": {},
     "output_type": "execute_result"
    }
   ],
   "source": [
    "agrupar_por_inicial=rdd_nombres.groupBy(lambda x: x[0].upper())\n",
    "agrupar_por_inicial.map(lambda x: (x[0], list(x[1]))).collect()"
   ]
  },
  {
   "cell_type": "code",
   "execution_count": 50,
   "metadata": {},
   "outputs": [
    {
     "data": {
      "text/plain": [
       "['Laura', 'Cristian', 'Luis', 'Cristina', 'Jacobo']"
      ]
     },
     "execution_count": 50,
     "metadata": {},
     "output_type": "execute_result"
    }
   ],
   "source": [
    "rdd_nombres.takeSample(False, 5)"
   ]
  },
  {
   "cell_type": "code",
   "execution_count": 53,
   "metadata": {},
   "outputs": [
    {
     "data": {
      "text/plain": [
       "['Jimena', 'Jimena', 'Lorena', 'Jimena']"
      ]
     },
     "execution_count": 53,
     "metadata": {},
     "output_type": "execute_result"
    }
   ],
   "source": [
    "rdd_nombres.takeSample(True, len(lista_nombres) // 2)"
   ]
  },
  {
   "cell_type": "markdown",
   "metadata": {},
   "source": [
    "## EJERCICIO 9"
   ]
  },
  {
   "cell_type": "markdown",
   "metadata": {},
   "source": [
    "Dada una lista de elementos desordenados y algunos repetidos, mediante rdd devolver una muestra de 5 elementos, que estén en la lista, sin repetir y ordenados descendentemente.\n",
    "\n",
    "lista = [4,6,34,7,9,2,3,4,4,21,4,6,8,9,7,8,5,4,3,22,34,56,98]\n",
    "\n",
    "1. Selecciona el elemento mayor de la lista resultante.\n",
    "2. Muestra los dos elementos menores."
   ]
  },
  {
   "cell_type": "code",
   "execution_count": 71,
   "metadata": {},
   "outputs": [
    {
     "name": "stdout",
     "output_type": "stream",
     "text": [
      "[98, 56, 34, 22, 21]\n"
     ]
    }
   ],
   "source": [
    "lista = [4,6,34,7,9,2,3,4,4,21,4,6,8,9,7,8,5,4,3,22,34,56,98]\n",
    "rdd_numeros=sc.parallelize(lista)\n",
    "rdd_numeros_ordenador = rdd_numeros.distinct().sortBy(lambda x: x, ascending=False)\n",
    "lista_numeros=rdd_numeros_ordenador.take(5)\n",
    "print(lista_numeros)"
   ]
  },
  {
   "cell_type": "code",
   "execution_count": 73,
   "metadata": {},
   "outputs": [
    {
     "name": "stdout",
     "output_type": "stream",
     "text": [
      "El numero mas alto es: 98\n",
      "Los dos numeros mas bajos son: [22, 21]\n"
     ]
    }
   ],
   "source": [
    "max_element = lista_numeros[0]\n",
    "\n",
    "print(\"El numero mas alto es:\", max_element)\n",
    "\n",
    "min_elements = lista_numeros[-2:]\n",
    "\n",
    "print(\"Los dos numeros mas bajos son:\", min_elements)"
   ]
  },
  {
   "cell_type": "markdown",
   "metadata": {},
   "source": [
    "## EJERCICIO 10"
   ]
  },
  {
   "cell_type": "markdown",
   "metadata": {},
   "source": [
    "En una red social sobre cine, tenemos un fichero ratings.txt compuesta por el código de la película, el código del usuario, la calificación asignada y el TIMESTAMP de la votación con el siguiente formato:\n",
    "\n",
    "1::1193::5::978300760\n",
    "\n",
    "1::661::3::978302109\n",
    "\n",
    "1::914::3::978301968\n",
    "\n",
    "Se pide:\n",
    "1. Obtener para cada película, la nota media de todas sus votaciones.\n",
    "2. Películas cuya nota media sea superior a 3."
   ]
  },
  {
   "cell_type": "code",
   "execution_count": 18,
   "metadata": {},
   "outputs": [
    {
     "name": "stdout",
     "output_type": "stream",
     "text": [
      "[('3', 3.9019607843137254), ('4', 4.190476190476191), ('5', 3.1464646464646466), ('6', 3.9014084507042255), ('7', 4.32258064516129), ('10', 4.114713216957606), ('13', 3.388888888888889), ('14', 3.32), ('15', 3.3233830845771144), ('16', 3.0285714285714285), ('17', 4.075829383886256), ('18', 3.6491803278688524), ('21', 2.909090909090909), ('22', 3.0673400673400675), ('24', 3.948529411764706), ('26', 2.96), ('29', 3.5833333333333335), ('31', 3.73109243697479), ('32', 3.625), ('33', 3.498721227621483), ('34', 3.8658536585365852), ('38', 3.58), ('40', 3.4479166666666665), ('43', 4.125), ('44', 3.6321243523316062), ('45', 2.946127946127946), ('51', 3.825), ('55', 4.12), ('57', 2.90625), ('58', 3.9725400457665905), ('61', 2.7777777777777777), ('62', 3.566265060240964), ('64', 4.148148148148148), ('68', 3.75), ('70', 3.7037037037037037), ('72', 3.697674418604651), ('73', 3.364705882352941), ('75', 4.005714285714285), ('76', 4.172413793103448), ('77', 2.948717948717949), ('78', 3.657142857142857), ('79', 3.6451612903225805), ('80', 3.8958333333333335), ('83', 3.5757575757575757), ('84', 3.838709677419355), ('89', 3.238095238095238), ('90', 3.511111111111111), ('91', 4.704545454545454), ('96', 3.6049382716049383), ('102', 3.128787878787879), ('103', 4.052173913043478), ('107', 3.743801652892562), ('108', 3.135135135135135), ('109', 4.0), ('110', 3.25), ('112', 4.183333333333334), ('114', 3.693877551020408), ('117', 3.299009900990099), ('119', 3.5428571428571427), ('121', 4.416666666666667), ('124', 4.173913043478261), ('125', 4.098591549295775), ('126', 4.0), ('130', 4.311111111111111), ('131', 3.3966101694915256), ('133', 3.7705882352941176), ('134', 2.7158469945355193), ('136', 3.074074074074074), ('138', 4.492307692307692), ('140', 3.8181818181818183), ('142', 3.3404255319148937), ('144', 3.46875), ('148', 3.733974358974359), ('150', 4.021551724137931), ('151', 3.653927813163482), ('152', 4.125), ('153', 4.076923076923077), ('157', 3.718969555035129), ('159', 3.7777777777777777), ('160', 3.5), ('163', 2.1828793774319064), ('164', 4.384615384615385), ('165', 3.981818181818182), ('168', 3.8461538461538463), ('169', 3.5670289855072466), ('172', 3.608695652173913), ('173', 3.9679144385026737), ('176', 3.6153846153846154), ('180', 3.694915254237288), ('181', 3.604651162790698), ('182', 3.8313253012048194), ('184', 4.083333333333333), ('185', 3.588235294117647), ('186', 4.254098360655738), ('187', 4.083932853717027), ('188', 3.1690140845070425), ('189', 4.0), ('191', 3.3333333333333335), ('193', 3.677685950413223), ('200', 3.423076923076923), ('201', 3.954022988505747), ('202', 3.2492537313432837), ('210', 4.027272727272727), ('211', 3.857142857142857), ('213', 4.2272727272727275), ('216', 3.2317380352644838), ('217', 3.7), ('219', 3.3333333333333335), ('220', 4.215686274509804), ('221', 3.2413793103448274), ('222', 4.0875), ('225', 3.4330708661417324), ('226', 3.5714285714285716), ('227', 3.2857142857142856), ('228', 4.0), ('229', 3.4292452830188678), ('231', 4.22680412371134), ('232', 3.566666666666667), ('233', 4.584905660377358), ('234', 4.310344827586207), ('235', 4.086363636363636), ('236', 3.693548387096774), ('237', 3.4036144578313254), ('238', 3.7868217054263567), ('239', 4.140845070422535), ('240', 3.300699300699301), ('242', 3.2051282051282053), ('244', 4.105882352941176), ('245', 2.6714659685863875), ('246', 4.0), ('247', 3.935483870967742), ('250', 3.75), ('251', 3.5753424657534247), ('252', 4.016666666666667), ('254', 3.782608695652174), ('256', 3.8526315789473684), ('257', 4.452830188679245), ('262', 3.330188679245283), ('265', 4.1938775510204085), ('266', 4.52), ('267', 3.3893129770992365), ('270', 4.198412698412699), ('271', 3.9583333333333335), ('276', 3.5217391304347827), ('277', 3.727272727272727), ('278', 3.9646464646464645), ('280', 3.94), ('282', 3.5172413793103448), ('286', 3.883720930232558), ('291', 4.137254901960785), ('293', 3.2460567823343847), ('295', 3.764397905759162), ('296', 3.597938144329897), ('297', 4.0), ('298', 3.925925925925926), ('299', 4.163461538461538), ('301', 3.8011204481792715), ('302', 2.8692893401015227), ('307', 4.593406593406593), ('309', 4.040650406504065), ('311', 4.15), ('312', 3.736842105263158), ('313', 4.038461538461538), ('315', 3.8636363636363638), ('316', 4.116883116883117), ('317', 3.8095238095238093), ('318', 3.9523809523809526), ('319', 3.263522884882108), ('320', 4.238095238095238), ('321', 3.2612612612612613), ('323', 3.788135593220339), ('327', 3.669491525423729), ('328', 3.032258064516129), ('329', 2.7264397905759163), ('333', 3.352422907488987), ('335', 2.5), ('336', 4.308411214953271), ('339', 4.024193548387097), ('341', 4.2), ('344', 2.9555555555555557), ('345', 4.4), ('347', 3.878787878787879), ('352', 3.4793103448275864), ('353', 3.9166666666666665), ('354', 3.586206896551724), ('355', 3.4463007159904535), ('356', 4.380952380952381), ('357', 3.293103448275862), ('358', 3.8472222222222223), ('359', 3.857142857142857), ('360', 3.6417910447761193), ('363', 3.744186046511628), ('366', 4.06949806949807), ('367', 4.25), ('368', 3.78125), ('369', 3.1954022988505746), ('371', 3.5), ('372', 4.553571428571429), ('377', 3.9044117647058822), ('380', 3.7246376811594204), ('381', 4.114285714285714), ('382', 4.017857142857143), ('384', 3.590909090909091), ('385', 3.9562043795620436), ('388', 3.8813559322033897), ('392', 3.4743326488706368), ('393', 3.581081081081081), ('395', 3.608695652173913), ('398', 3.8133333333333335), ('399', 4.15625), ('400', 3.875), ('401', 3.871794871794872), ('403', 3.8035714285714284), ('404', 4.14), ('405', 3.795918367346939), ('407', 3.4375), ('409', 3.9158249158249157), ('410', 3.96875), ('411', 3.280314960629921), ('412', 4.401260504201681), ('414', 3.0701754385964914), ('415', 3.874538745387454), ('416', 3.7580645161290325), ('418', 3.549019607843137), ('419', 3.962962962962963), ('427', 4.111111111111111), ('430', 3.9682539682539684), ('431', 3.630952380952381), ('432', 2.9863013698630136), ('433', 3.391304347826087), ('434', 4.023255813953488), ('437', 4.3076923076923075), ('439', 3.902173913043478), ('441', 3.9574468085106385), ('442', 3.8486997635933804), ('444', 4.0), ('445', 3.3181818181818183), ('449', 3.7222222222222223), ('451', 4.511961722488039), ('453', 3.66497461928934), ('456', 3.394904458598726), ('457', 3.7130801687763713), ('458', 3.5348837209302326), ('460', 3.3617021276595747), ('462', 3.536723163841808), ('463', 3.0), ('464', 3.6097560975609757), ('465', 3.5405405405405403), ('466', 4.14070351758794), ('470', 3.8088235294117645), ('477', 3.5829383886255926), ('479', 3.827956989247312), ('480', 3.411214953271028), ('482', 3.2606060606060607), ('483', 2.9310344827586206), ('486', 4.051282051282051), ('488', 3.56), ('489', 3.3333333333333335), ('491', 3.68), ('495', 3.7954545454545454), ('499', 3.9748743718592965), ('500', 3.633663366336634), ('501', 3.417910447761194), ('502', 4.083333333333333), ('504', 3.8055555555555554), ('505', 4.217391304347826), ('509', 3.3139695712309822), ('510', 3.8282828282828283), ('511', 3.740740740740741), ('513', 3.1474358974358974), ('515', 3.728395061728395), ('517', 3.963855421686747), ('518', 4.3478260869565215), ('522', 3.8448275862068964), ('523', 4.06), ('525', 4.025), ('526', 3.896551724137931), ('528', 3.3551724137931034), ('530', 4.0), ('532', 3.86046511627907), ('533', 3.3401015228426396), ('535', 3.5714285714285716), ('536', 3.942857142857143), ('538', 4.458333333333333), ('540', 3.230769230769231), ('542', 3.764705882352941), ('545', 3.4827586206896552), ('551', 3.8201754385964914), ('556', 3.5), ('557', 3.8793103448275863), ('558', 3.6804123711340204), ('559', 3.0), ('560', 3.897810218978102), ('561', 3.7222222222222223), ('562', 3.7027027027027026), ('563', 2.7023121387283235), ('564', 4.0), ('566', 2.6273408239700373), ('567', 4.583333333333333), ('568', 4.44), ('570', 3.329113924050633), ('574', 4.095238095238095), ('576', 3.6666666666666665), ('579', 3.8550724637681157), ('580', 3.347826086956522), ('586', 4.485714285714286), ('587', 3.0077922077922077), ('589', 4.0), ('590', 4.13855421686747), ('592', 4.391304347826087), ('595', 3.95), ('602', 3.396103896103896), ('603', 3.5238095238095237), ('605', 4.049180327868853), ('606', 4.03030303030303), ('607', 4.16), ('608', 3.1882352941176473), ('612', 3.5), ('614', 3.8333333333333335), ('615', 4.127659574468085), ('617', 4.086956521739131), ('619', 3.909090909090909), ('621', 3.0416666666666665), ('622', 3.912280701754386), ('623', 4.226744186046512), ('626', 4.055555555555555), ('627', 3.5625), ('630', 4.254237288135593), ('632', 3.7941176470588234), ('633', 3.5813953488372094), ('638', 4.175438596491228), ('641', 4.008264462809917), ('644', 3.1203703703703702), ('645', 4.4772727272727275), ('646', 3.8031496062992125), ('647', 3.103896103896104), ('648', 3.7231638418079096), ('649', 3.6619718309859155), ('650', 3.8947368421052633), ('652', 2.8863636363636362), ('654', 3.4324324324324325), ('659', 3.7), ('660', 3.0170697012802274), ('662', 3.141732283464567), ('663', 3.580357142857143), ('664', 4.025316455696203), ('665', 3.5), ('666', 3.8932038834951457), ('668', 3.5833333333333335), ('669', 3.847255369928401), ('671', 4.2592592592592595), ('676', 3.128205128205128), ('677', 3.892682926829268), ('681', 4.2368421052631575), ('683', 3.586206896551724), ('684', 3.8947368421052633), ('685', 3.2357142857142858), ('693', 3.8857142857142857), ('694', 3.625), ('695', 3.513089005235602), ('696', 3.802992518703242), ('699', 3.0534124629080117), ('700', 3.875), ('701', 3.5), ('702', 3.3027139874739038), ('703', 4.1), ('704', 3.081081081081081), ('706', 3.556291390728477), ('709', 2.8292682926829267), ('712', 3.475177304964539), ('713', 3.446280991735537), ('714', 4.1635071090047395), ('716', 4.198979591836735), ('717', 3.1538461538461537), ('719', 3.5), ('720', 2.9098712446351933), ('722', 3.909090909090909), ('728', 3.311377245508982), ('729', 3.5273972602739727), ('730', 3.7735849056603774), ('731', 3.778816199376947), ('733', 4.05982905982906), ('734', 3.727272727272727), ('737', 3.5668202764976957), ('739', 4.354330708661418), ('742', 3.9523809523809526), ('744', 3.3703703703703702), ('745', 2.64), ('754', 3.7770700636942673), ('757', 3.225806451612903), ('758', 4.0), ('759', 3.5876288659793816), ('760', 4.265625), ('761', 4.55), ('763', 3.730769230769231), ('764', 4.525179856115108), ('768', 4.4375), ('770', 2.935441370223979), ('772', 3.479591836734694), ('774', 3.2142857142857144), ('776', 3.766990291262136), ('777', 2.5796812749003983), ('779', 3.3333333333333335), ('781', 3.1709401709401708), ('783', 3.5210084033613445), ('785', 3.2358490566037736), ('786', 4.063492063492063), ('788', 3.5255102040816326), ('791', 3.966463414634146), ('792', 3.4597701149425286), ('793', 3.486666666666667), ('797', 4.036144578313253), ('802', 3.938735177865613), ('803', 3.7115384615384617), ('805', 3.835616438356164), ('806', 4.166666666666667), ('809', 4.031914893617022), ('812', 3.739130434782609), ('816', 3.6974358974358976), ('817', 4.010050251256281), ('818', 3.7251461988304095), ('820', 3.4134615384615383), ('821', 2.9523809523809526), ('822', 3.7226027397260273), ('828', 3.4434782608695653), ('831', 4.105263157894737), ('834', 4.16), ('835', 2.75), ('836', 2.4), ('838', 4.090909090909091), ('839', 3.988372093023256), ('844', 3.4523809523809526), ('845', 3.980769230769231), ('848', 4.178571428571429), ('851', 3.5921052631578947), ('859', 3.450980392156863), ('861', 3.9375), ('863', 4.225806451612903), ('864', 4.050724637681159), ('865', 3.8095238095238093), ('869', 3.5154394299287413), ('870', 3.611111111111111), ('871', 3.9069767441860463), ('872', 3.635514018691589), ('874', 3.7857142857142856), ('879', 4.025), ('882', 4.0886075949367084), ('884', 4.01010101010101), ('885', 4.140625), ('886', 3.6285714285714286), ('889', 2.8405797101449277), ('890', 3.969298245614035), ('891', 3.7443946188340806), ('896', 3.984375), ('900', 3.576923076923077), ('901', 3.606060606060606), ('905', 3.7886178861788617), ('906', 3.5238095238095237), ('907', 3.9523809523809526), ('908', 3.3076923076923075), ('910', 3.6012269938650308), ('911', 3.8685714285714288), ('913', 3.2888888888888888), ('916', 3.9454545454545453), ('917', 4.068965517241379), ('918', 2.9583333333333335), ('924', 3.9899497487437188), ('927', 3.230366492146597), ('930', 3.0510204081632653), ('931', 4.031847133757962), ('932', 4.45), ('937', 3.7327586206896552), ('942', 4.04), ('943', 4.296296296296297), ('944', 3.8444444444444446), ('945', 3.6196319018404908), ('946', 4.303030303030303), ('947', 3.0), ('948', 3.7408123791102517), ('949', 3.9295392953929538), ('950', 2.963636363636364), ('952', 3.9936305732484074), ('955', 3.5798816568047336), ('957', 4.271341463414634), ('958', 3.9050632911392404), ('960', 3.9375), ('961', 3.74), ('966', 3.5636363636363635), ('968', 4.131147540983607), ('969', 4.115384615384615), ('971', 3.3318385650224216), ('972', 3.3714285714285714), ('973', 3.3963133640552994), ('974', 3.7333333333333334), ('975', 3.25990099009901), ('978', 3.8863636363636362), ('979', 4.04054054054054), ('981', 3.3303964757709252), ('983', 4.115384615384615), ('984', 3.5417867435158503), ('988', 3.8493150684931505), ('989', 4.681818181818182), ('991', 3.75), ('994', 4.153846153846154), ('995', 3.8979591836734695), ('996', 3.935810810810811), ('999', 3.186893203883495), ('1002', 4.136363636363637), ('1003', 4.137931034482759), ('1006', 3.0681818181818183), ('1007', 4.21875), ('1009', 3.826923076923077), ('1011', 3.7027027027027026), ('1018', 4.155737704918033), ('1023', 4.073170731707317), ('1024', 3.697674418604651), ('1025', 3.757575757575758), ('1026', 4.0), ('1028', 3.9672131147540983), ('1029', 3.1953125), ('1030', 3.5789473684210527), ('1032', 3.941747572815534), ('1033', 3.288659793814433), ('1034', 3.483679525222552), ('1036', 4.32), ('1040', 4.235521235521236), ('1042', 2.7555555555555555), ('1044', 3.763888888888889), ('1046', 3.8846153846153846), ('1048', 4.0), ('1049', 3.5833333333333335), ('1052', 4.343283582089552), ('1055', 3.448717948717949), ('1056', 3.473684210526316), ('1057', 3.7262569832402233), ('1063', 4.18), ('1064', 3.70873786407767), ('1070', 3.619047619047619), ('1071', 4.426573426573427), ('1074', 3.4479166666666665), ('1075', 4.048780487804878), ('1081', 4.147058823529412), ('1082', 4.333333333333333), ('1084', 3.15), ('1085', 3.7142857142857144), ('1086', 3.8621794871794872), ('1088', 3.3375850340136055), ('1090', 3.3698630136986303), ('1091', 2.696969696969697), ('1100', 2.1988188976377954), ('1101', 3.324324324324324), ('1102', 2.259259259259259), ('1103', 3.533333333333333), ('1105', 3.9316770186335406), ('1112', 3.4418262150220915), ('1114', 3.462686567164179), ('1115', 3.1743119266055047), ('1117', 3.777188328912467), ('1118', 3.6666666666666665), ('1119', 3.787341772151899), ('1121', 3.9550173010380623), ('1125', 3.222413793103448), ('1126', 3.761904761904762), ('1128', 3.216867469879518), ('1129', 4.145631067961165), ('1136', 3.267857142857143), ('1137', 3.74468085106383), ('1138', 3.662921348314607), ('1139', 3.9065934065934065), ('1140', 3.7566844919786098), ('1142', 3.3726235741444865), ('1143', 4.30188679245283), ('1145', 3.3684210526315788), ('1149', 3.3146067415730336), ('1150', 2.5906298003072195), ('1151', 3.772727272727273), ('1152', 2.5704697986577183), ('1153', 2.736842105263158), ('1158', 3.640625), ('1160', 3.074766355140187), ('1163', 3.640625), ('1168', 3.4463519313304722), ('1169', 2.7711864406779663), ('1171', 4.321428571428571), ('1173', 3.2493074792243766), ('1174', 3.125), ('1175', 4.208333333333333), ('1177', 3.9746835443037973), ('1178', 3.5), ('1182', 3.357142857142857), ('1187', 3.3870967741935485), ('1188', 4.161290322580645), ('1192', 4.379310344827586), ('1193', 2.782608695652174), ('1194', 3.325115562403698), ('1195', 3.71875), ('1196', 3.8839285714285716), ('1202', 3.5365384615384614), ('1203', 3.707152496626181), ('1204', 3.485294117647059), ('1213', 4.041666666666667), ('1214', 3.0217391304347827), ('1215', 4.034782608695652), ('1216', 3.6948356807511735), ('1218', 3.4553191489361703), ('1219', 3.6205357142857144), ('1221', 3.9638009049773757), ('1222', 3.2205882352941178), ('1224', 4.046712802768166), ('1225', 4.035714285714286), ('1226', 3.2857142857142856), ('1229', 4.0), ('1230', 3.9367588932806323), ('1232', 4.229629629629629), ('1233', 3.8852459016393444), ('1235', 3.7), ('1236', 3.375), ('1239', 3.8636363636363638), ('1240', 3.066666666666667), ('1243', 3.608695652173913), ('1244', 3.3812154696132595), ('1250', 4.190476190476191), ('1251', 3.3777777777777778), ('1253', 3.5405405405405403), ('1254', 4.118181818181818), ('1255', 3.7787234042553193), ('1257', 3.36734693877551), ('1259', 3.9833333333333334), ('1260', 3.787819253438114), ('1262', 3.4240506329113924), ('1264', 3.586497890295359), ('1265', 3.183673469387755), ('1266', 3.3415977961432506), ('1270', 3.0344827586206895), ('1271', 4.2823529411764705), ('1272', 3.535211267605634), ('1273', 3.9820359281437128), ('1276', 4.1558441558441555), ('1283', 3.347826086956522), ('1284', 3.4220907297830374), ('1290', 4.181818181818182), ('1291', 3.802120141342756), ('1292', 3.3958333333333335), ('1294', 3.9272030651340994), ('1295', 3.575), ('1296', 3.8958333333333335), ('1300', 3.4819277108433737), ('1301', 3.774410774410774), ('1302', 4.266666666666667), ('1303', 3.3205317577548006), ('1304', 3.9642857142857144), ('1308', 3.606741573033708), ('1311', 3.478723404255319), ('1313', 3.6551724137931036), ('1314', 2.789473684210526), ('1315', 4.505376344086022), ('1318', 3.0476190476190474), ('1319', 3.2142857142857144), ('1322', 4.1171875), ('1323', 3.7027027027027026), ('1324', 4.037037037037037), ('1326', 3.918918918918919), ('1327', 3.507042253521127), ('1328', 3.552), ('1329', 3.2853658536585364), ('1331', 3.98), ('1332', 3.5), ('1334', 3.9152542372881354), ('1336', 4.086956521739131), ('1338', 4.03030303030303), ('1339', 2.788732394366197), ('1340', 2.1627329192546583), ('1341', 2.3793103448275863), ('1347', 3.778481012658228), ('1350', 3.7589285714285716), ('1354', 3.404970760233918), ('1355', 4.169811320754717), ('1356', 2.633405639913232), ('1358', 3.16017316017316), ('1359', 3.6458333333333335), ('1361', 4.135338345864661), ('1362', 3.4474885844748857), ('1363', 4.380952380952381), ('1365', 3.626865671641791), ('1366', 3.5104895104895104), ('1374', 3.9223300970873787), ('1375', 3.9), ('1377', 2.8214971209213053), ('1378', 4.5344827586206895), ('1381', 3.4057971014492754), ('1382', 4.138888888888889), ('1383', 3.329683698296837), ('1384', 3.4545454545454546), ('1385', 3.727272727272727), ('1386', 3.951219512195122), ('1389', 3.812652068126521), ('1391', 3.4688995215311005), ('1393', 4.128440366972477), ('1394', 3.0), ('1395', 3.826923076923077), ('1397', 3.490566037735849), ('1398', 3.710526315789474), ('1399', 3.6527777777777777), ('1400', 4.172413793103448), ('1402', 4.122448979591836), ('1403', 3.8461538461538463), ('1404', 2.7951807228915664), ('1407', 4.082417582417582), ('1408', 3.139705882352941), ('1409', 4.214285714285714), ('1411', 3.566666666666667), ('1418', 2.9510489510489513), ('1421', 3.758974358974359), ('1425', 3.647814910025707), ('1426', 3.494764397905759), ('1427', 3.6470588235294117), ('1428', 4.211538461538462), ('1431', 3.380952380952381), ('1432', 3.5428571428571427), ('1434', 2.4050179211469533), ('1435', 3.4571428571428573), ('1436', 3.9696969696969697), ('1437', 4.541935483870968), ('1438', 3.477272727272727), ('1441', 3.627450980392157), ('1443', 4.25), ('1445', 2.903225806451613), ('1446', 4.453608247422681), ('1447', 3.2383838383838386), ('1448', 3.775529865125241), ('1450', 2.9908256880733943), ('1455', 3.7540983606557377), ('1456', 4.045454545454546), ('1459', 4.0476190476190474), ('1462', 3.5), ('1463', 3.5948275862068964), ('1464', 3.675925925925926), ('1466', 3.630952380952381), ('1467', 3.534090909090909), ('1468', 3.519607843137255), ('1471', 3.814814814814815), ('1472', 3.6008583690987126), ('1473', 2.970833333333333), ('1474', 3.7846153846153845), ('1475', 3.8987341772151898), ('1476', 3.757142857142857), ('1477', 4.0606060606060606), ('1478', 3.9375), ('1480', 3.395348837209302), ('1481', 4.38), ('1483', 3.0968992248062017), ('1485', 3.9130434782608696), ('1488', 4.095238095238095), ('1489', 2.443762781186094), ('1490', 4.1), ('1491', 3.2490118577075098), ('1492', 3.2149532710280373), ('1493', 3.75), ('1496', 2.85929648241206), ('1497', 3.864321608040201), ('1500', 3.9043478260869566), ('1502', 3.399267399267399), ('1506', 3.8095238095238093), ('1514', 3.763779527559055), ('1517', 3.609375), ('1518', 4.48), ('1519', 3.528735632183908), ('1520', 4.0), ('1524', 3.7351778656126484), ('1525', 3.6633663366336635), ('1532', 4.095238095238095), ('1534', 3.619047619047619), ('1537', 3.763157894736842), ('1538', 3.989247311827957), ('1539', 4.37037037037037), ('1546', 3.754385964912281), ('1548', 3.5833333333333335), ('1549', 3.619047619047619), ('1551', 3.9397590361445785), ('1552', 3.6862745098039214), ('1555', 4.3544303797468356), ('1557', 3.982456140350877), ('1558', 4.115384615384615), ('1559', 3.588235294117647), ('1561', 4.0062111801242235), ('1565', 3.74468085106383), ('1567', 3.89), ('1568', 4.0), ('1569', 4.588888888888889), ('1570', 3.5454545454545454), ('1574', 3.5961538461538463), ('1576', 3.875), ('1578', 4.161290322580645), ('1586', 4.424096385542168), ('1587', 3.332129963898917), ('1590', 4.0), ('1596', 3.5652173913043477), ('1599', 3.3018181818181818), ('1601', 3.9073170731707316), ('1603', 3.842857142857143), ('1604', 4.166666666666667), ('1607', 3.1847826086956523), ('1612', 3.652173913043478), ('1613', 3.4264150943396228), ('1614', 3.3934426229508197), ('1615', 3.0476190476190474), ('1617', 3.0833333333333335), ('1618', 4.208791208791209), ('1619', 4.03030303030303), ('1622', 3.730769230769231), ('1623', 4.214285714285714), ('1624', 3.005714285714286), ('1628', 3.745011086474501), ('1629', 3.4923076923076923), ('1630', 2.264957264957265), ('1632', 2.7760416666666665), ('1633', 2.9705882352941178), ('1636', 2.8), ('1638', 4.205128205128205), ('1639', 3.658802177858439), ('1642', 3.5), ('1643', 4.28755364806867), ('1644', 3.0625), ('1645', 4.061302681992337), ('1646', 3.064516129032258), ('1647', 3.2301587301587302), ('1649', 3.8421052631578947), ('1650', 3.647887323943662), ('1651', 3.2), ('1653', 3.92), ('1654', 4.446808510638298), ('1657', 3.888888888888889), ('1658', 3.419597989949749), ('1660', 3.967741935483871), ('1661', 3.891891891891892), ('1662', 3.64), ('1664', 3.4), ('1665', 3.6825396825396823), ('1667', 3.4128256513026054), ('1668', 4.0), ('1671', 3.8620689655172415), ('1674', 3.727272727272727), ('1675', 3.208849557522124), ('1677', 3.558139534883721), ('1680', 3.5556756756756758), ('1682', 4.407407407407407), ('1683', 3.4857142857142858), ('1686', 3.5357142857142856), ('1687', 3.5318066157760812), ('1688', 3.5757575757575757), ('1690', 3.5167785234899327), ('1691', 3.52), ('1693', 3.7419354838709675), ('1695', 3.6530612244897958), ('1697', 4.18361581920904), ('1699', 4.313218390804598), ('1703', 4.076923076923077), ('1704', 4.194444444444445), ('1706', 3.8), ('1710', 3.6582278481012658), ('1711', 3.6206896551724137), ('1718', 4.46875), ('1725', 3.75), ('1731', 3.3970588235294117), ('1732', 4.470588235294118), ('1734', 4.27027027027027), ('1735', 3.2337662337662336), ('1736', 3.235897435897436), ('1738', 3.7313432835820897), ('1742', 3.617021276595745), ('1744', 4.064285714285714), ('1745', 3.7142857142857144), ('1748', 3.4906621392190154), ('1752', 3.834101382488479), ('1753', 3.936619718309859), ('1756', 3.204081632653061), ('1760', 3.803030303030303), ('1762', 3.8513513513513513), ('1763', 3.769230769230769), ('1764', 4.091353996737357), ('1765', 3.981132075471698), ('1767', 3.5751633986928106), ('1768', 3.4859154929577465), ('1769', 2.7534246575342465), ('1774', 3.275), ('1775', 3.7225806451612904), ('1777', 3.890909090909091), ('1780', 2.9626623376623376), ('1783', 3.5714285714285716), ('1785', 3.0555555555555554), ('1786', 4.018867924528302), ('1793', 3.4006968641114983), ('1794', 2.4282560706401766), ('1795', 4.32), ('1799', 3.5164835164835164), ('1801', 3.9523809523809526), ('1807', 3.6435643564356437), ('1808', 3.4193548387096775), ('1809', 3.142857142857143), ('1810', 3.775), ('1812', 3.7765042979942693), ('1813', 3.5), ('1815', 3.7948717948717947), ('1819', 3.7327586206896552), ('1826', 3.5964912280701755), ('1827', 3.5918367346938775), ('1828', 3.370629370629371), ('1829', 3.3333333333333335), ('1830', 4.1), ('1832', 3.9318181818181817), ('1834', 4.092307692307692), ('1839', 3.9770114942528734), ('1844', 3.65), ('1847', 4.317073170731708), ('1850', 3.844155844155844), ('1852', 3.5185185185185186), ('1853', 4.1210191082802545), ('1854', 2.817073170731707), ('1855', 3.144578313253012), ('1856', 4.6940298507462686), ('1857', 4.2682926829268295), ('1858', 3.9591836734693877), ('1859', 3.5652173913043477), ('1860', 3.310580204778157), ('1862', 4.4), ('1863', 4.5), ('1868', 3.6296296296296298), ('1870', 3.7974683544303796), ('1871', 3.7264957264957266), ('1872', 3.8181818181818183), ('1873', 3.48989898989899), ('1877', 3.129251700680272), ('1880', 3.344502617801047), ('1881', 4.333333333333333), ('1888', 3.6176470588235294), ('1889', 3.269230769230769), ('1890', 3.51980198019802), ('1893', 3.75), ('1896', 4.14975845410628), ('1898', 3.923076923076923), ('1900', 3.675), ('1903', 4.020304568527918), ('1905', 4.1063829787234045), ('1906', 3.6538461538461537), ('1908', 3.1826923076923075), ('1909', 3.526315789473684), ('1911', 3.5483870967741935), ('1912', 2.487856388595565), ('1915', 3.6052631578947367), ('1916', 3.9437340153452687), ('1923', 3.2758620689655173), ('1927', 3.9545454545454546), ('1929', 3.5555555555555554), ('1931', 3.616279069767442), ('1933', 3.466666666666667), ('1934', 3.0847457627118646), ('1936', 3.7142857142857144), ('1938', 3.1314285714285712), ('1942', 2.864406779661017), ('1943', 3.6205882352941177), ('1946', 3.858974358974359), ('1950', 3.5182481751824817), ('1951', 3.015625), ('1953', 3.7941176470588234), ('1954', 3.933774834437086), ('1955', 3.55), ('1956', 3.123076923076923), ('1957', 3.94), ('1958', 3.2746478873239435), ('1960', 3.8651162790697673), ('1961', 3.550561797752809), ('1964', 3.6363636363636362), ('1966', 4.363636363636363), ('1967', 3.5416666666666665), ('1969', 3.816247582205029), ('1971', 4.2727272727272725), ('1972', 4.409638554216867), ('1974', 3.7644787644787643), ('1976', 3.886178861788618), ('1977', 3.626865671641791), ('1978', 3.4675324675324677), ('1979', 3.1142857142857143), ('1985', 3.575), ('1986', 4.590909090909091), ('1988', 3.5230524642289347), ('1990', 3.857142857142857), ('1995', 3.895348837209302), ('1999', 3.8160919540229883), ('2000', 3.7857142857142856), ('2004', 3.7247706422018347), ('2005', 2.7222222222222223), ('2008', 3.937853107344633), ('2010', 2.4583901773533423), ('2011', 3.838056680161943), ('2013', 3.9), ('2014', 4.2592592592592595), ('2017', 3.899159663865546), ('2018', 3.941834451901566), ('2019', 3.5588235294117645), ('2020', 3.5307855626326963), ('2021', 3.8523489932885906), ('2023', 3.923076923076923), ('2026', 3.541284403669725), ('2027', 4.019047619047619), ('2029', 3.1629955947136565), ('2031', 3.56), ('2033', 2.607142857142857), ('2036', 3.9384615384615387), ('2037', 3.45), ('2040', 3.369565217391304), ('2041', 3.5485611510791366), ('2044', 4.12), ('2046', 3.5903614457831323), ('2047', 3.588235294117647), ('2049', 4.114285714285714), ('2050', 3.896153846153846), ('2051', 3.432314410480349), ('2052', 2.9), ('2053', 3.4), ('2059', 3.549407114624506), ('2062', 4.1477272727272725), ('2064', 4.0), ('2066', 4.068965517241379), ('2067', 3.5728643216080402), ('2068', 3.952), ('2070', 4.413461538461538), ('2073', 3.696124031007752), ('2075', 3.3255813953488373), ('2077', 3.2309941520467835), ('2079', 3.46875), ('2080', 4.28125), ('2082', 4.338028169014085), ('2084', 3.9483870967741934), ('2085', 3.661764705882353), ('2087', 3.5660377358490565), ('2089', 3.7473684210526317), ('2091', 4.08843537414966), ('2094', 4.056338028169014), ('2095', 3.36), ('2096', 4.181818181818182), ('2099', 3.5277777777777777), ('2101', 3.3047619047619046), ('2103', 3.865168539325843), ('2111', 3.75), ('2113', 3.847826086956522), ('2115', 3.8620689655172415), ('2117', 4.260869565217392), ('2121', 3.670157068062827), ('2122', 3.6201923076923075), ('2123', 4.085714285714285), ('2129', 3.2717086834733893), ('2131', 3.370716510903427), ('2132', 2.5652173913043477), ('2134', 3.593220338983051), ('2135', 3.730769230769231), ('2137', 4.130434782608695), ('2138', 3.75), ('2141', 4.2), ('2142', 3.5324675324675323), ('2146', 3.323529411764706), ('2147', 3.5833333333333335), ('2148', 3.9215686274509802), ('2149', 3.811320754716981), ('2150', 3.6176470588235294), ('2152', 3.652173913043478), ('2153', 3.8526912181303117), ('2155', 4.690140845070423), ('2157', 3.4864864864864864), ('2160', 3.95), ('2161', 3.5833333333333335), ('2164', 3.6602972399150744), ('2166', 3.6901408450704225), ('2167', 2.463963963963964), ('2168', 3.9424657534246577), ('2169', 3.810810810810811), ('2170', 4.23015873015873), ('2171', 4.445544554455446), ('2172', 3.059866962305987), ('2173', 3.771043771043771), ('2174', 3.5842696629213484), ('2175', 4.136094674556213), ('2176', 4.217877094972067), ('2180', 2.838630806845966), ('2181', 3.33224043715847), ('2182', 3.6666666666666665), ('2183', 3.6857142857142855), ('2186', 3.441780821917808), ('2187', 3.72992700729927), ('2189', 3.6), ('2190', 3.8923076923076922), ('2193', 4.0), ('2199', 3.0697674418604652), ('2200', 3.1052631578947367), ('2202', 3.2816901408450705), ('2205', 3.076620825147348), ('2207', 4.238095238095238), ('2208', 3.509433962264151), ('2209', 3.4347826086956523), ('2212', 3.16), ('2213', 3.641025641025641), ('2214', 4.160493827160494), ('2223', 3.0890151515151514), ('2224', 4.2368421052631575), ('2225', 3.338345864661654), ('2226', 3.673076923076923), ('2229', 3.4871794871794872), ('2237', 3.916289592760181), ('2238', 3.75), ('2239', 4.092436974789916), ('2241', 4.25), ('2242', 3.6536144578313254), ('2243', 4.683333333333334), ('2248', 3.7476635514018692), ('2249', 3.9285714285714284), ('2250', 3.074626865671642), ('2251', 3.6610169491525424), ('2255', 3.6685714285714286), ('2259', 4.471615720524017), ('2260', 3.64), ('2262', 3.6842105263157894), ('2264', 3.63), ('2265', 3.6422413793103448), ('2267', 3.547169811320755), ('2268', 4.260869565217392), ('2270', 3.4466019417475726), ('2274', 3.775), ('2281', 4.0519480519480515), ('2282', 4.026595744680851), ('2284', 3.8846153846153846), ('2286', 3.6), ('2290', 3.3393939393939394), ('2292', 3.1), ('2295', 4.409090909090909), ('2300', 3.8846153846153846), ('2302', 3.5979899497487438), ('2308', 4.253968253968254), ('2310', 3.8613861386138613), ('2311', 4.0), ('2312', 3.6285714285714286), ('2314', 3.1142857142857143), ('2316', 3.9084967320261437), ('2317', 4.163934426229508), ('2318', 2.739130434782609), ('2320', 3.28), ('2322', 3.696969696969697), ('2323', 3.6728624535315983), ('2324', 4.033707865168539), ('2325', 3.357142857142857), ('2326', 3.892857142857143), ('2327', 3.3389830508474576), ('2328', 3.292682926829268), ('2329', 3.375), ('2331', 4.214285714285714), ('2332', 4.065217391304348), ('2333', 3.7096774193548385), ('2334', 3.7327327327327327), ('2336', 3.9523809523809526), ('2337', 4.181818181818182), ('2338', 3.8502673796791442), ('2344', 3.4414893617021276), ('2346', 3.652173913043478), ('2348', 3.150485436893204), ('2349', 3.1025641025641026), ('2350', 3.8620689655172415), ('2351', 3.4545454545454546), ('2353', 3.6091370558375635), ('2354', 3.6153846153846154), ('2358', 3.857142857142857), ('2359', 3.6271186440677967), ('2361', 3.6122448979591835), ('2362', 3.7346938775510203), ('2363', 4.580645161290323), ('2364', 4.137931034482759), ('2365', 4.191489361702128), ('2367', 3.792452830188679), ('2368', 4.241379310344827), ('2369', 4.448275862068965), ('2370', 4.092105263157895), ('2371', 3.6790123456790123), ('2373', 4.095238095238095), ('2375', 3.7037037037037037), ('2376', 3.3684210526315788), ('2378', 3.0727969348659006), ('2379', 4.1923076923076925), ('2380', 3.3817733990147785), ('2382', 3.737704918032787), ('2384', 4.096774193548387), ('2385', 3.782608695652174), ('2388', 4.045454545454546), ('2389', 3.8461538461538463), ('2390', 3.9473684210526314), ('2391', 3.6901408450704225), ('2392', 4.023255813953488), ('2393', 3.889655172413793), ('2397', 4.0), ('2398', 4.077586206896552), ('2399', 3.772727272727273), ('2400', 3.339622641509434), ('2402', 3.3100189035916823), ('2406', 3.94), ('2408', 3.753623188405797), ('2409', 3.8805970149253732), ('2410', 3.6228070175438596), ('2412', 3.8333333333333335), ('2414', 4.1594827586206895), ('2416', 3.702127659574468), ('2417', 4.448275862068965), ('2418', 3.087719298245614), ('2421', 3.819672131147541), ('2423', 4.04), ('2424', 3.292517006802721), ('2426', 3.888888888888889), ('2427', 3.884297520661157), ('2428', 3.674698795180723), ('2429', 3.936), ('2431', 3.5), ('2432', 3.857142857142857), ('2434', 3.625), ('2438', 3.575), ('2441', 4.074074074074074), ('2442', 3.8620689655172415), ('2443', 3.3846153846153846), ('2445', 3.5368852459016393), ('2446', 3.869358669833729), ('2448', 3.8767123287671232), ('2449', 3.8076923076923075), ('2450', 3.3333333333333335), ('2452', 4.096153846153846), ('2453', 3.534181240063593), ('2457', 3.1703406813627253), ('2459', 3.747967479674797), ('2462', 3.5354330708661417), ('2464', 3.8), ('2469', 3.706896551724138), ('2470', 3.347826086956522), ('2478', 3.5505226480836236), ('2479', 3.8484848484848486), ('2481', 3.909090909090909), ('2484', 3.3692870201096894), ('2486', 3.8051948051948052), ('2487', 3.7027027027027026), ('2490', 3.5454545454545454), ('2491', 3.0350877192982457), ('2492', 3.764044943820225), ('2496', 2.9902152641878668), ('2499', 3.617021276595745), ('2501', 3.9058823529411764), ('2505', 4.09375), ('2507', 3.9441210710128054), ('2508', 3.566666666666667), ('2509', 3.341463414634146), ('2510', 4.534883720930233), ('2511', 4.206896551724138), ('2512', 3.870967741935484), ('2515', 4.137254901960785), ('2516', 3.772727272727273), ('2517', 3.3), ('2518', 3.9761904761904763), ('2520', 4.104166666666667), ('2521', 3.888888888888889), ('2522', 3.689189189189189), ('2523', 4.007692307692308), ('2526', 3.88212927756654), ('2534', 3.473684210526316), ('2535', 3.984848484848485), ('2536', 3.1578947368421053), ('2537', 3.027075812274368), ('2538', 3.88), ('2539', 3.8048780487804876), ('2542', 3.88), ('2543', 4.458333333333333), ('2544', 3.689986282578875), ('2546', 3.3220338983050848), ('2547', 4.143884892086331), ('2548', 3.9302325581395348), ('2549', 3.0869565217391304), ('2552', 3.625), ('2555', 3.6012658227848102), ('2556', 3.4893617021276597), ('2558', 3.5625), ('2561', 3.779220779220779), ('2562', 3.8596491228070176), ('2569', 3.4565217391304346), ('2570', 3.8125), ('2572', 4.185430463576159), ('2573', 4.010309278350515), ('2574', 4.606060606060606), ('2578', 4.142857142857143), ('2579', 4.161764705882353), ('2582', 4.0), ('2583', 4.341389728096677), ('2586', 4.122448979591836), ('2589', 3.5235849056603774), ('2590', 3.2016806722689077), ('2593', 4.536764705882353), ('2597', 3.876923076923077), ('2598', 3.7037037037037037), ('2599', 3.6200873362445414), ('2601', 3.793103448275862), ('2602', 3.3448275862068964), ('2607', 4.17741935483871), ('2609', 4.306930693069307), ('2611', 3.347319347319347), ('2612', 3.0930232558139537), ('2613', 4.090909090909091), ('2614', 4.133333333333334), ('2615', 3.4918032786885247), ('2618', 3.16), ('2620', 3.532051282051282), ('2628', 3.334975369458128), ('2630', 3.5925925925925926), ('2631', 4.269662921348314), ('2633', 3.7567567567567566), ('2634', 3.949640287769784), ('2635', 3.440677966101695), ('2636', 3.7936507936507935), ('2637', 3.4107142857142856), ('2639', 3.878787878787879), ('2640', 3.8095238095238093), ('2644', 3.857142857142857), ('2646', 4.130434782608695), ('2647', 4.333333333333333), ('2651', 3.310344827586207), ('2652', 4.048780487804878), ('2653', 3.6206896551724137), ('2654', 4.08), ('2655', 3.1315789473684212), ('2657', 4.045454545454546), ('2658', 3.903225806451613), ('2663', 3.6858974358974357), ('2664', 3.449591280653951), ('2665', 3.072463768115942), ('2668', 3.4174311926605503), ('2669', 3.747826086956522), ('2670', 3.5531914893617023), ('2671', 3.217391304347826), ('2675', 3.3181818181818183), ('2676', 4.170305676855895), ('2677', 3.710526315789474), ('2680', 3.2850467289719627), ('2683', 4.36964980544747), ('2685', 3.5969387755102042), ('2686', 2.8095238095238093), ('2687', 4.260869565217392), ('2688', 3.466666666666667), ('2690', 4.217391304347826), ('2697', 4.411764705882353), ('2698', 4.0), ('2700', 3.3877551020408165), ('2701', 3.219298245614035), ('2702', 2.4146341463414633), ('2703', 3.6847826086956523), ('2706', 4.08), ('2707', 3.5217391304347827), ('2708', 3.081081081081081), ('2714', 3.55), ('2715', 3.3333333333333335), ('2720', 3.0526315789473686), ('2721', 3.823529411764706), ('2722', 3.4347826086956523), ('2725', 3.6285714285714286), ('2727', 3.352272727272727), ('2732', 4.111111111111111), ('2734', 3.87603305785124), ('2736', 3.702970297029703), ('2740', 3.696551724137931), ('2742', 2.861111111111111), ('2744', 1.3043478260869565), ('2747', 4.302158273381295), ('2748', 2.708588957055215), ('2749', 3.9555555555555557), ('2750', 4.295), ('2751', 3.4269662921348316), ('2752', 3.2962962962962963), ('2754', 3.79), ('2757', 3.953488372093023), ('2760', 4.102941176470588), ('2762', 4.0), ('2763', 2.76), ('2766', 4.137254901960785), ('2767', 3.269230769230769), ('2768', 4.0375), ('2769', 3.7534246575342465), ('2770', 4.1063829787234045), ('2772', 3.6741573033707864), ('2775', 4.379310344827586), ('2779', 3.935672514619883), ('2781', 4.257042253521127), ('2784', 4.069620253164557), ('2785', 3.147239263803681), ('2787', 3.971014492753623), ('2788', 4.419354838709677), ('2790', 4.245901639344262), ('2791', 4.5625), ('2793', 4.068441064638783), ('2794', 3.832167832167832), ('2795', 3.62), ('2796', 2.50990099009901), ('2797', 3.0), ('2800', 3.4615384615384617), ('2802', 3.6), ('2803', 3.7927927927927927), ('2804', 3.888888888888889), ('2805', 3.897727272727273), ('2806', 3.3037974683544302), ('2807', 3.391044776119403), ('2808', 4.115107913669065), ('2809', 4.339449541284404), ('2811', 3.6666666666666665), ('2812', 3.603305785123967), ('2813', 3.0), ('2814', 4.047058823529412), ('2817', 4.2073170731707314), ('2820', 2.9642058165548097), ('2821', 3.6333333333333333), ('2823', 2.9148936170212765), ('2826', 3.609848484848485), ('2831', 4.222222222222222), ('2833', 3.30188679245283), ('2837', 3.302127659574468), ('2838', 4.512820512820513), ('2839', 3.3142857142857145), ('2840', 2.942857142857143), ('2841', 4.170786516853933), ('2842', 3.6292134831460676), ('2843', 2.8461538461538463), ('2845', 3.9444444444444446), ('2847', 2.7146464646464645), ('2850', 2.7674418604651163), ('2853', 3.460674157303371), ('2857', 3.159748427672956), ('2859', 4.195488721804511), ('2860', 3.9192913385826773), ('2861', 3.369565217391304), ('2867', 4.25), ('2869', 3.727272727272727), ('2870', 2.867132867132867), ('2873', 3.5665236051502145), ('2877', 3.4782608695652173), ('2878', 3.614388489208633), ('2881', 3.8160919540229883), ('2882', 3.3333333333333335), ('2883', 2.7181208053691277), ('2884', 4.2), ('2886', 3.9080459770114944), ('2887', 3.52027027027027), ('2888', 3.481382978723404), ('2889', 3.81025641025641), ('2890', 3.5390070921985815), ('2892', 3.6881720430107525), ('2894', 3.8672566371681416), ('2896', 3.578125), ('2899', 3.9529411764705884), ('2900', 4.033557046979865), ('2901', 4.289156626506024), ('2902', 3.8636363636363638), ('2905', 3.6984126984126986), ('2907', 3.293286219081272), ('2908', 3.761904761904762), ('2911', 3.634920634920635), ('2915', 3.763888888888889), ('2916', 3.665236051502146), ('2917', 3.5285714285714285), ('2918', 3.6098191214470283), ('2919', 3.769230769230769), ('2920', 3.4583333333333335), ('2924', 3.9565217391304346), ('2925', 3.84), ('2926', 3.283625730994152), ('2928', 3.842857142857143), ('2930', 3.45), ('2931', 3.6339285714285716), ('2932', 3.9285714285714284), ('2934', 3.307073954983923), ('2937', 3.5288461538461537), ('2938', 3.8756218905472637), ('2940', 3.5483870967741935), ('2941', 3.4596100278551534), ('2943', 4.395161290322581), ('2944', 4.218390804597701), ('2945', 3.838235294117647), ('2946', 2.839479392624729), ('2948', 4.037735849056604), ('2950', 3.1492537313432836), ('2951', 4.230769230769231), ('2954', 3.9444444444444446), ('2956', 3.4814814814814814), ('2957', 4.453125), ('2960', 4.032258064516129), ('2961', 3.977272727272727), ('2964', 4.541666666666667), ('2967', 3.455407969639469), ('2970', 4.291666666666667), ('2971', 3.8333333333333335), ('2975', 4.19), ('2976', 3.6013986013986012), ('2977', 3.238095238095238), ('2981', 4.266666666666667), ('2982', 3.6363636363636362), ('2983', 4.363636363636363), ('2984', 3.6666666666666665), ('2985', 3.532608695652174), ('2988', 3.1587301587301586), ('2989', 3.742857142857143), ('2991', 3.9655172413793105), ('2992', 3.302325581395349), ('2994', 3.2572944297082227), ('2998', 3.5), ('2999', 2.9407407407407407), ('3000', 3.2641509433962264), ('3002', 4.217687074829932), ('3004', 3.85), ('3007', 2.8702928870292888), ('3008', 3.823529411764706), ('3009', 4.0), ('3011', 4.315217391304348), ('3013', 3.4539614561027836), ('3014', 3.570588235294118), ('3016', 3.8292682926829267), ('3017', 3.2845303867403315), ('3019', 4.148148148148148), ('3026', 2.761904761904762), ('3027', 4.217391304347826), ('3029', 3.914586070959264), ('3031', 3.904), ('3035', 3.8125), ('3036', 4.525862068965517), ('3037', 4.21875), ('3040', 3.5833333333333335), ('3045', 4.277027027027027), ('3046', 3.3376623376623376), ('3048', 3.914285714285714), ('3049', 4.267605633802817), ('3053', 3.25), ('3054', 3.5076045627376424), ('3055', 3.5121951219512195), ('3056', 3.653992395437262), ('3057', 3.472049689440994), ('3058', 3.696551724137931), ('3059', 4.0), ('3060', 3.5675675675675675), ('3061', 4.125), ('3062', 3.296875), ('3066', 3.933333333333333), ('3067', 3.7530266343825667), ('3068', 3.761904761904762), ('3069', 2.883720930232558), ('3072', 3.380952380952381), ('3074', 4.302816901408451), ('3075', 3.6339622641509433), ('3076', 3.8181818181818183), ('3077', 3.8461538461538463), ('3078', 4.0625), ('3079', 3.883720930232558), ('3081', 4.0390625), ('3084', 3.7051282051282053), ('3085', 4.170731707317073), ('3088', 4.02), ('3090', 3.6451612903225805), ('3094', 3.658536585365854), ('3095', 3.896551724137931), ('3097', 3.634920634920635), ('3098', 3.369565217391304), ('3100', 4.2), ('3102', 3.4411764705882355), ('3103', 4.128205128205129), ('3104', 3.896551724137931), ('3108', 3.68801652892562), ('3109', 3.526315789473684), ('3110', 3.6033333333333335), ('3111', 3.2419354838709675), ('3112', 3.3896713615023475), ('3113', 3.68), ('3115', 3.4166666666666665), ('3116', 3.635294117647059), ('3117', 4.297297297297297), ('3118', 3.543859649122807), ('3119', 3.3777777777777778), ('3121', 3.4686346863468636), ('3125', 3.7288135593220337), ('3130', 3.626865671641791), ('3134', 3.623762376237624), ('3135', 4.097560975609756), ('3136', 4.1), ('3139', 4.11864406779661), ('3140', 3.9009287925696596), ('3141', 4.114754098360656), ('3142', 4.074468085106383), ('3143', 3.3537735849056602), ('3144', 3.6857142857142855), ('3145', 3.72972972972973), ('3155', 4.035294117647059), ('3157', 3.559748427672956), ('3161', 4.140845070422535), ('3162', 2.8780487804878048), ('3163', 3.9324009324009324), ('3164', 3.5), ('3166', 3.925), ('3167', 4.031818181818182), ('3169', 3.7674418604651163), ('3173', 4.168421052631579), ('3177', 4.180327868852459), ('3183', 3.3513513513513513), ('3184', 3.8285714285714287), ('3185', 3.988888888888889), ('3187', 4.333333333333333), ('3190', 3.9444444444444446), ('3194', 3.735294117647059), ('3195', 3.5), ('3197', 3.323529411764706), ('3199', 3.47), ('3201', 4.082959641255606), ('3203', 4.049382716049383), ('3209', 2.0608695652173914), ('3210', 4.5369127516778525), ('3212', 2.8846153846153846), ('3214', 4.25), ('3215', 3.25), ('3216', 3.324074074074074), ('3217', 3.862857142857143), ('3225', 3.6666666666666665), ('3230', 3.912751677852349), ('3231', 4.124183006535947), ('3237', 3.8846153846153846), ('3238', 4.46875), ('3239', 3.554054054054054), ('3242', 3.5904761904761906), ('3243', 3.816593886462882), ('3244', 4.125), ('3246', 3.310344827586207), ('3247', 3.896551724137931), ('3250', 3.2419354838709675), ('3251', 4.464285714285714), ('3253', 3.856287425149701), ('3255', 3.6222222222222222), ('3257', 4.2592592592592595), ('3259', 4.045569620253165), ('3260', 3.9078947368421053), ('3261', 3.2430426716141003), ('3262', 3.3626373626373627), ('3263', 3.9292035398230087), ('3265', 2.8484251968503935), ('3266', 4.357615894039735), ('3267', 3.857142857142857), ('3270', 3.6639344262295084), ('3271', 3.8214285714285716), ('3273', 4.1), ('3280', 2.782742681047766), ('3281', 4.031578947368421), ('3282', 4.5), ('3283', 3.597560975609756), ('3284', 4.2926829268292686), ('3285', 3.419457735247209), ('3286', 4.285714285714286), ('3288', 3.576923076923077), ('3290', 2.6818181818181817), ('3293', 3.2888888888888888), ('3294', 4.11340206185567), ('3296', 4.375), ('3297', 3.238095238095238), ('3301', 3.696774193548387), ('3303', 4.4), ('3307', 3.6153846153846154), ('3310', 4.121212121212121), ('3311', 2.7782608695652176), ('3312', 3.001503759398496), ('3314', 4.002994011976048), ('3315', 4.021978021978022), ('3316', 4.0), ('3318', 4.242857142857143), ('3323', 3.8412698412698414), ('3324', 4.904761904761905), ('3328', 3.4835164835164836), ('3329', 3.5072463768115942), ('3334', 3.89), ('3335', 4.074074074074074), ('3347', 4.4), ('3349', 3.6853146853146854), ('3350', 4.326086956521739), ('3358', 3.8017241379310347), ('3361', 3.8447204968944098), ('3364', 3.625), ('3367', 4.261971830985916), ('3368', 3.6391752577319587), ('3370', 3.3636363636363638), ('3373', 3.5), ('3376', 3.35), ('3377', 3.982142857142857), ('3379', 3.717948717948718), ('3381', 3.4827586206896552), ('3384', 3.5714285714285716), ('3387', 3.3795620437956204), ('3389', 2.826923076923077), ('3390', 4.187192118226601), ('3394', 3.892638036809816), ('3396', 3.8260869565217392), ('3399', 3.5454545454545454), ('3404', 3.8076923076923075), ('3406', 4.048780487804878), ('3407', 3.5), ('3408', 3.7672413793103448), ('3410', 3.217510259917921), ('3411', 2.7321937321937324), ('3412', 4.156996587030717), ('3416', 3.578723404255319), ('3417', 3.869565217391304), ('3418', 3.7914691943127963), ('3421', 4.333333333333333), ('3423', 3.943217665615142), ('3426', 3.975), ('3427', 3.763157894736842), ('3428', 4.0), ('3429', 3.6), ('3430', 3.41871921182266), ('3431', 3.806451612903226), ('3433', 3.022727272727273), ('3438', 3.55), ('3440', 4.2592592592592595), ('3441', 2.90625), ('3442', 3.435483870967742), ('3444', 3.1), ('3448', 3.6153846153846154), ('3450', 3.6031746031746033), ('3451', 3.870967741935484), ('3452', 4.458823529411765), ('3454', 3.5027624309392267), ('3456', 4.418181818181818), ('3460', 4.214285714285714), ('3461', 4.702702702702703), ('3463', 3.891891891891892), ('3465', 3.8135593220338984), ('3467', 4.084745762711864), ('3469', 3.8845315904139435), ('3470', 3.6785714285714284), ('3471', 3.1650485436893203), ('3475', 3.017684887459807), ('3476', 2.622695035460993), ('3478', 3.3783783783783785), ('3479', 3.588888888888889), ('3480', 3.7872340425531914), ('3481', 3.9785714285714286), ('3483', 3.809379727685325), ('3484', 2.970873786407767), ('3485', 4.25), ('3489', 2.876190476190476), ('3491', 3.8170563961485557), ('3492', 3.9206349206349205), ('3493', 3.576687116564417), ('3494', 3.5714285714285716), ('3498', 3.7606837606837606), ('3499', 3.4897025171624714), ('3500', 3.7419354838709675), ('3502', 4.393939393939394), ('3504', 3.5233644859813085), ('3507', 3.2611050920910074), ('3508', 3.6944444444444446), ('3510', 3.6865671641791047), ('3511', 3.878640776699029), ('3512', 3.584352078239609), ('3513', 3.4083601286173635), ('3514', 3.973684210526316), ('3515', 3.86), ('3516', 3.305732484076433), ('3519', 3.045045045045045), ('3520', 3.709342560553633), ('3523', 3.8205128205128207), ('3524', 3.5751633986928106), ('3528', 2.5714285714285716), ('3530', 3.75), ('3531', 4.233766233766234), ('3534', 4.072727272727272), ('3535', 3.9655172413793105), ('3537', 2.456140350877193), ('3539', 4.038033395176252), ('3544', 4.344827586206897), ('3545', 3.4285714285714284), ('3546', 3.392682926829268), ('3547', 3.5359116022099446), ('3552', 3.2), ('3553', 4.085106382978723), ('3554', 3.696969696969697), ('3556', 3.8660714285714284), ('3557', 3.864795918367347), ('3558', 4.31), ('3560', 4.45985401459854), ('3562', 3.38506588579795), ('3563', 3.843601895734597), ('3564', 3.25), ('3568', 3.9411764705882355), ('3569', 2.9016018306636155), ('3572', 4.2342342342342345), ('3573', 3.361111111111111), ('3574', 3.636871508379888), ('3576', 3.325323475046211), ('3578', 3.3948339483394836), ('3579', 3.323420074349442), ('3580', 4.027777777777778), ('3583', 4.2), ('3586', 3.361963190184049), ('3587', 4.348837209302325), ('3588', 4.066666666666666), ('3590', 4.1645021645021645), ('3591', 3.712871287128713), ('3593', 3.390625), ('3594', 3.445859872611465), ('3595', 4.0), ('3596', 4.6875), ('3597', 3.973684210526316), ('3600', 3.725067385444744), ('3604', 4.592592592592593), ('3606', 4.114285714285714), ('3608', 3.7549019607843137), ('3609', 3.1586206896551725), ('3610', 2.3333333333333335), ('3611', 4.029268292682927), ('3614', 3.2802547770700636), ('3617', 3.617021276595745), ('3619', 3.6831683168316833), ('3620', 2.9582366589327145), ('3622', 3.89937106918239), ('3624', 3.9858757062146895), ('3626', 3.598830409356725), ('3628', 3.5161290322580645), ('3631', 3.875), ('3634', 3.0869565217391304), ('3635', 4.208588957055214), ('3636', 3.6956521739130435), ('3637', 2.984848484848485), ('3638', 3.456), ('3639', 2.988372093023256), ('3640', 3.9452054794520546), ('3641', 3.6371134020618556), ('3642', 2.5714285714285716), ('3646', 4.139784946236559), ('3647', 3.787878787878788), ('3648', 3.017543859649123), ('3650', 3.5605095541401273), ('3651', 3.952191235059761), ('3655', 3.78125), ('3656', 3.0126582278481013), ('3657', 4.157894736842105), ('3658', 3.981203007518797), ('3659', 4.21875), ('3660', 3.7413793103448274), ('3661', 3.92), ('3666', 4.142857142857143), ('3670', 3.573529411764706), ('3671', 4.201923076923077), ('3673', 3.8962264150943398), ('3674', 3.7472527472527473), ('3677', 3.950354609929078), ('3678', 3.2014388489208634), ('3679', 3.5625), ('3680', 3.892857142857143), ('3685', 4.068403908794788), ('3686', 4.4), ('3690', 2.9301745635910224), ('3694', 3.9622641509433962), ('3696', 3.94), ('3697', 4.029411764705882), ('3705', 3.7045454545454546), ('3707', 3.823529411764706), ('3709', 3.2658610271903323), ('3710', 3.8260869565217392), ('3712', 3.5785714285714287), ('3714', 3.1), ('3715', 3.7531645569620253), ('3717', 3.769230769230769), ('3719', 3.8055555555555554), ('3720', 3.4589371980676327), ('3722', 3.967741935483871), ('3723', 4.256410256410256), ('3729', 3.783295711060948), ('3731', 2.752), ('3736', 3.568), ('3738', 4.53125), ('3739', 3.5454545454545454), ('3741', 3.611940298507463), ('3742', 3.712), ('3743', 3.5625), ('3744', 4.083333333333333), ('3745', 3.297029702970297), ('3747', 4.03125), ('3751', 3.3931203931203933), ('3752', 3.372972972972973), ('3754', 3.6875), ('3755', 4.472222222222222), ('3756', 3.8743961352657004), ('3757', 4.263681592039801), ('3761', 4.187134502923977), ('3762', 2.542372881355932), ('3763', 3.8857142857142857), ('3768', 3.359154929577465), ('3774', 4.0), ('3776', 3.9047619047619047), ('3778', 2.6886291179596173), ('3780', 4.24), ('3781', 4.483870967741935), ('3785', 3.2), ('3789', 4.231788079470198), ('3791', 3.388888888888889), ('3793', 2.789473684210526), ('3795', 4.137931034482759), ('3796', 4.014851485148514), ('3797', 3.4814814814814814), ('3802', 3.1818181818181817), ('3807', 3.3410041841004183), ('3809', 4.404255319148936), ('3811', 3.8), ('3813', 4.447761194029851), ('3814', 3.5), ('3815', 4.333333333333333), ('3817', 3.452830188679245), ('3818', 4.1063829787234045), ('3820', 4.4222222222222225), ('3826', 3.857142857142857), ('3827', 3.747311827956989), ('3828', 3.9285714285714284), ('3830', 4.051470588235294), ('3831', 3.401639344262295), ('3832', 4.111111111111111), ('3834', 4.254448398576512), ('3835', 4.472527472527473), ('3836', 3.388235294117647), ('3837', 3.770408163265306), ('3838', 3.25), ('3839', 3.340909090909091), ('3840', 4.088235294117647), ('3842', 3.687593423019432), ('3845', 4.121621621621622), ('3846', 3.9571428571428573), ('3848', 4.153846153846154), ('3849', 3.1492537313432836), ('3850', 3.8671875), ('3851', 3.116279069767442), ('3852', 4.43859649122807), ('3853', 4.248407643312102), ('3855', 3.712871287128713), ('3856', 3.9361702127659575), ('3858', 4.277777777777778), ('3859', 3.414239482200647), ('3860', 3.6491228070175437), ('3863', 3.76), ('3864', 4.51980198019802), ('3867', 4.0), ('3868', 3.4363636363636365), ('3869', 2.96), ('3872', 4.479166666666667), ('3876', 3.5681818181818183), ('3877', 4.409090909090909), ('3878', 3.950413223140496), ('3879', 3.3043478260869565), ('3883', 3.25), ('3885', 3.6932203389830507), ('3886', 3.67032967032967), ('3887', 3.3448275862068964), ('3888', 3.7086092715231787), ('3890', 4.197183098591549), ('3891', 4.16), ('3892', 3.3962264150943398), ('3895', 3.295774647887324), ('3897', 4.095238095238095), ('3898', 3.742574257425743), ('3899', 3.576923076923077), ('3901', 3.546666666666667), ('3902', 4.890909090909091), ('3904', 3.912621359223301), ('3907', 3.576923076923077), ('3909', 3.41025641025641), ('3914', 3.6371681415929205), ('3915', 3.652173913043478), ('3919', 4.072463768115942), ('3922', 2.7808988764044944), ('3927', 3.9423076923076925), ('3928', 3.1785714285714284), ('3933', 3.875), ('3934', 2.607396870554765), ('3935', 3.4226190476190474), ('3938', 4.170212765957447), ('3939', 3.7083333333333335), ('3940', 3.680894308943089), ('3942', 2.655115511551155), ('3944', 3.54), ('3946', 3.734848484848485), ('3947', 4.117647058823529), ('3949', 3.824324324324324), ('3950', 3.2714285714285714), ('1', 4.188679245283019), ('2', 3.7131782945736433), ('8', 3.884892086330935), ('9', 3.7358490566037736), ('11', 3.2773722627737225), ('12', 3.8260869565217392), ('19', 3.5725490196078433), ('20', 4.083333333333333), ('23', 3.3157894736842106), ('25', 3.7411764705882353), ('27', 4.171428571428572), ('28', 3.7570093457943927), ('30', 3.488372093023256), ('35', 3.54040404040404), ('36', 4.199430199430199), ('37', 3.69811320754717), ('39', 3.564516129032258), ('41', 3.48), ('42', 3.74025974025974), ('46', 4.219512195121951), ('47', 3.909090909090909), ('48', 3.068561872909699), ('49', 3.712962962962963), ('50', 3.0697674418604652), ('52', 3.5569620253164556), ('53', 4.2368421052631575), ('54', 4.025), ('56', 3.970149253731343), ('59', 3.4741784037558685), ('60', 3.414285714285714), ('63', 3.4285714285714284), ('65', 4.347107438016529), ('66', 3.8461538461538463), ('67', 4.296875), ('69', 4.153846153846154), ('71', 3.7586206896551726), ('74', 4.046511627906977), ('81', 4.4186046511627906), ('82', 4.016949152542373), ('85', 3.1025641025641026), ('86', 4.3125), ('87', 2.8135593220338984), ('88', 4.147058823529412), ('92', 2.7581395348837208), ('93', 2.9727272727272727), ('94', 3.857142857142857), ('95', 3.595959595959596), ('97', 4.474025974025974), ('98', 3.8), ('99', 3.2149532710280373), ('100', 3.026315789473684), ('101', 4.679245283018868), ('104', 3.347826086956522), ('105', 4.295081967213115), ('106', 4.0212765957446805), ('111', 3.7282608695652173), ('113', 3.5), ('115', 3.8421052631578947), ('116', 3.802325581395349), ('118', 3.767857142857143), ('120', 3.619047619047619), ('122', 2.9649122807017543), ('123', 3.401315789473684), ('127', 3.8448275862068964), ('128', 4.363636363636363), ('129', 4.025316455696203), ('132', 3.966292134831461), ('135', 3.657142857142857), ('137', 3.611940298507463), ('139', 3.8816326530612244), ('141', 3.6956521739130435), ('143', 3.5441176470588234), ('145', 3.0), ('146', 3.7699530516431925), ('147', 3.5026737967914436), ('149', 3.9408783783783785), ('154', 3.090909090909091), ('155', 2.96875), ('156', 4.236486486486487), ('158', 4.0), ('161', 4.4713804713804715), ('162', 4.121495327102804), ('166', 3.6878048780487807), ('167', 2.9310344827586206), ('170', 3.9885057471264367), ('171', 4.0), ('174', 3.649484536082474), ('175', 3.9810725552050474), ('177', 4.113636363636363), ('178', 3.8434782608695652), ('179', 2.6545454545454548), ('183', 4.099009900990099), ('190', 3.6993464052287583), ('192', 3.0914285714285716), ('194', 3.983050847457627), ('195', 3.889294403892944), ('196', 4.0625), ('197', 3.909090909090909), ('198', 3.7493403693931397), ('199', 3.2761194029850746), ('203', 2.2913385826771653), ('204', 3.5560538116591927), ('205', 4.0588235294117645), ('206', 3.066666666666667), ('207', 3.5217391304347827), ('208', 3.652173913043478), ('209', 3.16), ('212', 3.8545454545454545), ('214', 3.1626506024096384), ('215', 4.5588235294117645), ('218', 3.0930232558139537), ('223', 3.44140625), ('224', 3.4019607843137254), ('230', 4.094972067039106), ('241', 3.9649122807017543), ('243', 3.606060606060606), ('248', 4.205882352941177), ('249', 3.9454545454545453), ('253', 3.9245283018867925), ('255', 4.016393442622951), ('258', 3.717241379310345), ('259', 4.0359712230215825), ('260', 3.311688311688312), ('261', 3.5762711864406778), ('263', 3.6630434782608696), ('264', 2.785416666666667), ('268', 3.3946360153256707), ('269', 3.8), ('272', 3.6535269709543567), ('273', 3.727272727272727), ('274', 4.243243243243243), ('275', 4.247191011235955), ('279', 2.872340425531915), ('281', 3.891891891891892), ('283', 4.962962962962963), ('284', 3.021231422505308), ('285', 4.16546762589928), ('287', 3.70873786407767), ('288', 4.589285714285714), ('289', 3.9054054054054053), ('290', 3.303030303030303), ('292', 3.7560975609756095), ('294', 3.489795918367347), ('300', 4.180722891566265), ('303', 3.861244019138756), ('304', 3.5555555555555554), ('305', 2.5605095541401273), ('306', 3.937823834196891), ('308', 3.385996409335727), ('310', 3.4260089686098656), ('314', 3.696245733788396), ('322', 4.45), ('324', 3.3289473684210527), ('325', 4.046511627906977), ('326', 3.3350923482849604), ('330', 4.0131578947368425), ('331', 3.7654109589041096), ('332', 4.2835820895522385), ('334', 3.9508196721311477), ('337', 3.525252525252525), ('338', 3.665745856353591), ('340', 3.5277777777777777), ('342', 3.6910569105691056), ('343', 4.047138047138047), ('346', 4.307420494699647), ('348', 3.78), ('349', 3.25), ('350', 3.9375), ('351', 3.7572815533980584), ('361', 3.5384615384615383), ('362', 3.290909090909091), ('364', 3.142857142857143), ('365', 3.3404255319148937), ('370', 3.75), ('373', 3.5555555555555554), ('374', 4.403846153846154), ('375', 4.078431372549019), ('376', 4.111111111111111), ('378', 3.5128205128205128), ('379', 4.234375), ('383', 3.5714285714285716), ('386', 3.3230769230769233), ('387', 3.676470588235294), ('389', 3.5616438356164384), ('390', 3.6728971962616823), ('391', 3.728395061728395), ('394', 3.3421052631578947), ('396', 3.560693641618497), ('397', 3.8823529411764706), ('402', 3.591549295774648), ('406', 3.306122448979592), ('408', 4.352564102564102), ('413', 4.404040404040404), ('417', 4.045454545454546), ('420', 4.359375), ('421', 4.25), ('422', 3.297872340425532), ('423', 2.5), ('424', 3.735725938009788), ('425', 3.6613756613756614), ('426', 3.7573221757322175), ('428', 3.9), ('429', 3.346820809248555), ('435', 3.8333333333333335), ('436', 3.8345864661654137), ('438', 3.528239202657807), ('440', 3.586206896551724), ('443', 3.823529411764706), ('446', 4.8431372549019605), ('447', 4.837837837837838), ('448', 3.4347826086956523), ('450', 4.196078431372549), ('452', 4.431818181818182), ('454', 3.218045112781955), ('455', 4.2), ('459', 3.6875), ('461', 3.224609375), ('467', 3.2028985507246377), ('468', 3.730769230769231), ('469', 4.326530612244898), ('471', 3.6285714285714286), ('472', 4.022222222222222), ('473', 4.163265306122449), ('474', 3.380503144654088), ('475', 3.8299595141700404), ('476', 3.8375870069605567), ('478', 3.869565217391304), ('481', 3.696969696969697), ('484', 3.735294117647059), ('485', 4.044444444444444), ('487', 3.34), ('490', 3.7662337662337664), ('492', 3.9375), ('493', 3.848101265822785), ('494', 4.157068062827225), ('496', 4.294117647058823), ('497', 3.5833333333333335), ('498', 3.6511627906976742), ('503', 4.448275862068965), ('506', 3.422222222222222), ('507', 3.9523809523809526), ('508', 3.3221476510067114), ('512', 3.8378378378378377), ('514', 4.2025316455696204), ('516', 2.931972789115646), ('519', 3.3777777777777778), ('520', 3.9363057324840764), ('521', 4.2926829268292686), ('524', 3.608267716535433), ('527', 4.08), ('529', 4.19672131147541), ('531', 3.1591695501730106), ('534', 3.7475728155339807), ('537', 4.3061224489795915), ('539', 3.9242424242424243), ('541', 3.1894736842105265), ('543', 4.078986587183309), ('544', 3.7777777777777777), ('546', 3.231818181818182), ('547', 3.858974358974359), ('548', 3.093220338983051), ('549', 3.7569444444444446), ('550', 3.578076525336091), ('552', 3.7628865979381443), ('553', 4.15625), ('554', 3.511627906976744), ('555', 3.8157894736842106), ('565', 3.44), ('569', 3.52), ('571', 3.7054794520547945), ('572', 3.05), ('573', 3.9722222222222223), ('575', 3.6564417177914113), ('577', 4.487341772151899), ('578', 3.9642857142857144), ('581', 3.6666666666666665), ('582', 4.282051282051282), ('583', 4.040229885057471), ('584', 4.2894736842105265), ('585', 3.4662162162162162), ('588', 4.057395143487859), ('591', 3.231404958677686), ('593', 3.641509433962264), ('594', 4.29559748427673), ('596', 2.9523809523809526), ('597', 4.473684210526316), ('598', 3.3157894736842106), ('599', 3.8518518518518516), ('600', 3.652173913043478), ('601', 3.1501340482573728), ('604', 3.0940766550522647), ('609', 4.346153846153846), ('610', 3.484126984126984), ('611', 3.9393939393939394), ('613', 3.5849056603773586), ('616', 3.9545454545454546), ('618', 3.0), ('620', 3.3240223463687153), ('624', 3.6801075268817205), ('625', 4.0), ('628', 3.9038461538461537), ('629', 3.371308016877637), ('631', 3.7948717948717947), ('634', 4.014925373134329), ('635', 4.3107344632768365), ('636', 4.058139534883721), ('637', 3.7559681697612732), ('639', 3.705), ('640', 4.333333333333333), ('642', 4.111111111111111), ('643', 2.7142857142857144), ('651', 3.6129707112970713), ('653', 4.142857142857143), ('655', 2.733009708737864), ('656', 3.8700564971751414), ('657', 4.016949152542373), ('658', 3.096774193548387), ('661', 4.647887323943662), ('667', 3.0935672514619883), ('670', 3.2444444444444445), ('672', 3.872340425531915), ('673', 3.13151364764268), ('674', 4.2784810126582276), ('675', 3.3095238095238093), ('678', 3.6776776776776776), ('679', 3.926829268292683), ('680', 3.5714285714285716), ('682', 4.733333333333333), ('686', 3.7777777777777777), ('687', 3.4873417721518987), ('688', 3.75), ('689', 3.3925925925925924), ('690', 4.311111111111111), ('691', 4.174757281553398), ('692', 3.8240887480190175), ('697', 3.8), ('698', 3.551851851851852), ('705', 3.371212121212121), ('707', 3.6153846153846154), ('708', 3.85), ('710', 3.4271186440677965), ('711', 4.0), ('715', 3.8877551020408165), ('718', 3.775147928994083), ('721', 3.551051051051051), ('723', 3.8333333333333335), ('724', 3.643312101910828), ('725', 4.197530864197531), ('726', 3.9315068493150687), ('727', 3.6987951807228914), ('732', 3.4285714285714284), ('735', 3.590330788804071), ('736', 3.9298245614035086), ('738', 3.303030303030303), ('740', 4.243243243243243), ('741', 3.324675324675325), ('743', 3.38255033557047), ('746', 2.634433962264151), ('747', 3.59375), ('748', 3.9753086419753085), ('749', 3.3246187363834423), ('750', 4.321428571428571), ('751', 3.88), ('752', 2.8291015625), ('753', 3.7752293577981653), ('755', 4.111111111111111), ('756', 3.9714285714285715), ('762', 3.717391304347826), ('765', 3.574626865671642), ('766', 3.9361702127659575), ('767', 4.023529411764706), ('769', 3.8208955223880596), ('771', 3.769230769230769), ('773', 3.5918367346938775), ('775', 4.0), ('778', 3.785276073619632), ('780', 3.45703125), ('782', 3.4347826086956523), ('784', 4.066666666666666), ('787', 3.58974358974359), ('789', 2.9043478260869566), ('790', 4.3478260869565215), ('794', 3.953488372093023), ('795', 3.442953020134228), ('796', 2.9717391304347824), ('798', 3.149847094801223), ('799', 3.6), ('800', 3.4849624060150375), ('801', 3.6596491228070174), ('804', 3.272727272727273), ('807', 3.9696969696969697), ('808', 3.1236363636363635), ('810', 3.8174603174603177), ('811', 4.184615384615385), ('813', 3.343283582089552), ('814', 4.055555555555555), ('815', 4.068965517241379), ('819', 3.3225806451612905), ('823', 3.8677685950413223), ('824', 3.646103896103896), ('825', 3.619047619047619), ('826', 3.2857142857142856), ('827', 3.9545454545454546), ('829', 4.231884057971015), ('830', 3.6149425287356323), ('832', 3.558139534883721), ('833', 4.0476190476190474), ('837', 3.260869565217391), ('840', 4.219123505976095), ('841', 3.576923076923077), ('842', 3.8378378378378377), ('843', 3.9444444444444446), ('846', 3.91699604743083), ('847', 3.6129032258064515), ('849', 3.264957264957265), ('850', 3.5613718411552346), ('852', 4.117647058823529), ('853', 3.890909090909091), ('854', 3.027667984189723), ('855', 3.4126984126984126), ('856', 3.490566037735849), ('857', 4.171428571428572), ('858', 4.189473684210526), ('860', 3.1666666666666665), ('862', 3.6724137931034484), ('866', 3.3333333333333335), ('867', 3.659090909090909), ('868', 3.6), ('873', 3.8430232558139537), ('875', 4.083333333333333), ('876', 3.828828828828829), ('877', 3.308056872037915), ('878', 4.142857142857143), ('880', 3.4956521739130433), ('881', 2.9354485776805253), ('883', 3.4166666666666665), ('887', 3.5104166666666665), ('888', 3.7777777777777777), ('892', 3.911764705882353), ('893', 3.2), ('894', 4.442857142857143), ('895', 3.953125), ('897', 3.5566502463054186), ('898', 4.083333333333333), ('899', 3.523219814241486), ('902', 4.28), ('903', 3.4594594594594597), ('904', 3.3008130081300813), ('909', 3.9014084507042255), ('912', 3.7209302325581395), ('914', 4.278688524590164), ('915', 2.831578947368421), ('919', 3.9355828220858897), ('920', 3.4615384615384617), ('921', 3.6962025316455698), ('922', 3.5830903790087465), ('923', 3.608695652173913), ('925', 3.1323529411764706), ('926', 4.247619047619048), ('928', 4.3254716981132075), ('929', 3.6816901408450704), ('933', 3.7096774193548385), ('934', 2.9859437751004014), ('935', 3.4896907216494846), ('936', 3.5113636363636362), ('938', 3.870967741935484), ('939', 3.757575757575758), ('940', 3.1923076923076925), ('941', 2.2857142857142856), ('951', 4.523809523809524), ('953', 4.6878306878306875), ('954', 3.7777777777777777), ('956', 3.990740740740741), ('959', 3.7395833333333335), ('962', 4.03921568627451), ('963', 3.4339622641509435), ('964', 3.717948717948718), ('965', 4.116883116883117), ('967', 3.5384615384615383), ('970', 3.1493624772313296), ('976', 3.3636363636363638), ('977', 3.7625), ('980', 3.2222222222222223), ('982', 4.176470588235294), ('985', 4.212328767123288), ('986', 3.772727272727273), ('987', 4.017045454545454), ('990', 3.549019607843137), ('992', 3.4193548387096775), ('993', 3.3448275862068964), ('997', 3.933333333333333), ('998', 4.118518518518519), ('1000', 4.130952380952381), ('1001', 3.6525198938992043), ('1004', 3.1600831600831603), ('1005', 4.141304347826087), ('1008', 3.84), ('1010', 2.4750996015936253), ('1012', 3.3636363636363638), ('1013', 3.847826086956522), ('1014', 3.4871794871794872), ('1015', 3.7262830482115086), ('1016', 3.7880794701986753), ('1017', 3.251439539347409), ('1019', 3.0107758620689653), ('1020', 3.9886363636363638), ('1021', 4.694656488549619), ('1022', 3.5616438356164384), ('1027', 3.8260869565217392), ('1031', 4.070967741935484), ('1035', 3.8241758241758244), ('1037', 3.5789473684210527), ('1038', 3.9324324324324325), ('1039', 2.892857142857143), ('1041', 4.317647058823529), ('1043', 3.9166666666666665), ('1045', 3.5405405405405403), ('1047', 3.8815789473684212), ('1050', 2.900709219858156), ('1051', 3.4663573085846866), ('1053', 3.343283582089552), ('1054', 3.8897637795275593), ('1058', 3.795518207282913), ('1059', 2.888888888888889), ('1060', 3.35), ('1061', 3.980392156862745), ('1062', 4.484536082474227), ('1065', 3.715909090909091), ('1066', 3.5327868852459017), ('1067', 3.96875), ('1068', 3.7336683417085426), ('1069', 2.87192118226601), ('1072', 4.0476190476190474), ('1073', 4.146551724137931), ('1076', 3.2439024390243905), ('1077', 4.019417475728155), ('1078', 3.984251968503937), ('1079', 3.5867768595041323), ('1080', 3.740740740740741), ('1083', 2.6923076923076925), ('1087', 3.7908163265306123), ('1089', 4.0), ('1092', 4.0588235294117645), ('1093', 3.3857142857142857), ('1094', 3.6219512195121952), ('1095', 4.0), ('1096', 2.58955223880597), ('1097', 3.4702380952380953), ('1098', 4.1875), ('1099', 3.5106382978723403), ('1104', 3.8333333333333335), ('1106', 3.78125), ('1107', 3.7051282051282053), ('1108', 4.113636363636363), ('1109', 3.0878048780487806), ('1110', 4.326530612244898), ('1111', 4.03030303030303), ('1113', 3.9749216300940438), ('1116', 3.8661971830985915), ('1120', 3.764625850340136), ('1122', 3.2280701754385963), ('1123', 3.3666666666666667), ('1124', 3.7712082262210798), ('1127', 3.2213740458015265), ('1130', 3.849462365591398), ('1131', 4.796116504854369), ('1132', 4.343558282208589), ('1133', 3.386904761904762), ('1134', 4.42), ('1135', 3.813953488372093), ('1141', 3.3090128755364807), ('1144', 3.772727272727273), ('1146', 2.798941798941799), ('1147', 3.4654654654654653), ('1148', 3.7966101694915255), ('1154', 3.375), ('1155', 3.1923076923076925), ('1156', 3.5833333333333335), ('1157', 4.2727272727272725), ('1159', 2.56198347107438), ('1161', 3.968421052631579), ('1162', 3.551282051282051), ('1164', 3.441048034934498), ('1165', 3.574468085106383), ('1166', 3.5), ('1167', 3.4285714285714284), ('1170', 4.011627906976744), ('1172', 3.5169300225733635), ('1176', 4.142857142857143), ('1179', 3.6623931623931623), ('1180', 4.45945945945946), ('1181', 2.815910585141354), ('1183', 3.682795698924731), ('1184', 3.338129496402878), ('1185', 3.6444444444444444), ('1186', 4.296116504854369), ('1189', 3.76), ('1190', 4.037037037037037), ('1191', 4.295238095238095), ('1197', 4.166666666666667), ('1198', 3.656862745098039), ('1199', 3.631284916201117), ('1200', 3.5641025641025643), ('1201', 3.5757575757575757), ('1205', 3.9411764705882355), ('1206', 3.5602836879432624), ('1207', 2.394822006472492), ('1208', 4.020833333333333), ('1209', 3.411764705882353), ('1210', 3.8974358974358974), ('1211', 3.863979848866499), ('1212', 3.8550724637681157), ('1217', 4.235294117647059), ('1220', 3.353846153846154), ('1223', 3.9246575342465753), ('1227', 3.792207792207792), ('1228', 3.7768924302788847), ('1231', 3.8454545454545452), ('1234', 4.291666666666667), ('1237', 3.7666666666666666), ('1238', 3.7111111111111112), ('1241', 4.247422680412371), ('1242', 3.6396103896103895), ('1245', 4.333333333333333), ('1246', 3.56993006993007), ('1247', 3.8055555555555554), ('1248', 3.595744680851064), ('1249', 3.96), ('1252', 4.02542372881356), ('1256', 4.34375), ('1258', 4.261904761904762), ('1261', 3.7487179487179487), ('1263', 3.139784946236559), ('1267', 3.6), ('1268', 4.257425742574258), ('1269', 4.25), ('1274', 3.8494077834179357), ('1275', 4.466666666666667), ('1277', 3.675675675675676), ('1278', 4.0), ('1279', 2.958448753462604), ('1280', 3.72), ('1281', 3.4791666666666665), ('1282', 4.095238095238095), ('1285', 3.9064685314685317), ('1286', 3.5), ('1287', 3.9468085106382977), ('1288', 3.75968992248062), ('1289', 4.3076923076923075), ('1293', 3.426470588235294), ('1297', 3.4455852156057496), ('1298', 3.8273615635179152), ('1299', 3.7905982905982905), ('1305', 4.333333333333333), ('1306', 4.1475054229934925), ('1307', 4.333333333333333), ('1309', 3.7083333333333335), ('1310', 3.75), ('1312', 3.270967741935484), ('1316', 3.236842105263158), ('1317', 3.6620775969962454), ('1320', 4.017094017094017), ('1321', 3.2923976608187133), ('1325', 3.9858156028368796), ('1330', 4.260869565217392), ('1333', 3.6965888689407542), ('1335', 3.0749185667752443), ('1337', 3.8153846153846156), ('1342', 2.9782608695652173), ('1343', 4.415770609318996), ('1344', 3.72), ('1345', 3.7195767195767195), ('1346', 3.5357142857142856), ('1348', 3.7985611510791366), ('1349', 4.651162790697675), ('1351', 4.2), ('1352', 3.5759493670886076), ('1353', 3.0317460317460316), ('1357', 2.7966101694915255), ('1360', 3.5533980582524274), ('1364', 4.0), ('1367', 3.7772511848341233), ('1368', 4.113636363636363), ('1369', 3.782178217821782), ('1370', 3.141891891891892), ('1371', 4.2727272727272725), ('1372', 3.0), ('1373', 3.810810810810811), ('1376', 3.882978723404255), ('1379', 3.25), ('1380', 3.316205533596838), ('1387', 3.6591928251121075), ('1388', 4.018867924528302), ('1390', 3.838187702265372), ('1392', 3.403292181069959), ('1396', 3.725806451612903), ('1401', 4.017857142857143), ('1405', 3.7333333333333334), ('1406', 3.8), ('1410', 4.064102564102564), ('1412', 3.3333333333333335), ('1413', 3.8324324324324324), ('1414', 3.7837837837837838), ('1415', 3.7150837988826817), ('1416', 3.5454545454545454), ('1417', 3.413793103448276), ('1419', 2.6470588235294117), ('1420', 3.7311827956989245), ('1422', 3.0123626373626373), ('1423', 4.1875), ('1424', 3.409090909090909), ('1429', 3.2916666666666665), ('1430', 4.163793103448276), ('1433', 3.337078651685393), ('1439', 3.9), ('1440', 3.3529411764705883), ('1442', 3.3), ('1444', 3.689655172413793), ('1449', 2.8061142397425582), ('1451', 3.8974700399467377), ('1452', 4.15), ('1453', 3.5714285714285716), ('1454', 3.8636363636363638), ('1457', 3.95114006514658), ('1458', 3.9896907216494846), ('1460', 3.0357142857142856), ('1461', 3.34), ('1465', 3.741407528641571), ('1469', 4.0625), ('1470', 2.6943661971830988), ('1479', 4.103448275862069), ('1482', 3.2295081967213113), ('1484', 3.6146496815286624), ('1486', 3.5833333333333335), ('1487', 3.2195121951219514), ('1494', 3.795918367346939), ('1495', 2.620879120879121), ('1498', 3.8275862068965516), ('1499', 3.9384615384615387), ('1501', 3.726937269372694), ('1503', 3.5073529411764706), ('1504', 3.642857142857143), ('1505', 3.738993710691824), ('1507', 4.185185185185185), ('1508', 3.310344827586207), ('1509', 2.983164983164983), ('1510', 3.606060606060606), ('1511', 4.087912087912088), ('1512', 3.235294117647059), ('1513', 4.055944055944056), ('1515', 3.75), ('1516', 3.1164383561643834), ('1521', 3.263888888888889), ('1522', 3.641025641025641), ('1523', 3.717391304347826), ('1526', 4.15625), ('1527', 3.1538461538461537), ('1528', 4.086956521739131), ('1529', 3.7666666666666666), ('1530', 3.8514851485148514), ('1531', 3.4615384615384617), ('1533', 3.84), ('1535', 3.896551724137931), ('1536', 4.222222222222222), ('1540', 3.805084745762712), ('1541', 4.423076923076923), ('1542', 3.6723549488054608), ('1543', 3.46242774566474), ('1544', 3.690909090909091), ('1545', 3.1013824884792625), ('1547', 3.9328358208955225), ('1550', 3.9310344827586206), ('1553', 3.7209302325581395), ('1554', 3.806451612903226), ('1556', 3.208695652173913), ('1560', 3.4939024390243905), ('1562', 2.8684210526315788), ('1563', 3.8095238095238093), ('1564', 3.056451612903226), ('1566', 3.5), ('1571', 3.947712418300654), ('1572', 3.1777777777777776), ('1573', 3.689655172413793), ('1575', 3.8703703703703702), ('1577', 4.104), ('1579', 3.4496732026143793), ('1580', 3.5405405405405403), ('1581', 3.2195121951219514), ('1582', 3.6363636363636362), ('1583', 3.730769230769231), ('1584', 3.3253796095444685), ('1585', 3.607142857142857), ('1588', 4.170212765957447), ('1589', 3.7777777777777777), ('1591', 4.340764331210191), ('1592', 3.6209150326797386), ('1593', 3.0388349514563107), ('1594', 3.727891156462585), ('1595', 4.045112781954887), ('1597', 3.5565217391304347), ('1598', 3.494565217391304), ('1600', 3.431472081218274), ('1602', 4.1), ('1605', 3.3122406639004147), ('1606', 3.79126213592233), ('1608', 2.0833333333333335), ('1609', 3.4206128133704734), ('1610', 3.9642857142857144), ('1611', 3.573741007194245), ('1616', 3.1338582677165356), ('1620', 3.9444444444444446), ('1621', 3.1363636363636362), ('1625', 3.3555555555555556), ('1626', 3.4391143911439115), ('1627', 2.9791666666666665), ('1631', 3.8423076923076924), ('1634', 3.5849056603773586), ('1635', 3.780580075662043), ('1637', 3.988235294117647), ('1640', 2.472049689440994), ('1641', 2.6810344827586206), ('1648', 3.442953020134228), ('1652', 3.3703703703703702), ('1655', 3.8), ('1656', 3.48), ('1659', 2.7719298245614037), ('1663', 4.130434782608695), ('1666', 3.3425692695214106), ('1669', 3.7333333333333334), ('1670', 4.714285714285714), ('1672', 3.7435897435897436), ('1673', 4.37037037037037), ('1676', 3.492485549132948), ('1678', 3.4508196721311477), ('1679', 3.926829268292683), ('1681', 4.132231404958677), ('1684', 4.032258064516129), ('1685', 3.574418604651163), ('1689', 3.609375), ('1692', 4.478260869565218), ('1694', 3.741206030150754), ('1696', 3.621019108280255), ('1698', 3.9310344827586206), ('1700', 3.533333333333333), ('1701', 3.5543478260869565), ('1702', 4.55), ('1705', 3.6941176470588237), ('1707', 4.329545454545454), ('1708', 3.8636363636363638), ('1709', 3.704761904761905), ('1712', 3.512720156555773), ('1713', 3.3333333333333335), ('1714', 3.510948905109489), ('1715', 3.4565217391304346), ('1716', 3.476923076923077), ('1717', 3.8160377358490565), ('1719', 2.769230769230769), ('1720', 4.021739130434782), ('1721', 2.365217391304348), ('1722', 4.242718446601942), ('1723', 3.671232876712329), ('1724', 4.10062893081761), ('1726', 2.350785340314136), ('1727', 4.035019455252918), ('1728', 4.212765957446808), ('1729', 3.086206896551724), ('1730', 3.5), ('1733', 3.5280095351609058), ('1737', 3.410322580645161), ('1739', 3.769230769230769), ('1740', 4.0), ('1741', 3.9757575757575756), ('1743', 3.968421052631579), ('1746', 4.404907975460123), ('1747', 2.138888888888889), ('1749', 2.9181494661921707), ('1750', 2.9726027397260273), ('1751', 4.428571428571429), ('1754', 3.0), ('1755', 3.5706521739130435), ('1757', 3.690909090909091), ('1758', 3.9465116279069767), ('1759', 3.720472440944882), ('1761', 2.15929203539823), ('1766', 3.230769230769231), ('1770', 3.269662921348315), ('1771', 4.333333333333333), ('1772', 3.3823529411764706), ('1773', 3.7704918032786887), ('1776', 3.2748815165876777), ('1778', 3.54029304029304), ('1779', 3.295302013422819), ('1781', 3.4150943396226414), ('1782', 3.5789473684210527), ('1784', 2.980769230769231), ('1787', 3.3214285714285716), ('1788', 3.84375), ('1789', 4.172413793103448), ('1790', 3.8731563421828907), ('1791', 3.586206896551724), ('1792', 3.871794871794872), ('1796', 3.9886363636363638), ('1797', 4.177142857142857), ('1798', 3.5970149253731343), ('1800', 3.615079365079365), ('1802', 4.033175355450237), ('1803', 3.433098591549296), ('1804', 3.4051724137931036), ('1805', 4.086206896551724), ('1806', 4.233644859813084), ('1811', 3.9), ('1814', 3.63265306122449), ('1816', 4.096774193548387), ('1817', 3.016260162601626), ('1818', 3.6511627906976742), ('1820', 3.684542586750789), ('1821', 4.037037037037037), ('1822', 3.8507462686567164), ('1823', 4.0), ('1824', 3.3647798742138364), ('1825', 3.5165562913907285), ('1831', 3.5135135135135136), ('1833', 3.31), ('1835', 4.114285714285714), ('1836', 4.168269230769231), ('1837', 3.501278772378517), ('1838', 3.074074074074074), ('1840', 3.9166666666666665), ('1841', 2.7180616740088106), ('1842', 4.129032258064516), ('1843', 3.689075630252101), ('1845', 3.213636363636364), ('1846', 4.032786885245901), ('1848', 3.772727272727273), ('1849', 3.7083333333333335), ('1851', 2.6984126984126986), ('1861', 3.3369565217391304), ('1864', 3.3043478260869565), ('1865', 3.5808383233532934), ('1866', 4.093525179856115), ('1867', 2.962962962962963), ('1869', 3.9166666666666665), ('1874', 3.59375), ('1875', 3.6153846153846154), ('1876', 3.4545454545454546), ('1878', 3.6506024096385543), ('1879', 3.931558935361217), ('1882', 3.780269058295964), ('1883', 3.331034482758621), ('1884', 3.867043847241867), ('1885', 4.157894736842105), ('1886', 3.923076923076923), ('1887', 3.384), ('1891', 3.5483870967741935), ('1892', 4.2727272727272725), ('1894', 4.244186046511628), ('1895', 4.034883720930233), ('1897', 3.710806697108067), ('1899', 3.7923280423280423), ('1901', 4.173333333333333), ('1902', 3.647286821705426), ('1904', 3.2670454545454546), ('1907', 3.8333333333333335), ('1910', 3.641509433962264), ('1913', 4.295454545454546), ('1914', 3.739130434782609), ('1917', 3.8969072164948453), ('1918', 3.0), ('1919', 3.5636363636363635), ('1920', 3.3860232945091515), ('1921', 3.2588235294117647), ('1922', 3.456876456876457), ('1924', 3.1511627906976742), ('1925', 3.6459016393442623), ('1926', 4.085470085470085), ('1928', 3.839622641509434), ('1930', 3.1666666666666665), ('1932', 3.6666666666666665), ('1935', 3.4827586206896552), ('1937', 3.183050847457627), ('1939', 3.7782805429864252), ('1940', 4.671875), ('1941', 3.0545454545454547), ('1944', 3.911764705882353), ('1945', 2.7945205479452055), ('1947', 3.9523809523809526), ('1948', 3.1091954022988504), ('1949', 4.176470588235294), ('1952', 3.49003984063745), ('1959', 4.508196721311475), ('1962', 2.6679174484052535), ('1963', 4.180722891566265), ('1965', 3.125), ('1968', 2.7612612612612613), ('1970', 3.576923076923077), ('1973', 3.8421052631578947), ('1975', 3.836734693877551), ('1980', 3.4825396825396826), ('1981', 3.029850746268657), ('1982', 3.425806451612903), ('1983', 4.142857142857143), ('1984', 3.5653710247349824), ('1987', 3.617021276595745), ('1989', 3.3333333333333335), ('1991', 4.291666666666667), ('1992', 2.9239130434782608), ('1993', 3.75), ('1994', 4.103448275862069), ('1996', 3.994350282485876), ('1997', 4.075), ('1998', 3.8707865168539324), ('2001', 3.5918367346938775), ('2002', 4.1017964071856285), ('2003', 4.344262295081967), ('2006', 3.8048780487804876), ('2007', 3.9), ('2009', 4.037037037037037), ('2012', 2.8052373158756136), ('2015', 3.1273532668881505), ('2016', 3.990990990990991), ('2022', 3.829896907216495), ('2024', 3.375), ('2025', 3.680672268907563), ('2028', 3.6666666666666665), ('2030', 3.984536082474227), ('2032', 3.6825396825396823), ('2034', 4.216216216216216), ('2035', 3.5672514619883042), ('2038', 3.8204545454545453), ('2039', 3.5785123966942147), ('2042', 3.1358490566037736), ('2043', 2.5714285714285716), ('2045', 4.04), ('2048', 4.142857142857143), ('2054', 3.408955223880597), ('2055', 4.173913043478261), ('2056', 4.09765625), ('2057', 3.8615384615384616), ('2058', 3.3191489361702127), ('2060', 3.1187739463601534), ('2061', 4.3), ('2063', 2.945578231292517), ('2065', 4.451612903225806), ('2069', 3.9066666666666667), ('2071', 3.407563025210084), ('2072', 4.0), ('2074', 3.4722222222222223), ('2076', 3.4819277108433737), ('2078', 3.735294117647059), ('2081', 3.122448979591837), ('2083', 4.35), ('2086', 3.7), ('2088', 3.877551020408163), ('2090', 3.7729257641921397), ('2092', 3.5665294924554183), ('2093', 3.482142857142857), ('2097', 3.293103448275862), ('2098', 3.2493297587131367), ('2100', 3.707792207792208), ('2102', 2.6452830188679246), ('2104', 3.0943396226415096), ('2105', 3.2224371373307545), ('2106', 2.2455555555555557), ('2107', 4.068965517241379), ('2108', 4.363636363636363), ('2109', 2.897196261682243), ('2110', 3.239819004524887), ('2112', 3.48), ('2114', 3.6733333333333333), ('2116', 3.5550978372811533), ('2118', 4.505747126436781), ('2119', 3.539325842696629), ('2120', 3.451219512195122), ('2124', 4.259554140127388), ('2125', 3.873362445414847), ('2126', 2.8), ('2127', 3.2083333333333335), ('2128', 3.75), ('2130', 3.417910447761194), ('2133', 3.25), ('2136', 3.91875), ('2139', 4.132075471698113), ('2140', 3.7864077669902914), ('2143', 3.125), ('2144', 3.287128712871287), ('2145', 4.063926940639269), ('2151', 3.1842105263157894), ('2154', 3.977777777777778), ('2156', 3.3968253968253967), ('2158', 3.9292035398230087), ('2159', 4.470588235294118), ('2162', 3.9395604395604398), ('2163', 4.104166666666667), ('2165', 4.093333333333334), ('2177', 3.6206896551724137), ('2178', 4.287356321839081), ('2179', 3.267123287671233), ('2184', 4.233333333333333), ('2185', 4.276450511945392), ('2188', 3.05679012345679), ('2191', 3.1842105263157894), ('2192', 3.8264462809917354), ('2194', 2.869158878504673), ('2195', 3.4147286821705425), ('2196', 3.9722222222222223), ('2197', 4.107142857142857), ('2198', 3.6417910447761193), ('2201', 4.3538461538461535), ('2203', 4.053803339517625), ('2204', 3.515151515151515), ('2206', 3.7371794871794872), ('2210', 3.689655172413793), ('2211', 3.966442953020134), ('2215', 3.272727272727273), ('2216', 2.9038461538461537), ('2217', 3.2), ('2218', 3.8823529411764706), ('2219', 3.676190476190476), ('2220', 4.0344827586206895), ('2221', 3.5987654320987654), ('2222', 3.506849315068493), ('2227', 3.9791666666666665), ('2228', 3.9508196721311477), ('2230', 3.188841201716738), ('2231', 3.6720183486238533), ('2232', 4.050314465408805), ('2233', 3.3381642512077296), ('2234', 3.9047619047619047), ('2235', 3.908450704225352), ('2236', 3.694736842105263), ('2240', 4.282828282828283), ('2244', 3.400932400932401), ('2245', 3.0980392156862746), ('2246', 3.6744186046511627), ('2247', 3.922178988326848), ('2252', 3.4782608695652173), ('2253', 4.096774193548387), ('2254', 3.9642857142857144), ('2256', 4.0), ('2257', 3.5428571428571427), ('2258', 3.446927374301676), ('2261', 3.396694214876033), ('2263', 3.707627118644068), ('2266', 4.0495049504950495), ('2269', 3.36), ('2271', 4.112462006079028), ('2272', 3.921259842519685), ('2273', 3.8450704225352115), ('2275', 3.864864864864865), ('2276', 4.324074074074074), ('2277', 3.392857142857143), ('2278', 3.417910447761194), ('2279', 3.638095238095238), ('2280', 4.105263157894737), ('2283', 3.697674418604651), ('2285', 3.6346153846153846), ('2287', 4.444444444444445), ('2288', 3.033644859813084), ('2289', 4.054054054054054), ('2291', 4.0), ('2293', 4.321554770318021), ('2294', 4.112903225806452), ('2296', 3.3214285714285716), ('2297', 4.0476190476190474), ('2298', 3.325), ('2299', 2.92), ('2301', 3.8846153846153846), ('2303', 4.1688311688311686), ('2304', 3.722794959908362), ('2305', 3.1298701298701297), ('2306', 3.6338028169014085), ('2307', 4.386206896551724), ('2309', 3.514450867052023), ('2313', 4.4186046511627906), ('2315', 2.8636363636363638), ('2319', 3.774193548387097), ('2321', 3.8018018018018016), ('2330', 3.0083333333333333), ('2335', 3.7083333333333335), ('2339', 4.956521739130435), ('2340', 4.360902255639098), ('2341', 3.280701754385965), ('2342', 3.8181818181818183), ('2343', 4.194444444444445), ('2345', 3.739130434782609), ('2347', 3.9130434782608696), ('2352', 2.7142857142857144), ('2355', 3.5602836879432624), ('2356', 3.625), ('2357', 3.9310344827586206), ('2360', 3.5945945945945947), ('2366', 3.3902439024390243), ('2372', 4.352112676056338), ('2374', 4.113207547169812), ('2377', 3.9722222222222223), ('2381', 3.2), ('2383', 3.5285087719298245), ('2386', 3.6338028169014085), ('2387', 3.8225806451612905), ('2394', 3.971830985915493), ('2395', 3.7232142857142856), ('2396', 4.083333333333333), ('2401', 4.36), ('2403', 3.466666666666667), ('2404', 3.9263157894736844), ('2405', 3.864406779661017), ('2407', 4.059210526315789), ('2411', 3.496932515337423), ('2413', 3.3333333333333335), ('2415', 3.6666666666666665), ('2419', 3.327651515151515), ('2420', 4.23404255319149), ('2422', 4.142857142857143), ('2425', 3.6206896551724137), ('2430', 3.4047619047619047), ('2433', 3.6470588235294117), ('2435', 3.752136752136752), ('2436', 3.5901639344262297), ('2437', 3.5952380952380953), ('2439', 2.8777777777777778), ('2440', 3.4347826086956523), ('2444', 3.342857142857143), ('2447', 4.2105263157894735), ('2451', 3.050314465408805), ('2454', 3.4152823920265782), ('2455', 2.6875), ('2456', 3.1530054644808745), ('2458', 3.496969696969697), ('2460', 4.117647058823529), ('2461', 3.7403846153846154), ('2463', 3.219047619047619), ('2465', 4.306382978723405), ('2466', 2.9211822660098523), ('2467', 4.409090909090909), ('2468', 4.208), ('2471', 3.1621621621621623), ('2472', 3.6), ('2473', 3.8421052631578947), ('2474', 4.25), ('2475', 4.054054054054054), ('2476', 4.163934426229508), ('2477', 4.475409836065574), ('2480', 3.8666666666666667), ('2482', 3.5), ('2483', 3.9), ('2485', 3.6707317073170733), ('2488', 4.2), ('2489', 3.397984886649874), ('2493', 3.5348837209302326), ('2494', 3.0), ('2495', 3.4871794871794872), ('2497', 4.5041322314049586), ('2498', 3.168831168831169), ('2500', 3.6357142857142857), ('2502', 3.9047619047619047), ('2503', 3.02), ('2504', 3.558139534883721), ('2506', 3.354581673306773), ('2513', 4.075757575757576), ('2514', 4.419354838709677), ('2519', 3.9361702127659575), ('2524', 3.423076923076923), ('2525', 3.542372881355932), ('2527', 4.142857142857143), ('2528', 3.2419354838709675), ('2529', 3.6933497536945814), ('2530', 3.85), ('2531', 3.806451612903226), ('2532', 4.096774193548387), ('2533', 3.9236641221374047), ('2540', 3.968609865470852), ('2541', 3.31640625), ('2545', 4.098039215686274), ('2550', 3.702127659574468), ('2551', 3.3026315789473686), ('2553', 4.130434782608695), ('2554', 4.023809523809524), ('2557', 3.6486486486486487), ('2559', 3.835897435897436), ('2560', 4.125), ('2563', 2.962962962962963), ('2564', 3.775), ('2565', 3.723333333333333), ('2566', 3.3636363636363638), ('2567', 3.4851190476190474), ('2568', 3.4242424242424243), ('2571', 4.073529411764706), ('2575', 3.7337278106508878), ('2576', 3.0833333333333335), ('2577', 3.1538461538461537), ('2580', 3.7027027027027026), ('2581', 4.052109181141439), ('2584', 3.7), ('2585', 3.706422018348624), ('2587', 4.032258064516129), ('2588', 3.8048780487804876), ('2591', 3.8048780487804876), ('2592', 3.6334841628959276), ('2594', 3.106382978723404), ('2595', 3.352201257861635), ('2596', 3.7560975609756095), ('2600', 2.978021978021978), ('2603', 3.883720930232558), ('2604', 3.8970588235294117), ('2605', 3.9361702127659575), ('2606', 4.22), ('2608', 4.008771929824562), ('2610', 3.108695652173913), ('2616', 3.58), ('2617', 3.5853658536585367), ('2619', 4.236559139784946), ('2621', 2.984126984126984), ('2622', 3.918918918918919), ('2623', 3.759259259259259), ('2624', 4.147058823529412), ('2625', 3.387323943661972), ('2626', 4.045454545454546), ('2627', 3.243298969072165), ('2629', 4.011029411764706), ('2632', 3.5853658536585367), ('2638', 3.103646833013436), ('2641', 4.09748427672956), ('2642', 3.915492957746479), ('2643', 3.398678414096916), ('2645', 3.400709219858156), ('2648', 3.94392523364486), ('2649', 3.1488372093023256), ('2650', 3.7346938775510203), ('2656', 4.090909090909091), ('2659', 4.105590062111801), ('2660', 3.6808510638297873), ('2661', 3.6122448979591835), ('2662', 3.6904761904761907), ('2666', 3.872340425531915), ('2667', 3.40625), ('2672', 3.6296296296296298), ('2673', 3.75), ('2674', 4.142857142857143), ('2678', 3.9047619047619047), ('2679', 3.783625730994152), ('2681', 3.632286995515695), ('2682', 2.7), ('2684', 3.5251141552511416), ('2689', 4.3861386138613865), ('2691', 4.4896265560165975), ('2692', 3.8208955223880596), ('2693', 3.8823529411764706), ('2694', 4.5), ('2695', 3.984126984126984), ('2696', 3.3), ('2699', 4.16), ('2704', 4.041666666666667), ('2705', 4.090909090909091), ('2709', 2.75), ('2710', 3.2), ('2711', 2.5), ('2712', 3.9411764705882355), ('2713', 2.72), ('2716', 3.75), ('2717', 3.76), ('2718', 3.871794871794872), ('2719', 4.145299145299146), ('2723', 3.4285714285714284), ('2724', 3.8097560975609754), ('2726', 4.595238095238095), ('2728', 3.3582089552238807), ('2729', 4.478260869565218), ('2730', 3.9808917197452227), ('2731', 4.271428571428571), ('2733', 4.434343434343434), ('2735', 3.4166666666666665), ('2737', 3.5463659147869673), ('2738', 4.438095238095238), ('2739', 3.40625), ('2741', 4.0), ('2743', 3.569476082004556), ('2745', 3.8527918781725887), ('2746', 3.8771929824561404), ('2753', 3.784158415841584), ('2755', 4.434782608695652), ('2756', 4.03765690376569), ('2758', 4.0), ('2759', 3.55), ('2761', 3.515527950310559), ('2764', 4.186440677966102), ('2765', 3.6208530805687205), ('2771', 2.940766550522648), ('2773', 4.072289156626506), ('2774', 3.888086642599278), ('2776', 3.802857142857143), ('2777', 3.498285714285714), ('2778', 4.235849056603773), ('2780', 3.675), ('2782', 3.6666666666666665), ('2783', 3.9074074074074074), ('2786', 4.0134228187919465), ('2789', 3.776595744680851), ('2792', 2.9476439790575917), ('2798', 4.064935064935065), ('2799', 4.130434782608695), ('2801', 3.1782178217821784), ('2810', 3.4688279301745637), ('2815', 3.690909090909091), ('2816', 3.8181818181818183), ('2818', 3.6109215017064846), ('2819', 3.9), ('2822', 3.725806451612903), ('2824', 3.9274193548387095), ('2825', 3.9592760180995477), ('2827', 3.242424242424242), ('2828', 4.017241379310345), ('2829', 2.9473684210526314), ('2830', 3.388235294117647), ('2832', 4.0), ('2834', 4.181818181818182), ('2835', 3.8684210526315788), ('2836', 3.3636363636363638), ('2844', 3.287037037037037), ('2846', 3.3137254901960786), ('2848', 3.3363636363636364), ('2849', 4.509677419354839), ('2851', 3.5757575757575757), ('2852', 4.118518518518519), ('2854', 3.1135265700483092), ('2855', 2.8904109589041096), ('2856', 3.5384615384615383), ('2858', 3.9452054794520546), ('2862', 4.023255813953488), ('2863', 3.641025641025641), ('2864', 3.3076923076923075), ('2865', 3.7282608695652173), ('2866', 3.351219512195122), ('2868', 3.612565445026178), ('2871', 3.607142857142857), ('2872', 3.7423167848699763), ('2874', 3.883495145631068), ('2875', 4.314285714285714), ('2876', 3.731578947368421), ('2879', 3.96), ('2880', 3.4395604395604398), ('2885', 4.09375), ('2891', 3.3620689655172415), ('2893', 3.857142857142857), ('2895', 3.7387914230019494), ('2897', 3.623931623931624), ('2898', 3.871559633027523), ('2903', 4.089041095890411), ('2904', 3.8627450980392157), ('2906', 3.418181818181818), ('2909', 3.8227344992050876), ('2910', 3.5594405594405596), ('2912', 2.6363636363636362), ('2913', 3.9575757575757575), ('2914', 4.458333333333333), ('2921', 3.283464566929134), ('2922', 4.535211267605634), ('2923', 3.9523809523809526), ('2927', 3.7903225806451615), ('2929', 3.925414364640884), ('2933', 3.782258064516129), ('2935', 3.4166666666666665), ('2936', 4.290909090909091), ('2939', 3.777027027027027), ('2942', 4.4728682170542635), ('2947', 3.713235294117647), ('2949', 3.75), ('2952', 4.208333333333333), ('2953', 3.2), ('2955', 3.2408376963350785), ('2958', 3.0232558139534884), ('2959', 3.9726027397260273), ('2962', 2.8992), ('2963', 3.9743589743589745), ('2965', 3.5925925925925926), ('2966', 4.0625), ('2968', 3.788235294117647), ('2969', 3.7126436781609193), ('2972', 3.497041420118343), ('2973', 3.435483870967742), ('2974', 4.290322580645161), ('2978', 3.786127167630058), ('2979', 4.0), ('2980', 3.5955882352941178), ('2986', 3.433333333333333), ('2987', 3.6481481481481484), ('2990', 3.9655172413793105), ('2993', 3.819277108433735), ('2995', 3.8475073313782993), ('2996', 3.146750524109015), ('2997', 4.0119760479041915), ('3001', 3.9935275080906147), ('3003', 3.9240506329113924), ('3005', 3.8018018018018016), ('3006', 4.153846153846154), ('3010', 3.4380952380952383), ('3012', 2.5062111801242235), ('3015', 3.4285714285714284), ('3018', 3.7), ('3020', 4.017647058823529), ('3021', 3.25), ('3022', 3.006666666666667), ('3023', 3.5161290322580645), ('3024', 3.63302752293578), ('3025', 4.108108108108108), ('3028', 3.743362831858407), ('3030', 3.769230769230769), ('3032', 4.278704612365064), ('3033', 3.601503759398496), ('3034', 3.9285714285714284), ('3038', 4.0423728813559325), ('3039', 4.409836065573771), ('3041', 3.481132075471698), ('3042', 3.8219178082191783), ('3043', 2.7777777777777777), ('3044', 4.016447368421052), ('3047', 3.642857142857143), ('3050', 3.65625), ('3051', 3.264705882352941), ('3052', 3.2222222222222223), ('3063', 3.6875), ('3064', 4.204545454545454), ('3065', 3.7943262411347516), ('3070', 3.923076923076923), ('3071', 3.076923076923077), ('3073', 4.543859649122807), ('3080', 3.88021778584392), ('3082', 3.372972972972973), ('3083', 3.8484848484848486), ('3086', 4.221238938053097), ('3087', 3.919191919191919), ('3089', 4.339622641509434), ('3091', 3.75), ('3092', 4.018867924528302), ('3093', 3.798882681564246), ('3096', 4.106598984771574), ('3099', 3.2830188679245285), ('3101', 4.148148148148148), ('3105', 3.9916666666666667), ('3106', 4.161764705882353), ('3107', 3.5555555555555554), ('3114', 3.342857142857143), ('3120', 3.6216216216216215), ('3122', 3.111111111111111), ('3123', 3.5612903225806454), ('3124', 3.423076923076923), ('3126', 3.765432098765432), ('3127', 4.121951219512195), ('3128', 3.5236593059936907), ('3129', 3.2703777335984094), ('3131', 3.3506493506493507), ('3132', 3.4642857142857144), ('3133', 3.2857142857142856), ('3137', 3.4313725490196076), ('3138', 3.3443396226415096), ('3146', 3.7580645161290325), ('3147', 3.4834123222748814), ('3148', 3.696078431372549), ('3149', 4.111111111111111), ('3150', 3.883116883116883), ('3151', 4.122093023255814), ('3152', 3.0), ('3153', 3.6136363636363638), ('3154', 3.761904761904762), ('3156', 3.40625), ('3158', 3.918918918918919), ('3159', 4.033613445378151), ('3160', 4.04), ('3165', 3.7), ('3168', 3.3333333333333335), ('3170', 3.904109589041096), ('3171', 4.181818181818182), ('3172', 3.5833333333333335), ('3174', 3.6436781609195403), ('3175', 4.091954022988506), ('3176', 3.380952380952381), ('3178', 2.75), ('3179', 3.2), ('3180', 2.86734693877551), ('3181', 4.36), ('3182', 3.0782747603833864), ('3186', 3.7837837837837838), ('3188', 4.238095238095238), ('3189', 3.182857142857143), ('3191', 3.147783251231527), ('3192', 4.3), ('3193', 3.1473684210526316), ('3196', 3.232786885245902), ('3198', 4.104761904761904), ('3200', 3.7861635220125787), ('3202', 3.4615384615384617), ('3204', 4.395833333333333), ('3205', 3.413114754098361), ('3206', 3.6), ('3207', 4.141414141414141), ('3208', 3.3229166666666665), ('3211', 4.051546391752577), ('3213', 3.6861313868613137), ('3218', 3.467741935483871), ('3219', 3.7464788732394365), ('3220', 3.7777777777777777), ('3221', 4.2926829268292686), ('3222', 3.7), ('3223', 3.557377049180328), ('3224', 3.7928251121076233), ('3226', 4.346774193548387), ('3227', 3.7280701754385963), ('3228', 3.83974358974359), ('3229', 3.4030612244897958), ('3232', 3.0625), ('3233', 4.086956521739131), ('3234', 3.857142857142857), ('3235', 4.108108108108108), ('3236', 2.9130434782608696), ('3240', 3.3701298701298703), ('3241', 3.709090909090909), ('3245', 2.607594936708861), ('3248', 3.5476190476190474), ('3249', 3.7384615384615385), ('3252', 2.8857142857142857), ('3254', 3.5217391304347827), ('3256', 4.068965517241379), ('3258', 3.85), ('3264', 2.75), ('3268', 3.8656716417910446), ('3269', 3.855421686746988), ('3272', 3.77511961722488), ('3274', 3.242424242424242), ('3275', 3.4761904761904763), ('3276', 3.0689655172413794), ('3277', 4.053333333333334), ('3278', 3.869565217391304), ('3279', 2.6857142857142855), ('3287', 4.583333333333333), ('3289', 3.84), ('3291', 3.75), ('3292', 4.021299254526092), ('3295', 3.824324324324324), ('3298', 4.4375), ('3299', 4.052980132450331), ('3300', 3.9640883977900554), ('3302', 3.4767441860465116), ('3304', 4.1647058823529415), ('3305', 4.278846153846154), ('3306', 4.666666666666667), ('3308', 3.189265536723164), ('3309', 3.6457564575645756), ('3313', 3.613107822410148), ('3317', 3.9727272727272727), ('3319', 3.4390243902439024), ('3320', 3.1270125223613596), ('3321', 4.0), ('3322', 4.270833333333333), ('3325', 2.4615384615384617), ('3326', 3.9473684210526314), ('3327', 3.505586592178771), ('3330', 3.8333333333333335), ('3331', 3.6142857142857143), ('3332', 3.127450980392157), ('3333', 3.53125), ('3336', 2.7481259370314843), ('3337', 3.7160493827160495), ('3338', 3.975), ('3339', 4.0120481927710845), ('3340', 3.957983193277311), ('3341', 3.9602649006622515), ('3342', 3.310344827586207), ('3343', 4.122448979591836), ('3344', 4.392857142857143), ('3345', 3.5460992907801416), ('3346', 3.7816593886462884), ('3348', 4.0), ('3351', 4.0), ('3352', 3.4895833333333335), ('3353', 3.872340425531915), ('3354', 2.9393939393939394), ('3355', 3.9393939393939394), ('3356', 4.401673640167364), ('3357', 4.072463768115942), ('3359', 3.4767441860465116), ('3360', 3.4827586206896552), ('3362', 3.5584415584415585), ('3363', 3.5371900826446283), ('3365', 4.156521739130435), ('3366', 3.740740740740741), ('3369', 3.90625), ('3371', 3.43064182194617), ('3372', 4.258064516129032), ('3374', 3.9326923076923075), ('3375', 3.740740740740741), ('3378', 3.578723404255319), ('3380', 3.752759381898455), ('3382', 3.392857142857143), ('3383', 3.607843137254902), ('3385', 3.3333333333333335), ('3386', 3.7094594594594597), ('3388', 3.6666666666666665), ('3391', 3.7203947368421053), ('3392', 3.8), ('3393', 3.5430711610486894), ('3395', 3.6964285714285716), ('3397', 4.068965517241379), ('3398', 3.6), ('3400', 4.059633027522936), ('3401', 2.95221027479092), ('3402', 3.8424242424242423), ('3403', 4.1414634146341465), ('3405', 4.121951219512195), ('3409', 4.204545454545454), ('3413', 4.110236220472441), ('3414', 4.097643097643098), ('3415', 4.0120481927710845), ('3419', 4.033333333333333), ('3420', 4.3545454545454545), ('3422', 2.657963446475196), ('3424', 4.197183098591549), ('3425', 3.5386178861788617), ('3432', 3.2758620689655173), ('3434', 3.6264367816091956), ('3435', 3.8253968253968256), ('3436', 3.799019607843137), ('3437', 4.5), ('3439', 4.101123595505618), ('3443', 3.92), ('3445', 3.8819444444444446), ('3446', 4.472222222222222), ('3447', 3.8588235294117648), ('3449', 4.171875), ('3453', 3.37123745819398), ('3455', 4.043478260869565), ('3457', 3.51875), ('3458', 4.0), ('3459', 3.793103448275862), ('3462', 3.295169946332737), ('3464', 3.6172506738544477), ('3466', 4.162162162162162), ('3468', 4.015151515151516), ('3472', 4.04), ('3473', 3.993710691823899), ('3474', 4.435), ('3477', 3.9565217391304346), ('3482', 3.8028169014084505), ('3486', 4.082474226804123), ('3487', 3.5283018867924527), ('3488', 2.8095238095238093), ('3490', 3.889344262295082), ('3495', 3.2857142857142856), ('3496', 3.76), ('3497', 4.184782608695652), ('3501', 4.208121827411167), ('3503', 4.093877551020408), ('3505', 3.62), ('3506', 4.294117647058823), ('3509', 2.977722772277228), ('3517', 3.8688524590163933), ('3518', 3.7908366533864544), ('3521', 3.7906976744186047), ('3522', 4.032258064516129), ('3525', 3.477777777777778), ('3526', 2.8399168399168397), ('3527', 3.5641025641025643), ('3529', 3.0352422907488985), ('3532', 3.8596491228070176), ('3533', 3.5543478260869565), ('3536', 3.7636363636363637), ('3538', 3.773006134969325), ('3540', 4.110576923076923), ('3541', 4.228571428571429), ('3542', 3.1818181818181817), ('3543', 3.605769230769231), ('3548', 2.5384615384615383), ('3549', 3.945945945945946), ('3550', 3.5126050420168067), ('3551', 3.9310344827586206), ('3555', 3.108527131782946), ('3559', 4.391891891891892), ('3561', 3.976833976833977), ('3565', 3.1714285714285713), ('3566', 3.838709677419355), ('3567', 3.9565217391304346), ('3570', 3.1818181818181817), ('3571', 3.3653846153846154), ('3575', 3.3157894736842106), ('3577', 3.730769230769231), ('3581', 3.235294117647059), ('3582', 3.6288659793814433), ('3584', 3.08955223880597), ('3585', 3.6946564885496183), ('3589', 2.494186046511628), ('3592', 4.361344537815126), ('3598', 1.0153846153846153), ('3599', 3.4545454545454546), ('3601', 4.1265822784810124), ('3602', 3.686046511627907), ('3603', 2.8048780487804876), ('3605', 3.9478260869565216), ('3607', 3.4423076923076925), ('3612', 3.6651162790697676), ('3613', 3.857142857142857), ('3615', 3.425287356321839), ('3616', 3.857142857142857), ('3618', 3.0081845238095237), ('3621', 3.113456464379947), ('3623', 3.6818181818181817), ('3625', 3.282178217821782), ('3627', 3.638888888888889), ('3629', 4.161290322580645), ('3630', 3.298342541436464), ('3632', 3.3793103448275863), ('3633', 4.0), ('3643', 3.4909090909090907), ('3644', 4.024390243902439), ('3645', 3.8550724637681157), ('3649', 4.254901960784314), ('3652', 3.4290657439446366), ('3653', 4.207207207207207), ('3654', 3.3085106382978724), ('3662', 3.034090909090909), ('3663', 3.4505494505494507), ('3664', 3.029850746268657), ('3665', 3.8564814814814814), ('3667', 3.9272727272727272), ('3668', 3.973684210526316), ('3669', 3.194954128440367), ('3672', 3.3201970443349755), ('3675', 3.487632508833922), ('3676', 3.633663366336634), ('3681', 3.874251497005988), ('3682', 4.461538461538462), ('3683', 3.095076400679117), ('3684', 4.280575539568345), ('3687', 3.0785340314136125), ('3688', 4.457236842105263), ('3689', 2.9557522123893807), ('3691', 3.665562913907285), ('3692', 3.9859154929577465), ('3693', 3.453020134228188), ('3695', 3.9900662251655628), ('3698', 3.0), ('3699', 4.60655737704918), ('3700', 3.9696969696969697), ('3701', 3.75), ('3702', 3.7872340425531914), ('3703', 3.3), ('3704', 4.442922374429224), ('3706', 4.115384615384615), ('3708', 3.857142857142857), ('3711', 4.193181818181818), ('3713', 3.7450980392156863), ('3716', 3.5714285714285716), ('3718', 3.6282527881040894), ('3721', 3.705426356589147), ('3724', 3.5283018867924527), ('3725', 3.6923076923076925), ('3726', 3.4705882352941178), ('3727', 3.2282608695652173), ('3728', 3.875), ('3730', 3.6206896551724137), ('3732', 3.3701923076923075), ('3733', 3.823529411764706), ('3734', 3.08), ('3735', 3.6411960132890364), ('3737', 3.9), ('3740', 4.276595744680851), ('3746', 3.793103448275862), ('3748', 3.71875), ('3749', 3.6864406779661016), ('3750', 3.4358974358974357), ('3753', 3.7755102040816326), ('3758', 3.14), ('3759', 4.009708737864078), ('3760', 3.7753164556962027), ('3764', 3.925925925925926), ('3765', 4.0), ('3766', 3.0483870967741935), ('3767', 3.1951219512195124), ('3769', 4.290243902439024), ('3770', 4.003759398496241), ('3771', 2.6844349680170576), ('3772', 3.8541666666666665), ('3773', 3.4265927977839334), ('3775', 3.806451612903226), ('3777', 3.6293103448275863), ('3779', 3.625), ('3782', 4.061538461538461), ('3783', 3.875), ('3784', 3.7804878048780486), ('3786', 4.031746031746032), ('3787', 4.05), ('3788', 3.75), ('3790', 4.264), ('3792', 3.5761266747868454), ('3794', 3.0681818181818183), ('3798', 3.6333333333333333), ('3799', 3.9921875), ('3800', 3.492957746478873), ('3801', 3.8142857142857145), ('3803', 3.6363636363636362), ('3804', 3.5614973262032086), ('3805', 3.7837837837837838), ('3806', 2.9580838323353293), ('3808', 2.9844559585492227), ('3810', 4.402985074626866), ('3812', 3.526315789473684), ('3816', 3.9371069182389937), ('3819', 4.0423728813559325), ('3821', 2.916323731138546), ('3822', 3.4239130434782608), ('3823', 3.9510268562401265), ('3824', 3.004911591355599), ('3825', 2.9674134419551934), ('3829', 3.008515815085158), ('3833', 3.6698717948717947), ('3841', 3.3445723684210527), ('3843', 2.6666666666666665), ('3844', 4.082089552238806), ('3847', 2.727272727272727), ('3854', 4.048780487804878), ('3857', 3.925925925925926), ('3861', 3.975609756097561), ('3862', 3.878787878787879), ('3865', 2.8421052631578947), ('3866', 3.635294117647059), ('3870', 3.8461538461538463), ('3871', 3.2982456140350878), ('3873', 3.7012987012987013), ('3874', 3.9217391304347826), ('3875', 3.717948717948718), ('3880', 3.473684210526316), ('3881', 3.5925925925925926), ('3882', 3.7339901477832513), ('3884', 2.7680491551459294), ('3889', 4.293233082706767), ('3893', 2.58), ('3894', 3.761006289308176), ('3896', 3.141891891891892), ('3900', 3.5941320293398533), ('3903', 3.3333333333333335), ('3905', 3.9135802469135803), ('3906', 3.65625), ('3908', 3.69375), ('3910', 3.5900383141762453), ('3911', 3.64), ('3912', 4.475247524752476), ('3913', 3.658682634730539), ('3916', 3.890566037735849), ('3917', 3.6530612244897958), ('3918', 3.3076923076923075), ('3920', 4.133333333333334), ('3921', 3.9305555555555554), ('3923', 3.7766990291262137), ('3924', 3.935064935064935), ('3925', 3.9722222222222223), ('3926', 3.9076923076923076), ('3929', 3.0277777777777777), ('3930', 4.262886597938144), ('3931', 3.5107296137339055), ('3932', 3.9375), ('3936', 4.352941176470588), ('3937', 4.273972602739726), ('3941', 3.02), ('3943', 4.2153846153846155), ('3945', 3.4237288135593222), ('3948', 3.372549019607843), ('3951', 3.5969387755102042), ('3952', 3.896551724137931)]\n",
      "['3', '4', '5', '6', '7', '10', '13', '14', '15', '16', '17', '18', '22', '24', '29', '31', '32', '33', '34', '38', '40', '43', '44', '51', '55', '58', '62', '64', '68', '70', '72', '73', '75', '76', '78', '79', '80', '83', '84', '89', '90', '91', '96', '102', '103', '107', '108', '109', '110', '112', '114', '117', '119', '121', '124', '125', '126', '130', '131', '133', '136', '138', '140', '142', '144', '148', '150', '151', '152', '153', '157', '159', '160', '164', '165', '168', '169', '172', '173', '176', '180', '181', '182', '184', '185', '186', '187', '188', '189', '191', '193', '200', '201', '202', '210', '211', '213', '216', '217', '219', '220', '221', '222', '225', '226', '227', '228', '229', '231', '232', '233', '234', '235', '236', '237', '238', '239', '240', '242', '244', '246', '247', '250', '251', '252', '254', '256', '257', '262', '265', '266', '267', '270', '271', '276', '277', '278', '280', '282', '286', '291', '293', '295', '296', '297', '298', '299', '301', '307', '309', '311', '312', '313', '315', '316', '317', '318', '319', '320', '321', '323', '327', '328', '333', '336', '339', '341', '345', '347', '352', '353', '354', '355', '356', '357', '358', '359', '360', '363', '366', '367', '368', '369', '371', '372', '377', '380', '381', '382', '384', '385', '388', '392', '393', '395', '398', '399', '400', '401', '403', '404', '405', '407', '409', '410', '411', '412', '414', '415', '416', '418', '419', '427', '430', '431', '433', '434', '437', '439', '441', '442', '444', '445', '449', '451', '453', '456', '457', '458', '460', '462', '464', '465', '466', '470', '477', '479', '480', '482', '486', '488', '489', '491', '495', '499', '500', '501', '502', '504', '505', '509', '510', '511', '513', '515', '517', '518', '522', '523', '525', '526', '528', '530', '532', '533', '535', '536', '538', '540', '542', '545', '551', '556', '557', '558', '560', '561', '562', '564', '567', '568', '570', '574', '576', '579', '580', '586', '587', '589', '590', '592', '595', '602', '603', '605', '606', '607', '608', '612', '614', '615', '617', '619', '621', '622', '623', '626', '627', '630', '632', '633', '638', '641', '644', '645', '646', '647', '648', '649', '650', '654', '659', '660', '662', '663', '664', '665', '666', '668', '669', '671', '676', '677', '681', '683', '684', '685', '693', '694', '695', '696', '699', '700', '701', '702', '703', '704', '706', '712', '713', '714', '716', '717', '719', '722', '728', '729', '730', '731', '733', '734', '737', '739', '742', '744', '754', '757', '758', '759', '760', '761', '763', '764', '768', '772', '774', '776', '779', '781', '783', '785', '786', '788', '791', '792', '793', '797', '802', '803', '805', '806', '809', '812', '816', '817', '818', '820', '822', '828', '831', '834', '838', '839', '844', '845', '848', '851', '859', '861', '863', '864', '865', '869', '870', '871', '872', '874', '879', '882', '884', '885', '886', '890', '891', '896', '900', '901', '905', '906', '907', '908', '910', '911', '913', '916', '917', '924', '927', '930', '931', '932', '937', '942', '943', '944', '945', '946', '948', '949', '952', '955', '957', '958', '960', '961', '966', '968', '969', '971', '972', '973', '974', '975', '978', '979', '981', '983', '984', '988', '989', '991', '994', '995', '996', '999', '1002', '1003', '1006', '1007', '1009', '1011', '1018', '1023', '1024', '1025', '1026', '1028', '1029', '1030', '1032', '1033', '1034', '1036', '1040', '1044', '1046', '1048', '1049', '1052', '1055', '1056', '1057', '1063', '1064', '1070', '1071', '1074', '1075', '1081', '1082', '1084', '1085', '1086', '1088', '1090', '1101', '1103', '1105', '1112', '1114', '1115', '1117', '1118', '1119', '1121', '1125', '1126', '1128', '1129', '1136', '1137', '1138', '1139', '1140', '1142', '1143', '1145', '1149', '1151', '1158', '1160', '1163', '1168', '1171', '1173', '1174', '1175', '1177', '1178', '1182', '1187', '1188', '1192', '1194', '1195', '1196', '1202', '1203', '1204', '1213', '1214', '1215', '1216', '1218', '1219', '1221', '1222', '1224', '1225', '1226', '1229', '1230', '1232', '1233', '1235', '1236', '1239', '1240', '1243', '1244', '1250', '1251', '1253', '1254', '1255', '1257', '1259', '1260', '1262', '1264', '1265', '1266', '1270', '1271', '1272', '1273', '1276', '1283', '1284', '1290', '1291', '1292', '1294', '1295', '1296', '1300', '1301', '1302', '1303', '1304', '1308', '1311', '1313', '1315', '1318', '1319', '1322', '1323', '1324', '1326', '1327', '1328', '1329', '1331', '1332', '1334', '1336', '1338', '1347', '1350', '1354', '1355', '1358', '1359', '1361', '1362', '1363', '1365', '1366', '1374', '1375', '1378', '1381', '1382', '1383', '1384', '1385', '1386', '1389', '1391', '1393', '1395', '1397', '1398', '1399', '1400', '1402', '1403', '1407', '1408', '1409', '1411', '1421', '1425', '1426', '1427', '1428', '1431', '1432', '1435', '1436', '1437', '1438', '1441', '1443', '1446', '1447', '1448', '1455', '1456', '1459', '1462', '1463', '1464', '1466', '1467', '1468', '1471', '1472', '1474', '1475', '1476', '1477', '1478', '1480', '1481', '1483', '1485', '1488', '1490', '1491', '1492', '1493', '1497', '1500', '1502', '1506', '1514', '1517', '1518', '1519', '1520', '1524', '1525', '1532', '1534', '1537', '1538', '1539', '1546', '1548', '1549', '1551', '1552', '1555', '1557', '1558', '1559', '1561', '1565', '1567', '1568', '1569', '1570', '1574', '1576', '1578', '1586', '1587', '1590', '1596', '1599', '1601', '1603', '1604', '1607', '1612', '1613', '1614', '1615', '1617', '1618', '1619', '1622', '1623', '1624', '1628', '1629', '1638', '1639', '1642', '1643', '1644', '1645', '1646', '1647', '1649', '1650', '1651', '1653', '1654', '1657', '1658', '1660', '1661', '1662', '1664', '1665', '1667', '1668', '1671', '1674', '1675', '1677', '1680', '1682', '1683', '1686', '1687', '1688', '1690', '1691', '1693', '1695', '1697', '1699', '1703', '1704', '1706', '1710', '1711', '1718', '1725', '1731', '1732', '1734', '1735', '1736', '1738', '1742', '1744', '1745', '1748', '1752', '1753', '1756', '1760', '1762', '1763', '1764', '1765', '1767', '1768', '1774', '1775', '1777', '1783', '1785', '1786', '1793', '1795', '1799', '1801', '1807', '1808', '1809', '1810', '1812', '1813', '1815', '1819', '1826', '1827', '1828', '1829', '1830', '1832', '1834', '1839', '1844', '1847', '1850', '1852', '1853', '1855', '1856', '1857', '1858', '1859', '1860', '1862', '1863', '1868', '1870', '1871', '1872', '1873', '1877', '1880', '1881', '1888', '1889', '1890', '1893', '1896', '1898', '1900', '1903', '1905', '1906', '1908', '1909', '1911', '1915', '1916', '1923', '1927', '1929', '1931', '1933', '1934', '1936', '1938', '1943', '1946', '1950', '1951', '1953', '1954', '1955', '1956', '1957', '1958', '1960', '1961', '1964', '1966', '1967', '1969', '1971', '1972', '1974', '1976', '1977', '1978', '1979', '1985', '1986', '1988', '1990', '1995', '1999', '2000', '2004', '2008', '2011', '2013', '2014', '2017', '2018', '2019', '2020', '2021', '2023', '2026', '2027', '2029', '2031', '2036', '2037', '2040', '2041', '2044', '2046', '2047', '2049', '2050', '2051', '2053', '2059', '2062', '2064', '2066', '2067', '2068', '2070', '2073', '2075', '2077', '2079', '2080', '2082', '2084', '2085', '2087', '2089', '2091', '2094', '2095', '2096', '2099', '2101', '2103', '2111', '2113', '2115', '2117', '2121', '2122', '2123', '2129', '2131', '2134', '2135', '2137', '2138', '2141', '2142', '2146', '2147', '2148', '2149', '2150', '2152', '2153', '2155', '2157', '2160', '2161', '2164', '2166', '2168', '2169', '2170', '2171', '2172', '2173', '2174', '2175', '2176', '2181', '2182', '2183', '2186', '2187', '2189', '2190', '2193', '2199', '2200', '2202', '2205', '2207', '2208', '2209', '2212', '2213', '2214', '2223', '2224', '2225', '2226', '2229', '2237', '2238', '2239', '2241', '2242', '2243', '2248', '2249', '2250', '2251', '2255', '2259', '2260', '2262', '2264', '2265', '2267', '2268', '2270', '2274', '2281', '2282', '2284', '2286', '2290', '2292', '2295', '2300', '2302', '2308', '2310', '2311', '2312', '2314', '2316', '2317', '2320', '2322', '2323', '2324', '2325', '2326', '2327', '2328', '2329', '2331', '2332', '2333', '2334', '2336', '2337', '2338', '2344', '2346', '2348', '2349', '2350', '2351', '2353', '2354', '2358', '2359', '2361', '2362', '2363', '2364', '2365', '2367', '2368', '2369', '2370', '2371', '2373', '2375', '2376', '2378', '2379', '2380', '2382', '2384', '2385', '2388', '2389', '2390', '2391', '2392', '2393', '2397', '2398', '2399', '2400', '2402', '2406', '2408', '2409', '2410', '2412', '2414', '2416', '2417', '2418', '2421', '2423', '2424', '2426', '2427', '2428', '2429', '2431', '2432', '2434', '2438', '2441', '2442', '2443', '2445', '2446', '2448', '2449', '2450', '2452', '2453', '2457', '2459', '2462', '2464', '2469', '2470', '2478', '2479', '2481', '2484', '2486', '2487', '2490', '2491', '2492', '2499', '2501', '2505', '2507', '2508', '2509', '2510', '2511', '2512', '2515', '2516', '2517', '2518', '2520', '2521', '2522', '2523', '2526', '2534', '2535', '2536', '2537', '2538', '2539', '2542', '2543', '2544', '2546', '2547', '2548', '2549', '2552', '2555', '2556', '2558', '2561', '2562', '2569', '2570', '2572', '2573', '2574', '2578', '2579', '2582', '2583', '2586', '2589', '2590', '2593', '2597', '2598', '2599', '2601', '2602', '2607', '2609', '2611', '2612', '2613', '2614', '2615', '2618', '2620', '2628', '2630', '2631', '2633', '2634', '2635', '2636', '2637', '2639', '2640', '2644', '2646', '2647', '2651', '2652', '2653', '2654', '2655', '2657', '2658', '2663', '2664', '2665', '2668', '2669', '2670', '2671', '2675', '2676', '2677', '2680', '2683', '2685', '2687', '2688', '2690', '2697', '2698', '2700', '2701', '2703', '2706', '2707', '2708', '2714', '2715', '2720', '2721', '2722', '2725', '2727', '2732', '2734', '2736', '2740', '2747', '2749', '2750', '2751', '2752', '2754', '2757', '2760', '2762', '2766', '2767', '2768', '2769', '2770', '2772', '2775', '2779', '2781', '2784', '2785', '2787', '2788', '2790', '2791', '2793', '2794', '2795', '2800', '2802', '2803', '2804', '2805', '2806', '2807', '2808', '2809', '2811', '2812', '2814', '2817', '2821', '2826', '2831', '2833', '2837', '2838', '2839', '2841', '2842', '2845', '2853', '2857', '2859', '2860', '2861', '2867', '2869', '2873', '2877', '2878', '2881', '2882', '2884', '2886', '2887', '2888', '2889', '2890', '2892', '2894', '2896', '2899', '2900', '2901', '2902', '2905', '2907', '2908', '2911', '2915', '2916', '2917', '2918', '2919', '2920', '2924', '2925', '2926', '2928', '2930', '2931', '2932', '2934', '2937', '2938', '2940', '2941', '2943', '2944', '2945', '2948', '2950', '2951', '2954', '2956', '2957', '2960', '2961', '2964', '2967', '2970', '2971', '2975', '2976', '2977', '2981', '2982', '2983', '2984', '2985', '2988', '2989', '2991', '2992', '2994', '2998', '3000', '3002', '3004', '3008', '3009', '3011', '3013', '3014', '3016', '3017', '3019', '3027', '3029', '3031', '3035', '3036', '3037', '3040', '3045', '3046', '3048', '3049', '3053', '3054', '3055', '3056', '3057', '3058', '3059', '3060', '3061', '3062', '3066', '3067', '3068', '3072', '3074', '3075', '3076', '3077', '3078', '3079', '3081', '3084', '3085', '3088', '3090', '3094', '3095', '3097', '3098', '3100', '3102', '3103', '3104', '3108', '3109', '3110', '3111', '3112', '3113', '3115', '3116', '3117', '3118', '3119', '3121', '3125', '3130', '3134', '3135', '3136', '3139', '3140', '3141', '3142', '3143', '3144', '3145', '3155', '3157', '3161', '3163', '3164', '3166', '3167', '3169', '3173', '3177', '3183', '3184', '3185', '3187', '3190', '3194', '3195', '3197', '3199', '3201', '3203', '3210', '3214', '3215', '3216', '3217', '3225', '3230', '3231', '3237', '3238', '3239', '3242', '3243', '3244', '3246', '3247', '3250', '3251', '3253', '3255', '3257', '3259', '3260', '3261', '3262', '3263', '3266', '3267', '3270', '3271', '3273', '3281', '3282', '3283', '3284', '3285', '3286', '3288', '3293', '3294', '3296', '3297', '3301', '3303', '3307', '3310', '3312', '3314', '3315', '3316', '3318', '3323', '3324', '3328', '3329', '3334', '3335', '3347', '3349', '3350', '3358', '3361', '3364', '3367', '3368', '3370', '3373', '3376', '3377', '3379', '3381', '3384', '3387', '3390', '3394', '3396', '3399', '3404', '3406', '3407', '3408', '3410', '3412', '3416', '3417', '3418', '3421', '3423', '3426', '3427', '3428', '3429', '3430', '3431', '3433', '3438', '3440', '3442', '3444', '3448', '3450', '3451', '3452', '3454', '3456', '3460', '3461', '3463', '3465', '3467', '3469', '3470', '3471', '3475', '3478', '3479', '3480', '3481', '3483', '3485', '3491', '3492', '3493', '3494', '3498', '3499', '3500', '3502', '3504', '3507', '3508', '3510', '3511', '3512', '3513', '3514', '3515', '3516', '3519', '3520', '3523', '3524', '3530', '3531', '3534', '3535', '3539', '3544', '3545', '3546', '3547', '3552', '3553', '3554', '3556', '3557', '3558', '3560', '3562', '3563', '3564', '3568', '3572', '3573', '3574', '3576', '3578', '3579', '3580', '3583', '3586', '3587', '3588', '3590', '3591', '3593', '3594', '3595', '3596', '3597', '3600', '3604', '3606', '3608', '3609', '3611', '3614', '3617', '3619', '3622', '3624', '3626', '3628', '3631', '3634', '3635', '3636', '3638', '3640', '3641', '3646', '3647', '3648', '3650', '3651', '3655', '3656', '3657', '3658', '3659', '3660', '3661', '3666', '3670', '3671', '3673', '3674', '3677', '3678', '3679', '3680', '3685', '3686', '3694', '3696', '3697', '3705', '3707', '3709', '3710', '3712', '3714', '3715', '3717', '3719', '3720', '3722', '3723', '3729', '3736', '3738', '3739', '3741', '3742', '3743', '3744', '3745', '3747', '3751', '3752', '3754', '3755', '3756', '3757', '3761', '3763', '3768', '3774', '3776', '3780', '3781', '3785', '3789', '3791', '3795', '3796', '3797', '3802', '3807', '3809', '3811', '3813', '3814', '3815', '3817', '3818', '3820', '3826', '3827', '3828', '3830', '3831', '3832', '3834', '3835', '3836', '3837', '3838', '3839', '3840', '3842', '3845', '3846', '3848', '3849', '3850', '3851', '3852', '3853', '3855', '3856', '3858', '3859', '3860', '3863', '3864', '3867', '3868', '3872', '3876', '3877', '3878', '3879', '3883', '3885', '3886', '3887', '3888', '3890', '3891', '3892', '3895', '3897', '3898', '3899', '3901', '3902', '3904', '3907', '3909', '3914', '3915', '3919', '3927', '3928', '3933', '3935', '3938', '3939', '3940', '3944', '3946', '3947', '3949', '3950', '1', '2', '8', '9', '11', '12', '19', '20', '23', '25', '27', '28', '30', '35', '36', '37', '39', '41', '42', '46', '47', '48', '49', '50', '52', '53', '54', '56', '59', '60', '63', '65', '66', '67', '69', '71', '74', '81', '82', '85', '86', '88', '94', '95', '97', '98', '99', '100', '101', '104', '105', '106', '111', '113', '115', '116', '118', '120', '123', '127', '128', '129', '132', '135', '137', '139', '141', '143', '146', '147', '149', '154', '156', '158', '161', '162', '166', '170', '171', '174', '175', '177', '178', '183', '190', '192', '194', '195', '196', '197', '198', '199', '204', '205', '206', '207', '208', '209', '212', '214', '215', '218', '223', '224', '230', '241', '243', '248', '249', '253', '255', '258', '259', '260', '261', '263', '268', '269', '272', '273', '274', '275', '281', '283', '284', '285', '287', '288', '289', '290', '292', '294', '300', '303', '304', '306', '308', '310', '314', '322', '324', '325', '326', '330', '331', '332', '334', '337', '338', '340', '342', '343', '346', '348', '349', '350', '351', '361', '362', '364', '365', '370', '373', '374', '375', '376', '378', '379', '383', '386', '387', '389', '390', '391', '394', '396', '397', '402', '406', '408', '413', '417', '420', '421', '422', '424', '425', '426', '428', '429', '435', '436', '438', '440', '443', '446', '447', '448', '450', '452', '454', '455', '459', '461', '467', '468', '469', '471', '472', '473', '474', '475', '476', '478', '481', '484', '485', '487', '490', '492', '493', '494', '496', '497', '498', '503', '506', '507', '508', '512', '514', '519', '520', '521', '524', '527', '529', '531', '534', '537', '539', '541', '543', '544', '546', '547', '548', '549', '550', '552', '553', '554', '555', '565', '569', '571', '572', '573', '575', '577', '578', '581', '582', '583', '584', '585', '588', '591', '593', '594', '597', '598', '599', '600', '601', '604', '609', '610', '611', '613', '616', '620', '624', '625', '628', '629', '631', '634', '635', '636', '637', '639', '640', '642', '651', '653', '656', '657', '658', '661', '667', '670', '672', '673', '674', '675', '678', '679', '680', '682', '686', '687', '688', '689', '690', '691', '692', '697', '698', '705', '707', '708', '710', '711', '715', '718', '721', '723', '724', '725', '726', '727', '732', '735', '736', '738', '740', '741', '743', '747', '748', '749', '750', '751', '753', '755', '756', '762', '765', '766', '767', '769', '771', '773', '775', '778', '780', '782', '784', '787', '790', '794', '795', '798', '799', '800', '801', '804', '807', '808', '810', '811', '813', '814', '815', '819', '823', '824', '825', '826', '827', '829', '830', '832', '833', '837', '840', '841', '842', '843', '846', '847', '849', '850', '852', '853', '854', '855', '856', '857', '858', '860', '862', '866', '867', '868', '873', '875', '876', '877', '878', '880', '883', '887', '888', '892', '893', '894', '895', '897', '898', '899', '902', '903', '904', '909', '912', '914', '919', '920', '921', '922', '923', '925', '926', '928', '929', '933', '935', '936', '938', '939', '940', '951', '953', '954', '956', '959', '962', '963', '964', '965', '967', '970', '976', '977', '980', '982', '985', '986', '987', '990', '992', '993', '997', '998', '1000', '1001', '1004', '1005', '1008', '1012', '1013', '1014', '1015', '1016', '1017', '1019', '1020', '1021', '1022', '1027', '1031', '1035', '1037', '1038', '1041', '1043', '1045', '1047', '1051', '1053', '1054', '1058', '1060', '1061', '1062', '1065', '1066', '1067', '1068', '1072', '1073', '1076', '1077', '1078', '1079', '1080', '1087', '1089', '1092', '1093', '1094', '1095', '1097', '1098', '1099', '1104', '1106', '1107', '1108', '1109', '1110', '1111', '1113', '1116', '1120', '1122', '1123', '1124', '1127', '1130', '1131', '1132', '1133', '1134', '1135', '1141', '1144', '1147', '1148', '1154', '1155', '1156', '1157', '1161', '1162', '1164', '1165', '1166', '1167', '1170', '1172', '1176', '1179', '1180', '1183', '1184', '1185', '1186', '1189', '1190', '1191', '1197', '1198', '1199', '1200', '1201', '1205', '1206', '1208', '1209', '1210', '1211', '1212', '1217', '1220', '1223', '1227', '1228', '1231', '1234', '1237', '1238', '1241', '1242', '1245', '1246', '1247', '1248', '1249', '1252', '1256', '1258', '1261', '1263', '1267', '1268', '1269', '1274', '1275', '1277', '1278', '1280', '1281', '1282', '1285', '1286', '1287', '1288', '1289', '1293', '1297', '1298', '1299', '1305', '1306', '1307', '1309', '1310', '1312', '1316', '1317', '1320', '1321', '1325', '1330', '1333', '1335', '1337', '1343', '1344', '1345', '1346', '1348', '1349', '1351', '1352', '1353', '1360', '1364', '1367', '1368', '1369', '1370', '1371', '1373', '1376', '1379', '1380', '1387', '1388', '1390', '1392', '1396', '1401', '1405', '1406', '1410', '1412', '1413', '1414', '1415', '1416', '1417', '1420', '1422', '1423', '1424', '1429', '1430', '1433', '1439', '1440', '1442', '1444', '1451', '1452', '1453', '1454', '1457', '1458', '1460', '1461', '1465', '1469', '1479', '1482', '1484', '1486', '1487', '1494', '1498', '1499', '1501', '1503', '1504', '1505', '1507', '1508', '1510', '1511', '1512', '1513', '1515', '1516', '1521', '1522', '1523', '1526', '1527', '1528', '1529', '1530', '1531', '1533', '1535', '1536', '1540', '1541', '1542', '1543', '1544', '1545', '1547', '1550', '1553', '1554', '1556', '1560', '1563', '1564', '1566', '1571', '1572', '1573', '1575', '1577', '1579', '1580', '1581', '1582', '1583', '1584', '1585', '1588', '1589', '1591', '1592', '1593', '1594', '1595', '1597', '1598', '1600', '1602', '1605', '1606', '1609', '1610', '1611', '1616', '1620', '1621', '1625', '1626', '1631', '1634', '1635', '1637', '1648', '1652', '1655', '1656', '1663', '1666', '1669', '1670', '1672', '1673', '1676', '1678', '1679', '1681', '1684', '1685', '1689', '1692', '1694', '1696', '1698', '1700', '1701', '1702', '1705', '1707', '1708', '1709', '1712', '1713', '1714', '1715', '1716', '1717', '1720', '1722', '1723', '1724', '1727', '1728', '1729', '1730', '1733', '1737', '1739', '1740', '1741', '1743', '1746', '1751', '1755', '1757', '1758', '1759', '1766', '1770', '1771', '1772', '1773', '1776', '1778', '1779', '1781', '1782', '1787', '1788', '1789', '1790', '1791', '1792', '1796', '1797', '1798', '1800', '1802', '1803', '1804', '1805', '1806', '1811', '1814', '1816', '1817', '1818', '1820', '1821', '1822', '1823', '1824', '1825', '1831', '1833', '1835', '1836', '1837', '1838', '1840', '1842', '1843', '1845', '1846', '1848', '1849', '1861', '1864', '1865', '1866', '1869', '1874', '1875', '1876', '1878', '1879', '1882', '1883', '1884', '1885', '1886', '1887', '1891', '1892', '1894', '1895', '1897', '1899', '1901', '1902', '1904', '1907', '1910', '1913', '1914', '1917', '1919', '1920', '1921', '1922', '1924', '1925', '1926', '1928', '1930', '1932', '1935', '1937', '1939', '1940', '1941', '1944', '1947', '1948', '1949', '1952', '1959', '1963', '1965', '1970', '1973', '1975', '1980', '1981', '1982', '1983', '1984', '1987', '1989', '1991', '1993', '1994', '1996', '1997', '1998', '2001', '2002', '2003', '2006', '2007', '2009', '2015', '2016', '2022', '2024', '2025', '2028', '2030', '2032', '2034', '2035', '2038', '2039', '2042', '2045', '2048', '2054', '2055', '2056', '2057', '2058', '2060', '2061', '2065', '2069', '2071', '2072', '2074', '2076', '2078', '2081', '2083', '2086', '2088', '2090', '2092', '2093', '2097', '2098', '2100', '2104', '2105', '2107', '2108', '2110', '2112', '2114', '2116', '2118', '2119', '2120', '2124', '2125', '2127', '2128', '2130', '2133', '2136', '2139', '2140', '2143', '2144', '2145', '2151', '2154', '2156', '2158', '2159', '2162', '2163', '2165', '2177', '2178', '2179', '2184', '2185', '2188', '2191', '2192', '2195', '2196', '2197', '2198', '2201', '2203', '2204', '2206', '2210', '2211', '2215', '2217', '2218', '2219', '2220', '2221', '2222', '2227', '2228', '2230', '2231', '2232', '2233', '2234', '2235', '2236', '2240', '2244', '2245', '2246', '2247', '2252', '2253', '2254', '2256', '2257', '2258', '2261', '2263', '2266', '2269', '2271', '2272', '2273', '2275', '2276', '2277', '2278', '2279', '2280', '2283', '2285', '2287', '2288', '2289', '2291', '2293', '2294', '2296', '2297', '2298', '2301', '2303', '2304', '2305', '2306', '2307', '2309', '2313', '2319', '2321', '2330', '2335', '2339', '2340', '2341', '2342', '2343', '2345', '2347', '2355', '2356', '2357', '2360', '2366', '2372', '2374', '2377', '2381', '2383', '2386', '2387', '2394', '2395', '2396', '2401', '2403', '2404', '2405', '2407', '2411', '2413', '2415', '2419', '2420', '2422', '2425', '2430', '2433', '2435', '2436', '2437', '2440', '2444', '2447', '2451', '2454', '2456', '2458', '2460', '2461', '2463', '2465', '2467', '2468', '2471', '2472', '2473', '2474', '2475', '2476', '2477', '2480', '2482', '2483', '2485', '2488', '2489', '2493', '2495', '2497', '2498', '2500', '2502', '2503', '2504', '2506', '2513', '2514', '2519', '2524', '2525', '2527', '2528', '2529', '2530', '2531', '2532', '2533', '2540', '2541', '2545', '2550', '2551', '2553', '2554', '2557', '2559', '2560', '2564', '2565', '2566', '2567', '2568', '2571', '2575', '2576', '2577', '2580', '2581', '2584', '2585', '2587', '2588', '2591', '2592', '2594', '2595', '2596', '2603', '2604', '2605', '2606', '2608', '2610', '2616', '2617', '2619', '2622', '2623', '2624', '2625', '2626', '2627', '2629', '2632', '2638', '2641', '2642', '2643', '2645', '2648', '2649', '2650', '2656', '2659', '2660', '2661', '2662', '2666', '2667', '2672', '2673', '2674', '2678', '2679', '2681', '2684', '2689', '2691', '2692', '2693', '2694', '2695', '2696', '2699', '2704', '2705', '2710', '2712', '2716', '2717', '2718', '2719', '2723', '2724', '2726', '2728', '2729', '2730', '2731', '2733', '2735', '2737', '2738', '2739', '2741', '2743', '2745', '2746', '2753', '2755', '2756', '2758', '2759', '2761', '2764', '2765', '2773', '2774', '2776', '2777', '2778', '2780', '2782', '2783', '2786', '2789', '2798', '2799', '2801', '2810', '2815', '2816', '2818', '2819', '2822', '2824', '2825', '2827', '2828', '2830', '2832', '2834', '2835', '2836', '2844', '2846', '2848', '2849', '2851', '2852', '2854', '2856', '2858', '2862', '2863', '2864', '2865', '2866', '2868', '2871', '2872', '2874', '2875', '2876', '2879', '2880', '2885', '2891', '2893', '2895', '2897', '2898', '2903', '2904', '2906', '2909', '2910', '2913', '2914', '2921', '2922', '2923', '2927', '2929', '2933', '2935', '2936', '2939', '2942', '2947', '2949', '2952', '2953', '2955', '2958', '2959', '2963', '2965', '2966', '2968', '2969', '2972', '2973', '2974', '2978', '2979', '2980', '2986', '2987', '2990', '2993', '2995', '2996', '2997', '3001', '3003', '3005', '3006', '3010', '3015', '3018', '3020', '3021', '3022', '3023', '3024', '3025', '3028', '3030', '3032', '3033', '3034', '3038', '3039', '3041', '3042', '3044', '3047', '3050', '3051', '3052', '3063', '3064', '3065', '3070', '3071', '3073', '3080', '3082', '3083', '3086', '3087', '3089', '3091', '3092', '3093', '3096', '3099', '3101', '3105', '3106', '3107', '3114', '3120', '3122', '3123', '3124', '3126', '3127', '3128', '3129', '3131', '3132', '3133', '3137', '3138', '3146', '3147', '3148', '3149', '3150', '3151', '3153', '3154', '3156', '3158', '3159', '3160', '3165', '3168', '3170', '3171', '3172', '3174', '3175', '3176', '3179', '3181', '3182', '3186', '3188', '3189', '3191', '3192', '3193', '3196', '3198', '3200', '3202', '3204', '3205', '3206', '3207', '3208', '3211', '3213', '3218', '3219', '3220', '3221', '3222', '3223', '3224', '3226', '3227', '3228', '3229', '3232', '3233', '3234', '3235', '3240', '3241', '3248', '3249', '3254', '3256', '3258', '3268', '3269', '3272', '3274', '3275', '3276', '3277', '3278', '3287', '3289', '3291', '3292', '3295', '3298', '3299', '3300', '3302', '3304', '3305', '3306', '3308', '3309', '3313', '3317', '3319', '3320', '3321', '3322', '3326', '3327', '3330', '3331', '3332', '3333', '3337', '3338', '3339', '3340', '3341', '3342', '3343', '3344', '3345', '3346', '3348', '3351', '3352', '3353', '3355', '3356', '3357', '3359', '3360', '3362', '3363', '3365', '3366', '3369', '3371', '3372', '3374', '3375', '3378', '3380', '3382', '3383', '3385', '3386', '3388', '3391', '3392', '3393', '3395', '3397', '3398', '3400', '3402', '3403', '3405', '3409', '3413', '3414', '3415', '3419', '3420', '3424', '3425', '3432', '3434', '3435', '3436', '3437', '3439', '3443', '3445', '3446', '3447', '3449', '3453', '3455', '3457', '3458', '3459', '3462', '3464', '3466', '3468', '3472', '3473', '3474', '3477', '3482', '3486', '3487', '3490', '3495', '3496', '3497', '3501', '3503', '3505', '3506', '3517', '3518', '3521', '3522', '3525', '3527', '3529', '3532', '3533', '3536', '3538', '3540', '3541', '3542', '3543', '3549', '3550', '3551', '3555', '3559', '3561', '3565', '3566', '3567', '3570', '3571', '3575', '3577', '3581', '3582', '3584', '3585', '3592', '3599', '3601', '3602', '3605', '3607', '3612', '3613', '3615', '3616', '3618', '3621', '3623', '3625', '3627', '3629', '3630', '3632', '3633', '3643', '3644', '3645', '3649', '3652', '3653', '3654', '3662', '3663', '3664', '3665', '3667', '3668', '3669', '3672', '3675', '3676', '3681', '3682', '3683', '3684', '3687', '3688', '3691', '3692', '3693', '3695', '3699', '3700', '3701', '3702', '3703', '3704', '3706', '3708', '3711', '3713', '3716', '3718', '3721', '3724', '3725', '3726', '3727', '3728', '3730', '3732', '3733', '3734', '3735', '3737', '3740', '3746', '3748', '3749', '3750', '3753', '3758', '3759', '3760', '3764', '3765', '3766', '3767', '3769', '3770', '3772', '3773', '3775', '3777', '3779', '3782', '3783', '3784', '3786', '3787', '3788', '3790', '3792', '3794', '3798', '3799', '3800', '3801', '3803', '3804', '3805', '3810', '3812', '3816', '3819', '3822', '3823', '3824', '3829', '3833', '3841', '3844', '3854', '3857', '3861', '3862', '3866', '3870', '3871', '3873', '3874', '3875', '3880', '3881', '3882', '3889', '3894', '3896', '3900', '3903', '3905', '3906', '3908', '3910', '3911', '3912', '3913', '3916', '3917', '3918', '3920', '3921', '3923', '3924', '3925', '3926', '3929', '3930', '3931', '3932', '3936', '3937', '3941', '3943', '3945', '3948', '3951', '3952']\n"
     ]
    }
   ],
   "source": [
    "# Cargar el archivo ratings.txt\n",
    "ratings_file_path = '/home/iabd/Documentos/IABD/IABD/BIGDATA/Spark/recursos/ratings.txt'\n",
    "rdd_ratings = sc.textFile(ratings_file_path)\n",
    "\n",
    "#rddFichero = sc.textFile(\"Datos/ratings.txt\")\n",
    "\n",
    "rdd1 = rdd_ratings.map(lambda line: line.split(\"::\")).map(lambda x: (x[0], (float(x[2]), 1))).reduceByKey(lambda a, b: (a[0] + b[0], a[1] + b[1])).mapValues(lambda x: x[0] / x[1])\n",
    "print(rdd1.collect())\n",
    "\n",
    "rdd2 = rdd1.filter(lambda x: x[1] > 3).map(lambda x: x[0])\n",
    "print(rdd2.collect())"
   ]
  },
  {
   "cell_type": "markdown",
   "metadata": {},
   "source": [
    "## EJERCICIO 11"
   ]
  },
  {
   "cell_type": "markdown",
   "metadata": {},
   "source": [
    "Tenemos las calificaciones de las asignaturas de matemáticas (notas_mates.txt), inglés (notas_ingles.txt) y física (notas_fisica.txt) de los alumnos del instituto en 3 documentos de texto. A partir de estos ficheros:\n",
    "1. Crea 3 RDD de pares, uno para cada asignatura, con los alumnos y sus notas\n",
    "2. Crea un solo RDD con todas las notas (cada entrada es un usuario con sus tres notas)\n",
    "3. ¿Cuál es la nota más baja que ha tenido cada alumno?\n",
    "4. ¿Cuál es la nota media de cada alumno?\n",
    "5. ¿Cuántos estudiantes suspende cada asignatura?\n",
    "         [('Matemáticas', 7), ('Física', 8), ('Inglés', 7)]\n",
    "6. ¿En qué asignatura suspende más gente?\n",
    "7. Total de notables o sobresalientes por alumno, es decir, cantidad de notas superiores o igual a 7.\n",
    "8. ¿Qué alumno no se ha presentado a inglés?\n",
    "9. ¿A cuántas asignaturas se ha presentado cada alumno?"
   ]
  },
  {
   "cell_type": "code",
   "execution_count": 9,
   "metadata": {},
   "outputs": [],
   "source": [
    "ruta_notas_fisica = '/home/iabd/Documentos/IABD/IABD/BIGDATA/Spark/recursos/notas_fisica.txt'\n",
    "rdd_notas_fisica = sc.textFile(ruta_notas_fisica)\n",
    "\n",
    "ruta_notas_ingles= '/home/iabd/Documentos/IABD/IABD/BIGDATA/Spark/recursos/notas_ingles.txt'\n",
    "rdd_notas_ingles = sc.textFile(ruta_notas_ingles)\n",
    "\n",
    "ruta_notas_mates= '/home/iabd/Documentos/IABD/IABD/BIGDATA/Spark/recursos/notas_mates.txt'\n",
    "rdd_notas_mates= sc.textFile(ruta_notas_mates)  "
   ]
  },
  {
   "cell_type": "code",
   "execution_count": 10,
   "metadata": {},
   "outputs": [
    {
     "data": {
      "text/plain": [
       "[('Pedro', [2.0, 5.0]),\n",
       " ('Jose Juan', [3.0, 3.0, 5.0]),\n",
       " ('Ramon', [7.0, 8.0, 4.5]),\n",
       " ('Anabel', [2.0, 7.0, 8.0]),\n",
       " ('Andres', [4.0, 6.0, 4.0]),\n",
       " ('Oscar', [5.0, 3.0, 7.0]),\n",
       " ('Rosa', [8.0, 9.0, 6.0]),\n",
       " ('Susana', [9.0, 2.0, 9.0]),\n",
       " ('Rocio', [7.0, 4.0, 6.0]),\n",
       " ('Leonardo', [6.0, 4.0, 1.0]),\n",
       " ('Angel', [9.0, 4.0, 6.0]),\n",
       " ('Jorge', [5.0, 5.0, 10.0]),\n",
       " ('Carlos', [4.0, 8.0, 4.0]),\n",
       " ('Fernando', [9.0, 7.0, 5.0]),\n",
       " ('Isabel', [8.0, 7.0, 8.0]),\n",
       " ('Triana', [3.0, 4.0, 3.0]),\n",
       " ('Alejandro', [3.0, 7.0, 5.0]),\n",
       " ('Maria', [3.0, 6.0, 2.0]),\n",
       " ('Nicolas', [7.0, 5.0, 2.0])]"
      ]
     },
     "execution_count": 10,
     "metadata": {},
     "output_type": "execute_result"
    }
   ],
   "source": [
    "rdd_total_notas = (\n",
    "    rdd_notas_fisica.union(rdd_notas_ingles)\n",
    "    .union(rdd_notas_mates)\n",
    "    .map(lambda x: (x.split(',')[0], float(x.split(',')[1])))  # Extraer nombre y nota como str\n",
    "    .groupByKey()  # Agrupar por nombre\n",
    "    .mapValues(list)  # Convertir valores en lista\n",
    ")\n",
    "\n",
    "# Mostrar resultado\n",
    "rdd_total_notas.collect()"
   ]
  },
  {
   "cell_type": "code",
   "execution_count": 11,
   "metadata": {},
   "outputs": [
    {
     "data": {
      "text/plain": [
       "[('Pedro', 2.0),\n",
       " ('Jose Juan', 3.0),\n",
       " ('Ramon', 4.5),\n",
       " ('Anabel', 2.0),\n",
       " ('Andres', 4.0),\n",
       " ('Oscar', 3.0),\n",
       " ('Rosa', 6.0),\n",
       " ('Susana', 2.0),\n",
       " ('Rocio', 4.0),\n",
       " ('Leonardo', 1.0),\n",
       " ('Angel', 4.0),\n",
       " ('Jorge', 5.0),\n",
       " ('Carlos', 4.0),\n",
       " ('Fernando', 5.0),\n",
       " ('Isabel', 7.0),\n",
       " ('Triana', 3.0),\n",
       " ('Alejandro', 3.0),\n",
       " ('Maria', 2.0),\n",
       " ('Nicolas', 2.0)]"
      ]
     },
     "execution_count": 11,
     "metadata": {},
     "output_type": "execute_result"
    }
   ],
   "source": [
    "rdd_notas_minimas = rdd_total_notas.mapValues(lambda notas: min(notas, key=float))\n",
    "\n",
    "# Mostrar resultado\n",
    "rdd_notas_minimas.collect()"
   ]
  },
  {
   "cell_type": "code",
   "execution_count": 12,
   "metadata": {},
   "outputs": [
    {
     "data": {
      "text/plain": [
       "[('Pedro', 2.0),\n",
       " ('Jose Juan', 3.0),\n",
       " ('Ramon', 4.5),\n",
       " ('Anabel', 2.0),\n",
       " ('Andres', 4.0),\n",
       " ('Oscar', 3.0),\n",
       " ('Rosa', 6.0),\n",
       " ('Susana', 2.0),\n",
       " ('Rocio', 4.0),\n",
       " ('Leonardo', 1.0),\n",
       " ('Angel', 4.0),\n",
       " ('Jorge', 5.0),\n",
       " ('Carlos', 4.0),\n",
       " ('Fernando', 5.0),\n",
       " ('Isabel', 7.0),\n",
       " ('Triana', 3.0),\n",
       " ('Alejandro', 3.0),\n",
       " ('Maria', 2.0),\n",
       " ('Nicolas', 2.0)]"
      ]
     },
     "execution_count": 12,
     "metadata": {},
     "output_type": "execute_result"
    }
   ],
   "source": [
    "rdd_medias = rdd_total_notas.mapValues(lambda notas: sum(map(float, notas)) / len(notas))\n",
    "\n",
    "# Mostrar resultado\n",
    "rdd_notas_minimas.collect()"
   ]
  },
  {
   "cell_type": "code",
   "execution_count": 13,
   "metadata": {},
   "outputs": [
    {
     "data": {
      "text/plain": [
       "[('Matemáticas', 7), ('Física', 8), ('Inglés', 7)]"
      ]
     },
     "execution_count": 13,
     "metadata": {},
     "output_type": "execute_result"
    }
   ],
   "source": [
    "rdd_resultado = sc.parallelize([\n",
    "    ('Matemáticas', rdd_notas_mates.map(lambda x: x.split(',')).filter(lambda x: float(x[1]) < 5).count()),\n",
    "    ('Física', rdd_notas_fisica.map(lambda x: x.split(',')).filter(lambda x: float(x[1]) < 5).count()),\n",
    "    ('Inglés', rdd_notas_ingles.map(lambda x: x.split(',')).filter(lambda x: float(x[1]) < 5).count())\n",
    "])\n",
    "\n",
    "# Mostrar el resultado\n",
    "rdd_resultado.collect()\n"
   ]
  },
  {
   "cell_type": "code",
   "execution_count": 14,
   "metadata": {},
   "outputs": [
    {
     "data": {
      "text/plain": [
       "('Física', 8)"
      ]
     },
     "execution_count": 14,
     "metadata": {},
     "output_type": "execute_result"
    }
   ],
   "source": [
    "# Obtener la asignatura con más suspensos\n",
    "asignatura_mas_suspensos = rdd_resultado.reduce(lambda x, y: x if x[1] > y[1] else y)\n",
    "\n",
    "# Mostrar resultado\n",
    "asignatura_mas_suspensos\n"
   ]
  },
  {
   "cell_type": "code",
   "execution_count": 15,
   "metadata": {},
   "outputs": [
    {
     "data": {
      "text/plain": [
       "[('Pedro', 0),\n",
       " ('Jose Juan', 0),\n",
       " ('Ramon', 2),\n",
       " ('Anabel', 2),\n",
       " ('Andres', 0),\n",
       " ('Oscar', 1),\n",
       " ('Rosa', 2),\n",
       " ('Susana', 2),\n",
       " ('Rocio', 1),\n",
       " ('Leonardo', 0),\n",
       " ('Angel', 1),\n",
       " ('Jorge', 1),\n",
       " ('Carlos', 1),\n",
       " ('Fernando', 2),\n",
       " ('Isabel', 3),\n",
       " ('Triana', 0),\n",
       " ('Alejandro', 1),\n",
       " ('Maria', 0),\n",
       " ('Nicolas', 1)]"
      ]
     },
     "execution_count": 15,
     "metadata": {},
     "output_type": "execute_result"
    }
   ],
   "source": [
    "rdd_notables = rdd_total_notas.mapValues(lambda x: len(list(filter(lambda y: y >= 7, x))))\n",
    "rdd_notables.collect()"
   ]
  },
  {
   "cell_type": "code",
   "execution_count": 16,
   "metadata": {},
   "outputs": [
    {
     "data": {
      "text/plain": [
       "['Pedro']"
      ]
     },
     "execution_count": 16,
     "metadata": {},
     "output_type": "execute_result"
    }
   ],
   "source": [
    "# Obtener los alumnos que se han presentado a inglés (donde la nota no es vacía o nula)\n",
    "presentes_ingles = rdd_notas_ingles.filter(lambda x: x.split(',')[1] != '')\n",
    "\n",
    "# Obtener los alumnos que no se han presentado a inglés\n",
    "todos_alumnos = rdd_notas_mates.union(rdd_notas_fisica).map(lambda x: x.split(',')[0]).distinct()  # Suponiendo que el primer campo es el nombre del alumno\n",
    "\n",
    "alumnos_no_presentes_ingles = todos_alumnos.subtract(presentes_ingles.map(lambda x: x.split(',')[0]))\n",
    "\n",
    "# Mostrar los alumnos que no se han presentado a inglés\n",
    "alumnos_no_presentes_ingles.collect()\n"
   ]
  },
  {
   "cell_type": "code",
   "execution_count": 17,
   "metadata": {},
   "outputs": [
    {
     "data": {
      "text/plain": [
       "[('Pedro', 2),\n",
       " ('Jose Juan', 3),\n",
       " ('Ramon', 3),\n",
       " ('Anabel', 3),\n",
       " ('Andres', 3),\n",
       " ('Oscar', 3),\n",
       " ('Rosa', 3),\n",
       " ('Susana', 3),\n",
       " ('Rocio', 3),\n",
       " ('Leonardo', 3),\n",
       " ('Angel', 3),\n",
       " ('Jorge', 3),\n",
       " ('Carlos', 3),\n",
       " ('Fernando', 3),\n",
       " ('Isabel', 3),\n",
       " ('Triana', 3),\n",
       " ('Alejandro', 3),\n",
       " ('Maria', 3),\n",
       " ('Nicolas', 3)]"
      ]
     },
     "execution_count": 17,
     "metadata": {},
     "output_type": "execute_result"
    }
   ],
   "source": [
    "rdd_mates = rdd_notas_mates.map(lambda x: (x.split(',')[0], 1) if x.split(',')[1] != '' else (x.split(',')[0], 0))\n",
    "rdd_fisica = rdd_notas_fisica.map(lambda x: (x.split(',')[0], 1) if x.split(',')[1] != '' else (x.split(',')[0], 0))\n",
    "rdd_ingles = rdd_notas_ingles.map(lambda x: (x.split(',')[0], 1) if x.split(',')[1] != '' else (x.split(',')[0], 0))\n",
    "\n",
    "# Unir los RDDs de las tres asignaturas\n",
    "rdd_union = rdd_mates.union(rdd_fisica).union(rdd_ingles)\n",
    "\n",
    "# Reducir por clave (alumno) sumando los valores (1 si se presentó, 0 si no)\n",
    "rdd_contar_asignaturas = rdd_union.reduceByKey(lambda x, y: x + y)\n",
    "\n",
    "# Mostrar el resultado\n",
    "rdd_contar_asignaturas.collect()"
   ]
  },
  {
   "cell_type": "markdown",
   "metadata": {},
   "source": [
    "## EJERCICIO 12"
   ]
  },
  {
   "cell_type": "markdown",
   "metadata": {},
   "source": [
    "Realiza las siguientes operaciones:\n",
    "1. Genera un RDD con la siguiente lista [1, 2, 3, 3, 4, 5, 6]\n",
    "2. Multiplica por 2 todos los elementos del RDD anterior\n",
    "3. Filtra el RDD inicial por los elementos pares\n",
    "4. Muestra los elementos unicos del RDD inicial\n",
    "5. Toma los elementos del RDD inicial para multiplicarlos entre si y obtener un resultado"
   ]
  },
  {
   "cell_type": "code",
   "execution_count": 47,
   "metadata": {},
   "outputs": [
    {
     "data": {
      "text/plain": [
       "[2, 4, 6, 6, 8, 10, 12]"
      ]
     },
     "execution_count": 47,
     "metadata": {},
     "output_type": "execute_result"
    }
   ],
   "source": [
    "lista=[1, 2, 3, 3, 4, 5, 6]\n",
    "rdd_lista_numeros=sc.parallelize(lista)\n",
    "rdd_multiplicar=rdd_lista_numeros.map(lambda x: x*2)\n",
    "rdd_multiplicar.collect()"
   ]
  },
  {
   "cell_type": "code",
   "execution_count": 48,
   "metadata": {},
   "outputs": [
    {
     "data": {
      "text/plain": [
       "[2, 4, 6]"
      ]
     },
     "execution_count": 48,
     "metadata": {},
     "output_type": "execute_result"
    }
   ],
   "source": [
    "rdd_filtar=rdd_lista_numeros.filter(lambda x: x%2==0)\n",
    "rdd_filtar.collect()"
   ]
  },
  {
   "cell_type": "code",
   "execution_count": 49,
   "metadata": {},
   "outputs": [
    {
     "data": {
      "text/plain": [
       "[1, 2, 3, 4, 5, 6]"
      ]
     },
     "execution_count": 49,
     "metadata": {},
     "output_type": "execute_result"
    }
   ],
   "source": [
    "rdd_unicos=rdd_lista_numeros.distinct()\n",
    "rdd_unicos.collect()"
   ]
  },
  {
   "cell_type": "code",
   "execution_count": 51,
   "metadata": {},
   "outputs": [
    {
     "data": {
      "text/plain": [
       "2160"
      ]
     },
     "execution_count": 51,
     "metadata": {},
     "output_type": "execute_result"
    }
   ],
   "source": [
    "rdd_total_multiplicar=rdd_lista_numeros.reduce(lambda x,y: x*y) \n",
    "rdd_total_multiplicar"
   ]
  },
  {
   "cell_type": "markdown",
   "metadata": {},
   "source": [
    "## EJERCICIO 13"
   ]
  },
  {
   "cell_type": "markdown",
   "metadata": {},
   "source": [
    "rdd = sc.parallelize([('a', 1), ('a', 2), ('a', 3), ('b', 1)])\n",
    "\n",
    "Realiza las siguientes operaciones:\n",
    "1. Obten la suma de los valores agrupados por el key\n",
    "2. Ordena el RDD inicial en base al key, de forma descendente"
   ]
  },
  {
   "cell_type": "code",
   "execution_count": 76,
   "metadata": {},
   "outputs": [
    {
     "data": {
      "text/plain": [
       "[('b', 1), ('a', 6)]"
      ]
     },
     "execution_count": 76,
     "metadata": {},
     "output_type": "execute_result"
    }
   ],
   "source": [
    "rdd = sc.parallelize([('a', 1), ('a', 2), ('a', 3), ('b', 1)])\n",
    "rdd_suma_agrupados_key = rdd.reduceByKey(lambda x, y: x + y)\n",
    "rdd_suma_agrupados_key.collect()"
   ]
  },
  {
   "cell_type": "code",
   "execution_count": 78,
   "metadata": {},
   "outputs": [
    {
     "data": {
      "text/plain": [
       "[('b', 1), ('a', 1), ('a', 2), ('a', 3)]"
      ]
     },
     "execution_count": 78,
     "metadata": {},
     "output_type": "execute_result"
    }
   ],
   "source": [
    "rdd_ordenado_key_descendente = rdd.sortByKey(ascending=False)\n",
    "rdd_ordenado_key_descendente.collect()"
   ]
  },
  {
   "cell_type": "markdown",
   "metadata": {},
   "source": [
    "## EJERCICIO 14"
   ]
  },
  {
   "cell_type": "markdown",
   "metadata": {},
   "source": [
    "data= ['Python', 'Scala', 'Python', 'R', 'Python', 'Java', 'R' ]\n",
    "\n",
    "rdd= sc.parallelize(data)\n",
    "\n",
    "Cuenta cuantas veces aparece cada valor"
   ]
  },
  {
   "cell_type": "code",
   "execution_count": 80,
   "metadata": {},
   "outputs": [
    {
     "data": {
      "text/plain": [
       "[('Scala', 1), ('R', 2), ('Java', 1), ('Python', 3)]"
      ]
     },
     "execution_count": 80,
     "metadata": {},
     "output_type": "execute_result"
    }
   ],
   "source": [
    "data= ['Python', 'Scala', 'Python', 'R', 'Python', 'Java', 'R' ]\n",
    "\n",
    "rdd= sc.parallelize(data)\n",
    "rdd_reduce= rdd.map(lambda x: (x,1)).reduceByKey(lambda x,y: x+y)\n",
    "rdd_reduce.collect()"
   ]
  }
 ],
 "metadata": {
  "kernelspec": {
   "display_name": "base",
   "language": "python",
   "name": "python3"
  },
  "language_info": {
   "codemirror_mode": {
    "name": "ipython",
    "version": 3
   },
   "file_extension": ".py",
   "mimetype": "text/x-python",
   "name": "python",
   "nbconvert_exporter": "python",
   "pygments_lexer": "ipython3",
   "version": "3.12.7"
  }
 },
 "nbformat": 4,
 "nbformat_minor": 2
}
