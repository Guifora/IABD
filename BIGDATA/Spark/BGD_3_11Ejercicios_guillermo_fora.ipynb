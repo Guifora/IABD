{
 "cells": [
  {
   "cell_type": "markdown",
   "metadata": {
    "id": "W2WVOQzMza6Z"
   },
   "source": [
    "# EJERCICIOS"
   ]
  },
  {
   "cell_type": "code",
   "execution_count": 57,
   "metadata": {
    "colab": {
     "base_uri": "https://localhost:8080/",
     "height": 393
    },
    "executionInfo": {
     "elapsed": 473,
     "status": "error",
     "timestamp": 1706115836178,
     "user": {
      "displayName": "Ainara Montoya",
      "userId": "09413080192368323852"
     },
     "user_tz": -60
    },
    "id": "6T-TvrORza6g",
    "outputId": "7db8474c-38cb-4991-d42d-a8ca1adc2e89"
   },
   "outputs": [],
   "source": [
    "import pandas as pd\n",
    "import matplotlib.pyplot as plt\n",
    "from pyspark.sql import SparkSession\n",
    "from pyspark.sql.functions import min, max, avg, countDistinct, col, row_number,collect_list,unix_timestamp, from_unixtime, month, year, split, to_timestamp, udf,sum as _sum, hour\n",
    "from pyspark.sql.window import Window\n",
    "from pyspark.sql.types import StructType,StructField,StringType,IntegerType,DoubleType,TimestampType\n",
    "import seaborn as sns\n"
   ]
  },
  {
   "cell_type": "code",
   "execution_count": 58,
   "metadata": {},
   "outputs": [],
   "source": [
    "spark = SparkSession.builder.master(\"local[*]\").appName(\"pyspark_dataframes2\").getOrCreate()\n",
    "#spark = SparkSession.builder.getOrCreate()\n",
    "sc = spark.sparkContext"
   ]
  },
  {
   "cell_type": "markdown",
   "metadata": {
    "id": "39W2Yok5za6p"
   },
   "source": [
    "## EJERCICIO 0\n",
    "En un documento word haz una lista de las diferentes operaciones con una breve descripción de lo que hace y un ejemplo de como se utiliza"
   ]
  },
  {
   "cell_type": "markdown",
   "metadata": {
    "id": "0NsZVL46za6q"
   },
   "source": [
    "## EJERCICIO 1\n",
    "Realiza las siguientes operaciones:\n",
    "* Carga el dataset de “data/stocks_price_final.csv” (usa el esquema que creaste en la anterior relación de ejercicios)\n",
    "* Calcula el mínimo y máximo de date, open, close y adjusted\n",
    "* Calcula la media de las variables open, close y adjusted por industria\n",
    "* Genera un gráfico de líneas donde se muestre la media de open por industria para los 25 primeros registros\n",
    "* Guarda en un archivo json una selección de datos"
   ]
  },
  {
   "cell_type": "code",
   "execution_count": 59,
   "metadata": {},
   "outputs": [],
   "source": [
    "from pyspark.sql.types import StructType, StructField, StringType, IntegerType, FloatType, LongType, DateType\n",
    "\n",
    "# Definir el esquema de forma declarativa\n",
    "esquema_price = StructType([\n",
    "    StructField(\"id\", StringType(), True),\n",
    "    StructField(\"symbol\", StringType(), True),\n",
    "    StructField(\"date\", DateType(), True),\n",
    "    StructField(\"open\", FloatType(), True),\n",
    "    StructField(\"high\", FloatType(), True),\n",
    "    StructField(\"low\", FloatType(), True),\n",
    "    StructField(\"close\", FloatType(), True),\n",
    "    StructField(\"volume\", LongType(), True),\n",
    "    StructField(\"adjusted\", FloatType(), True),\n",
    "    StructField(\"market.cap\", StringType(), True),\n",
    "    StructField(\"sector\", StringType(), True),\n",
    "    StructField(\"industry\", StringType(), True),\n",
    "    StructField(\"exchange\", StringType(), True)\n",
    "])"
   ]
  },
  {
   "cell_type": "code",
   "execution_count": 60,
   "metadata": {
    "id": "q9YTjKkvza6r",
    "outputId": "fc5cab7b-8202-48bd-8136-c021d346cbf9"
   },
   "outputs": [
    {
     "name": "stdout",
     "output_type": "stream",
     "text": [
      "+---+------+----------+-----+------+------+-----+-------+--------+----------+-------------+--------------------+--------+\n",
      "| id|symbol|      date| open|  high|   low|close| volume|adjusted|market.cap|       sector|            industry|exchange|\n",
      "+---+------+----------+-----+------+------+-----+-------+--------+----------+-------------+--------------------+--------+\n",
      "|  1|   TXG|2019-09-12| 54.0|  58.0|  51.0|52.75|7326300|   52.75|    $9.31B|Capital Goods|Biotechnology: La...|  NASDAQ|\n",
      "|  2|   TXG|2019-09-13|52.75|54.355| 49.15|52.27|1025200|   52.27|    $9.31B|Capital Goods|Biotechnology: La...|  NASDAQ|\n",
      "|  3|   TXG|2019-09-16|52.45|  56.0| 52.01| 55.2| 269900|    55.2|    $9.31B|Capital Goods|Biotechnology: La...|  NASDAQ|\n",
      "|  4|   TXG|2019-09-17|56.21|  60.9|55.423|56.78| 602800|   56.78|    $9.31B|Capital Goods|Biotechnology: La...|  NASDAQ|\n",
      "|  5|   TXG|2019-09-18|56.85| 62.27| 55.65| 62.0|1589600|    62.0|    $9.31B|Capital Goods|Biotechnology: La...|  NASDAQ|\n",
      "+---+------+----------+-----+------+------+-----+-------+--------+----------+-------------+--------------------+--------+\n",
      "only showing top 5 rows\n",
      "\n"
     ]
    },
    {
     "name": "stderr",
     "output_type": "stream",
     "text": [
      "25/02/11 16:55:04 WARN CSVHeaderChecker: CSV header does not conform to the schema.\n",
      " Header: , symbol, date, open, high, low, close, volume, adjusted, market.cap, sector, industry, exchange\n",
      " Schema: id, symbol, date, open, high, low, close, volume, adjusted, market.cap, sector, industry, exchange\n",
      "Expected: id but found: \n",
      "CSV file: file:///home/iabd/Documentos/IABD/IABD/BIGDATA/Spark/recursos/stocks_price_final.csv\n"
     ]
    }
   ],
   "source": [
    "df_price = spark.read.csv(\"recursos/stocks_price_final.csv\", header=True, schema=esquema_price)\n",
    "df_price.show(5)"
   ]
  },
  {
   "cell_type": "code",
   "execution_count": 61,
   "metadata": {},
   "outputs": [
    {
     "name": "stdout",
     "output_type": "stream",
     "text": [
      "+----------+\n",
      "| min(date)|\n",
      "+----------+\n",
      "|2019-01-02|\n",
      "+----------+\n",
      "\n",
      "+----------+\n",
      "| max(date)|\n",
      "+----------+\n",
      "|2020-07-22|\n",
      "+----------+\n",
      "\n"
     ]
    }
   ],
   "source": [
    "from pyspark.sql.functions import expr, avg, min, max, round, mean\n",
    "\n",
    "df_price.select(min(\"date\")).show()\n",
    "df_price.select(max(\"date\")).show()"
   ]
  },
  {
   "cell_type": "code",
   "execution_count": 62,
   "metadata": {},
   "outputs": [
    {
     "name": "stdout",
     "output_type": "stream",
     "text": [
      "+---------+\n",
      "|min(open)|\n",
      "+---------+\n",
      "|    0.072|\n",
      "+---------+\n",
      "\n",
      "+-----------+\n",
      "|  max(open)|\n",
      "+-----------+\n",
      "|1.6016818E8|\n",
      "+-----------+\n",
      "\n"
     ]
    }
   ],
   "source": [
    "df_price.select(min(\"open\")).show()\n",
    "df_price.select(max(\"open\")).show()\n"
   ]
  },
  {
   "cell_type": "code",
   "execution_count": 63,
   "metadata": {},
   "outputs": [
    {
     "name": "stdout",
     "output_type": "stream",
     "text": [
      "+----------+\n",
      "|min(close)|\n",
      "+----------+\n",
      "|     0.071|\n",
      "+----------+\n",
      "\n",
      "+-----------+\n",
      "| max(close)|\n",
      "+-----------+\n",
      "|1.5837659E8|\n",
      "+-----------+\n",
      "\n"
     ]
    }
   ],
   "source": [
    "df_price.select(min(\"close\")).show()\n",
    "df_price.select(max(\"close\")).show()"
   ]
  },
  {
   "cell_type": "code",
   "execution_count": 64,
   "metadata": {},
   "outputs": [
    {
     "name": "stdout",
     "output_type": "stream",
     "text": [
      "+-------------+\n",
      "|min(adjusted)|\n",
      "+-------------+\n",
      "|    -1.230099|\n",
      "+-------------+\n",
      "\n",
      "+-------------+\n",
      "|max(adjusted)|\n",
      "+-------------+\n",
      "|  1.5724939E8|\n",
      "+-------------+\n",
      "\n"
     ]
    }
   ],
   "source": [
    "df_price.select(min(\"adjusted\")).show()\n",
    "df_price.select(max(\"adjusted\")).show()"
   ]
  },
  {
   "cell_type": "code",
   "execution_count": 65,
   "metadata": {},
   "outputs": [
    {
     "name": "stdout",
     "output_type": "stream",
     "text": [
      "+--------------------+------------------+\n",
      "|            industry|         mean_open|\n",
      "+--------------------+------------------+\n",
      "|Finance/Investors...| 5.134401791443934|\n",
      "|Biotechnology: Bi...| 24.80808319217773|\n",
      "|Other Specialty S...| 84.80718810495605|\n",
      "|Other Consumer Se...| 43.67010744364806|\n",
      "|        Water Supply| 40.58048307729203|\n",
      "|               Banks| 21.44122961212158|\n",
      "|Farming/Seeds/Mil...|27.740143444537836|\n",
      "|Medical/Nursing S...| 71.03728952381898|\n",
      "|Biotechnology: La...|102.15234117212717|\n",
      "| Television Services|119.26427651404161|\n",
      "|Automotive Afterm...|55.443736998423056|\n",
      "|   Auto Parts:O.E.M.|36.212743512499074|\n",
      "|Rental/Leasing Co...| 79.74401193967431|\n",
      "|Medical Specialities| 55.37061249265245|\n",
      "| Specialty Chemicals| 37.89684115677208|\n",
      "|Computer Software...|   94.374674616784|\n",
      "|Biotechnology: In...|34.646765457028344|\n",
      "|    Power Generation|49.859077049967745|\n",
      "|Property-Casualty...| 81.72814215150193|\n",
      "|Real Estate Inves...|  42.4087313126734|\n",
      "+--------------------+------------------+\n",
      "only showing top 20 rows\n",
      "\n"
     ]
    }
   ],
   "source": [
    "df_price.groupBy(\"industry\").agg(mean(\"open\").alias(\"mean_open\")).show()"
   ]
  },
  {
   "cell_type": "code",
   "execution_count": 66,
   "metadata": {},
   "outputs": [
    {
     "name": "stdout",
     "output_type": "stream",
     "text": [
      "+--------------------+------------------+\n",
      "|            industry|        mean_close|\n",
      "+--------------------+------------------+\n",
      "|Finance/Investors...|  5.13663074735324|\n",
      "|Biotechnology: Bi...| 24.80358715006997|\n",
      "|Other Specialty S...| 84.80276551199054|\n",
      "|Other Consumer Se...| 43.65868871111973|\n",
      "|        Water Supply|40.584873748260975|\n",
      "|               Banks| 21.44016833129883|\n",
      "|Farming/Seeds/Mil...| 27.74297949601548|\n",
      "|Medical/Nursing S...| 71.09947780813135|\n",
      "|Biotechnology: La...|102.28519780657979|\n",
      "| Television Services| 119.4653019991688|\n",
      "|Automotive Afterm...|55.477602465430806|\n",
      "|   Auto Parts:O.E.M.|36.206599280109515|\n",
      "|Rental/Leasing Co...| 79.74257699316557|\n",
      "|Medical Specialities|55.362593693202804|\n",
      "| Specialty Chemicals| 37.88893534061168|\n",
      "|Computer Software...|  94.4974100660845|\n",
      "|Biotechnology: In...|34.685822267167026|\n",
      "|    Power Generation| 49.88114417163656|\n",
      "|Property-Casualty...| 81.74267806146392|\n",
      "|Real Estate Inves...|42.400397053426026|\n",
      "+--------------------+------------------+\n",
      "only showing top 20 rows\n",
      "\n"
     ]
    }
   ],
   "source": [
    "df_price.groupBy(\"industry\").agg(mean(\"close\").alias(\"mean_close\")).show()"
   ]
  },
  {
   "cell_type": "code",
   "execution_count": 67,
   "metadata": {},
   "outputs": [
    {
     "name": "stdout",
     "output_type": "stream",
     "text": [
      "+--------------------+------------------+\n",
      "|            industry|     mean_adjusted|\n",
      "+--------------------+------------------+\n",
      "|Finance/Investors...| 4.991354066764518|\n",
      "|Biotechnology: Bi...| 24.74507997837481|\n",
      "|Other Specialty S...| 84.55525036659287|\n",
      "|Other Consumer Se...| 43.43498980900172|\n",
      "|        Water Supply|  40.1733279180834|\n",
      "|               Banks|21.029210063934325|\n",
      "|Farming/Seeds/Mil...| 27.02253924121552|\n",
      "|Medical/Nursing S...| 70.77964411635287|\n",
      "|Biotechnology: La...|102.24022549038418|\n",
      "| Television Services|119.10457670859508|\n",
      "|Automotive Afterm...|55.106156609756816|\n",
      "|   Auto Parts:O.E.M.| 35.65163325010243|\n",
      "|Rental/Leasing Co...| 79.30089215916537|\n",
      "|Medical Specialities|55.054880933389896|\n",
      "| Specialty Chemicals| 37.59157691477371|\n",
      "|Computer Software...| 94.36769054047022|\n",
      "|Biotechnology: In...|34.685450846019236|\n",
      "|    Power Generation|48.727863046802135|\n",
      "|Property-Casualty...|  80.7880367728296|\n",
      "|Real Estate Inves...| 40.88988613640227|\n",
      "+--------------------+------------------+\n",
      "only showing top 20 rows\n",
      "\n"
     ]
    }
   ],
   "source": [
    "df_price.groupBy(\"industry\").agg(mean(\"adjusted\").alias(\"mean_adjusted\")).show()"
   ]
  },
  {
   "cell_type": "code",
   "execution_count": 68,
   "metadata": {},
   "outputs": [
    {
     "data": {
      "image/png": "[encoded data removed]",
      "text/plain": [
       "<Figure size 1200x600 with 1 Axes>"
      ]
     },
     "metadata": {},
     "output_type": "display_data"
    }
   ],
   "source": [
    "import matplotlib.pyplot as plt\n",
    "import pandas as pd\n",
    "\n",
    "# Agrupar por industria y calcular la media de open\n",
    "df_open_mean = df_price.groupBy(\"industry\").agg(mean(\"open\").alias(\"mean_open\")).limit(25).toPandas()\n",
    "\n",
    "# Crear el gráfico de líneas\n",
    "plt.figure(figsize=(12, 6))\n",
    "plt.plot(df_open_mean[\"industry\"], df_open_mean[\"mean_open\"], marker='o', linestyle='-', color='b')\n",
    "\n",
    "# Personalizar el gráfico\n",
    "plt.xlabel(\"Industry\")\n",
    "plt.ylabel(\"Mean Open Price\")\n",
    "plt.title(\"Media de Open por Industria (Primeros 25 registros)\")\n",
    "plt.xticks(rotation=90)  # Rotar etiquetas para mejor visualización\n",
    "plt.grid(True)\n",
    "\n",
    "# Mostrar el gráfico\n",
    "plt.show()"
   ]
  },
  {
   "cell_type": "code",
   "execution_count": 69,
   "metadata": {},
   "outputs": [],
   "source": [
    "df_price.groupBy(\"industry\").agg(mean(\"open\").alias(\"mean_open\")).limit(25).toPandas().to_json(\"salida.json\", orient=\"records\", indent=4)"
   ]
  },
  {
   "cell_type": "markdown",
   "metadata": {
    "id": "nLTz_shwza6y"
   },
   "source": [
    "## EJERCICIO 2"
   ]
  },
  {
   "cell_type": "markdown",
   "metadata": {
    "id": "VC9sFbcEza6y"
   },
   "source": [
    " Sobre las movies.tsv (importa el tsv sin esquema, pero añade los nombres de la columnas al cargar el tsv):\n",
    "\n",
    "1. ¿Cuantas películas diferentes hay? Usando sql y sin usar sql.\n",
    "2. ¿En cuantas películas ha trabajado Murphy, Eddie (I)? Usando sql y sin usar sql.\n",
    "3. ¿Cuáles son los actores que han aparecido en más de 30 películas? Usando sql y sin usar sql.\n",
    "4. ¿En que película anterior a 1980 aparecen al menos 25 intérpretes? Usando sql y sin usar sql.\n",
    "5. Muestra la cantidad de películas producidas cada año (solo debe mostrar el año y la cantidad), ordenando el listado por la cantidad de forma descendente. Usando sql y sin usar sql.\n",
    "6. A partir de la consulta anterior, crea un gráfico de barras que muestre el año y la cantidad de películas, ordenados por fecha."
   ]
  },
  {
   "cell_type": "code",
   "execution_count": 70,
   "metadata": {},
   "outputs": [
    {
     "name": "stdout",
     "output_type": "stream",
     "text": [
      "+-----------------+---------------------------+----+\n",
      "|interprete       |pelicula                   |anyo|\n",
      "+-----------------+---------------------------+----+\n",
      "|McClure, Marc (I)|Freaky Friday              |2003|\n",
      "|McClure, Marc (I)|Coach Carter               |2005|\n",
      "|McClure, Marc (I)|Superman II                |1980|\n",
      "|McClure, Marc (I)|Apollo 13                  |1995|\n",
      "|McClure, Marc (I)|Superman                   |1978|\n",
      "|McClure, Marc (I)|Back to the Future         |1985|\n",
      "|McClure, Marc (I)|Back to the Future Part III|1990|\n",
      "|Cooper, Chris (I)|Me, Myself & Irene         |2000|\n",
      "|Cooper, Chris (I)|October Sky                |1999|\n",
      "|Cooper, Chris (I)|Capote                     |2005|\n",
      "|Cooper, Chris (I)|The Bourne Supremacy       |2004|\n",
      "|Cooper, Chris (I)|The Patriot                |2000|\n",
      "|Cooper, Chris (I)|The Town                   |2010|\n",
      "|Cooper, Chris (I)|Seabiscuit                 |2003|\n",
      "|Cooper, Chris (I)|A Time to Kill             |1996|\n",
      "|Cooper, Chris (I)|Where the Wild Things Are  |2009|\n",
      "|Cooper, Chris (I)|The Muppets                |2011|\n",
      "|Cooper, Chris (I)|American Beauty            |1999|\n",
      "|Cooper, Chris (I)|Syriana                    |2005|\n",
      "|Cooper, Chris (I)|The Horse Whisperer        |1998|\n",
      "+-----------------+---------------------------+----+\n",
      "only showing top 20 rows\n",
      "\n"
     ]
    }
   ],
   "source": [
    "# Definir los nombres de las columnas\n",
    "columnas = [\"interprete\", \"pelicula\", \"anyo\"]\n",
    "\n",
    "# Cargar el archivo TSV sin esquema, pero con nombres de columnas\n",
    "df_movies = spark.read.option(\"header\", False).option(\"sep\", \"\\t\").csv(\"recursos/movies.tsv\").toDF(*columnas)\n",
    "\n",
    "# Mostrar los datos cargados\n",
    "df_movies.show(truncate=False)"
   ]
  },
  {
   "cell_type": "code",
   "execution_count": null,
   "metadata": {},
   "outputs": [
    {
     "name": "stdout",
     "output_type": "stream",
     "text": [
      "+-------------+\n",
      "|num_peliculas|\n",
      "+-------------+\n",
      "|           21|\n",
      "+-------------+\n",
      "\n"
     ]
    }
   ],
   "source": [
    "# Crear una vista temporal del DataFrame\n",
    "df_movies.createOrReplaceTempView(\"movies\")\n",
    "\n",
    "# Ejecutar la consulta SQL\n",
    "consulta_sql1 = spark.sql(\"\"\"\n",
    "    SELECT COUNT(*) AS num_peliculas\n",
    "    FROM movies\n",
    "    WHERE interprete = 'Murphy, Eddie (I)'\n",
    "\"\"\")\n",
    "\n",
    "# Mostrar el resultado\n",
    "consulta_sql1.show()\n"
   ]
  },
  {
   "cell_type": "code",
   "execution_count": 72,
   "metadata": {},
   "outputs": [
    {
     "name": "stdout",
     "output_type": "stream",
     "text": [
      "Murphy, Eddie (I) ha trabajado en 21 películas.\n"
     ]
    }
   ],
   "source": [
    "from pyspark.sql.functions import col\n",
    "\n",
    "# Filtrar por el intérprete y contar las filas\n",
    "num_peliculas_eddie=df_movies.filter(col(\"interprete\") == \"Murphy, Eddie (I)\").count()\n",
    "# Mostrar el resultado\n",
    "print(f\"Murphy, Eddie (I) ha trabajado en {num_peliculas_eddie} películas.\")\n"
   ]
  },
  {
   "cell_type": "code",
   "execution_count": null,
   "metadata": {},
   "outputs": [
    {
     "name": "stdout",
     "output_type": "stream",
     "text": [
      "+------------------+-------------+\n",
      "|        interprete|num_peliculas|\n",
      "+------------------+-------------+\n",
      "|  Tatasciore, Fred|           38|\n",
      "|     Welker, Frank|           38|\n",
      "|Jackson, Samuel L.|           32|\n",
      "|     Harnell, Jess|           31|\n",
      "+------------------+-------------+\n",
      "\n"
     ]
    }
   ],
   "source": [
    "# Filtrar por el intérprete y contar las filas SQL\n",
    "consulta_sql2 = spark.sql(\"\"\"\n",
    "    SELECT interprete, COUNT(*) AS num_peliculas\n",
    "    FROM movies\n",
    "    GROUP BY interprete\n",
    "    HAVING num_peliculas > 30\n",
    "    ORDER BY num_peliculas DESC\n",
    "\"\"\")\n",
    "\n",
    "# Mostrar el resultado\n",
    "consulta_sql2.show()"
   ]
  },
  {
   "cell_type": "code",
   "execution_count": null,
   "metadata": {},
   "outputs": [
    {
     "name": "stdout",
     "output_type": "stream",
     "text": [
      "+------------------+-------------+\n",
      "|        interprete|num_peliculas|\n",
      "+------------------+-------------+\n",
      "|  Tatasciore, Fred|           38|\n",
      "|     Welker, Frank|           38|\n",
      "|Jackson, Samuel L.|           32|\n",
      "|     Harnell, Jess|           31|\n",
      "+------------------+-------------+\n",
      "\n"
     ]
    }
   ],
   "source": [
    "from pyspark.sql.functions import count\n",
    "\n",
    "# Contar las películas por actor y filtrar aquellos con más de 30 películas\n",
    "df_actores = (\n",
    "    df_movies.groupBy(\"interprete\")\n",
    "    .agg(count(\"*\").alias(\"num_peliculas\"))\n",
    "    .filter(col(\"num_peliculas\") > 30)\n",
    "    .orderBy(col(\"num_peliculas\").desc())\n",
    ")\n",
    "\n",
    "# Mostrar el resultado\n",
    "df_actores.show()\n"
   ]
  },
  {
   "cell_type": "code",
   "execution_count": 75,
   "metadata": {},
   "outputs": [
    {
     "name": "stdout",
     "output_type": "stream",
     "text": [
      "+---------+---------------+\n",
      "| pelicula|num_interpretes|\n",
      "+---------+---------------+\n",
      "|Star Wars|             25|\n",
      "+---------+---------------+\n",
      "\n"
     ]
    }
   ],
   "source": [
    "# # Contar las películas por actor y filtrar aquellos con más de 30 películas SQL\n",
    "consulta_sql3 = spark.sql(\"\"\"\n",
    "    SELECT pelicula, COUNT(DISTINCT interprete) AS num_interpretes\n",
    "    FROM movies\n",
    "    WHERE anyo < 1980\n",
    "    GROUP BY pelicula\n",
    "    HAVING num_interpretes >= 25\n",
    "    ORDER BY num_interpretes DESC\n",
    "\"\"\")\n",
    "\n",
    "# Mostrar el resultado\n",
    "consulta_sql3.show()\n",
    "\n"
   ]
  },
  {
   "cell_type": "code",
   "execution_count": null,
   "metadata": {},
   "outputs": [
    {
     "name": "stdout",
     "output_type": "stream",
     "text": [
      "+---------+---------------+\n",
      "| pelicula|num_intérpretes|\n",
      "+---------+---------------+\n",
      "|Star Wars|             25|\n",
      "+---------+---------------+\n",
      "\n"
     ]
    }
   ],
   "source": [
    "from pyspark.sql.functions import countDistinct\n",
    "\n",
    "# Filtrar las películas anteriores a 1980 y contar los intérpretes únicos\n",
    "df_peliculas = (\n",
    "    df_movies.filter(col(\"anyo\") < 1980)\n",
    "    .groupBy(\"pelicula\")\n",
    "    .agg(countDistinct(\"interprete\").alias(\"num_intérpretes\"))\n",
    "    .filter(col(\"num_intérpretes\") >= 25)\n",
    "    .orderBy(col(\"num_intérpretes\").desc())\n",
    ")\n",
    "\n",
    "# Mostrar el resultado\n",
    "df_peliculas.show()\n"
   ]
  },
  {
   "cell_type": "code",
   "execution_count": 84,
   "metadata": {},
   "outputs": [
    {
     "name": "stdout",
     "output_type": "stream",
     "text": [
      "+----+-------------+\n",
      "|anyo|num_peliculas|\n",
      "+----+-------------+\n",
      "|2006|           86|\n",
      "|2004|           86|\n",
      "|2011|           86|\n",
      "|2005|           85|\n",
      "|2008|           82|\n",
      "|2002|           81|\n",
      "|2010|           78|\n",
      "|2000|           77|\n",
      "|2003|           76|\n",
      "|2007|           75|\n",
      "|2001|           71|\n",
      "|2009|           68|\n",
      "|1999|           67|\n",
      "|1997|           66|\n",
      "|1998|           59|\n",
      "|1996|           42|\n",
      "|2012|           32|\n",
      "|1995|           25|\n",
      "|1994|           16|\n",
      "|1986|           16|\n",
      "+----+-------------+\n",
      "only showing top 20 rows\n",
      "\n"
     ]
    }
   ],
   "source": [
    "#Contar el número de películas por año SQl\n",
    "consulta_sql4= spark.sql(\"\"\"\n",
    "    SELECT anyo, COUNT(DISTINCT pelicula) AS num_peliculas\n",
    "    FROM movies\n",
    "    GROUP BY anyo\n",
    "    ORDER BY num_peliculas DESC\n",
    "\"\"\")\n",
    "consulta_sql4.show()"
   ]
  },
  {
   "cell_type": "code",
   "execution_count": 90,
   "metadata": {},
   "outputs": [
    {
     "name": "stdout",
     "output_type": "stream",
     "text": [
      "+----+-------------+\n",
      "|anyo|num_peliculas|\n",
      "+----+-------------+\n",
      "|2006|           86|\n",
      "|2004|           86|\n",
      "|2011|           86|\n",
      "|2005|           85|\n",
      "|2008|           82|\n",
      "|2002|           81|\n",
      "|2010|           78|\n",
      "|2000|           77|\n",
      "|2003|           76|\n",
      "|2007|           75|\n",
      "|2001|           71|\n",
      "|2009|           68|\n",
      "|1999|           67|\n",
      "|1997|           66|\n",
      "|1998|           59|\n",
      "|1996|           42|\n",
      "|2012|           32|\n",
      "|1995|           25|\n",
      "|1994|           16|\n",
      "|1986|           16|\n",
      "+----+-------------+\n",
      "only showing top 20 rows\n",
      "\n"
     ]
    }
   ],
   "source": [
    "# Contar cuantas peliculas se han hecho por año\n",
    "df_peliculas_anyo = (\n",
    "    df_movies.groupBy(\"anyo\")\n",
    "    .agg(countDistinct(\"pelicula\").alias(\"num_peliculas\"))\n",
    "    .orderBy(col(\"num_peliculas\").desc())\n",
    ")\n",
    "\n",
    "# Mostrar el resultado\n",
    "df_peliculas_anyo.show()"
   ]
  },
  {
   "cell_type": "code",
   "execution_count": 91,
   "metadata": {},
   "outputs": [
    {
     "data": {
      "image/png": "[encoded data removed]",
      "text/plain": [
       "<Figure size 1000x600 with 1 Axes>"
      ]
     },
     "metadata": {},
     "output_type": "display_data"
    }
   ],
   "source": [
    "import matplotlib.pyplot as plt\n",
    "\n",
    "# Recoger los datos de la consulta\n",
    "data = df_peliculas_anyo.collect()\n",
    "\n",
    "# Extraer los años y la cantidad de películas\n",
    "años = [row['anyo'] for row in data]\n",
    "num_peliculas = [row['num_peliculas'] for row in data]\n",
    "\n",
    "# Crear el gráfico de barras\n",
    "plt.figure(figsize=(10, 6))\n",
    "plt.bar(años, num_peliculas, color='skyblue')\n",
    "\n",
    "# Añadir título y etiquetas\n",
    "plt.title('Cantidad de Películas por Año')\n",
    "plt.xlabel('Año')\n",
    "plt.ylabel('Número de Películas')\n",
    "\n",
    "# Mostrar el gráfico\n",
    "plt.xticks(rotation=90)  # Para mejorar la visualización de los años\n",
    "plt.show()\n"
   ]
  },
  {
   "cell_type": "markdown",
   "metadata": {
    "id": "32qv4_jNza60"
   },
   "source": [
    "## EJERCICIO 3"
   ]
  },
  {
   "cell_type": "markdown",
   "metadata": {
    "id": "8U4sgI5wza60"
   },
   "source": [
    "Nos han enviado un nuevo archivo llamado movie-ratings.tsv que contiene las calificaciones de las películas.\n",
    "\n",
    "1. Crea un DataFrame que contenga los datos de ambos datasets. Usando sql y sin usar sql\n",
    "2. Muestra para cada año, la película con mayor puntuación (año, título de la película, puntuación). Investiga que es Window Functions en Spark y utilizalas para devolver lo que se pide.\n",
    "3. Sobre los datos anteriores, obtén también una lista con los nombres de los intérpretes. \n",
    "4. Averigua las tres parejas de intérpretes han trabajado juntos en más ocasiones. La salida debe tener tres columnas: interprete1, interprete2 y cantidad (necesitas utilizar un self-join)."
   ]
  },
  {
   "cell_type": "code",
   "execution_count": null,
   "metadata": {},
   "outputs": [
    {
     "name": "stdout",
     "output_type": "stream",
     "text": [
      "+----------+--------------------+----+\n",
      "|puntuacion|            pelicula|anyo|\n",
      "+----------+--------------------+----+\n",
      "|    7.6177|                  10|1979|\n",
      "|    1.2864|10 Things I Hate ...|1999|\n",
      "|    0.3243|           10,000 BC|2008|\n",
      "|    0.3376|      101 Dalmatians|1996|\n",
      "|    0.5218|      102 Dalmatians|2000|\n",
      "+----------+--------------------+----+\n",
      "only showing top 5 rows\n",
      "\n"
     ]
    }
   ],
   "source": [
    "#Crear un DataFrame con los datos del archivo movie-ratings.tsv\n",
    "columnas= [\"puntuacion\",\"pelicula\",\"anyo\"]\n",
    "\n",
    "df_movies_ratings = spark.read.option(\"header\", True).option(\"sep\", \"\\t\").csv(\"recursos/movie-ratings.tsv\").toDF(*columnas)\n",
    "df_movies_ratings.show(5)"
   ]
  },
  {
   "cell_type": "code",
   "execution_count": null,
   "metadata": {},
   "outputs": [
    {
     "name": "stdout",
     "output_type": "stream",
     "text": [
      "+-------------+----+-----------------+----------+\n",
      "|     pelicula|anyo|       interprete|puntuacion|\n",
      "+-------------+----+-----------------+----------+\n",
      "|Freaky Friday|2003|McClure, Marc (I)|    0.3847|\n",
      "| Coach Carter|2005|McClure, Marc (I)|    0.9858|\n",
      "|  Superman II|1980|McClure, Marc (I)|    0.8739|\n",
      "|    Apollo 13|1995|McClure, Marc (I)|    1.0267|\n",
      "|     Superman|1978|McClure, Marc (I)|    1.1982|\n",
      "+-------------+----+-----------------+----------+\n",
      "only showing top 5 rows\n",
      "\n"
     ]
    }
   ],
   "source": [
    "#Union de los dos dataframes\n",
    "df_union_movies= df_movies.join(df_movies_ratings, on=[\"pelicula\",\"anyo\"], how=\"inner\")\n",
    "df_union_movies.show(5)"
   ]
  },
  {
   "cell_type": "code",
   "execution_count": 98,
   "metadata": {},
   "outputs": [
    {
     "name": "stdout",
     "output_type": "stream",
     "text": [
      "+-----------------+-------------+----+----------+\n",
      "|       interprete|     pelicula|anyo|puntuacion|\n",
      "+-----------------+-------------+----+----------+\n",
      "|McClure, Marc (I)|Freaky Friday|2003|    0.3847|\n",
      "|McClure, Marc (I)| Coach Carter|2005|    0.9858|\n",
      "|McClure, Marc (I)|  Superman II|1980|    0.8739|\n",
      "|McClure, Marc (I)|    Apollo 13|1995|    1.0267|\n",
      "|McClure, Marc (I)|     Superman|1978|    1.1982|\n",
      "+-----------------+-------------+----+----------+\n",
      "only showing top 5 rows\n",
      "\n"
     ]
    }
   ],
   "source": [
    "# Crear las vistas temporales\n",
    "df_movies.createOrReplaceTempView(\"movies\")\n",
    "df_movies_ratings.createOrReplaceTempView(\"movies_ratings\")\n",
    "\n",
    "# Ejecutar la consulta SQL para hacer el JOIN\n",
    "df_union_movies_sql = spark.sql(\"\"\"\n",
    "    SELECT m.*, r.puntuacion\n",
    "    FROM movies m\n",
    "    INNER JOIN movies_ratings r\n",
    "    ON m.pelicula = r.pelicula AND m.anyo = r.anyo\n",
    "\"\"\")\n",
    "\n",
    "# Mostrar el resultado\n",
    "df_union_movies_sql.show(5)"
   ]
  },
  {
   "cell_type": "code",
   "execution_count": 108,
   "metadata": {},
   "outputs": [
    {
     "name": "stdout",
     "output_type": "stream",
     "text": [
      "+----+--------------------+----------+\n",
      "|anyo|            pelicula|puntuacion|\n",
      "+----+--------------------+----------+\n",
      "|1961|One Hundred and O...|    0.6726|\n",
      "|1967|     The Jungle Book|    1.3485|\n",
      "|1972|       The Godfather|    0.5099|\n",
      "|1973|        The Exorcist|    0.6581|\n",
      "|1975|                Jaws|     0.701|\n",
      "|1977|Saturday Night Fever|    1.2184|\n",
      "|1978|              Jaws 2|    1.9793|\n",
      "|1979|      Apocalypse Now|    1.9906|\n",
      "|1980|         Superman II|    0.8739|\n",
      "|1981|   Absence of Malice|    2.1052|\n",
      "|1982|         First Blood|    1.2501|\n",
      "|1983|               Yentl|    1.4011|\n",
      "|1984|      The Terminator|     2.061|\n",
      "|1985|Kiss of the Spide...|       2.1|\n",
      "|1986|    An American Tail|   14.2122|\n",
      "|1987|           Mannequin|    1.8974|\n",
      "|1988|        Child's Play|    1.7632|\n",
      "|1989|     Lethal Weapon 2|    1.7087|\n",
      "|1990|   Presumed Innocent|    2.0055|\n",
      "|1991|                 JFK|    2.0171|\n",
      "+----+--------------------+----------+\n",
      "only showing top 20 rows\n",
      "\n"
     ]
    }
   ],
   "source": [
    "from pyspark.sql.window import Window\n",
    "\n",
    "# Definir la ventana para particionar por \"año\" y ordenar por \"puntuacion\" de forma descendente\n",
    "ventana = Window.partitionBy(\"anyo\").orderBy(col(\"puntuacion\").desc())\n",
    "\n",
    "# Crear una nueva columna \"numero_fila\" que asigna un número de fila basado en la ventana\n",
    "df_con_numero_fila = df_union_movies.withColumn(\"numero_fila\", row_number().over(ventana))\n",
    "\n",
    "# Filtrar para obtener solo la película con la mayor puntuación por año\n",
    "df_max_puntuacion_por_año = df_con_numero_fila.filter(col(\"numero_fila\") == 1)\n",
    "\n",
    "# Seleccionar las columnas deseadas (año, título de la película, puntuación)\n",
    "df_max_puntuacion_por_año = df_max_puntuacion_por_año.select(\"anyo\", \"pelicula\", \"puntuacion\")\n",
    "\n",
    "# Mostrar el resultado\n",
    "df_max_puntuacion_por_año.show()\n"
   ]
  },
  {
   "cell_type": "code",
   "execution_count": null,
   "metadata": {},
   "outputs": [
    {
     "name": "stdout",
     "output_type": "stream",
     "text": [
      "+----+------------------------------+----------+---------------------------------------------------------------------------------------------------------------------------------------------------------------------------------------------------------------------------------------------------------------------------------------------------------------------------------------------------------------------------------------------------------------------------------------------------------------------------------------------------------------------------------------------------------------------------------------------------------------------------------------------------------------------------------------------------------------------------------------------------------------------------------------------------------------------------------------------------------------------+\n",
      "|anyo|pelicula                      |puntuacion|intérpretes                                                                                                                                                                                                                                                                                                                                                                                                                                                                                                                                                                                                                                                                                                                                                                                                                                                          |\n",
      "+----+------------------------------+----------+---------------------------------------------------------------------------------------------------------------------------------------------------------------------------------------------------------------------------------------------------------------------------------------------------------------------------------------------------------------------------------------------------------------------------------------------------------------------------------------------------------------------------------------------------------------------------------------------------------------------------------------------------------------------------------------------------------------------------------------------------------------------------------------------------------------------------------------------------------------------+\n",
      "|1961|One Hundred and One Dalmatians|0.6726    |[Wickes, Mary, Wright, Ben (I)]                                                                                                                                                                                                                                                                                                                                                                                                                                                                                                                                                                                                                                                                                                                                                                                                                                      |\n",
      "|1967|The Jungle Book               |1.3485    |[Howard, Clint, Wright, Ben (I)]                                                                                                                                                                                                                                                                                                                                                                                                                                                                                                                                                                                                                                                                                                                                                                                                                                     |\n",
      "|1972|The Godfather                 |0.5099    |[Brando, Marlon, Keaton, Diane, Richards, Sal, Shire, Talia, Sivero, Frank (I), Caan, James (I), Jurgensen, Randy, Coppola, Roman, Rocco, Alex, Duvall, Robert, Pacino, Al, Russo, Gianni (I)]                                                                                                                                                                                                                                                                                                                                                                                                                                                                                                                                                                                                                                                                       |\n",
      "|1973|The Exorcist                  |0.6581    |[Burstyn, Ellen, Mitchell, Donna (I), Mahon, John (I), von Sydow, Max (I), Symonds, Robert]                                                                                                                                                                                                                                                                                                                                                                                                                                                                                                                                                                                                                                                                                                                                                                          |\n",
      "|1975|Jaws                          |0.701     |[Grossman, Ted (I), Spielberg, Steven, Dreyfuss, Richard, Scheider, Roy, Cheshire, Denise]                                                                                                                                                                                                                                                                                                                                                                                                                                                                                                                                                                                                                                                                                                                                                                           |\n",
      "|1977|Saturday Night Fever          |1.2184    |[Dillon, Denny, Travolta, John, Vazquez, Alberto (IV), Pape, Paul, Costanzo, Robert, Michaels, Bert (I)]                                                                                                                                                                                                                                                                                                                                                                                                                                                                                                                                                                                                                                                                                                                                                             |\n",
      "|1978|Jaws 2                        |1.9793    |[Scheider, Roy]                                                                                                                                                                                                                                                                                                                                                                                                                                                                                                                                                                                                                                                                                                                                                                                                                                                      |\n",
      "|1979|Apocalypse Now                |1.9906    |[Brando, Marlon, Hopper, Dennis, Keane, James (I), Camp, Colleen, Glenn, Scott, Leake, Damien, Hall, Albert (I), Coppola, Roman, Duvall, Robert, Fishburne, Laurence, Ford, Harrison (I), Sheen, Martin, Ermey, R. Lee]                                                                                                                                                                                                                                                                                                                                                                                                                                                                                                                                                                                                                                              |\n",
      "|1980|Superman II                   |0.8739    |[Lipinski, Eugene, Griffiths, Richard (I), Perrine, Valerie, Chancer, Norman, Hackman, Gene, Stamp, Terence, Hollis, John (I), Lyons, Derek, Tucker, Burnell, LeParmentier, Richard, Donner, Richard, MacInnes, Angus, Beatty, Ned, Rimmer, Shane, Morse, Ralph (I), Fielder, Harry, O'Halloran, Jack, Sher, Antony, Ratzenberger, John, McClure, Marc (I)]                                                                                                                                                                                                                                                                                                                                                                                                                                                                                                          |\n",
      "|1981|Absence of Malice             |2.1052    |[Balaban, Bob, Sommer, Josef, Brimley, Wilford, Field, Sally, Primus, Barry, Dillon, Melinda, Newman, Paul (I), DiSanti, John]                                                                                                                                                                                                                                                                                                                                                                                                                                                                                                                                                                                                                                                                                                                                       |\n",
      "|1982|First Blood                   |1.2501    |[Tamburro, Charles A., Dennehy, Brian, Humphreys, Alf (I), Mulkey, Chris (I), Miller, Stephen E. (I), Greenwood, Bruce (I), McKinney, Bill (I), Crenna, Richard, Stallone, Sylvester]                                                                                                                                                                                                                                                                                                                                                                                                                                                                                                                                                                                                                                                                                |\n",
      "|1983|Yentl                         |1.4011    |[Streisand, Barbra, Corduner, Allan, Lyons, Derek, Margolyes, Miriam, Irving, Amy, de Keyser, David, Shale, Kerry]                                                                                                                                                                                                                                                                                                                                                                                                                                                                                                                                                                                                                                                                                                                                                   |\n",
      "|1984|The Terminator                |2.061     |[Winfield, Paul (I), Paxton, Bill, Muellerleile, Marianne, Pinney, Patrick, Thompson, Brian (I), Henriksen, Lance, Boen, Earl, Biehn, Michael, Schwarzenegger, Arnold, Hamilton, Linda (I), Miller, Dick (I)]                                                                                                                                                                                                                                                                                                                                                                                                                                                                                                                                                                                                                                                        |\n",
      "|1985|Kiss of the Spider Woman      |2.1       |[Hurt, William]                                                                                                                                                                                                                                                                                                                                                                                                                                                                                                                                                                                                                                                                                                                                                                                                                                                      |\n",
      "|1986|An American Tail              |14.2122   |[Finnegan, John (I), Ross, Neil (I), Plummer, Christopher (I)]                                                                                                                                                                                                                                                                                                                                                                                                                                                                                                                                                                                                                                                                                                                                                                                                       |\n",
      "|1987|Mannequin                     |1.8974    |[Bailey, G.W., Getty, Estelle, Rubenstein, Phil, Moore, Jane (II), McCarthy, Andrew (I), Cattrall, Kim, Spader, James]                                                                                                                                                                                                                                                                                                                                                                                                                                                                                                                                                                                                                                                                                                                                               |\n",
      "|1988|Child's Play                  |1.7632    |[Gale, Ed, Wilder, Alan (I), Minkoff, Robert, Dourif, Brad]                                                                                                                                                                                                                                                                                                                                                                                                                                                                                                                                                                                                                                                                                                                                                                                                          |\n",
      "|1989|Lethal Weapon 2               |1.7087    |[Wilson, Norman D., Tuerpe, Paul, Gibson, Mel (I), Piddock, Jim, Wynands, Danny, Skipper, Pat, O'Connor, Derrick, Collier, Marian, Kahan, Steve, Lotterman, Beau, Serrano, Nestor (I), Tigar, Kenneth, Wolfe, Traci, Della, Jay, Rolston, Mark, McGee, Jack (I), Oliver, James (I), Hines, Damon, Goldstein, Jenette, Norris, Dean (I), Glover, Danny, Hinkley, Tommy, Rosen, Edward J. (I), Bush, Grand L., Love, Darlene, Goodloe, J. Mills, Pesci, Joe, Smith, Ebonie, Ackland, Joss, Trainor, Mary Ellen]                                                                                                                                                                                                                                                                                                                                                        |\n",
      "|1990|Presumed Innocent             |2.0055    |[Dennehy, Brian, Lleras, Anibal O., Winfield, Paul (I), Corsair, Bill, Bradford, Jesse (I), Mazzello, Joseph, Mardirosian, Tom, Whitford, Bradley, Shimono, Sab, Smallwood, Tucker, Seitz, John, Rucker, Bo, Neustadt, Ted, Ford, Harrison (I), Appel, Peter, Wohl, David (I), Horsford, Anna Maria, Genet, Michael (I), Bedelia, Bonnie, Spencer, John (I), Ottavino, John (I), Wheeler, Ed, Grifasi, Joe, Wright, Jeffrey (I)]                                                                                                                                                                                                                                                                                                                                                                                                                                     |\n",
      "|1991|JFK                           |2.0171    |[Herthum, Harold G., Bolender, Bill, Larroquette, John, Cronkite, Walter, Kennedy, John F., Candy, John, Doyle-Murray, Brian, Davies, John S., Walters, Mark Edward, Finnegan, John (I), Robertson, George R., Kelly, George (II), Rifkin, Ron, Asner, Edward, Milian, Tomas, Gunton, Bob, Sanders, Jay O., Perella, Marco, Rooker, Michael (I), Seitz, John, Sutherland, Donald (I), Scott, Codie, Jones, Tommy Lee, Harris, Baxter, X, Malcolm, Smith, Logan Douglas, Sheen, Martin, Whaley, Frank, Kennedy, Robert F., Cox, Darryl, Nixon, Richard, Bacon, Kevin (I), Oldman, Gary, Beard, Kevin (I), Metcalf, Laurie, Spacek, Sissy, King, Martin Luther, Johnson, Lyndon (I), Dye, Dale, Pahlavi, Shah Mohammad Reza, D'Onofrio, Vincent, Stone, Sean (I), Pesci, Joe, Costner, Kevin, Vince, Pruitt Taylor, Grubbs, Gary, Harrell, James N., Knight, Wayne (I)]|\n",
      "+----+------------------------------+----------+---------------------------------------------------------------------------------------------------------------------------------------------------------------------------------------------------------------------------------------------------------------------------------------------------------------------------------------------------------------------------------------------------------------------------------------------------------------------------------------------------------------------------------------------------------------------------------------------------------------------------------------------------------------------------------------------------------------------------------------------------------------------------------------------------------------------------------------------------------------------+\n",
      "only showing top 20 rows\n",
      "\n"
     ]
    }
   ],
   "source": [
    "# Agrupar por año y película para obtener una lista de los intérpretes\n",
    "df_agregado = df_union_movies.groupBy(\"anyo\", \"pelicula\", \"puntuacion\").agg(\n",
    "    collect_list(\"interprete\").alias(\"intérpretes\")\n",
    ")\n",
    "\n",
    "# Definir la ventana para particionar por \"año\" y ordenar por \"puntuacion\" de forma descendente\n",
    "ventana = Window.partitionBy(\"anyo\").orderBy(col(\"puntuacion\").desc())\n",
    "\n",
    "# Crear la columna \"numero_fila\" para identificar la película con mayor puntuación en cada año\n",
    "df_con_numero_fila = df_agregado.withColumn(\"numero_fila\", row_number().over(ventana))\n",
    "\n",
    "# Filtrar para obtener solo la película con la mayor puntuación por año\n",
    "df_max_puntuacion_por_año = df_con_numero_fila.filter(col(\"numero_fila\") == 1)\n",
    "\n",
    "# Mostrar el resultado\n",
    "df_max_puntuacion_por_año.select(\"anyo\", \"pelicula\", \"puntuacion\", \"intérpretes\").show(truncate=False)\n"
   ]
  },
  {
   "cell_type": "code",
   "execution_count": 122,
   "metadata": {},
   "outputs": [
    {
     "name": "stdout",
     "output_type": "stream",
     "text": [
      "+-----------------+------------------+--------+\n",
      "|       interprete|        interprete|cantidad|\n",
      "+-----------------+------------------+--------+\n",
      "| Lynn, Sherry (I)|   McGowan, Mickie|      23|\n",
      "|  Bergen, Bob (I)|   McGowan, Mickie|      19|\n",
      "|  Bergen, Bob (I)|  Lynn, Sherry (I)|      19|\n",
      "|  Angel, Jack (I)|   McGowan, Mickie|      17|\n",
      "|  Angel, Jack (I)|  Lynn, Sherry (I)|      17|\n",
      "|  McGowan, Mickie|       Rabson, Jan|      16|\n",
      "| Lynn, Sherry (I)|       Rabson, Jan|      16|\n",
      "|Darling, Jennifer|   McGowan, Mickie|      15|\n",
      "|Sandler, Adam (I)|Schneider, Rob (I)|      14|\n",
      "|  Bergen, Bob (I)|       Rabson, Jan|      14|\n",
      "| Farmer, Bill (I)|   McGowan, Mickie|      14|\n",
      "|    Harnell, Jess|   McGowan, Mickie|      14|\n",
      "|  Bergen, Bob (I)|     Harnell, Jess|      14|\n",
      "|Darling, Jennifer|  Lynn, Sherry (I)|      14|\n",
      "| Farmer, Bill (I)|  Lynn, Sherry (I)|      13|\n",
      "|    Harnell, Jess|  Lynn, Sherry (I)|      13|\n",
      "|  Bergen, Bob (I)|   Bumpass, Rodger|      13|\n",
      "|  Angel, Jack (I)|   Bergen, Bob (I)|      13|\n",
      "|    Covert, Allen| Sandler, Adam (I)|      12|\n",
      "|  Mann, Danny (I)|   Newman, Laraine|      12|\n",
      "+-----------------+------------------+--------+\n",
      "only showing top 20 rows\n",
      "\n"
     ]
    }
   ],
   "source": [
    "# Realizar el self-join en el DataFrame para obtener todas las combinaciones de intérpretes\n",
    "df_self_join = df_movies.alias(\"df1\").join(\n",
    "    df_movies.alias(\"df2\"),\n",
    "    (col(\"df1.pelicula\") == col(\"df2.pelicula\")) & \n",
    "    (col(\"df1.interprete\") < col(\"df2.interprete\")),  # Para evitar duplicados y el self-join\n",
    "    how=\"inner\"\n",
    ")\n",
    "\n",
    "# Contar cuántas veces ha trabajado cada pareja de intérpretes juntos\n",
    "df_parejas = df_self_join.groupBy(\"df1.interprete\", \"df2.interprete\") \\\n",
    "    .agg(count(\"df1.pelicula\").alias(\"cantidad\")) \\\n",
    "    .orderBy(col(\"cantidad\").desc())\n",
    "\n",
    "# Mostrar las tres primeras parejas con más ocasiones de haber trabajado juntos\n",
    "df_parejas.show()\n"
   ]
  },
  {
   "cell_type": "markdown",
   "metadata": {
    "id": "x7eveL5Zza61"
   },
   "source": [
    "## EJERCICIO 4"
   ]
  },
  {
   "cell_type": "markdown",
   "metadata": {
    "id": "FP5VHgV9za62"
   },
   "source": [
    "Hemos recibido un dataset con las ventas de 2019 de una tienda americana de productos de tecnología, mediante un conjunto de ficheros en formato CSV comprimidos en salesdata.zip.\n",
    "\n",
    "1. Una vez descomprimidos los datos, crea un DataFrame con todos los datos, infiriendo el esquema.\n",
    "2. Vuelve a realizar la lectura de los datos pero con el siguiente esquema:\n",
    "\n",
    "    ``````\n",
    "    from pyspark.sql.types import StructType, StructField, StringType, IntegerType, DoubleType\n",
    "    esquema = StructType([\n",
    "        StructField(\"Order ID\", IntegerType(), False),\n",
    "        StructField(\"Product\", StringType(), False),\n",
    "        StructField(\"Quantity Ordered\", IntegerType(), True),\n",
    "        StructField(\"Price Each\", DoubleType(), False),\n",
    "        StructField(\"Order Date\", StringType(), False),\n",
    "        StructField(\"Purchase Address\", StringType(), False)\n",
    "    ])\n",
    "    ``````\n",
    "3. Tras la lectura, vamos a realizar la limpieza de datos. El primer paso será renombrar la columnas para eliminar los espacios en blanco.\n",
    "4. Elimina las filas que contengan algún campo nulo.\n",
    "5. Comprueba si las cabeceras de los archivos aparecen como datos del dataset (por ejemplo, un producto cuyo nombre sea Product). Si fuera el caso, elimina dichas filas.\n",
    "6. A partir del campo dirección, crea dos nuevas columnas para almacenar la ciudad (City) y el estado (State). Por ejemplo, para la dirección 136 Church St, New York City, NY 10001, la ciudad es New York City y el estado es NY.\n",
    "7. Modifica el campo con la fecha del pedido para que su formato sea timestamp.\n",
    "8. Sobre el campo anterior, crea dos nuevas columnas, con el mes (Month) y el año (Year) del pedido.\n",
    "9. Crea una nueva columan (precio_final) muestre el precio con descuento: un 10% de descuento si la cantidad es mayor que 1 y un 5% si es uno (hazlo definiendo tu propia función de usuario). Hazlo sin sql y con sql."
   ]
  },
  {
   "cell_type": "code",
   "execution_count": 130,
   "metadata": {},
   "outputs": [
    {
     "name": "stdout",
     "output_type": "stream",
     "text": [
      "+--------+--------------------+----------------+----------+--------------+--------------------+\n",
      "|Order ID|             Product|Quantity Ordered|Price Each|    Order Date|    Purchase Address|\n",
      "+--------+--------------------+----------------+----------+--------------+--------------------+\n",
      "|  141234|              iPhone|               1|     700.0|01/22/19 21:25|944 Walnut St, Bo...|\n",
      "|  141235|Lightning Chargin...|               1|     14.95|01/28/19 14:15|185 Maple St, Por...|\n",
      "|  141236|    Wired Headphones|               2|     11.99|01/17/19 13:33|538 Adams St, San...|\n",
      "|  141237|    27in FHD Monitor|               1|    149.99|01/05/19 20:33|738 10th St, Los ...|\n",
      "|  141238|    Wired Headphones|               1|     11.99|01/25/19 11:59|387 10th St, Aust...|\n",
      "+--------+--------------------+----------------+----------+--------------+--------------------+\n",
      "only showing top 5 rows\n",
      "\n"
     ]
    }
   ],
   "source": [
    "#Crear Dataframe de los datos de ventas del 2019\n",
    "\n",
    "# Lista con los meses del año\n",
    "meses = [\n",
    "    \"January\", \"February\", \"March\", \"April\", \"May\", \"June\", \n",
    "    \"July\", \"August\", \"September\", \"October\", \"November\", \"December\"\n",
    "]\n",
    "\n",
    "# Diccionario para almacenar los DataFrames de ventas por mes\n",
    "df_ventas = {}\n",
    "\n",
    "# Leer los archivos en un bucle\n",
    "for mes in meses:\n",
    "    # Crear el nombre del archivo\n",
    "    archivo = f\"recursos/salesdata/Sales_{mes}_2019.csv\"\n",
    "    \n",
    "    # Cargar el archivo y almacenarlo en el diccionario\n",
    "    df_ventas[mes] = spark.read.csv(archivo, header=True, inferSchema=True)\n",
    "\n",
    "# Unir los DataFrames en un solo DataFrame\n",
    "df_ventas_2019= df_ventas_enero.union(df_ventas_febrero).union(df_ventas_marzo).union(df_ventas_abril).union(df_ventas_mayo).union(df_ventas_junio).union(df_ventas_julio).union(df_ventas_agosto).union(df_ventas_septiembre).union(df_ventas_octubre).union(df_ventas_noviembre).union(df_ventas_diciembre)\n",
    "df_ventas_2019.show(5)"
   ]
  },
  {
   "cell_type": "code",
   "execution_count": 127,
   "metadata": {},
   "outputs": [],
   "source": [
    "from pyspark.sql.types import StructType, StructField, StringType, IntegerType, DoubleType\n",
    "esquema = StructType([\n",
    "        StructField(\"Order ID\", IntegerType(), False),\n",
    "        StructField(\"Product\", StringType(), False),\n",
    "        StructField(\"Quantity Ordered\", IntegerType(), True),\n",
    "        StructField(\"Price Each\", DoubleType(), False),\n",
    "        StructField(\"Order Date\", StringType(), False),\n",
    "        StructField(\"Purchase Address\", StringType(), False)\n",
    "    ])"
   ]
  },
  {
   "cell_type": "code",
   "execution_count": 129,
   "metadata": {},
   "outputs": [
    {
     "name": "stdout",
     "output_type": "stream",
     "text": [
      "+--------+--------------------+----------------+----------+--------------+--------------------+\n",
      "|Order ID|             Product|Quantity Ordered|Price Each|    Order Date|    Purchase Address|\n",
      "+--------+--------------------+----------------+----------+--------------+--------------------+\n",
      "|  141234|              iPhone|               1|     700.0|01/22/19 21:25|944 Walnut St, Bo...|\n",
      "|  141235|Lightning Chargin...|               1|     14.95|01/28/19 14:15|185 Maple St, Por...|\n",
      "|  141236|    Wired Headphones|               2|     11.99|01/17/19 13:33|538 Adams St, San...|\n",
      "|  141237|    27in FHD Monitor|               1|    149.99|01/05/19 20:33|738 10th St, Los ...|\n",
      "|  141238|    Wired Headphones|               1|     11.99|01/25/19 11:59|387 10th St, Aust...|\n",
      "+--------+--------------------+----------------+----------+--------------+--------------------+\n",
      "only showing top 5 rows\n",
      "\n"
     ]
    }
   ],
   "source": [
    "#Crear Dataframe de los datos de ventas del 2019\n",
    "\n",
    "# Lista con los meses del año\n",
    "meses = [\n",
    "    \"January\", \"February\", \"March\", \"April\", \"May\", \"June\", \n",
    "    \"July\", \"August\", \"September\", \"October\", \"November\", \"December\"\n",
    "]\n",
    "\n",
    "# Diccionario para almacenar los DataFrames de ventas por mes\n",
    "df_ventas = {}\n",
    "\n",
    "# Leer los archivos en un bucle\n",
    "for mes in meses:\n",
    "    # Crear el nombre del archivo y el DataFrame\n",
    "    archivo = f\"recursos/salesdata/Sales_{mes}_2019.csv\"\n",
    "    df_ventas[mes] = spark.read.csv(archivo, header=True, schema=esquema)\n",
    "\n",
    "# Unir los DataFrames en un solo DataFrame\n",
    "df_ventas_2019= df_ventas_enero.union(df_ventas_febrero).union(df_ventas_marzo).union(df_ventas_abril).union(df_ventas_mayo).union(df_ventas_junio).union(df_ventas_julio).union(df_ventas_agosto).union(df_ventas_septiembre).union(df_ventas_octubre).union(df_ventas_noviembre).union(df_ventas_diciembre)\n",
    "df_ventas_2019.show(5)"
   ]
  },
  {
   "cell_type": "code",
   "execution_count": 131,
   "metadata": {},
   "outputs": [
    {
     "name": "stdout",
     "output_type": "stream",
     "text": [
      "+-------+--------------------+---------------+---------+--------------+--------------------+\n",
      "|OrderID|             Product|QuantityOrdered|PriceEach|     OrderDate|     PurchaseAddress|\n",
      "+-------+--------------------+---------------+---------+--------------+--------------------+\n",
      "| 141234|              iPhone|              1|    700.0|01/22/19 21:25|944 Walnut St, Bo...|\n",
      "| 141235|Lightning Chargin...|              1|    14.95|01/28/19 14:15|185 Maple St, Por...|\n",
      "| 141236|    Wired Headphones|              2|    11.99|01/17/19 13:33|538 Adams St, San...|\n",
      "| 141237|    27in FHD Monitor|              1|   149.99|01/05/19 20:33|738 10th St, Los ...|\n",
      "| 141238|    Wired Headphones|              1|    11.99|01/25/19 11:59|387 10th St, Aust...|\n",
      "+-------+--------------------+---------------+---------+--------------+--------------------+\n",
      "only showing top 5 rows\n",
      "\n"
     ]
    }
   ],
   "source": [
    "# Renombrar las columnas para eliminar los espacios en blanco\n",
    "df_ventas_2019 = df_ventas_2019.toDF(*[col_name.replace(\" \", \"\") for col_name in df_ventas_2019.columns])\n",
    "\n",
    "# Mostrar las primeras 5 filas para verificar\n",
    "df_ventas_2019.show(5)"
   ]
  },
  {
   "cell_type": "code",
   "execution_count": 134,
   "metadata": {},
   "outputs": [
    {
     "name": "stdout",
     "output_type": "stream",
     "text": [
      "+-------+--------------------+---------------+---------+--------------+--------------------+\n",
      "|OrderID|             Product|QuantityOrdered|PriceEach|     OrderDate|     PurchaseAddress|\n",
      "+-------+--------------------+---------------+---------+--------------+--------------------+\n",
      "| 141234|              iPhone|              1|    700.0|01/22/19 21:25|944 Walnut St, Bo...|\n",
      "| 141235|Lightning Chargin...|              1|    14.95|01/28/19 14:15|185 Maple St, Por...|\n",
      "| 141236|    Wired Headphones|              2|    11.99|01/17/19 13:33|538 Adams St, San...|\n",
      "| 141237|    27in FHD Monitor|              1|   149.99|01/05/19 20:33|738 10th St, Los ...|\n",
      "| 141238|    Wired Headphones|              1|    11.99|01/25/19 11:59|387 10th St, Aust...|\n",
      "+-------+--------------------+---------------+---------+--------------+--------------------+\n",
      "only showing top 5 rows\n",
      "\n"
     ]
    }
   ],
   "source": [
    "# Eliminar filas con cualquier campo nulo\n",
    "df_ventas_2019_limpio = df_ventas_2019.dropna()\n",
    "\n",
    "# Mostrar las primeras 5 filas para verificar\n",
    "df_ventas_2019_limpio.show(5)"
   ]
  },
  {
   "cell_type": "code",
   "execution_count": 135,
   "metadata": {},
   "outputs": [
    {
     "name": "stdout",
     "output_type": "stream",
     "text": [
      "+-------+--------------------+---------------+---------+--------------+--------------------+\n",
      "|OrderID|             Product|QuantityOrdered|PriceEach|     OrderDate|     PurchaseAddress|\n",
      "+-------+--------------------+---------------+---------+--------------+--------------------+\n",
      "| 141234|              iPhone|              1|    700.0|01/22/19 21:25|944 Walnut St, Bo...|\n",
      "| 141235|Lightning Chargin...|              1|    14.95|01/28/19 14:15|185 Maple St, Por...|\n",
      "| 141236|    Wired Headphones|              2|    11.99|01/17/19 13:33|538 Adams St, San...|\n",
      "| 141237|    27in FHD Monitor|              1|   149.99|01/05/19 20:33|738 10th St, Los ...|\n",
      "| 141238|    Wired Headphones|              1|    11.99|01/25/19 11:59|387 10th St, Aust...|\n",
      "+-------+--------------------+---------------+---------+--------------+--------------------+\n",
      "only showing top 5 rows\n",
      "\n"
     ]
    }
   ],
   "source": [
    "# Filtrar las filas que tengan el valor \"Product\" en la columna \"Product\"\n",
    "df_ventas_2019_limpio_product = df_ventas_2019_limpio.filter(df_ventas_2019_limpio[\"Product\"] != \"Product\")\n",
    "\n",
    "# Mostrar las primeras 5 filas para verificar que se eliminaron\n",
    "df_ventas_2019_limpio_product.show(5)"
   ]
  },
  {
   "cell_type": "code",
   "execution_count": 139,
   "metadata": {},
   "outputs": [
    {
     "name": "stdout",
     "output_type": "stream",
     "text": [
      "+-------------------------------------+\n",
      "|PurchaseAddress                      |\n",
      "+-------------------------------------+\n",
      "|944 Walnut St, Boston, MA 02215      |\n",
      "|185 Maple St, Portland, OR 97035     |\n",
      "|538 Adams St, San Francisco, CA 94016|\n",
      "|738 10th St, Los Angeles, CA 90001   |\n",
      "|387 10th St, Austin, TX 73301        |\n",
      "+-------------------------------------+\n",
      "only showing top 5 rows\n",
      "\n"
     ]
    }
   ],
   "source": [
    "df_ventas_2019_limpio_product.select(\"PurchaseAddress\").show(5, truncate=False)"
   ]
  },
  {
   "cell_type": "code",
   "execution_count": null,
   "metadata": {},
   "outputs": [
    {
     "name": "stdout",
     "output_type": "stream",
     "text": [
      "+-------------------------------------+--------------+-----+\n",
      "|PurchaseAddress                      |City          |State|\n",
      "+-------------------------------------+--------------+-----+\n",
      "|944 Walnut St, Boston, MA 02215      | Boston       | MA  |\n",
      "|185 Maple St, Portland, OR 97035     | Portland     | OR  |\n",
      "|538 Adams St, San Francisco, CA 94016| San Francisco| CA  |\n",
      "|738 10th St, Los Angeles, CA 90001   | Los Angeles  | CA  |\n",
      "|387 10th St, Austin, TX 73301        | Austin       | TX  |\n",
      "+-------------------------------------+--------------+-----+\n",
      "only showing top 5 rows\n",
      "\n"
     ]
    }
   ],
   "source": [
    "from pyspark.sql.functions import col, split\n",
    "\n",
    "# Crear la columna City extrayendo la segunda parte después de la primera coma\n",
    "df_ventas_2019_limpio_address = df_ventas_2019_limpio_product.withColumn(\n",
    "    \"City\", \n",
    "    split(col(\"PurchaseAddress\"), \",\").getItem(1)  # Obtener la ciudad (segunda parte después de la primera coma)\n",
    ")\n",
    "\n",
    "# Crear la columna State extrayendo la tercera parte después de la segunda coma, y tomando los primeros 2 caracteres del estado\n",
    "df_ventas_2019_limpio_address = df_ventas_2019_limpio_address.withColumn(\n",
    "    \"State\", \n",
    "    split(col(\"PurchaseAddress\"), \",\").getItem(2).substr(1, 3)  # Obtener el estado (tercer parte, tomando solo los primeros tres caracteres)\n",
    ")\n",
    "\n",
    "# Mostrar las primeras 5 filas para verificar los resultados\n",
    "df_ventas_2019_limpio_address.select(\"PurchaseAddress\", \"City\", \"State\").show(5, truncate=False)\n"
   ]
  },
  {
   "cell_type": "code",
   "execution_count": 151,
   "metadata": {},
   "outputs": [
    {
     "name": "stdout",
     "output_type": "stream",
     "text": [
      "+-------------------+\n",
      "|OrderDate          |\n",
      "+-------------------+\n",
      "|2019-01-22 21:25:00|\n",
      "|2019-01-28 14:15:00|\n",
      "|2019-01-17 13:33:00|\n",
      "|2019-01-05 20:33:00|\n",
      "|2019-01-25 11:59:00|\n",
      "+-------------------+\n",
      "only showing top 5 rows\n",
      "\n"
     ]
    }
   ],
   "source": [
    "from pyspark.sql.functions import col, to_timestamp\n",
    "\n",
    "# Convertir el campo OrderDate al formato timestamp\n",
    "df_ventas_2019_limpio_address = df_ventas_2019_limpio_address.withColumn(\n",
    "    \"OrderDate\", \n",
    "    to_timestamp(col(\"OrderDate\"), \"MM/dd/yy HH:mm\") \n",
    ")\n",
    "\n",
    "# Mostrar las primeras 5 filas para verificar los resultados\n",
    "df_ventas_2019_limpio_address.select(\"OrderDate\").show(5, truncate=False)\n",
    "\n"
   ]
  },
  {
   "cell_type": "code",
   "execution_count": 152,
   "metadata": {},
   "outputs": [
    {
     "name": "stdout",
     "output_type": "stream",
     "text": [
      "+-------------------+-----+----+\n",
      "|OrderDate          |Month|Year|\n",
      "+-------------------+-----+----+\n",
      "|2019-01-22 21:25:00|1    |2019|\n",
      "|2019-01-28 14:15:00|1    |2019|\n",
      "|2019-01-17 13:33:00|1    |2019|\n",
      "|2019-01-05 20:33:00|1    |2019|\n",
      "|2019-01-25 11:59:00|1    |2019|\n",
      "+-------------------+-----+----+\n",
      "only showing top 5 rows\n",
      "\n"
     ]
    }
   ],
   "source": [
    "from pyspark.sql.functions import month, year\n",
    "\n",
    "# Crear las columnas Month y Year a partir de OrderDate\n",
    "df_ventas_2019_limpio_address = df_ventas_2019_limpio_address.withColumn(\n",
    "    \"Month\", \n",
    "    month(col(\"OrderDate\"))  # Extraer el mes de OrderDate\n",
    ")\n",
    "\n",
    "df_ventas_2019_limpio_address = df_ventas_2019_limpio_address.withColumn(\n",
    "    \"Year\", \n",
    "    year(col(\"OrderDate\"))  # Extraer el año de OrderDate\n",
    ")\n",
    "\n",
    "# Mostrar las primeras 5 filas para verificar los resultados\n",
    "df_ventas_2019_limpio_address.select(\"OrderDate\", \"Month\", \"Year\").show(5, truncate=False)\n"
   ]
  },
  {
   "cell_type": "code",
   "execution_count": 153,
   "metadata": {},
   "outputs": [
    {
     "name": "stdout",
     "output_type": "stream",
     "text": [
      "+---------------+---------+------------+\n",
      "|QuantityOrdered|PriceEach|precio_final|\n",
      "+---------------+---------+------------+\n",
      "|1              |700.0    |665.0       |\n",
      "|1              |14.95    |14.2025     |\n",
      "|2              |11.99    |10.791      |\n",
      "|1              |149.99   |142.4905    |\n",
      "|1              |11.99    |11.3905     |\n",
      "+---------------+---------+------------+\n",
      "only showing top 5 rows\n",
      "\n"
     ]
    }
   ],
   "source": [
    "from pyspark.sql.functions import udf\n",
    "from pyspark.sql.types import FloatType\n",
    "\n",
    "# Definir la UDF para calcular el precio con descuento\n",
    "def calcular_descuento(cantidad, precio):\n",
    "    if cantidad > 1:\n",
    "        return precio * 0.90  # 10% de descuento\n",
    "    else:\n",
    "        return precio * 0.95  # 5% de descuento\n",
    "\n",
    "# Registrar la UDF\n",
    "udf_descuento = udf(calcular_descuento, FloatType())\n",
    "\n",
    "# Aplicar la UDF al DataFrame para crear la nueva columna 'precio_final'\n",
    "df_ventas_2019_limpio_address = df_ventas_2019_limpio_address.withColumn(\n",
    "    \"precio_final\", \n",
    "    udf_descuento(col(\"QuantityOrdered\"), col(\"PriceEach\"))\n",
    ")\n",
    "\n",
    "# Mostrar las primeras 5 filas para verificar los resultados\n",
    "df_ventas_2019_limpio_address.select(\"QuantityOrdered\", \"PriceEach\", \"precio_final\").show(5, truncate=False)\n"
   ]
  },
  {
   "cell_type": "code",
   "execution_count": 155,
   "metadata": {},
   "outputs": [
    {
     "name": "stdout",
     "output_type": "stream",
     "text": [
      "+---------------+---------+----------------------+\n",
      "|QuantityOrdered|PriceEach|precio_final_calculado|\n",
      "+---------------+---------+----------------------+\n",
      "|1              |700.0    |665.0                 |\n",
      "|1              |14.95    |14.202499999999999    |\n",
      "|2              |11.99    |10.791                |\n",
      "|1              |149.99   |142.4905              |\n",
      "|1              |11.99    |11.3905               |\n",
      "+---------------+---------+----------------------+\n",
      "only showing top 5 rows\n",
      "\n"
     ]
    }
   ],
   "source": [
    "# Registrar el DataFrame como una vista temporal\n",
    "df_ventas_2019_limpio_address.createOrReplaceTempView(\"ventas\")\n",
    "\n",
    "# Usar SQL para crear la columna 'precio_final' con descuento\n",
    "df_precio_final_sql = spark.sql(\"\"\"\n",
    "    SELECT *,\n",
    "           CASE \n",
    "               WHEN QuantityOrdered > 1 THEN PriceEach * 0.90  -- 10% de descuento\n",
    "               ELSE PriceEach * 0.95  -- 5% de descuento\n",
    "           END AS precio_final_calculado  -- Renombramos la columna para evitar ambigüedad\n",
    "    FROM ventas\n",
    "\"\"\")\n",
    "\n",
    "# Mostrar las primeras 5 filas para verificar los resultados\n",
    "df_precio_final_sql.select(\"QuantityOrdered\", \"PriceEach\", \"precio_final_calculado\").show(5, truncate=False)\n"
   ]
  },
  {
   "cell_type": "markdown",
   "metadata": {
    "id": "gyZPUryKza64"
   },
   "source": [
    "## EJERCICIO 5"
   ]
  },
  {
   "cell_type": "markdown",
   "metadata": {
    "id": "Uo73aG3Zza64"
   },
   "source": [
    "Una vez realizada la transformación de los datos, vamos a realizar su carga y extraer información, utilizando Spark SQL siempre que sea posible:\n",
    "\n",
    "1. Almacena los datos en formato Parquet en la carpeta salesoutput particionando los datos por año y mes. Tras ejecutar esta operación, comprueba en disco la estructura de archivos creada.\n",
    "2. Sobre los datos almacenados, realiza una nueva lectura pero solo leyendo los datos de 2019 los cuales deberían estar almacenados en ./salesdataoutput/Year=2019.\n",
    "3. Averigua cual ha sido el mes que ha recaudado más. Para ello, deberás multiplicar el precio por la cantidad de unidades, y posteriormente, realizar alguna agregación. Sobre el resultado, crea un gráfico de barras verticales para representar las ventas totales por mes\n",
    "4. Obtén un gráfico de barras horizontales con las 10 ciudades que más unidades han vendido (ordenadas, la más larga arriba)\n",
    "5. Obtén un gráfico de línea que represente la cantidad de pedidos por Horas en las que se ha realizado un pedido que contenía al menos dos productos."
   ]
  },
  {
   "cell_type": "code",
   "execution_count": null,
   "metadata": {},
   "outputs": [],
   "source": []
  }
 ],
 "metadata": {
  "colab": {
   "provenance": []
  },
  "kernelspec": {
   "display_name": "base",
   "language": "python",
   "name": "python3"
  },
  "language_info": {
   "codemirror_mode": {
    "name": "ipython",
    "version": 3
   },
   "file_extension": ".py",
   "mimetype": "text/x-python",
   "name": "python",
   "nbconvert_exporter": "python",
   "pygments_lexer": "ipython3",
   "version": "3.12.7"
  }
 },
 "nbformat": 4,
 "nbformat_minor": 1
}
