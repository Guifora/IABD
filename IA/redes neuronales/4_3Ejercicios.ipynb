{
 "cells": [
  {
   "cell_type": "markdown",
   "metadata": {},
   "source": [
    "# EJERCICIOS"
   ]
  },
  {
   "cell_type": "code",
   "execution_count": 12,
   "metadata": {},
   "outputs": [],
   "source": [
    "import tensorflow as tf\n",
    "import numpy as np\n",
    "import pandas as pd\n",
    "import matplotlib.pyplot as plt\n",
    "from scipy.io import loadmat\n",
    "from sklearn.model_selection import train_test_split\n",
    "from sklearn.preprocessing import StandardScaler\n",
    "from tensorflow.keras.callbacks import EarlyStopping\n",
    "from tensorflow.keras.models import Sequential\n",
    "from tensorflow.keras.layers import Dense, Normalization"
   ]
  },
  {
   "cell_type": "markdown",
   "metadata": {},
   "source": [
    "## EJERCICIO 1"
   ]
  },
  {
   "cell_type": "markdown",
   "metadata": {},
   "source": [
    "¿Cuántas neuronas hacen falta en la capa de salida para clasificar emails entre correo no deseado y correo deseado? \n",
    "\n",
    "¿Qué función de activación deberías usar en la capa de salida? \n",
    "\n",
    "Si, en cambio, quieres enfrentarte a MNIST, ¿cuántas neuronas necesitas en la capa de salida y qué función de activación deberías usar? \n",
    "\n",
    "¿Y si quieres que la red prediga los precios de la vivienda en California?"
   ]
  },
  {
   "cell_type": "markdown",
   "metadata": {},
   "source": [
    "- Necesitaremos 1 neurona y utilizaremos la funcion de activacion Sigmoide que es la que se utiliza para clasificacion binaria.\n",
    "- Para Mnist necesitaremos 10 neuronas de salida ya que queremos clasificar imagenes de digitos del 0 al 9 y utilizaremos de funcion de activacion softmax que convierte los valores de salida de las neuronas en probabilidades\n",
    "- Para predecir el precio de las viviendas en california "
   ]
  },
  {
   "cell_type": "markdown",
   "metadata": {},
   "source": [
    "## EJERCICIO 2"
   ]
  },
  {
   "cell_type": "markdown",
   "metadata": {},
   "source": [
    "Entrena un red neuronal profunda con el conjunto de datos MNIST (puedes cargarlo con tf. keras. datasets.minst.load_data()). Intenta conseguir la mejor pruebas en el conjunto de validación  ajustando los hiperparámetros de modo manual. Prueba a buscar una buena tasa de aprendizaje y utiliza la detención temprana (mínimo hay que conseguir un 97%).\n",
    "\n",
    "Pasos a seguir: \n",
    "+ Entrena varios modelos con distintas tasas de aprendizaje\n",
    "+ Guarda cada modelo en un fichero\n",
    "+ Carga cada modelo y evalúalo en el conjunto de cargas y quedate con programación con el mejor (bucle que se quede con el mejor), mostrando la tasa de aprendizaje y la exactitud del mejor modelo.\n",
    "\n",
    "Si no obtienes más de un 97% vuelve a empezar."
   ]
  },
  {
   "cell_type": "code",
   "execution_count": 4,
   "metadata": {},
   "outputs": [
    {
     "name": "stdout",
     "output_type": "stream",
     "text": [
      "Downloading data from https://storage.googleapis.com/tensorflow/tf-keras-datasets/mnist.npz\n",
      "\u001b[1m11490434/11490434\u001b[0m \u001b[32m━━━━━━━━━━━━━━━━━━━━\u001b[0m\u001b[37m\u001b[0m \u001b[1m1s\u001b[0m 0us/step\n",
      "Entrenando modelo con tasa de aprendizaje: 0.001\n"
     ]
    },
    {
     "name": "stderr",
     "output_type": "stream",
     "text": [
      "/home/iabd24/anaconda3/envs/Neuronales/lib/python3.9/site-packages/keras/src/layers/reshaping/flatten.py:37: UserWarning: Do not pass an `input_shape`/`input_dim` argument to a layer. When using Sequential models, prefer using an `Input(shape)` object as the first layer in the model instead.\n",
      "  super().__init__(**kwargs)\n",
      "2025-01-07 18:31:31.455730: E external/local_xla/xla/stream_executor/cuda/cuda_driver.cc:152] failed call to cuInit: INTERNAL: CUDA error: Failed call to cuInit: UNKNOWN ERROR (303)\n"
     ]
    },
    {
     "name": "stdout",
     "output_type": "stream",
     "text": [
      "Epoch 1/10\n",
      "750/750 - 3s - 4ms/step - accuracy: 0.8931 - loss: 0.3733 - val_accuracy: 0.9441 - val_loss: 0.1919\n",
      "Epoch 2/10\n",
      "750/750 - 2s - 2ms/step - accuracy: 0.9479 - loss: 0.1797 - val_accuracy: 0.9621 - val_loss: 0.1341\n",
      "Epoch 3/10\n",
      "750/750 - 2s - 2ms/step - accuracy: 0.9605 - loss: 0.1343 - val_accuracy: 0.9683 - val_loss: 0.1082\n",
      "Epoch 4/10\n",
      "750/750 - 2s - 2ms/step - accuracy: 0.9668 - loss: 0.1106 - val_accuracy: 0.9709 - val_loss: 0.0960\n",
      "Epoch 5/10\n",
      "750/750 - 2s - 2ms/step - accuracy: 0.9722 - loss: 0.0926 - val_accuracy: 0.9738 - val_loss: 0.0881\n",
      "Epoch 6/10\n",
      "750/750 - 2s - 2ms/step - accuracy: 0.9761 - loss: 0.0818 - val_accuracy: 0.9734 - val_loss: 0.0850\n",
      "Epoch 7/10\n",
      "750/750 - 2s - 2ms/step - accuracy: 0.9784 - loss: 0.0694 - val_accuracy: 0.9762 - val_loss: 0.0820\n",
      "Epoch 8/10\n",
      "750/750 - 2s - 2ms/step - accuracy: 0.9799 - loss: 0.0647 - val_accuracy: 0.9765 - val_loss: 0.0799\n",
      "Epoch 9/10\n",
      "750/750 - 2s - 2ms/step - accuracy: 0.9826 - loss: 0.0555 - val_accuracy: 0.9772 - val_loss: 0.0770\n",
      "Epoch 10/10\n",
      "750/750 - 2s - 2ms/step - accuracy: 0.9835 - loss: 0.0514 - val_accuracy: 0.9788 - val_loss: 0.0771\n"
     ]
    },
    {
     "name": "stderr",
     "output_type": "stream",
     "text": [
      "WARNING:absl:You are saving your model as an HDF5 file via `model.save()` or `keras.saving.save_model(model)`. This file format is considered legacy. We recommend using instead the native Keras format, e.g. `model.save('my_model.keras')` or `keras.saving.save_model(model, 'my_model.keras')`. \n"
     ]
    },
    {
     "name": "stdout",
     "output_type": "stream",
     "text": [
      "Exactitud en validación con tasa de aprendizaje 0.001: 0.9788333177566528\n",
      "Entrenando modelo con tasa de aprendizaje: 0.01\n",
      "Epoch 1/10\n",
      "750/750 - 3s - 3ms/step - accuracy: 0.9084 - loss: 0.2984 - val_accuracy: 0.9523 - val_loss: 0.1611\n",
      "Epoch 2/10\n",
      "750/750 - 2s - 3ms/step - accuracy: 0.9403 - loss: 0.1992 - val_accuracy: 0.9603 - val_loss: 0.1469\n",
      "Epoch 3/10\n",
      "750/750 - 2s - 3ms/step - accuracy: 0.9471 - loss: 0.1804 - val_accuracy: 0.9580 - val_loss: 0.1696\n",
      "Epoch 4/10\n",
      "750/750 - 2s - 2ms/step - accuracy: 0.9501 - loss: 0.1740 - val_accuracy: 0.9596 - val_loss: 0.1487\n",
      "Epoch 5/10\n",
      "750/750 - 2s - 2ms/step - accuracy: 0.9530 - loss: 0.1604 - val_accuracy: 0.9608 - val_loss: 0.1535\n",
      "Epoch 6/10\n",
      "750/750 - 2s - 2ms/step - accuracy: 0.9571 - loss: 0.1496 - val_accuracy: 0.9632 - val_loss: 0.1572\n",
      "Epoch 7/10\n",
      "750/750 - 2s - 2ms/step - accuracy: 0.9593 - loss: 0.1464 - val_accuracy: 0.9645 - val_loss: 0.1562\n",
      "Epoch 8/10\n",
      "750/750 - 2s - 2ms/step - accuracy: 0.9614 - loss: 0.1360 - val_accuracy: 0.9632 - val_loss: 0.1662\n",
      "Epoch 9/10\n",
      "750/750 - 2s - 2ms/step - accuracy: 0.9596 - loss: 0.1435 - val_accuracy: 0.9649 - val_loss: 0.1621\n",
      "Epoch 10/10\n",
      "750/750 - 2s - 2ms/step - accuracy: 0.9622 - loss: 0.1362 - val_accuracy: 0.9649 - val_loss: 0.1775\n",
      "Exactitud en validación con tasa de aprendizaje 0.01: 0.9649166464805603\n",
      "Entrenando modelo con tasa de aprendizaje: 0.1\n",
      "Epoch 1/10\n",
      "750/750 - 2s - 3ms/step - accuracy: 0.6763 - loss: 1.2184 - val_accuracy: 0.8163 - val_loss: 0.7370\n",
      "Epoch 2/10\n",
      "750/750 - 2s - 2ms/step - accuracy: 0.6312 - loss: 1.2403 - val_accuracy: 0.6127 - val_loss: 1.1669\n",
      "Epoch 3/10\n",
      "750/750 - 2s - 2ms/step - accuracy: 0.5508 - loss: 1.3964 - val_accuracy: 0.5820 - val_loss: 1.2078\n",
      "Epoch 4/10\n",
      "750/750 - 2s - 2ms/step - accuracy: 0.5180 - loss: 1.4519 - val_accuracy: 0.5969 - val_loss: 1.2498\n",
      "Exactitud en validación con tasa de aprendizaje 0.1: 0.8162500262260437\n",
      "Entrenando modelo con tasa de aprendizaje: 0.0001\n",
      "Epoch 1/10\n",
      "750/750 - 2s - 3ms/step - accuracy: 0.7582 - loss: 0.9230 - val_accuracy: 0.8912 - val_loss: 0.4452\n",
      "Epoch 2/10\n",
      "750/750 - 2s - 2ms/step - accuracy: 0.8850 - loss: 0.4203 - val_accuracy: 0.9139 - val_loss: 0.3281\n",
      "Epoch 3/10\n",
      "750/750 - 2s - 2ms/step - accuracy: 0.9037 - loss: 0.3427 - val_accuracy: 0.9243 - val_loss: 0.2815\n",
      "Epoch 4/10\n",
      "750/750 - 2s - 2ms/step - accuracy: 0.9135 - loss: 0.3019 - val_accuracy: 0.9318 - val_loss: 0.2522\n",
      "Epoch 5/10\n",
      "750/750 - 2s - 2ms/step - accuracy: 0.9239 - loss: 0.2703 - val_accuracy: 0.9380 - val_loss: 0.2301\n",
      "Epoch 6/10\n",
      "750/750 - 2s - 2ms/step - accuracy: 0.9298 - loss: 0.2485 - val_accuracy: 0.9413 - val_loss: 0.2130\n",
      "Epoch 7/10\n",
      "750/750 - 2s - 2ms/step - accuracy: 0.9344 - loss: 0.2289 - val_accuracy: 0.9438 - val_loss: 0.1995\n",
      "Epoch 8/10\n",
      "750/750 - 2s - 2ms/step - accuracy: 0.9406 - loss: 0.2123 - val_accuracy: 0.9485 - val_loss: 0.1866\n",
      "Epoch 9/10\n",
      "750/750 - 2s - 2ms/step - accuracy: 0.9422 - loss: 0.2018 - val_accuracy: 0.9505 - val_loss: 0.1773\n",
      "Epoch 10/10\n",
      "750/750 - 2s - 2ms/step - accuracy: 0.9464 - loss: 0.1876 - val_accuracy: 0.9528 - val_loss: 0.1680\n"
     ]
    },
    {
     "name": "stderr",
     "output_type": "stream",
     "text": [
      "WARNING:absl:Compiled the loaded model, but the compiled metrics have yet to be built. `model.compile_metrics` will be empty until you train or evaluate the model.\n"
     ]
    },
    {
     "name": "stdout",
     "output_type": "stream",
     "text": [
      "Exactitud en validación con tasa de aprendizaje 0.0001: 0.952750027179718\n",
      "\n",
      "Cargando el mejor modelo con tasa de aprendizaje 0.001 y evaluando en el conjunto de test\n",
      "\u001b[1m313/313\u001b[0m \u001b[32m━━━━━━━━━━━━━━━━━━━━\u001b[0m\u001b[37m\u001b[0m \u001b[1m1s\u001b[0m 1ms/step - accuracy: 0.9753 - loss: 0.0839\n",
      "Exactitud en el conjunto de prueba: 0.9776999950408936\n"
     ]
    }
   ],
   "source": [
    "# Cargar datos de MNIST\n",
    "data= tf.keras.datasets.mnist.load_data()\n",
    "(x_train, y_train), (x_test, y_test) = data\n",
    "\n",
    "# Normalizar los datos (valores entre 0 y 1)\n",
    "x_train, x_test = x_train / 255.0, x_test / 255.0\n",
    "\n",
    "# Dividir los datos de entrenamiento en entrenamiento y validación\n",
    "x_train, x_val, y_train, y_val = train_test_split(x_train, y_train, test_size=0.2, random_state=42)\n",
    "\n",
    "# Crear una función para definir el modelo\n",
    "def create_model(learning_rate):\n",
    "    model = tf.keras.Sequential([\n",
    "        tf.keras.layers.Flatten(input_shape=(28, 28)),  # Aplanar la imagen de 28x28 a un vector de 784\n",
    "        tf.keras.layers.Dense(128, activation='relu'),\n",
    "        tf.keras.layers.Dropout(0.2),  # Capa de regularización con Dropout\n",
    "        tf.keras.layers.Dense(10, activation='softmax')  # 10 clases para la salida\n",
    "    ])\n",
    "    \n",
    "    model.compile(optimizer=tf.keras.optimizers.Adam(learning_rate=learning_rate),\n",
    "                  loss='sparse_categorical_crossentropy',\n",
    "                  metrics=['accuracy'])\n",
    "    \n",
    "    return model\n",
    "\n",
    "# Configuración para la detención temprana\n",
    "early_stopping = EarlyStopping(monitor='val_accuracy', patience=3, restore_best_weights=True)\n",
    "\n",
    "# Diferentes tasas de aprendizaje a probar\n",
    "learning_rates = [0.001, 0.01, 0.1, 0.0001]\n",
    "\n",
    "best_model = None\n",
    "best_accuracy = 0\n",
    "best_lr = None\n",
    "\n",
    "# Entrenar modelos con distintas tasas de aprendizaje\n",
    "for lr in learning_rates:\n",
    "    print(f\"Entrenando modelo con tasa de aprendizaje: {lr}\")\n",
    "    \n",
    "    # Crear el modelo\n",
    "    model = create_model(lr)\n",
    "    \n",
    "    # Entrenar el modelo\n",
    "    history = model.fit(x_train, y_train, epochs=10, validation_data=(x_val, y_val),\n",
    "                        callbacks=[early_stopping], batch_size=64, verbose=2)\n",
    "    \n",
    "    # Evaluar el modelo en el conjunto de validación\n",
    "    val_accuracy = model.evaluate(x_val, y_val, verbose=0)[1]\n",
    "    print(f\"Exactitud en validación con tasa de aprendizaje {lr}: {val_accuracy}\")\n",
    "    \n",
    "    # Guardar el modelo si es el mejor\n",
    "    if val_accuracy > best_accuracy:\n",
    "        best_accuracy = val_accuracy\n",
    "        best_lr = lr\n",
    "        best_model = model\n",
    "        model.save(f\"best_model_lr_{lr}.h5\")  # Guardar el mejor modelo\n",
    "\n",
    "# Cargar el mejor modelo y evaluarlo en el conjunto de test\n",
    "print(f\"\\nCargando el mejor modelo con tasa de aprendizaje {best_lr} y evaluando en el conjunto de test\")\n",
    "best_model = tf.keras.models.load_model(f\"best_model_lr_{best_lr}.h5\")\n",
    "test_accuracy = best_model.evaluate(x_test, y_test)[1]\n",
    "print(f\"Exactitud en el conjunto de prueba: {test_accuracy}\")"
   ]
  },
  {
   "cell_type": "markdown",
   "metadata": {},
   "source": [
    "## EJERCICIO 3"
   ]
  },
  {
   "cell_type": "markdown",
   "metadata": {},
   "source": [
    "Clasificación de Imágenes de Dígitos Escritos a Mano:\n",
    "\n",
    "* Objetivo: Entrenar una red neuronal para clasificar imágenes de dígitos escritos a mano utilizando el conjunto de datos SVHN (Street View House Numbers).\n",
    "\n",
    "* Tareas: \n",
    "    * Cargar el conjunto de datos, dividir los datos (train, valid y test), explorar los datos representando alguna imagen con su etiqueta y muestra los valores (únicos) de y (en el entrenamiento, en validación y en pruebas), preparar los datos (d normalizar dividiendo entre 255.0 e igual hay que hacer algo más), construir, compilar y entrenar una red neuronal. \n",
    "\n",
    "    * Utilizar detección temprana\n",
    "\n",
    "    * Hacer una gráfica de como evoluciona accuracy y val_accuracy durante el entrenamiento\n",
    "\n",
    "    * Si es necesario ajustar el modelo para lograr una mayor precisión.\n",
    "\n",
    "    * Evalúar el modelo en el conjunto de test y hacer alguna predicción (representa alguna imagen con su etiqueta real y la predicha)"
   ]
  },
  {
   "cell_type": "code",
   "execution_count": 5,
   "metadata": {},
   "outputs": [
    {
     "name": "stdout",
     "output_type": "stream",
     "text": [
      "Downloading data from http://ufldl.stanford.edu/housenumbers/train_32x32.mat\n",
      "\u001b[1m182040794/182040794\u001b[0m \u001b[32m━━━━━━━━━━━━━━━━━━━━\u001b[0m\u001b[37m\u001b[0m \u001b[1m49s\u001b[0m 0us/step\n"
     ]
    }
   ],
   "source": [
    "def load_svhn_data(url):\n",
    "    path = tf.keras.utils.get_file(\"svhn.mat\", url)\n",
    "    data = loadmat(path)\n",
    "    return np.transpose(data[\"X\"], (3, 0, 1, 2)), data[\"y\"].flatten()\n",
    "\n",
    "# Cargar datos\n",
    "train_url = \"http://ufldl.stanford.edu/housenumbers/train_32x32.mat\"\n",
    "test_url = \"http://ufldl.stanford.edu/housenumbers/test_32x32.mat\"\n",
    "X_train_full, y_train_full = load_svhn_data(train_url)\n",
    "X_test, y_test = load_svhn_data(test_url)\n",
    "\n",
    "# Cargar datos\n",
    "X_train_full, y_train_full = load_svhn_data(train_url)\n",
    "X_test, y_test = load_svhn_data(test_url)\n",
    "\n",
    "X_train, X_valid, y_train, y_valid = train_test_split(X_train_full, y_train_full, test_size=0.1, random_state=42)\n",
    "\n",
    "# Normalizar los datos\n",
    "X_train, X_valid, X_test = X_train / 255.0, X_valid / 255.0, X_test / 255.0"
   ]
  },
  {
   "cell_type": "code",
   "execution_count": 9,
   "metadata": {},
   "outputs": [
    {
     "name": "stdout",
     "output_type": "stream",
     "text": [
      "Etiquetas únicas en entrenamiento: [0 1 2 3 4 5 6 7 8 9]\n",
      "Etiquetas únicas en validación: [0 1 2 3 4 5 6 7 8 9]\n",
      "Etiquetas únicas en prueba: [0 1 2 3 4 5 6 7 8 9]\n"
     ]
    },
    {
     "data": {
      "image/png": "[encoded data removed]",
      "text/plain": [
       "<Figure size 640x480 with 1 Axes>"
      ]
     },
     "metadata": {},
     "output_type": "display_data"
    },
    {
     "name": "stderr",
     "output_type": "stream",
     "text": [
      "2025-01-07 18:46:36.389374: W external/local_xla/xla/tsl/framework/cpu_allocator_impl.cc:83] Allocation of 810160128 exceeds 10% of free system memory.\n"
     ]
    },
    {
     "name": "stdout",
     "output_type": "stream",
     "text": [
      "Epoch 1/10\n",
      "\u001b[1m2061/2061\u001b[0m \u001b[32m━━━━━━━━━━━━━━━━━━━━\u001b[0m\u001b[37m\u001b[0m \u001b[1m34s\u001b[0m 16ms/step - accuracy: 0.5811 - loss: 1.2860 - val_accuracy: 0.8559 - val_loss: 0.5142\n",
      "Epoch 2/10\n",
      "\u001b[1m2061/2061\u001b[0m \u001b[32m━━━━━━━━━━━━━━━━━━━━\u001b[0m\u001b[37m\u001b[0m \u001b[1m33s\u001b[0m 16ms/step - accuracy: 0.8600 - loss: 0.4927 - val_accuracy: 0.8701 - val_loss: 0.4424\n",
      "Epoch 3/10\n",
      "\u001b[1m2061/2061\u001b[0m \u001b[32m━━━━━━━━━━━━━━━━━━━━\u001b[0m\u001b[37m\u001b[0m \u001b[1m34s\u001b[0m 16ms/step - accuracy: 0.8828 - loss: 0.4010 - val_accuracy: 0.8830 - val_loss: 0.3962\n",
      "Epoch 4/10\n",
      "\u001b[1m2061/2061\u001b[0m \u001b[32m━━━━━━━━━━━━━━━━━━━━\u001b[0m\u001b[37m\u001b[0m \u001b[1m33s\u001b[0m 16ms/step - accuracy: 0.8994 - loss: 0.3434 - val_accuracy: 0.8897 - val_loss: 0.3814\n",
      "Epoch 5/10\n",
      "\u001b[1m2061/2061\u001b[0m \u001b[32m━━━━━━━━━━━━━━━━━━━━\u001b[0m\u001b[37m\u001b[0m \u001b[1m33s\u001b[0m 16ms/step - accuracy: 0.9132 - loss: 0.2949 - val_accuracy: 0.8997 - val_loss: 0.3517\n",
      "Epoch 6/10\n",
      "\u001b[1m2061/2061\u001b[0m \u001b[32m━━━━━━━━━━━━━━━━━━━━\u001b[0m\u001b[37m\u001b[0m \u001b[1m34s\u001b[0m 17ms/step - accuracy: 0.9199 - loss: 0.2716 - val_accuracy: 0.8937 - val_loss: 0.3667\n",
      "Epoch 7/10\n",
      "\u001b[1m2061/2061\u001b[0m \u001b[32m━━━━━━━━━━━━━━━━━━━━\u001b[0m\u001b[37m\u001b[0m \u001b[1m34s\u001b[0m 17ms/step - accuracy: 0.9291 - loss: 0.2459 - val_accuracy: 0.8963 - val_loss: 0.3771\n",
      "Epoch 8/10\n",
      "\u001b[1m2061/2061\u001b[0m \u001b[32m━━━━━━━━━━━━━━━━━━━━\u001b[0m\u001b[37m\u001b[0m \u001b[1m34s\u001b[0m 17ms/step - accuracy: 0.9372 - loss: 0.2110 - val_accuracy: 0.8993 - val_loss: 0.3751\n"
     ]
    },
    {
     "data": {
      "image/png": "[encoded data removed]",
      "text/plain": [
       "<Figure size 640x480 with 1 Axes>"
      ]
     },
     "metadata": {},
     "output_type": "display_data"
    },
    {
     "name": "stdout",
     "output_type": "stream",
     "text": [
      "\u001b[1m  15/2290\u001b[0m \u001b[37m━━━━━━━━━━━━━━━━━━━━\u001b[0m \u001b[1m18s\u001b[0m 8ms/step - accuracy: 0.9321 - loss: 0.2422"
     ]
    },
    {
     "name": "stderr",
     "output_type": "stream",
     "text": [
      "2025-01-07 18:51:10.678218: W external/local_xla/xla/tsl/framework/cpu_allocator_impl.cc:83] Allocation of 900182016 exceeds 10% of free system memory.\n"
     ]
    },
    {
     "name": "stdout",
     "output_type": "stream",
     "text": [
      "\u001b[1m2290/2290\u001b[0m \u001b[32m━━━━━━━━━━━━━━━━━━━━\u001b[0m\u001b[37m\u001b[0m \u001b[1m9s\u001b[0m 4ms/step - accuracy: 0.9259 - loss: 0.2656\n",
      "Precisión en el conjunto de prueba: 92.45%\n",
      "\u001b[1m  29/2290\u001b[0m \u001b[37m━━━━━━━━━━━━━━━━━━━━\u001b[0m \u001b[1m8s\u001b[0m 4ms/step "
     ]
    },
    {
     "name": "stderr",
     "output_type": "stream",
     "text": [
      "2025-01-07 18:51:21.379454: W external/local_xla/xla/tsl/framework/cpu_allocator_impl.cc:83] Allocation of 900182016 exceeds 10% of free system memory.\n"
     ]
    },
    {
     "name": "stdout",
     "output_type": "stream",
     "text": [
      "\u001b[1m2290/2290\u001b[0m \u001b[32m━━━━━━━━━━━━━━━━━━━━\u001b[0m\u001b[37m\u001b[0m \u001b[1m8s\u001b[0m 3ms/step\n"
     ]
    },
    {
     "data": {
      "image/png": "[encoded data removed]",
      "text/plain": [
       "<Figure size 640x480 with 1 Axes>"
      ]
     },
     "metadata": {},
     "output_type": "display_data"
    }
   ],
   "source": [
    "import numpy as np\n",
    "import tensorflow as tf\n",
    "from scipy.io import loadmat\n",
    "import matplotlib.pyplot as plt\n",
    "from sklearn.model_selection import train_test_split\n",
    "\n",
    "# Cargar datos de SVHN\n",
    "def load_svhn_data(url):\n",
    "    path = tf.keras.utils.get_file(\"svhn.mat\", url)\n",
    "    data = loadmat(path)\n",
    "    return np.transpose(data[\"X\"], (3, 0, 1, 2)), data[\"y\"].flatten()\n",
    "\n",
    "# URLs de los conjuntos de datos\n",
    "train_url = \"http://ufldl.stanford.edu/housenumbers/train_32x32.mat\"\n",
    "test_url = \"http://ufldl.stanford.edu/housenumbers/test_32x32.mat\"\n",
    "\n",
    "# Cargar datos\n",
    "X_train_full, y_train_full = load_svhn_data(train_url)\n",
    "X_test, y_test = load_svhn_data(test_url)\n",
    "\n",
    "# Ajustar las etiquetas (restar 1 para que estén en el rango [0, 9])\n",
    "y_train_full = y_train_full - 1\n",
    "y_test = y_test - 1\n",
    "\n",
    "# Dividir en datos de entrenamiento y validación\n",
    "X_train, X_valid, y_train, y_valid = train_test_split(X_train_full, y_train_full, test_size=0.1, random_state=42)\n",
    "\n",
    "# Normalizar los datos\n",
    "X_train, X_valid, X_test = X_train / 255.0, X_valid / 255.0, X_test / 255.0\n",
    "\n",
    "# Verificar etiquetas únicas en cada conjunto de datos\n",
    "print(\"Etiquetas únicas en entrenamiento:\", np.unique(y_train))\n",
    "print(\"Etiquetas únicas en validación:\", np.unique(y_valid))\n",
    "print(\"Etiquetas únicas en prueba:\", np.unique(y_test))\n",
    "\n",
    "# Mostrar una imagen de ejemplo\n",
    "plt.imshow(X_train[0])\n",
    "plt.title(f\"Etiqueta: {y_train[0]}\")\n",
    "plt.axis('off')\n",
    "plt.show()\n",
    "\n",
    "# Construcción del modelo\n",
    "model = tf.keras.Sequential([\n",
    "    tf.keras.layers.InputLayer(input_shape=(32, 32, 3)),\n",
    "    tf.keras.layers.Conv2D(32, (3, 3), activation='relu'),\n",
    "    tf.keras.layers.MaxPooling2D(),\n",
    "    tf.keras.layers.Conv2D(64, (3, 3), activation='relu'),\n",
    "    tf.keras.layers.MaxPooling2D(),\n",
    "    tf.keras.layers.Flatten(),\n",
    "    tf.keras.layers.Dense(128, activation='relu'),\n",
    "    tf.keras.layers.Dense(10, activation='softmax')  # 10 clases (dígitos 0-9)\n",
    "])\n",
    "\n",
    "# Compilación del modelo\n",
    "model.compile(optimizer='adam', loss='sparse_categorical_crossentropy', metrics=['accuracy'])\n",
    "\n",
    "# Detección temprana\n",
    "early_stopping = tf.keras.callbacks.EarlyStopping(monitor='val_loss', patience=3, restore_best_weights=True)\n",
    "\n",
    "# Entrenamiento del modelo\n",
    "history = model.fit(X_train, y_train, epochs=10, validation_data=(X_valid, y_valid), callbacks=[early_stopping])\n",
    "\n",
    "# Graficar la evolución de la precisión\n",
    "plt.plot(history.history['accuracy'], label='accuracy')\n",
    "plt.plot(history.history['val_accuracy'], label='val_accuracy')\n",
    "plt.xlabel('Epochs')\n",
    "plt.ylabel('Accuracy')\n",
    "plt.title('Evolución de la precisión')\n",
    "plt.legend(loc='lower right')\n",
    "plt.show()\n",
    "\n",
    "# Evaluación en el conjunto de prueba\n",
    "test_loss, test_accuracy = model.evaluate(X_test, y_test)\n",
    "print(f\"Precisión en el conjunto de prueba: {test_accuracy * 100:.2f}%\")\n",
    "\n",
    "# Predicciones\n",
    "predictions = model.predict(X_test)\n",
    "\n",
    "# Mostrar imagen con etiqueta real y predicha\n",
    "idx = 10  # Puedes cambiar el índice\n",
    "plt.imshow(X_test[idx])\n",
    "plt.title(f\"Etiqueta real: {y_test[idx]}, Predicción: {np.argmax(predictions[idx])}\")\n",
    "plt.axis('off')\n",
    "plt.show()\n"
   ]
  },
  {
   "cell_type": "markdown",
   "metadata": {},
   "source": [
    "## EJERCICIO 4"
   ]
  },
  {
   "cell_type": "markdown",
   "metadata": {},
   "source": [
    "Predicción del consumo de energía:\n",
    "\n",
    "* Objetivo: Construir una red neuronal para predecir el consumo de energía de edificios a partir de características como la temperatura, humedad, y tiempo del conjunto de datos Energy Efficiency de UCI Machine Learning Repository\n",
    "\n",
    "* Tareas: \n",
    "    * Cargar el conjunto de datos, dividir los datos (train, valid y test), explorar los datos, preparar los datos (normalizar con una capa de normalización), construir un modelo de regresión, compilar y entrenar una red neuronal. \n",
    "    \n",
    "    * Usa X1-X8 para la X e Y1-Y2 para la y\n",
    "\n",
    "    * Ajusta el modelo hasta encontrar un error absoluto medio aceptable\n",
    "\n",
    "    * Haz una gráfica de como evoluciona el error absoluto medio y error absoluto medio del conjunto de validación durante el entrenamiento\n",
    "\n",
    "    * Evalúa el modelo en el conjunto de test y haz alguna predicción (muestra el valor predicho y el real)"
   ]
  },
  {
   "cell_type": "code",
   "execution_count": 14,
   "metadata": {},
   "outputs": [],
   "source": [
    "# Descargar el conjunto de datos de eficiencia energética de UCI\n",
    "url = (\"https://archive.ics.uci.edu/ml/machine-learning-databases/00242/ENB2012_data.xlsx\")\n",
    "data = pd.read_excel(url)"
   ]
  },
  {
   "cell_type": "code",
   "execution_count": 15,
   "metadata": {},
   "outputs": [
    {
     "name": "stderr",
     "output_type": "stream",
     "text": [
      "/home/iabd24/anaconda3/envs/Neuronales/lib/python3.9/site-packages/keras/src/layers/core/dense.py:87: UserWarning: Do not pass an `input_shape`/`input_dim` argument to a layer. When using Sequential models, prefer using an `Input(shape)` object as the first layer in the model instead.\n",
      "  super().__init__(activity_regularizer=activity_regularizer, **kwargs)\n"
     ]
    },
    {
     "data": {
      "text/html": [
       "<pre style=\"white-space:pre;overflow-x:auto;line-height:normal;font-family:Menlo,'DejaVu Sans Mono',consolas,'Courier New',monospace\"><span style=\"font-weight: bold\">Model: \"sequential_7\"</span>\n",
       "</pre>\n"
      ],
      "text/plain": [
       "\u001b[1mModel: \"sequential_7\"\u001b[0m\n"
      ]
     },
     "metadata": {},
     "output_type": "display_data"
    },
    {
     "data": {
      "text/html": [
       "<pre style=\"white-space:pre;overflow-x:auto;line-height:normal;font-family:Menlo,'DejaVu Sans Mono',consolas,'Courier New',monospace\">┏━━━━━━━━━━━━━━━━━━━━━━━━━━━━━━━━━┳━━━━━━━━━━━━━━━━━━━━━━━━┳━━━━━━━━━━━━━━━┓\n",
       "┃<span style=\"font-weight: bold\"> Layer (type)                    </span>┃<span style=\"font-weight: bold\"> Output Shape           </span>┃<span style=\"font-weight: bold\">       Param # </span>┃\n",
       "┡━━━━━━━━━━━━━━━━━━━━━━━━━━━━━━━━━╇━━━━━━━━━━━━━━━━━━━━━━━━╇━━━━━━━━━━━━━━━┩\n",
       "│ normalization (<span style=\"color: #0087ff; text-decoration-color: #0087ff\">Normalization</span>)   │ (<span style=\"color: #00af00; text-decoration-color: #00af00\">460</span>, <span style=\"color: #00af00; text-decoration-color: #00af00\">8</span>)               │            <span style=\"color: #00af00; text-decoration-color: #00af00\">17</span> │\n",
       "├─────────────────────────────────┼────────────────────────┼───────────────┤\n",
       "│ dense_14 (<span style=\"color: #0087ff; text-decoration-color: #0087ff\">Dense</span>)                │ ?                      │   <span style=\"color: #00af00; text-decoration-color: #00af00\">0</span> (unbuilt) │\n",
       "├─────────────────────────────────┼────────────────────────┼───────────────┤\n",
       "│ dense_15 (<span style=\"color: #0087ff; text-decoration-color: #0087ff\">Dense</span>)                │ ?                      │   <span style=\"color: #00af00; text-decoration-color: #00af00\">0</span> (unbuilt) │\n",
       "├─────────────────────────────────┼────────────────────────┼───────────────┤\n",
       "│ dense_16 (<span style=\"color: #0087ff; text-decoration-color: #0087ff\">Dense</span>)                │ ?                      │   <span style=\"color: #00af00; text-decoration-color: #00af00\">0</span> (unbuilt) │\n",
       "└─────────────────────────────────┴────────────────────────┴───────────────┘\n",
       "</pre>\n"
      ],
      "text/plain": [
       "┏━━━━━━━━━━━━━━━━━━━━━━━━━━━━━━━━━┳━━━━━━━━━━━━━━━━━━━━━━━━┳━━━━━━━━━━━━━━━┓\n",
       "┃\u001b[1m \u001b[0m\u001b[1mLayer (type)                   \u001b[0m\u001b[1m \u001b[0m┃\u001b[1m \u001b[0m\u001b[1mOutput Shape          \u001b[0m\u001b[1m \u001b[0m┃\u001b[1m \u001b[0m\u001b[1m      Param #\u001b[0m\u001b[1m \u001b[0m┃\n",
       "┡━━━━━━━━━━━━━━━━━━━━━━━━━━━━━━━━━╇━━━━━━━━━━━━━━━━━━━━━━━━╇━━━━━━━━━━━━━━━┩\n",
       "│ normalization (\u001b[38;5;33mNormalization\u001b[0m)   │ (\u001b[38;5;34m460\u001b[0m, \u001b[38;5;34m8\u001b[0m)               │            \u001b[38;5;34m17\u001b[0m │\n",
       "├─────────────────────────────────┼────────────────────────┼───────────────┤\n",
       "│ dense_14 (\u001b[38;5;33mDense\u001b[0m)                │ ?                      │   \u001b[38;5;34m0\u001b[0m (unbuilt) │\n",
       "├─────────────────────────────────┼────────────────────────┼───────────────┤\n",
       "│ dense_15 (\u001b[38;5;33mDense\u001b[0m)                │ ?                      │   \u001b[38;5;34m0\u001b[0m (unbuilt) │\n",
       "├─────────────────────────────────┼────────────────────────┼───────────────┤\n",
       "│ dense_16 (\u001b[38;5;33mDense\u001b[0m)                │ ?                      │   \u001b[38;5;34m0\u001b[0m (unbuilt) │\n",
       "└─────────────────────────────────┴────────────────────────┴───────────────┘\n"
      ]
     },
     "metadata": {},
     "output_type": "display_data"
    },
    {
     "data": {
      "text/html": [
       "<pre style=\"white-space:pre;overflow-x:auto;line-height:normal;font-family:Menlo,'DejaVu Sans Mono',consolas,'Courier New',monospace\"><span style=\"font-weight: bold\"> Total params: </span><span style=\"color: #00af00; text-decoration-color: #00af00\">17</span> (72.00 B)\n",
       "</pre>\n"
      ],
      "text/plain": [
       "\u001b[1m Total params: \u001b[0m\u001b[38;5;34m17\u001b[0m (72.00 B)\n"
      ]
     },
     "metadata": {},
     "output_type": "display_data"
    },
    {
     "data": {
      "text/html": [
       "<pre style=\"white-space:pre;overflow-x:auto;line-height:normal;font-family:Menlo,'DejaVu Sans Mono',consolas,'Courier New',monospace\"><span style=\"font-weight: bold\"> Trainable params: </span><span style=\"color: #00af00; text-decoration-color: #00af00\">0</span> (0.00 B)\n",
       "</pre>\n"
      ],
      "text/plain": [
       "\u001b[1m Trainable params: \u001b[0m\u001b[38;5;34m0\u001b[0m (0.00 B)\n"
      ]
     },
     "metadata": {},
     "output_type": "display_data"
    },
    {
     "data": {
      "text/html": [
       "<pre style=\"white-space:pre;overflow-x:auto;line-height:normal;font-family:Menlo,'DejaVu Sans Mono',consolas,'Courier New',monospace\"><span style=\"font-weight: bold\"> Non-trainable params: </span><span style=\"color: #00af00; text-decoration-color: #00af00\">17</span> (72.00 B)\n",
       "</pre>\n"
      ],
      "text/plain": [
       "\u001b[1m Non-trainable params: \u001b[0m\u001b[38;5;34m17\u001b[0m (72.00 B)\n"
      ]
     },
     "metadata": {},
     "output_type": "display_data"
    }
   ],
   "source": [
    "# Dividir los datos en X (características) y Y (objetivos)\n",
    "X = data.iloc[:, :-2].values  # X1-X8 (columnas de características)\n",
    "Y = data.iloc[:, -2:].values  # Y1-Y2 (columnas objetivo)\n",
    "\n",
    "# Dividir los datos en conjunto de entrenamiento, validación y prueba\n",
    "X_train, X_temp, Y_train, Y_temp = train_test_split(X, Y, test_size=0.4, random_state=42)\n",
    "X_valid, X_test, Y_valid, Y_test = train_test_split(X_temp, Y_temp, test_size=0.5, random_state=42)\n",
    "\n",
    "# Normalizar los datos\n",
    "normalizer = Normalization()\n",
    "normalizer.adapt(X_train)  # Calculamos estadísticas de la normalización sobre X_train\n",
    "\n",
    "# Crear un modelo secuencial\n",
    "model = Sequential([\n",
    "    normalizer,\n",
    "    Dense(64, activation='relu', input_shape=(X_train.shape[1],)),\n",
    "    Dense(64, activation='relu'),\n",
    "    Dense(2)  # Salida de 2 valores: Y1 y Y2\n",
    "])\n",
    "\n",
    "# Compilar el modelo\n",
    "model.compile(optimizer='adam', loss='mse', metrics=['mae'])\n",
    "\n",
    "# Ver el resumen del modelo\n",
    "model.summary()\n"
   ]
  },
  {
   "cell_type": "code",
   "execution_count": 19,
   "metadata": {},
   "outputs": [
    {
     "name": "stdout",
     "output_type": "stream",
     "text": [
      "Epoch 1/50\n",
      "\u001b[1m15/15\u001b[0m \u001b[32m━━━━━━━━━━━━━━━━━━━━\u001b[0m\u001b[37m\u001b[0m \u001b[1m0s\u001b[0m 8ms/step - loss: 6.9255 - mae: 1.7732 - val_loss: 6.7359 - val_mae: 1.8648\n",
      "Epoch 2/50\n",
      "\u001b[1m15/15\u001b[0m \u001b[32m━━━━━━━━━━━━━━━━━━━━\u001b[0m\u001b[37m\u001b[0m \u001b[1m0s\u001b[0m 5ms/step - loss: 7.1279 - mae: 1.8772 - val_loss: 7.2154 - val_mae: 1.9237\n",
      "Epoch 3/50\n",
      "\u001b[1m15/15\u001b[0m \u001b[32m━━━━━━━━━━━━━━━━━━━━\u001b[0m\u001b[37m\u001b[0m \u001b[1m0s\u001b[0m 5ms/step - loss: 7.0140 - mae: 1.7979 - val_loss: 6.6376 - val_mae: 1.8565\n",
      "Epoch 4/50\n",
      "\u001b[1m15/15\u001b[0m \u001b[32m━━━━━━━━━━━━━━━━━━━━\u001b[0m\u001b[37m\u001b[0m \u001b[1m0s\u001b[0m 5ms/step - loss: 6.8214 - mae: 1.7925 - val_loss: 6.8980 - val_mae: 1.8650\n",
      "Epoch 5/50\n",
      "\u001b[1m15/15\u001b[0m \u001b[32m━━━━━━━━━━━━━━━━━━━━\u001b[0m\u001b[37m\u001b[0m \u001b[1m0s\u001b[0m 5ms/step - loss: 7.3118 - mae: 1.8190 - val_loss: 6.4853 - val_mae: 1.8022\n",
      "Epoch 6/50\n",
      "\u001b[1m15/15\u001b[0m \u001b[32m━━━━━━━━━━━━━━━━━━━━\u001b[0m\u001b[37m\u001b[0m \u001b[1m0s\u001b[0m 5ms/step - loss: 7.9975 - mae: 1.9325 - val_loss: 6.7017 - val_mae: 1.8172\n",
      "Epoch 7/50\n",
      "\u001b[1m15/15\u001b[0m \u001b[32m━━━━━━━━━━━━━━━━━━━━\u001b[0m\u001b[37m\u001b[0m \u001b[1m0s\u001b[0m 5ms/step - loss: 6.6697 - mae: 1.6911 - val_loss: 6.4342 - val_mae: 1.8013\n",
      "Epoch 8/50\n",
      "\u001b[1m15/15\u001b[0m \u001b[32m━━━━━━━━━━━━━━━━━━━━\u001b[0m\u001b[37m\u001b[0m \u001b[1m0s\u001b[0m 5ms/step - loss: 6.7614 - mae: 1.7873 - val_loss: 6.4862 - val_mae: 1.7910\n",
      "Epoch 9/50\n",
      "\u001b[1m15/15\u001b[0m \u001b[32m━━━━━━━━━━━━━━━━━━━━\u001b[0m\u001b[37m\u001b[0m \u001b[1m0s\u001b[0m 5ms/step - loss: 7.0865 - mae: 1.8026 - val_loss: 6.3524 - val_mae: 1.7725\n",
      "Epoch 10/50\n",
      "\u001b[1m15/15\u001b[0m \u001b[32m━━━━━━━━━━━━━━━━━━━━\u001b[0m\u001b[37m\u001b[0m \u001b[1m0s\u001b[0m 5ms/step - loss: 6.4591 - mae: 1.6999 - val_loss: 6.3439 - val_mae: 1.7698\n",
      "Epoch 11/50\n",
      "\u001b[1m15/15\u001b[0m \u001b[32m━━━━━━━━━━━━━━━━━━━━\u001b[0m\u001b[37m\u001b[0m \u001b[1m0s\u001b[0m 6ms/step - loss: 6.9100 - mae: 1.7510 - val_loss: 6.3377 - val_mae: 1.7756\n",
      "Epoch 12/50\n",
      "\u001b[1m15/15\u001b[0m \u001b[32m━━━━━━━━━━━━━━━━━━━━\u001b[0m\u001b[37m\u001b[0m \u001b[1m0s\u001b[0m 5ms/step - loss: 6.7587 - mae: 1.7431 - val_loss: 6.2463 - val_mae: 1.7559\n",
      "Epoch 13/50\n",
      "\u001b[1m15/15\u001b[0m \u001b[32m━━━━━━━━━━━━━━━━━━━━\u001b[0m\u001b[37m\u001b[0m \u001b[1m0s\u001b[0m 5ms/step - loss: 6.8494 - mae: 1.7876 - val_loss: 6.1791 - val_mae: 1.7465\n",
      "Epoch 14/50\n",
      "\u001b[1m15/15\u001b[0m \u001b[32m━━━━━━━━━━━━━━━━━━━━\u001b[0m\u001b[37m\u001b[0m \u001b[1m0s\u001b[0m 5ms/step - loss: 6.9226 - mae: 1.7758 - val_loss: 6.1138 - val_mae: 1.7590\n",
      "Epoch 15/50\n",
      "\u001b[1m15/15\u001b[0m \u001b[32m━━━━━━━━━━━━━━━━━━━━\u001b[0m\u001b[37m\u001b[0m \u001b[1m0s\u001b[0m 5ms/step - loss: 6.5884 - mae: 1.7838 - val_loss: 6.0678 - val_mae: 1.7348\n",
      "Epoch 16/50\n",
      "\u001b[1m15/15\u001b[0m \u001b[32m━━━━━━━━━━━━━━━━━━━━\u001b[0m\u001b[37m\u001b[0m \u001b[1m0s\u001b[0m 5ms/step - loss: 6.2780 - mae: 1.6851 - val_loss: 6.1335 - val_mae: 1.7461\n",
      "Epoch 17/50\n",
      "\u001b[1m15/15\u001b[0m \u001b[32m━━━━━━━━━━━━━━━━━━━━\u001b[0m\u001b[37m\u001b[0m \u001b[1m0s\u001b[0m 5ms/step - loss: 6.5644 - mae: 1.7554 - val_loss: 5.9942 - val_mae: 1.7310\n",
      "Epoch 18/50\n",
      "\u001b[1m15/15\u001b[0m \u001b[32m━━━━━━━━━━━━━━━━━━━━\u001b[0m\u001b[37m\u001b[0m \u001b[1m0s\u001b[0m 5ms/step - loss: 5.9835 - mae: 1.6505 - val_loss: 6.0286 - val_mae: 1.7209\n",
      "Epoch 19/50\n",
      "\u001b[1m15/15\u001b[0m \u001b[32m━━━━━━━━━━━━━━━━━━━━\u001b[0m\u001b[37m\u001b[0m \u001b[1m0s\u001b[0m 5ms/step - loss: 7.1943 - mae: 1.8588 - val_loss: 5.9335 - val_mae: 1.7502\n",
      "Epoch 20/50\n",
      "\u001b[1m15/15\u001b[0m \u001b[32m━━━━━━━━━━━━━━━━━━━━\u001b[0m\u001b[37m\u001b[0m \u001b[1m0s\u001b[0m 5ms/step - loss: 6.7522 - mae: 1.8082 - val_loss: 5.8851 - val_mae: 1.6957\n",
      "Epoch 21/50\n",
      "\u001b[1m15/15\u001b[0m \u001b[32m━━━━━━━━━━━━━━━━━━━━\u001b[0m\u001b[37m\u001b[0m \u001b[1m0s\u001b[0m 5ms/step - loss: 6.4834 - mae: 1.6860 - val_loss: 5.7846 - val_mae: 1.6980\n",
      "Epoch 22/50\n",
      "\u001b[1m15/15\u001b[0m \u001b[32m━━━━━━━━━━━━━━━━━━━━\u001b[0m\u001b[37m\u001b[0m \u001b[1m0s\u001b[0m 5ms/step - loss: 6.6378 - mae: 1.7681 - val_loss: 5.7447 - val_mae: 1.6758\n",
      "Epoch 23/50\n",
      "\u001b[1m15/15\u001b[0m \u001b[32m━━━━━━━━━━━━━━━━━━━━\u001b[0m\u001b[37m\u001b[0m \u001b[1m0s\u001b[0m 5ms/step - loss: 6.2765 - mae: 1.6927 - val_loss: 5.7033 - val_mae: 1.6832\n",
      "Epoch 24/50\n",
      "\u001b[1m15/15\u001b[0m \u001b[32m━━━━━━━━━━━━━━━━━━━━\u001b[0m\u001b[37m\u001b[0m \u001b[1m0s\u001b[0m 8ms/step - loss: 5.8356 - mae: 1.6475 - val_loss: 5.6586 - val_mae: 1.6843\n",
      "Epoch 25/50\n",
      "\u001b[1m15/15\u001b[0m \u001b[32m━━━━━━━━━━━━━━━━━━━━\u001b[0m\u001b[37m\u001b[0m \u001b[1m0s\u001b[0m 5ms/step - loss: 5.6603 - mae: 1.6023 - val_loss: 5.9544 - val_mae: 1.7396\n",
      "Epoch 26/50\n",
      "\u001b[1m15/15\u001b[0m \u001b[32m━━━━━━━━━━━━━━━━━━━━\u001b[0m\u001b[37m\u001b[0m \u001b[1m0s\u001b[0m 5ms/step - loss: 6.3195 - mae: 1.7316 - val_loss: 5.5254 - val_mae: 1.6587\n",
      "Epoch 27/50\n",
      "\u001b[1m15/15\u001b[0m \u001b[32m━━━━━━━━━━━━━━━━━━━━\u001b[0m\u001b[37m\u001b[0m \u001b[1m0s\u001b[0m 5ms/step - loss: 6.7071 - mae: 1.7429 - val_loss: 5.6483 - val_mae: 1.6763\n",
      "Epoch 28/50\n",
      "\u001b[1m15/15\u001b[0m \u001b[32m━━━━━━━━━━━━━━━━━━━━\u001b[0m\u001b[37m\u001b[0m \u001b[1m0s\u001b[0m 5ms/step - loss: 6.1060 - mae: 1.6662 - val_loss: 5.4911 - val_mae: 1.6444\n",
      "Epoch 29/50\n",
      "\u001b[1m15/15\u001b[0m \u001b[32m━━━━━━━━━━━━━━━━━━━━\u001b[0m\u001b[37m\u001b[0m \u001b[1m0s\u001b[0m 5ms/step - loss: 6.6447 - mae: 1.7418 - val_loss: 5.3518 - val_mae: 1.6188\n",
      "Epoch 30/50\n",
      "\u001b[1m15/15\u001b[0m \u001b[32m━━━━━━━━━━━━━━━━━━━━\u001b[0m\u001b[37m\u001b[0m \u001b[1m0s\u001b[0m 5ms/step - loss: 6.8396 - mae: 1.8017 - val_loss: 5.3719 - val_mae: 1.6130\n",
      "Epoch 31/50\n",
      "\u001b[1m15/15\u001b[0m \u001b[32m━━━━━━━━━━━━━━━━━━━━\u001b[0m\u001b[37m\u001b[0m \u001b[1m0s\u001b[0m 5ms/step - loss: 6.1063 - mae: 1.6483 - val_loss: 5.2576 - val_mae: 1.6077\n",
      "Epoch 32/50\n",
      "\u001b[1m15/15\u001b[0m \u001b[32m━━━━━━━━━━━━━━━━━━━━\u001b[0m\u001b[37m\u001b[0m \u001b[1m0s\u001b[0m 5ms/step - loss: 6.4282 - mae: 1.7387 - val_loss: 5.3181 - val_mae: 1.6142\n",
      "Epoch 33/50\n",
      "\u001b[1m15/15\u001b[0m \u001b[32m━━━━━━━━━━━━━━━━━━━━\u001b[0m\u001b[37m\u001b[0m \u001b[1m0s\u001b[0m 5ms/step - loss: 5.7881 - mae: 1.6477 - val_loss: 5.2753 - val_mae: 1.6515\n",
      "Epoch 34/50\n",
      "\u001b[1m15/15\u001b[0m \u001b[32m━━━━━━━━━━━━━━━━━━━━\u001b[0m\u001b[37m\u001b[0m \u001b[1m0s\u001b[0m 5ms/step - loss: 6.1444 - mae: 1.7247 - val_loss: 5.3410 - val_mae: 1.6363\n",
      "Epoch 35/50\n",
      "\u001b[1m15/15\u001b[0m \u001b[32m━━━━━━━━━━━━━━━━━━━━\u001b[0m\u001b[37m\u001b[0m \u001b[1m0s\u001b[0m 5ms/step - loss: 5.3480 - mae: 1.5650 - val_loss: 5.3207 - val_mae: 1.6455\n",
      "Epoch 36/50\n",
      "\u001b[1m15/15\u001b[0m \u001b[32m━━━━━━━━━━━━━━━━━━━━\u001b[0m\u001b[37m\u001b[0m \u001b[1m0s\u001b[0m 5ms/step - loss: 5.4244 - mae: 1.5759 - val_loss: 5.0817 - val_mae: 1.5923\n",
      "Epoch 37/50\n",
      "\u001b[1m15/15\u001b[0m \u001b[32m━━━━━━━━━━━━━━━━━━━━\u001b[0m\u001b[37m\u001b[0m \u001b[1m0s\u001b[0m 5ms/step - loss: 5.6935 - mae: 1.6321 - val_loss: 5.0891 - val_mae: 1.5932\n",
      "Epoch 38/50\n",
      "\u001b[1m15/15\u001b[0m \u001b[32m━━━━━━━━━━━━━━━━━━━━\u001b[0m\u001b[37m\u001b[0m \u001b[1m0s\u001b[0m 5ms/step - loss: 5.7239 - mae: 1.6203 - val_loss: 5.1708 - val_mae: 1.6180\n",
      "Epoch 39/50\n",
      "\u001b[1m15/15\u001b[0m \u001b[32m━━━━━━━━━━━━━━━━━━━━\u001b[0m\u001b[37m\u001b[0m \u001b[1m0s\u001b[0m 6ms/step - loss: 5.7943 - mae: 1.6405 - val_loss: 5.1004 - val_mae: 1.6195\n",
      "Epoch 40/50\n",
      "\u001b[1m15/15\u001b[0m \u001b[32m━━━━━━━━━━━━━━━━━━━━\u001b[0m\u001b[37m\u001b[0m \u001b[1m0s\u001b[0m 5ms/step - loss: 5.7578 - mae: 1.6633 - val_loss: 4.8797 - val_mae: 1.5611\n",
      "Epoch 41/50\n",
      "\u001b[1m15/15\u001b[0m \u001b[32m━━━━━━━━━━━━━━━━━━━━\u001b[0m\u001b[37m\u001b[0m \u001b[1m0s\u001b[0m 5ms/step - loss: 5.5034 - mae: 1.6254 - val_loss: 4.9854 - val_mae: 1.5910\n",
      "Epoch 42/50\n",
      "\u001b[1m15/15\u001b[0m \u001b[32m━━━━━━━━━━━━━━━━━━━━\u001b[0m\u001b[37m\u001b[0m \u001b[1m0s\u001b[0m 5ms/step - loss: 5.0789 - mae: 1.5378 - val_loss: 5.0006 - val_mae: 1.6092\n",
      "Epoch 43/50\n",
      "\u001b[1m15/15\u001b[0m \u001b[32m━━━━━━━━━━━━━━━━━━━━\u001b[0m\u001b[37m\u001b[0m \u001b[1m0s\u001b[0m 5ms/step - loss: 5.7058 - mae: 1.6543 - val_loss: 4.8190 - val_mae: 1.5680\n",
      "Epoch 44/50\n",
      "\u001b[1m15/15\u001b[0m \u001b[32m━━━━━━━━━━━━━━━━━━━━\u001b[0m\u001b[37m\u001b[0m \u001b[1m0s\u001b[0m 5ms/step - loss: 5.6358 - mae: 1.6088 - val_loss: 4.9584 - val_mae: 1.5980\n",
      "Epoch 45/50\n",
      "\u001b[1m15/15\u001b[0m \u001b[32m━━━━━━━━━━━━━━━━━━━━\u001b[0m\u001b[37m\u001b[0m \u001b[1m0s\u001b[0m 5ms/step - loss: 4.9877 - mae: 1.4966 - val_loss: 4.7015 - val_mae: 1.5441\n",
      "Epoch 46/50\n",
      "\u001b[1m15/15\u001b[0m \u001b[32m━━━━━━━━━━━━━━━━━━━━\u001b[0m\u001b[37m\u001b[0m \u001b[1m0s\u001b[0m 5ms/step - loss: 5.1988 - mae: 1.5542 - val_loss: 4.7031 - val_mae: 1.5538\n",
      "Epoch 47/50\n",
      "\u001b[1m15/15\u001b[0m \u001b[32m━━━━━━━━━━━━━━━━━━━━\u001b[0m\u001b[37m\u001b[0m \u001b[1m0s\u001b[0m 5ms/step - loss: 5.7624 - mae: 1.6883 - val_loss: 4.8599 - val_mae: 1.5981\n",
      "Epoch 48/50\n",
      "\u001b[1m15/15\u001b[0m \u001b[32m━━━━━━━━━━━━━━━━━━━━\u001b[0m\u001b[37m\u001b[0m \u001b[1m0s\u001b[0m 5ms/step - loss: 5.5902 - mae: 1.6551 - val_loss: 4.6244 - val_mae: 1.5337\n",
      "Epoch 49/50\n",
      "\u001b[1m15/15\u001b[0m \u001b[32m━━━━━━━━━━━━━━━━━━━━\u001b[0m\u001b[37m\u001b[0m \u001b[1m0s\u001b[0m 5ms/step - loss: 5.1697 - mae: 1.5081 - val_loss: 4.7099 - val_mae: 1.5585\n",
      "Epoch 50/50\n",
      "\u001b[1m15/15\u001b[0m \u001b[32m━━━━━━━━━━━━━━━━━━━━\u001b[0m\u001b[37m\u001b[0m \u001b[1m0s\u001b[0m 5ms/step - loss: 4.7223 - mae: 1.5006 - val_loss: 4.6346 - val_mae: 1.5492\n"
     ]
    },
    {
     "data": {
      "image/png": "[encoded data removed]",
      "text/plain": [
       "<Figure size 640x480 with 1 Axes>"
      ]
     },
     "metadata": {},
     "output_type": "display_data"
    }
   ],
   "source": [
    "# Entrenar el modelo\n",
    "history = model.fit(X_train, Y_train, epochs=50, batch_size=32, \n",
    "                    validation_data=(X_valid, Y_valid))\n",
    "\n",
    "# Graficar la evolución del error absoluto medio durante el entrenamiento\n",
    "plt.plot(history.history['mae'], label='Error Absoluto Medio (Train)')\n",
    "plt.plot(history.history['val_mae'], label='Error Absoluto Medio (Validation)')\n",
    "plt.title('Evolución del Error Absoluto Medio durante el entrenamiento')\n",
    "plt.xlabel('Epochs')\n",
    "plt.ylabel('MAE')\n",
    "plt.legend()\n",
    "plt.show()\n"
   ]
  },
  {
   "cell_type": "code",
   "execution_count": 20,
   "metadata": {},
   "outputs": [
    {
     "name": "stdout",
     "output_type": "stream",
     "text": [
      "\u001b[1m5/5\u001b[0m \u001b[32m━━━━━━━━━━━━━━━━━━━━\u001b[0m\u001b[37m\u001b[0m \u001b[1m0s\u001b[0m 6ms/step - loss: 7.0167 - mae: 1.9248  \n",
      "Test Loss: 5.870486736297607\n",
      "Test MAE: 1.7228456735610962\n",
      "\u001b[1m5/5\u001b[0m \u001b[32m━━━━━━━━━━━━━━━━━━━━\u001b[0m\u001b[37m\u001b[0m \u001b[1m0s\u001b[0m 4ms/step \n",
      "Predicción: [13.877244 15.55467 ], Real: [14.66 15.64]\n",
      "Predicción: [28.622347 31.276968], Real: [28.07 34.14]\n",
      "Predicción: [30.666212 32.95307 ], Real: [24.6  29.31]\n",
      "Predicción: [14.296806 17.157206], Real: [14.37 16.54]\n",
      "Predicción: [32.935028 35.967316], Real: [35.89 43.3 ]\n"
     ]
    }
   ],
   "source": [
    "# Evaluar el modelo en el conjunto de test\n",
    "test_loss, test_mae = model.evaluate(X_test, Y_test)\n",
    "print(f\"Test Loss: {test_loss}\")\n",
    "print(f\"Test MAE: {test_mae}\")\n",
    "\n",
    "# Realizar predicciones\n",
    "predictions = model.predict(X_test)\n",
    "\n",
    "# Mostrar algunas predicciones comparadas con los valores reales\n",
    "for i in range(5):\n",
    "    print(f\"Predicción: {predictions[i]}, Real: {Y_test[i]}\")\n"
   ]
  }
 ],
 "metadata": {
  "kernelspec": {
   "display_name": "Neuronales",
   "language": "python",
   "name": "python3"
  },
  "language_info": {
   "codemirror_mode": {
    "name": "ipython",
    "version": 3
   },
   "file_extension": ".py",
   "mimetype": "text/x-python",
   "name": "python",
   "nbconvert_exporter": "python",
   "pygments_lexer": "ipython3",
   "version": "3.9.21"
  },
  "nav_menu": {
   "height": "264px",
   "width": "369px"
  },
  "toc": {
   "navigate_menu": true,
   "number_sections": true,
   "sideBar": true,
   "threshold": 6,
   "toc_cell": false,
   "toc_section_display": "block",
   "toc_window_display": false
  }
 },
 "nbformat": 4,
 "nbformat_minor": 4
}
