{
 "cells": [
  {
   "cell_type": "markdown",
   "metadata": {},
   "source": [
    "# EJERCICIOS"
   ]
  },
  {
   "cell_type": "code",
   "execution_count": 13,
   "metadata": {},
   "outputs": [],
   "source": [
    "import tensorflow as tf\n",
    "import numpy as np\n",
    "import matplotlib.pyplot as plt\n",
    "from keras import Sequential\n",
    "from keras.models import Model\n",
    "from keras.layers import Input, Dense, Flatten, Concatenate, Conv2D, MaxPooling2D\n",
    "from keras.datasets import cifar10\n",
    "from sklearn.model_selection import train_test_split\n",
    "from keras.optimizers import Adam"
   ]
  },
  {
   "cell_type": "markdown",
   "metadata": {},
   "source": [
    "## EJERCICIO 1\n"
   ]
  },
  {
   "cell_type": "markdown",
   "metadata": {},
   "source": [
    "Supongamos que queremos predecir dos objetivos diferentes (por ejemplo, precio y categoría) a partir de dos conjuntos de características diferentes (por ejemplo, características visuales y características de texto de un producto).\n",
    "\n",
    "* Características visuales: un conjunto de 128 características numéricas, que podrían representar, por ejemplo, valores de píxeles o características extraídas de imágenes.\n",
    "* Características de texto: un conjunto de 256 características numéricas, representando posiblemente la codificación de texto o características lingüísticas.\n",
    "* Precio (Salida 1): un valor numérico que representa el precio de un producto.\n",
    "* Categoría (Salida 2): una etiqueta de categoría, que asumiremos que puede tomar 10 valores diferentes (por ejemplo, 10 categorías diferentes de productos)."
   ]
  },
  {
   "cell_type": "markdown",
   "metadata": {},
   "source": [
    "Voy a generar datos aleatorios"
   ]
  },
  {
   "cell_type": "code",
   "execution_count": 2,
   "metadata": {},
   "outputs": [],
   "source": [
    "# Generación de datos ficticios\n",
    "num_muestras = 1000  # Número de muestras en el conjunto de datos\n",
    "\n",
    "# Características visuales: 128 características numéricas\n",
    "caracteristicas_visuales = np.random.rand(num_muestras, 128)\n",
    "\n",
    "# Características de texto: 256 características numéricas\n",
    "caracteristicas_texto = np.random.rand(num_muestras, 256)\n",
    "\n",
    "# Precio (Salida 1): Valor numérico (por ejemplo, precio de un producto)\n",
    "precio = np.random.rand(num_muestras, 1)\n",
    "\n",
    "# Categoría (Salida 2): 10 categorías posibles (codificadas en one-hot)\n",
    "categorias = np.random.randint(0, 10, size=(num_muestras, 1))\n",
    "categorias_one_hot = tf.keras.utils.to_categorical(categorias, num_classes=10)"
   ]
  },
  {
   "cell_type": "markdown",
   "metadata": {},
   "source": [
    "Divide los datos en entrenamiento y prueba"
   ]
  },
  {
   "cell_type": "code",
   "execution_count": 3,
   "metadata": {},
   "outputs": [],
   "source": [
    "X_train_visuales, X_test_visuales, X_train_texto, X_test_texto, y_train_precio, y_test_precio, y_train_categorias, y_test_categorias = train_test_split(\n",
    "    caracteristicas_visuales, \n",
    "    caracteristicas_texto, \n",
    "    precio, \n",
    "    categorias_one_hot, \n",
    "    test_size=0.2, \n",
    "    random_state=42\n",
    ")"
   ]
  },
  {
   "cell_type": "markdown",
   "metadata": {},
   "source": [
    "Construye el modelo:\n",
    "* Crea dos ramas de entrada, una para cada tipo de características.\n",
    "* Las ramas se fusionarán para predecir el precio.\n",
    "* Una de las ramas se utilizará también para predecir la categoria."
   ]
  },
  {
   "cell_type": "markdown",
   "metadata": {},
   "source": [
    "El esquema es el siguiente:\n",
    "\n",
    "<img src=\"esquema_modelo_funcional.png\" alt=\"esquema modelo funcional\"/>"
   ]
  },
  {
   "cell_type": "code",
   "execution_count": 4,
   "metadata": {},
   "outputs": [
    {
     "name": "stderr",
     "output_type": "stream",
     "text": [
      "I0000 00:00:1736956327.213100    7009 gpu_device.cc:2022] Created device /job:localhost/replica:0/task:0/device:GPU:0 with 9625 MB memory:  -> device: 0, name: NVIDIA GeForce RTX 4080 Laptop GPU, pci bus id: 0000:01:00.0, compute capability: 8.9\n"
     ]
    },
    {
     "data": {
      "text/html": [
       "<pre style=\"white-space:pre;overflow-x:auto;line-height:normal;font-family:Menlo,'DejaVu Sans Mono',consolas,'Courier New',monospace\"><span style=\"font-weight: bold\">Model: \"functional\"</span>\n",
       "</pre>\n"
      ],
      "text/plain": [
       "\u001b[1mModel: \"functional\"\u001b[0m\n"
      ]
     },
     "metadata": {},
     "output_type": "display_data"
    },
    {
     "data": {
      "text/html": [
       "<pre style=\"white-space:pre;overflow-x:auto;line-height:normal;font-family:Menlo,'DejaVu Sans Mono',consolas,'Courier New',monospace\">┏━━━━━━━━━━━━━━━━━━━━━┳━━━━━━━━━━━━━━━━━━━┳━━━━━━━━━━━━┳━━━━━━━━━━━━━━━━━━━┓\n",
       "┃<span style=\"font-weight: bold\"> Layer (type)        </span>┃<span style=\"font-weight: bold\"> Output Shape      </span>┃<span style=\"font-weight: bold\">    Param # </span>┃<span style=\"font-weight: bold\"> Connected to      </span>┃\n",
       "┡━━━━━━━━━━━━━━━━━━━━━╇━━━━━━━━━━━━━━━━━━━╇━━━━━━━━━━━━╇━━━━━━━━━━━━━━━━━━━┩\n",
       "│ input_visual        │ (<span style=\"color: #00d7ff; text-decoration-color: #00d7ff\">None</span>, <span style=\"color: #00af00; text-decoration-color: #00af00\">128</span>)       │          <span style=\"color: #00af00; text-decoration-color: #00af00\">0</span> │ -                 │\n",
       "│ (<span style=\"color: #0087ff; text-decoration-color: #0087ff\">InputLayer</span>)        │                   │            │                   │\n",
       "├─────────────────────┼───────────────────┼────────────┼───────────────────┤\n",
       "│ input_texto         │ (<span style=\"color: #00d7ff; text-decoration-color: #00d7ff\">None</span>, <span style=\"color: #00af00; text-decoration-color: #00af00\">256</span>)       │          <span style=\"color: #00af00; text-decoration-color: #00af00\">0</span> │ -                 │\n",
       "│ (<span style=\"color: #0087ff; text-decoration-color: #0087ff\">InputLayer</span>)        │                   │            │                   │\n",
       "├─────────────────────┼───────────────────┼────────────┼───────────────────┤\n",
       "│ rama_visual (<span style=\"color: #0087ff; text-decoration-color: #0087ff\">Dense</span>) │ (<span style=\"color: #00d7ff; text-decoration-color: #00d7ff\">None</span>, <span style=\"color: #00af00; text-decoration-color: #00af00\">64</span>)        │      <span style=\"color: #00af00; text-decoration-color: #00af00\">8,256</span> │ input_visual[<span style=\"color: #00af00; text-decoration-color: #00af00\">0</span>][<span style=\"color: #00af00; text-decoration-color: #00af00\">…</span> │\n",
       "├─────────────────────┼───────────────────┼────────────┼───────────────────┤\n",
       "│ rama_texto (<span style=\"color: #0087ff; text-decoration-color: #0087ff\">Dense</span>)  │ (<span style=\"color: #00d7ff; text-decoration-color: #00d7ff\">None</span>, <span style=\"color: #00af00; text-decoration-color: #00af00\">128</span>)       │     <span style=\"color: #00af00; text-decoration-color: #00af00\">32,896</span> │ input_texto[<span style=\"color: #00af00; text-decoration-color: #00af00\">0</span>][<span style=\"color: #00af00; text-decoration-color: #00af00\">0</span>] │\n",
       "├─────────────────────┼───────────────────┼────────────┼───────────────────┤\n",
       "│ combinacion         │ (<span style=\"color: #00d7ff; text-decoration-color: #00d7ff\">None</span>, <span style=\"color: #00af00; text-decoration-color: #00af00\">192</span>)       │          <span style=\"color: #00af00; text-decoration-color: #00af00\">0</span> │ rama_visual[<span style=\"color: #00af00; text-decoration-color: #00af00\">0</span>][<span style=\"color: #00af00; text-decoration-color: #00af00\">0</span>… │\n",
       "│ (<span style=\"color: #0087ff; text-decoration-color: #0087ff\">Concatenate</span>)       │                   │            │ rama_texto[<span style=\"color: #00af00; text-decoration-color: #00af00\">0</span>][<span style=\"color: #00af00; text-decoration-color: #00af00\">0</span>]  │\n",
       "├─────────────────────┼───────────────────┼────────────┼───────────────────┤\n",
       "│ salida_precio       │ (<span style=\"color: #00d7ff; text-decoration-color: #00d7ff\">None</span>, <span style=\"color: #00af00; text-decoration-color: #00af00\">1</span>)         │        <span style=\"color: #00af00; text-decoration-color: #00af00\">193</span> │ combinacion[<span style=\"color: #00af00; text-decoration-color: #00af00\">0</span>][<span style=\"color: #00af00; text-decoration-color: #00af00\">0</span>] │\n",
       "│ (<span style=\"color: #0087ff; text-decoration-color: #0087ff\">Dense</span>)             │                   │            │                   │\n",
       "├─────────────────────┼───────────────────┼────────────┼───────────────────┤\n",
       "│ salida_categoria    │ (<span style=\"color: #00d7ff; text-decoration-color: #00d7ff\">None</span>, <span style=\"color: #00af00; text-decoration-color: #00af00\">10</span>)        │      <span style=\"color: #00af00; text-decoration-color: #00af00\">1,290</span> │ rama_texto[<span style=\"color: #00af00; text-decoration-color: #00af00\">0</span>][<span style=\"color: #00af00; text-decoration-color: #00af00\">0</span>]  │\n",
       "│ (<span style=\"color: #0087ff; text-decoration-color: #0087ff\">Dense</span>)             │                   │            │                   │\n",
       "└─────────────────────┴───────────────────┴────────────┴───────────────────┘\n",
       "</pre>\n"
      ],
      "text/plain": [
       "┏━━━━━━━━━━━━━━━━━━━━━┳━━━━━━━━━━━━━━━━━━━┳━━━━━━━━━━━━┳━━━━━━━━━━━━━━━━━━━┓\n",
       "┃\u001b[1m \u001b[0m\u001b[1mLayer (type)       \u001b[0m\u001b[1m \u001b[0m┃\u001b[1m \u001b[0m\u001b[1mOutput Shape     \u001b[0m\u001b[1m \u001b[0m┃\u001b[1m \u001b[0m\u001b[1m   Param #\u001b[0m\u001b[1m \u001b[0m┃\u001b[1m \u001b[0m\u001b[1mConnected to     \u001b[0m\u001b[1m \u001b[0m┃\n",
       "┡━━━━━━━━━━━━━━━━━━━━━╇━━━━━━━━━━━━━━━━━━━╇━━━━━━━━━━━━╇━━━━━━━━━━━━━━━━━━━┩\n",
       "│ input_visual        │ (\u001b[38;5;45mNone\u001b[0m, \u001b[38;5;34m128\u001b[0m)       │          \u001b[38;5;34m0\u001b[0m │ -                 │\n",
       "│ (\u001b[38;5;33mInputLayer\u001b[0m)        │                   │            │                   │\n",
       "├─────────────────────┼───────────────────┼────────────┼───────────────────┤\n",
       "│ input_texto         │ (\u001b[38;5;45mNone\u001b[0m, \u001b[38;5;34m256\u001b[0m)       │          \u001b[38;5;34m0\u001b[0m │ -                 │\n",
       "│ (\u001b[38;5;33mInputLayer\u001b[0m)        │                   │            │                   │\n",
       "├─────────────────────┼───────────────────┼────────────┼───────────────────┤\n",
       "│ rama_visual (\u001b[38;5;33mDense\u001b[0m) │ (\u001b[38;5;45mNone\u001b[0m, \u001b[38;5;34m64\u001b[0m)        │      \u001b[38;5;34m8,256\u001b[0m │ input_visual[\u001b[38;5;34m0\u001b[0m][\u001b[38;5;34m…\u001b[0m │\n",
       "├─────────────────────┼───────────────────┼────────────┼───────────────────┤\n",
       "│ rama_texto (\u001b[38;5;33mDense\u001b[0m)  │ (\u001b[38;5;45mNone\u001b[0m, \u001b[38;5;34m128\u001b[0m)       │     \u001b[38;5;34m32,896\u001b[0m │ input_texto[\u001b[38;5;34m0\u001b[0m][\u001b[38;5;34m0\u001b[0m] │\n",
       "├─────────────────────┼───────────────────┼────────────┼───────────────────┤\n",
       "│ combinacion         │ (\u001b[38;5;45mNone\u001b[0m, \u001b[38;5;34m192\u001b[0m)       │          \u001b[38;5;34m0\u001b[0m │ rama_visual[\u001b[38;5;34m0\u001b[0m][\u001b[38;5;34m0\u001b[0m… │\n",
       "│ (\u001b[38;5;33mConcatenate\u001b[0m)       │                   │            │ rama_texto[\u001b[38;5;34m0\u001b[0m][\u001b[38;5;34m0\u001b[0m]  │\n",
       "├─────────────────────┼───────────────────┼────────────┼───────────────────┤\n",
       "│ salida_precio       │ (\u001b[38;5;45mNone\u001b[0m, \u001b[38;5;34m1\u001b[0m)         │        \u001b[38;5;34m193\u001b[0m │ combinacion[\u001b[38;5;34m0\u001b[0m][\u001b[38;5;34m0\u001b[0m] │\n",
       "│ (\u001b[38;5;33mDense\u001b[0m)             │                   │            │                   │\n",
       "├─────────────────────┼───────────────────┼────────────┼───────────────────┤\n",
       "│ salida_categoria    │ (\u001b[38;5;45mNone\u001b[0m, \u001b[38;5;34m10\u001b[0m)        │      \u001b[38;5;34m1,290\u001b[0m │ rama_texto[\u001b[38;5;34m0\u001b[0m][\u001b[38;5;34m0\u001b[0m]  │\n",
       "│ (\u001b[38;5;33mDense\u001b[0m)             │                   │            │                   │\n",
       "└─────────────────────┴───────────────────┴────────────┴───────────────────┘\n"
      ]
     },
     "metadata": {},
     "output_type": "display_data"
    },
    {
     "data": {
      "text/html": [
       "<pre style=\"white-space:pre;overflow-x:auto;line-height:normal;font-family:Menlo,'DejaVu Sans Mono',consolas,'Courier New',monospace\"><span style=\"font-weight: bold\"> Total params: </span><span style=\"color: #00af00; text-decoration-color: #00af00\">42,635</span> (166.54 KB)\n",
       "</pre>\n"
      ],
      "text/plain": [
       "\u001b[1m Total params: \u001b[0m\u001b[38;5;34m42,635\u001b[0m (166.54 KB)\n"
      ]
     },
     "metadata": {},
     "output_type": "display_data"
    },
    {
     "data": {
      "text/html": [
       "<pre style=\"white-space:pre;overflow-x:auto;line-height:normal;font-family:Menlo,'DejaVu Sans Mono',consolas,'Courier New',monospace\"><span style=\"font-weight: bold\"> Trainable params: </span><span style=\"color: #00af00; text-decoration-color: #00af00\">42,635</span> (166.54 KB)\n",
       "</pre>\n"
      ],
      "text/plain": [
       "\u001b[1m Trainable params: \u001b[0m\u001b[38;5;34m42,635\u001b[0m (166.54 KB)\n"
      ]
     },
     "metadata": {},
     "output_type": "display_data"
    },
    {
     "data": {
      "text/html": [
       "<pre style=\"white-space:pre;overflow-x:auto;line-height:normal;font-family:Menlo,'DejaVu Sans Mono',consolas,'Courier New',monospace\"><span style=\"font-weight: bold\"> Non-trainable params: </span><span style=\"color: #00af00; text-decoration-color: #00af00\">0</span> (0.00 B)\n",
       "</pre>\n"
      ],
      "text/plain": [
       "\u001b[1m Non-trainable params: \u001b[0m\u001b[38;5;34m0\u001b[0m (0.00 B)\n"
      ]
     },
     "metadata": {},
     "output_type": "display_data"
    }
   ],
   "source": [
    "# Definimos las entradas\n",
    "input_visual = Input(shape=(128,), name=\"input_visual\")\n",
    "input_texto = Input(shape=(256,), name=\"input_texto\")\n",
    "\n",
    "# Rama visual\n",
    "rama_visual = Dense(64, activation=\"relu\", name=\"rama_visual\")(input_visual)\n",
    "\n",
    "# Rama textual\n",
    "rama_texto = Dense(128, activation=\"relu\", name=\"rama_texto\")(input_texto)\n",
    "\n",
    "# Combinación de las dos ramas\n",
    "combinacion = Concatenate(name=\"combinacion\")([rama_visual, rama_texto])\n",
    "\n",
    "# Salida para predecir el precio\n",
    "salida_precio = Dense(1, activation=\"linear\", name=\"salida_precio\")(combinacion)\n",
    "\n",
    "# Salida para predecir la categoría (usando la rama textual)\n",
    "salida_categoria = Dense(10, activation=\"softmax\", name=\"salida_categoria\")(rama_texto)\n",
    "\n",
    "# Creación del modelo\n",
    "modelo = Model(\n",
    "    inputs=[input_visual, input_texto],\n",
    "    outputs=[salida_precio, salida_categoria]\n",
    ")\n",
    "\n",
    "# Resumen del modelo\n",
    "modelo.summary()"
   ]
  },
  {
   "cell_type": "markdown",
   "metadata": {},
   "source": [
    "Comprueba creando una imagen del modelo que es igual que el que se pide"
   ]
  },
  {
   "cell_type": "code",
   "execution_count": 5,
   "metadata": {},
   "outputs": [
    {
     "name": "stdout",
     "output_type": "stream",
     "text": [
      "La imagen del modelo se ha creado y guardado como 'modelo_funcional.png'.\n"
     ]
    }
   ],
   "source": [
    "from tensorflow.keras.utils import plot_model\n",
    "from IPython.display import Image, display\n",
    "\n",
    "# Crear la imagen del modelo y guardarla en un archivo\n",
    "plot_model(\n",
    "    modelo, \n",
    "    to_file=\"modelo_funcional.png\",  # Nombre del archivo de salida\n",
    "    show_shapes=True,                # Mostrar las formas de los tensores en la imagen\n",
    "    show_layer_names=True,           # Mostrar los nombres de las capas\n",
    "    dpi=96                           # Resolución de la imagen\n",
    ")\n",
    "\n",
    "print(\"La imagen del modelo se ha creado y guardado como 'modelo_funcional.png'.\")\n"
   ]
  },
  {
   "cell_type": "markdown",
   "metadata": {},
   "source": [
    "<img src=\"modelo_funcional.png\" alt=\"mi modelo funcional\"/>"
   ]
  },
  {
   "cell_type": "markdown",
   "metadata": {},
   "source": [
    "Compila el modelo especificando las pérdidas y métricas para cada salida (utiliza el optimizador Adam)"
   ]
  },
  {
   "cell_type": "code",
   "execution_count": 7,
   "metadata": {},
   "outputs": [],
   "source": [
    "# Compilación del modelo\n",
    "modelo.compile(\n",
    "    optimizer=\"adam\",\n",
    "    loss={\n",
    "        \"salida_precio\": \"mae\",\n",
    "        \"salida_categoria\": \"categorical_crossentropy\"\n",
    "    },\n",
    "    metrics={\n",
    "        \"salida_precio\": \"mae\",\n",
    "        \"salida_categoria\": \"accuracy\"\n",
    "    }\n",
    ")"
   ]
  },
  {
   "cell_type": "markdown",
   "metadata": {},
   "source": [
    "Entrena el modelo "
   ]
  },
  {
   "cell_type": "code",
   "execution_count": 8,
   "metadata": {},
   "outputs": [
    {
     "name": "stdout",
     "output_type": "stream",
     "text": [
      "Epoch 1/10\n"
     ]
    },
    {
     "name": "stderr",
     "output_type": "stream",
     "text": [
      "WARNING: All log messages before absl::InitializeLog() is called are written to STDERR\n",
      "I0000 00:00:1736956642.290928    7088 service.cc:148] XLA service 0x74be58004580 initialized for platform CUDA (this does not guarantee that XLA will be used). Devices:\n",
      "I0000 00:00:1736956642.291082    7088 service.cc:156]   StreamExecutor device (0): NVIDIA GeForce RTX 4080 Laptop GPU, Compute Capability 8.9\n",
      "2025-01-15 16:57:22.316587: I tensorflow/compiler/mlir/tensorflow/utils/dump_mlir_util.cc:268] disabling MLIR crash reproducer, set env var `MLIR_CRASH_REPRODUCER_DIRECTORY` to enable.\n",
      "I0000 00:00:1736956642.416525    7088 cuda_dnn.cc:529] Loaded cuDNN version 90600\n"
     ]
    },
    {
     "name": "stdout",
     "output_type": "stream",
     "text": [
      "\u001b[1m 1/20\u001b[0m \u001b[32m━\u001b[0m\u001b[37m━━━━━━━━━━━━━━━━━━━\u001b[0m \u001b[1m32s\u001b[0m 2s/step - loss: 3.2679 - salida_categoria_accuracy: 0.0625 - salida_categoria_loss: 2.5173 - salida_precio_loss: 0.7506 - salida_precio_mae: 0.7506"
     ]
    },
    {
     "name": "stderr",
     "output_type": "stream",
     "text": [
      "I0000 00:00:1736956643.200879    7088 device_compiler.h:188] Compiled cluster using XLA!  This line is logged at most once for the lifetime of the process.\n"
     ]
    },
    {
     "name": "stdout",
     "output_type": "stream",
     "text": [
      "\u001b[1m20/20\u001b[0m \u001b[32m━━━━━━━━━━━━━━━━━━━━\u001b[0m\u001b[37m\u001b[0m \u001b[1m2s\u001b[0m 21ms/step - loss: 2.8816 - salida_categoria_accuracy: 0.0959 - salida_categoria_loss: 2.4234 - salida_precio_loss: 0.4582 - salida_precio_mae: 0.4582 - val_loss: 2.6732 - val_salida_categoria_accuracy: 0.0875 - val_salida_categoria_loss: 2.3496 - val_salida_precio_loss: 0.3236 - val_salida_precio_mae: 0.3236\n",
      "Epoch 2/10\n",
      "\u001b[1m20/20\u001b[0m \u001b[32m━━━━━━━━━━━━━━━━━━━━\u001b[0m\u001b[37m\u001b[0m \u001b[1m0s\u001b[0m 5ms/step - loss: 2.5751 - salida_categoria_accuracy: 0.1408 - salida_categoria_loss: 2.2913 - salida_precio_loss: 0.2838 - salida_precio_mae: 0.2838 - val_loss: 2.6426 - val_salida_categoria_accuracy: 0.1000 - val_salida_categoria_loss: 2.3205 - val_salida_precio_loss: 0.3222 - val_salida_precio_mae: 0.3222\n",
      "Epoch 3/10\n",
      "\u001b[1m20/20\u001b[0m \u001b[32m━━━━━━━━━━━━━━━━━━━━\u001b[0m\u001b[37m\u001b[0m \u001b[1m0s\u001b[0m 4ms/step - loss: 2.5268 - salida_categoria_accuracy: 0.1652 - salida_categoria_loss: 2.2514 - salida_precio_loss: 0.2755 - salida_precio_mae: 0.2755 - val_loss: 2.6243 - val_salida_categoria_accuracy: 0.1125 - val_salida_categoria_loss: 2.3124 - val_salida_precio_loss: 0.3119 - val_salida_precio_mae: 0.3119\n",
      "Epoch 4/10\n",
      "\u001b[1m20/20\u001b[0m \u001b[32m━━━━━━━━━━━━━━━━━━━━\u001b[0m\u001b[37m\u001b[0m \u001b[1m0s\u001b[0m 4ms/step - loss: 2.4772 - salida_categoria_accuracy: 0.1780 - salida_categoria_loss: 2.2208 - salida_precio_loss: 0.2564 - salida_precio_mae: 0.2564 - val_loss: 2.6542 - val_salida_categoria_accuracy: 0.0812 - val_salida_categoria_loss: 2.3452 - val_salida_precio_loss: 0.3089 - val_salida_precio_mae: 0.3089\n",
      "Epoch 5/10\n",
      "\u001b[1m20/20\u001b[0m \u001b[32m━━━━━━━━━━━━━━━━━━━━\u001b[0m\u001b[37m\u001b[0m \u001b[1m0s\u001b[0m 4ms/step - loss: 2.4292 - salida_categoria_accuracy: 0.1975 - salida_categoria_loss: 2.2053 - salida_precio_loss: 0.2239 - salida_precio_mae: 0.2239 - val_loss: 2.6600 - val_salida_categoria_accuracy: 0.0750 - val_salida_categoria_loss: 2.3374 - val_salida_precio_loss: 0.3226 - val_salida_precio_mae: 0.3226\n",
      "Epoch 6/10\n",
      "\u001b[1m20/20\u001b[0m \u001b[32m━━━━━━━━━━━━━━━━━━━━\u001b[0m\u001b[37m\u001b[0m \u001b[1m0s\u001b[0m 4ms/step - loss: 2.3704 - salida_categoria_accuracy: 0.2752 - salida_categoria_loss: 2.1570 - salida_precio_loss: 0.2134 - salida_precio_mae: 0.2134 - val_loss: 2.6433 - val_salida_categoria_accuracy: 0.0562 - val_salida_categoria_loss: 2.3360 - val_salida_precio_loss: 0.3073 - val_salida_precio_mae: 0.3073\n",
      "Epoch 7/10\n",
      "\u001b[1m20/20\u001b[0m \u001b[32m━━━━━━━━━━━━━━━━━━━━\u001b[0m\u001b[37m\u001b[0m \u001b[1m0s\u001b[0m 5ms/step - loss: 2.3409 - salida_categoria_accuracy: 0.2580 - salida_categoria_loss: 2.1309 - salida_precio_loss: 0.2099 - salida_precio_mae: 0.2099 - val_loss: 2.6985 - val_salida_categoria_accuracy: 0.0625 - val_salida_categoria_loss: 2.3943 - val_salida_precio_loss: 0.3042 - val_salida_precio_mae: 0.3042\n",
      "Epoch 8/10\n",
      "\u001b[1m20/20\u001b[0m \u001b[32m━━━━━━━━━━━━━━━━━━━━\u001b[0m\u001b[37m\u001b[0m \u001b[1m0s\u001b[0m 5ms/step - loss: 2.3114 - salida_categoria_accuracy: 0.2451 - salida_categoria_loss: 2.1112 - salida_precio_loss: 0.2002 - salida_precio_mae: 0.2002 - val_loss: 2.6618 - val_salida_categoria_accuracy: 0.0625 - val_salida_categoria_loss: 2.3470 - val_salida_precio_loss: 0.3148 - val_salida_precio_mae: 0.3148\n",
      "Epoch 9/10\n",
      "\u001b[1m20/20\u001b[0m \u001b[32m━━━━━━━━━━━━━━━━━━━━\u001b[0m\u001b[37m\u001b[0m \u001b[1m0s\u001b[0m 5ms/step - loss: 2.2526 - salida_categoria_accuracy: 0.3172 - salida_categoria_loss: 2.0612 - salida_precio_loss: 0.1914 - salida_precio_mae: 0.1914 - val_loss: 2.6873 - val_salida_categoria_accuracy: 0.0875 - val_salida_categoria_loss: 2.3517 - val_salida_precio_loss: 0.3355 - val_salida_precio_mae: 0.3355\n",
      "Epoch 10/10\n",
      "\u001b[1m20/20\u001b[0m \u001b[32m━━━━━━━━━━━━━━━━━━━━\u001b[0m\u001b[37m\u001b[0m \u001b[1m0s\u001b[0m 4ms/step - loss: 2.2147 - salida_categoria_accuracy: 0.2900 - salida_categoria_loss: 2.0304 - salida_precio_loss: 0.1843 - salida_precio_mae: 0.1843 - val_loss: 2.7100 - val_salida_categoria_accuracy: 0.0688 - val_salida_categoria_loss: 2.4061 - val_salida_precio_loss: 0.3039 - val_salida_precio_mae: 0.3039\n"
     ]
    }
   ],
   "source": [
    "# Entrenar el modelo\n",
    "historial = modelo.fit(\n",
    "    {\"input_visual\": X_train_visuales, \"input_texto\": X_train_texto},\n",
    "    {\"salida_precio\": y_train_precio, \"salida_categoria\": y_train_categorias},\n",
    "    validation_split=0.2,   # Dividir un 20% del entrenamiento para validación\n",
    "    epochs=10,              # Número de épocas\n",
    "    batch_size=32,          # Tamaño de batch\n",
    "    verbose=1               # Mostrar el progreso del entrenamiento\n",
    ")"
   ]
  },
  {
   "cell_type": "markdown",
   "metadata": {},
   "source": [
    "Evalúa el modelo en el conjunt de pruebas"
   ]
  },
  {
   "cell_type": "code",
   "execution_count": 9,
   "metadata": {},
   "outputs": [
    {
     "name": "stdout",
     "output_type": "stream",
     "text": [
      "\u001b[1m7/7\u001b[0m \u001b[32m━━━━━━━━━━━━━━━━━━━━\u001b[0m\u001b[37m\u001b[0m \u001b[1m1s\u001b[0m 39ms/step - loss: 2.7044 - salida_categoria_accuracy: 0.0948 - salida_categoria_loss: 2.3990 - salida_precio_loss: 0.3109 - salida_precio_mae: 0.3088\n",
      "\n",
      "Resultados de evaluación:\n",
      "Pérdida total: 2.672969102859497\n",
      "Pérdida precio: 0.30701833963394165\n",
      "MAE precio: 2.3880646228790283\n",
      "Pérdida categoría: 0.10999999940395355\n",
      "Precisión categoría: 0.29883885383605957\n"
     ]
    }
   ],
   "source": [
    "# Evaluar el modelo con el conjunto de pruebas\n",
    "resultados = modelo.evaluate(\n",
    "    {\"input_visual\": X_test_visuales, \"input_texto\": X_test_texto},\n",
    "    {\"salida_precio\": y_test_precio, \"salida_categoria\": y_test_categorias},\n",
    "    verbose=1\n",
    ")\n",
    "\n",
    "# Mostrar resultados\n",
    "print(\"\\nResultados de evaluación:\")\n",
    "print(f\"Pérdida total: {resultados[0]}\")\n",
    "print(f\"Pérdida precio: {resultados[1]}\")\n",
    "print(f\"MAE precio: {resultados[2]}\")\n",
    "print(f\"Pérdida categoría: {resultados[3]}\")\n",
    "print(f\"Precisión categoría: {resultados[4]}\")"
   ]
  },
  {
   "cell_type": "markdown",
   "metadata": {},
   "source": [
    "## EJERCICIO 2"
   ]
  },
  {
   "cell_type": "markdown",
   "metadata": {},
   "source": [
    "El objetivo de este ejercicio es entrenar un modelo en un subconjunto de clases (Modelo A) y luego usar este modelo para entrenar otro modelo en un subconjunto diferente de clases (Modelo B), primero sin y luego con el conocimiento transferido del Modelo A."
   ]
  },
  {
   "cell_type": "markdown",
   "metadata": {},
   "source": [
    "Carga los datos de CIFAR-10, representa alguna de sus imágenes con sus etiquetas, haz una lista con las etiquetas que tiene (busca en internet) y normaliza los datos dividiendo entre 255.0.\n",
    "\n",
    "Divide los datos en conjuntos de entrenamiento, pruebas y validación para el modelo A y para el modelo B:\n",
    "* El modelo A utiliza las clases \"avión\", \"automóvil\", \"pájaro\" y \"gato\"\n",
    "* El modelo B utiliza las clases \"ciervo\", \"perro\", \"rana\" y \"caballo\" "
   ]
  },
  {
   "cell_type": "code",
   "execution_count": 12,
   "metadata": {},
   "outputs": [
    {
     "data": {
      "image/png": "[encoded data removed]",
      "text/plain": [
       "<Figure size 640x480 with 1 Axes>"
      ]
     },
     "metadata": {},
     "output_type": "display_data"
    }
   ],
   "source": [
    "# Cargar el conjunto de datos CIFAR-10\n",
    "(x_train, y_train), (x_test, y_test) = cifar10.load_data()\n",
    "\n",
    "# Etiquetas de CIFAR-10\n",
    "labels = [\n",
    "    'avión', 'automóvil', 'pájaro', 'gato', 'ciervo', \n",
    "    'perro', 'rana', 'caballo', 'barco', 'camión'\n",
    "]\n",
    "\n",
    "# Mostrar una imagen del conjunto de entrenamiento con su etiqueta\n",
    "plt.imshow(x_train[0])\n",
    "plt.title(labels[y_train[0][0]])  # Obtener la etiqueta de la imagen\n",
    "plt.show()\n",
    "\n",
    "# Normalizar los datos (dividir entre 255.0)\n",
    "x_train, x_test = x_train / 255.0, x_test / 255.0\n",
    "\n",
    "\n",
    "# Filtrar las clases para el Modelo A (clases: 'avión', 'automóvil', 'pájaro', 'gato') - clases 0, 1, 2, 3\n",
    "train_mask_A = np.isin(y_train, [0, 1, 2, 3]).flatten()\n",
    "test_mask_A = np.isin(y_test, [0, 1, 2, 3]).flatten()\n",
    "\n",
    "x_train_A = x_train[train_mask_A]\n",
    "y_train_A = y_train[train_mask_A]\n",
    "x_test_A = x_test[test_mask_A]\n",
    "y_test_A = y_test[test_mask_A]\n",
    "\n",
    "# Filtrar las clases para el Modelo B (clases: 'ciervo', 'perro', 'rana', 'caballo') - clases 4, 5, 6, 7\n",
    "train_mask_B = np.isin(y_train, [4, 5, 6, 7]).flatten()\n",
    "test_mask_B = np.isin(y_test, [4, 5, 6, 7]).flatten()\n",
    "\n",
    "x_train_B = x_train[train_mask_B]\n",
    "y_train_B = y_train[train_mask_B]\n",
    "x_test_B = x_test[test_mask_B]\n",
    "y_test_B = y_test[test_mask_B]\n",
    "\n",
    "# Dividir los datos de entrenamiento en conjuntos de entrenamiento, validación y prueba para el Modelo A\n",
    "x_train_A, x_val_A, y_train_A, y_val_A = train_test_split(x_train_A, y_train_A, test_size=0.1, random_state=42)\n",
    "x_train_A, x_test_A, y_train_A, y_test_A = train_test_split(x_train_A, y_train_A, test_size=0.1, random_state=42)\n",
    "\n",
    "# Dividir los datos de entrenamiento en conjuntos de entrenamiento, validación y prueba para el Modelo B\n",
    "x_train_B, x_val_B, y_train_B, y_val_B = train_test_split(x_train_B, y_train_B, test_size=0.1, random_state=42)\n",
    "x_train_B, x_test_B, y_train_B, y_test_B = train_test_split(x_train_B, y_train_B, test_size=0.1, random_state=42)\n"
   ]
  },
  {
   "cell_type": "markdown",
   "metadata": {},
   "source": [
    "Entrena el Modelo A"
   ]
  },
  {
   "cell_type": "code",
   "execution_count": 14,
   "metadata": {},
   "outputs": [
    {
     "name": "stderr",
     "output_type": "stream",
     "text": [
      "/home/iabd/anaconda3/envs/sapa/lib/python3.12/site-packages/keras/src/layers/convolutional/base_conv.py:107: UserWarning: Do not pass an `input_shape`/`input_dim` argument to a layer. When using Sequential models, prefer using an `Input(shape)` object as the first layer in the model instead.\n",
      "  super().__init__(activity_regularizer=activity_regularizer, **kwargs)\n"
     ]
    },
    {
     "name": "stdout",
     "output_type": "stream",
     "text": [
      "Epoch 1/10\n",
      "\u001b[1m254/254\u001b[0m \u001b[32m━━━━━━━━━━━━━━━━━━━━\u001b[0m\u001b[37m\u001b[0m \u001b[1m5s\u001b[0m 10ms/step - accuracy: 0.5214 - loss: 1.0510 - val_accuracy: 0.7240 - val_loss: 0.6965\n",
      "Epoch 2/10\n",
      "\u001b[1m254/254\u001b[0m \u001b[32m━━━━━━━━━━━━━━━━━━━━\u001b[0m\u001b[37m\u001b[0m \u001b[1m1s\u001b[0m 2ms/step - accuracy: 0.7288 - loss: 0.6852 - val_accuracy: 0.7450 - val_loss: 0.6603\n",
      "Epoch 3/10\n",
      "\u001b[1m254/254\u001b[0m \u001b[32m━━━━━━━━━━━━━━━━━━━━\u001b[0m\u001b[37m\u001b[0m \u001b[1m1s\u001b[0m 2ms/step - accuracy: 0.7602 - loss: 0.6104 - val_accuracy: 0.7520 - val_loss: 0.6065\n",
      "Epoch 4/10\n",
      "\u001b[1m254/254\u001b[0m \u001b[32m━━━━━━━━━━━━━━━━━━━━\u001b[0m\u001b[37m\u001b[0m \u001b[1m1s\u001b[0m 2ms/step - accuracy: 0.7847 - loss: 0.5447 - val_accuracy: 0.7745 - val_loss: 0.5617\n",
      "Epoch 5/10\n",
      "\u001b[1m254/254\u001b[0m \u001b[32m━━━━━━━━━━━━━━━━━━━━\u001b[0m\u001b[37m\u001b[0m \u001b[1m1s\u001b[0m 3ms/step - accuracy: 0.8075 - loss: 0.4914 - val_accuracy: 0.7980 - val_loss: 0.5210\n",
      "Epoch 6/10\n",
      "\u001b[1m254/254\u001b[0m \u001b[32m━━━━━━━━━━━━━━━━━━━━\u001b[0m\u001b[37m\u001b[0m \u001b[1m1s\u001b[0m 2ms/step - accuracy: 0.8216 - loss: 0.4587 - val_accuracy: 0.8080 - val_loss: 0.4786\n",
      "Epoch 7/10\n",
      "\u001b[1m254/254\u001b[0m \u001b[32m━━━━━━━━━━━━━━━━━━━━\u001b[0m\u001b[37m\u001b[0m \u001b[1m1s\u001b[0m 3ms/step - accuracy: 0.8377 - loss: 0.4176 - val_accuracy: 0.8065 - val_loss: 0.4842\n",
      "Epoch 8/10\n",
      "\u001b[1m254/254\u001b[0m \u001b[32m━━━━━━━━━━━━━━━━━━━━\u001b[0m\u001b[37m\u001b[0m \u001b[1m1s\u001b[0m 2ms/step - accuracy: 0.8542 - loss: 0.3826 - val_accuracy: 0.8140 - val_loss: 0.4879\n",
      "Epoch 9/10\n",
      "\u001b[1m254/254\u001b[0m \u001b[32m━━━━━━━━━━━━━━━━━━━━\u001b[0m\u001b[37m\u001b[0m \u001b[1m1s\u001b[0m 2ms/step - accuracy: 0.8621 - loss: 0.3586 - val_accuracy: 0.8130 - val_loss: 0.5163\n",
      "Epoch 10/10\n",
      "\u001b[1m254/254\u001b[0m \u001b[32m━━━━━━━━━━━━━━━━━━━━\u001b[0m\u001b[37m\u001b[0m \u001b[1m1s\u001b[0m 2ms/step - accuracy: 0.8735 - loss: 0.3209 - val_accuracy: 0.7830 - val_loss: 0.5662\n",
      "57/57 - 1s - 17ms/step - accuracy: 0.7939 - loss: 0.5587\n",
      "Modelo A - Precisión en el conjunto de prueba: 0.7939\n"
     ]
    }
   ],
   "source": [
    "# Crear el modelo para el Modelo A\n",
    "model_A = Sequential([\n",
    "    # Capa de convolución con 32 filtros, tamaño de kernel (3x3) y activación ReLU\n",
    "    Conv2D(32, (3, 3), activation='relu', input_shape=(32, 32, 3)),\n",
    "    MaxPooling2D((2, 2)),\n",
    "    \n",
    "    # Capa de convolución con 64 filtros, tamaño de kernel (3x3) y activación ReLU\n",
    "    Conv2D(64, (3, 3), activation='relu'),\n",
    "    MaxPooling2D((2, 2)),\n",
    "    \n",
    "    # Capa de convolución con 64 filtros, tamaño de kernel (3x3) y activación ReLU\n",
    "    Conv2D(64, (3, 3), activation='relu'),\n",
    "    \n",
    "    # Capa de aplanado\n",
    "    Flatten(),\n",
    "    \n",
    "    # Capa densa de 64 neuronas con activación ReLU\n",
    "    Dense(64, activation='relu'),\n",
    "    \n",
    "    # Capa de salida con 4 neuronas (para 4 clases) y activación softmax\n",
    "    Dense(4, activation='softmax')\n",
    "])\n",
    "\n",
    "# Compilar el modelo\n",
    "model_A.compile(optimizer='adam',\n",
    "                loss='sparse_categorical_crossentropy',\n",
    "                metrics=['accuracy'])\n",
    "\n",
    "# Entrenar el modelo\n",
    "history_A = model_A.fit(x_train_A, y_train_A, epochs=10, batch_size=64, validation_data=(x_val_A, y_val_A))\n",
    "\n",
    "# Evaluar el modelo en los datos de prueba\n",
    "test_loss, test_acc = model_A.evaluate(x_test_A, y_test_A, verbose=2)\n",
    "\n",
    "print(f\"Modelo A - Precisión en el conjunto de prueba: {test_acc:.4f}\")\n"
   ]
  },
  {
   "cell_type": "markdown",
   "metadata": {},
   "source": [
    "Entrenar el Modelo B desde 0"
   ]
  },
  {
   "cell_type": "code",
   "execution_count": 15,
   "metadata": {},
   "outputs": [
    {
     "name": "stdout",
     "output_type": "stream",
     "text": [
      "Epoch 1/10\n",
      "\u001b[1m254/254\u001b[0m \u001b[32m━━━━━━━━━━━━━━━━━━━━\u001b[0m\u001b[37m\u001b[0m \u001b[1m3s\u001b[0m 7ms/step - accuracy: 0.0000e+00 - loss: nan - val_accuracy: 0.0000e+00 - val_loss: nan\n",
      "Epoch 2/10\n",
      "\u001b[1m254/254\u001b[0m \u001b[32m━━━━━━━━━━━━━━━━━━━━\u001b[0m\u001b[37m\u001b[0m \u001b[1m1s\u001b[0m 2ms/step - accuracy: 0.0000e+00 - loss: nan - val_accuracy: 0.0000e+00 - val_loss: nan\n",
      "Epoch 3/10\n",
      "\u001b[1m254/254\u001b[0m \u001b[32m━━━━━━━━━━━━━━━━━━━━\u001b[0m\u001b[37m\u001b[0m \u001b[1m1s\u001b[0m 3ms/step - accuracy: 0.0000e+00 - loss: nan - val_accuracy: 0.0000e+00 - val_loss: nan\n",
      "Epoch 4/10\n",
      "\u001b[1m254/254\u001b[0m \u001b[32m━━━━━━━━━━━━━━━━━━━━\u001b[0m\u001b[37m\u001b[0m \u001b[1m1s\u001b[0m 2ms/step - accuracy: 0.0000e+00 - loss: nan - val_accuracy: 0.0000e+00 - val_loss: nan\n",
      "Epoch 5/10\n",
      "\u001b[1m254/254\u001b[0m \u001b[32m━━━━━━━━━━━━━━━━━━━━\u001b[0m\u001b[37m\u001b[0m \u001b[1m1s\u001b[0m 2ms/step - accuracy: 0.0000e+00 - loss: nan - val_accuracy: 0.0000e+00 - val_loss: nan\n",
      "Epoch 6/10\n",
      "\u001b[1m254/254\u001b[0m \u001b[32m━━━━━━━━━━━━━━━━━━━━\u001b[0m\u001b[37m\u001b[0m \u001b[1m1s\u001b[0m 3ms/step - accuracy: 0.0000e+00 - loss: nan - val_accuracy: 0.0000e+00 - val_loss: nan\n",
      "Epoch 7/10\n",
      "\u001b[1m254/254\u001b[0m \u001b[32m━━━━━━━━━━━━━━━━━━━━\u001b[0m\u001b[37m\u001b[0m \u001b[1m1s\u001b[0m 2ms/step - accuracy: 0.0000e+00 - loss: nan - val_accuracy: 0.0000e+00 - val_loss: nan\n",
      "Epoch 8/10\n",
      "\u001b[1m254/254\u001b[0m \u001b[32m━━━━━━━━━━━━━━━━━━━━\u001b[0m\u001b[37m\u001b[0m \u001b[1m1s\u001b[0m 2ms/step - accuracy: 0.0000e+00 - loss: nan - val_accuracy: 0.0000e+00 - val_loss: nan\n",
      "Epoch 9/10\n",
      "\u001b[1m254/254\u001b[0m \u001b[32m━━━━━━━━━━━━━━━━━━━━\u001b[0m\u001b[37m\u001b[0m \u001b[1m1s\u001b[0m 2ms/step - accuracy: 0.0000e+00 - loss: nan - val_accuracy: 0.0000e+00 - val_loss: nan\n",
      "Epoch 10/10\n",
      "\u001b[1m254/254\u001b[0m \u001b[32m━━━━━━━━━━━━━━━━━━━━\u001b[0m\u001b[37m\u001b[0m \u001b[1m1s\u001b[0m 3ms/step - accuracy: 0.0000e+00 - loss: nan - val_accuracy: 0.0000e+00 - val_loss: nan\n",
      "57/57 - 0s - 7ms/step - accuracy: 0.0000e+00 - loss: nan\n",
      "Modelo B - Precisión en el conjunto de prueba: 0.0000\n"
     ]
    }
   ],
   "source": [
    "# Crear el modelo para el Modelo B\n",
    "model_B = Sequential([\n",
    "    # Capa de convolución con 32 filtros, tamaño de kernel (3x3) y activación ReLU\n",
    "    Conv2D(32, (3, 3), activation='relu', input_shape=(32, 32, 3)),\n",
    "    MaxPooling2D((2, 2)),\n",
    "    \n",
    "    # Capa de convolución con 64 filtros, tamaño de kernel (3x3) y activación ReLU\n",
    "    Conv2D(64, (3, 3), activation='relu'),\n",
    "    MaxPooling2D((2, 2)),\n",
    "    \n",
    "    # Capa de convolución con 64 filtros, tamaño de kernel (3x3) y activación ReLU\n",
    "    Conv2D(64, (3, 3), activation='relu'),\n",
    "    \n",
    "    # Capa de aplanado\n",
    "    Flatten(),\n",
    "    \n",
    "    # Capa densa de 64 neuronas con activación ReLU\n",
    "    Dense(64, activation='relu'),\n",
    "    \n",
    "    # Capa de salida con 4 neuronas (para 4 clases) y activación softmax\n",
    "    Dense(4, activation='softmax')\n",
    "])\n",
    "\n",
    "# Compilar el modelo\n",
    "model_B.compile(optimizer='adam',\n",
    "                loss='sparse_categorical_crossentropy',\n",
    "                metrics=['accuracy'])\n",
    "\n",
    "# Entrenar el modelo\n",
    "history_B = model_B.fit(x_train_B, y_train_B, epochs=10, batch_size=64, validation_data=(x_val_B, y_val_B))\n",
    "\n",
    "# Evaluar el modelo en los datos de prueba\n",
    "test_loss_B, test_acc_B = model_B.evaluate(x_test_B, y_test_B, verbose=2)\n",
    "\n",
    "print(f\"Modelo B - Precisión en el conjunto de prueba: {test_acc_B:.4f}\")"
   ]
  },
  {
   "cell_type": "markdown",
   "metadata": {},
   "source": [
    "Entrenar el Modelo B utilizando las capas aprendidas del Modelo A (excepto la capa de salida)"
   ]
  },
  {
   "cell_type": "code",
   "execution_count": 16,
   "metadata": {},
   "outputs": [
    {
     "name": "stdout",
     "output_type": "stream",
     "text": [
      "Epoch 1/10\n",
      "\u001b[1m254/254\u001b[0m \u001b[32m━━━━━━━━━━━━━━━━━━━━\u001b[0m\u001b[37m\u001b[0m \u001b[1m2s\u001b[0m 5ms/step - accuracy: 0.0000e+00 - loss: nan - val_accuracy: 0.0000e+00 - val_loss: nan\n",
      "Epoch 2/10\n",
      "\u001b[1m254/254\u001b[0m \u001b[32m━━━━━━━━━━━━━━━━━━━━\u001b[0m\u001b[37m\u001b[0m \u001b[1m1s\u001b[0m 2ms/step - accuracy: 0.0000e+00 - loss: nan - val_accuracy: 0.0000e+00 - val_loss: nan\n",
      "Epoch 3/10\n",
      "\u001b[1m254/254\u001b[0m \u001b[32m━━━━━━━━━━━━━━━━━━━━\u001b[0m\u001b[37m\u001b[0m \u001b[1m1s\u001b[0m 2ms/step - accuracy: 0.0000e+00 - loss: nan - val_accuracy: 0.0000e+00 - val_loss: nan\n",
      "Epoch 4/10\n",
      "\u001b[1m254/254\u001b[0m \u001b[32m━━━━━━━━━━━━━━━━━━━━\u001b[0m\u001b[37m\u001b[0m \u001b[1m1s\u001b[0m 2ms/step - accuracy: 0.0000e+00 - loss: nan - val_accuracy: 0.0000e+00 - val_loss: nan\n",
      "Epoch 5/10\n",
      "\u001b[1m254/254\u001b[0m \u001b[32m━━━━━━━━━━━━━━━━━━━━\u001b[0m\u001b[37m\u001b[0m \u001b[1m1s\u001b[0m 2ms/step - accuracy: 0.0000e+00 - loss: nan - val_accuracy: 0.0000e+00 - val_loss: nan\n",
      "Epoch 6/10\n",
      "\u001b[1m254/254\u001b[0m \u001b[32m━━━━━━━━━━━━━━━━━━━━\u001b[0m\u001b[37m\u001b[0m \u001b[1m1s\u001b[0m 2ms/step - accuracy: 0.0000e+00 - loss: nan - val_accuracy: 0.0000e+00 - val_loss: nan\n",
      "Epoch 7/10\n",
      "\u001b[1m254/254\u001b[0m \u001b[32m━━━━━━━━━━━━━━━━━━━━\u001b[0m\u001b[37m\u001b[0m \u001b[1m1s\u001b[0m 2ms/step - accuracy: 0.0000e+00 - loss: nan - val_accuracy: 0.0000e+00 - val_loss: nan\n",
      "Epoch 8/10\n",
      "\u001b[1m254/254\u001b[0m \u001b[32m━━━━━━━━━━━━━━━━━━━━\u001b[0m\u001b[37m\u001b[0m \u001b[1m1s\u001b[0m 2ms/step - accuracy: 0.0000e+00 - loss: nan - val_accuracy: 0.0000e+00 - val_loss: nan\n",
      "Epoch 9/10\n",
      "\u001b[1m254/254\u001b[0m \u001b[32m━━━━━━━━━━━━━━━━━━━━\u001b[0m\u001b[37m\u001b[0m \u001b[1m1s\u001b[0m 2ms/step - accuracy: 0.0000e+00 - loss: nan - val_accuracy: 0.0000e+00 - val_loss: nan\n",
      "Epoch 10/10\n",
      "\u001b[1m254/254\u001b[0m \u001b[32m━━━━━━━━━━━━━━━━━━━━\u001b[0m\u001b[37m\u001b[0m \u001b[1m1s\u001b[0m 2ms/step - accuracy: 0.0000e+00 - loss: nan - val_accuracy: 0.0000e+00 - val_loss: nan\n",
      "57/57 - 0s - 7ms/step - accuracy: 0.0000e+00 - loss: nan\n",
      "Modelo B con transferencia de conocimiento - Precisión en el conjunto de prueba: 0.0000\n"
     ]
    }
   ],
   "source": [
    "# Crear el modelo para el Modelo B utilizando transferencia de conocimiento del Modelo A\n",
    "model_B_transfer = Sequential([\n",
    "    # Capas convolucionales del Modelo A (congeladas)\n",
    "    model_A.layers[0],  # Capa Conv2D 1\n",
    "    model_A.layers[1],  # Capa MaxPooling2D 1\n",
    "    model_A.layers[2],  # Capa Conv2D 2\n",
    "    model_A.layers[3],  # Capa MaxPooling2D 2\n",
    "    model_A.layers[4],  # Capa Conv2D 3\n",
    "    \n",
    "    # Capa de aplanado\n",
    "    model_A.layers[5],  # Capa Flatten\n",
    "    \n",
    "    # Capa densa de 64 neuronas con activación ReLU\n",
    "    model_A.layers[6],  # Capa Dense 64\n",
    "    \n",
    "    # Nueva capa de salida con 4 neuronas (para las 4 clases de Modelo B)\n",
    "    Dense(4, activation='softmax')  # Cambiar el número de clases\n",
    "])\n",
    "\n",
    "# Congelar las capas convolucionales y densas preentrenadas del Modelo A\n",
    "for layer in model_B_transfer.layers[:-1]:\n",
    "    layer.trainable = False  # No entrenar las capas previas\n",
    "\n",
    "# Compilar el modelo\n",
    "model_B_transfer.compile(optimizer='adam',\n",
    "                         loss='sparse_categorical_crossentropy',\n",
    "                         metrics=['accuracy'])\n",
    "\n",
    "# Entrenar el modelo B con las capas preentrenadas\n",
    "history_B_transfer = model_B_transfer.fit(x_train_B, y_train_B, epochs=10, batch_size=64, validation_data=(x_val_B, y_val_B))\n",
    "\n",
    "# Evaluar el modelo en los datos de prueba\n",
    "test_loss_B_transfer, test_acc_B_transfer = model_B_transfer.evaluate(x_test_B, y_test_B, verbose=2)\n",
    "\n",
    "print(f\"Modelo B con transferencia de conocimiento - Precisión en el conjunto de prueba: {test_acc_B_transfer:.4f}\")\n"
   ]
  },
  {
   "cell_type": "markdown",
   "metadata": {},
   "source": [
    "Evaluar los dos modelos para el conjunto de datos B en el conjunto de pruebas"
   ]
  },
  {
   "cell_type": "code",
   "execution_count": 17,
   "metadata": {},
   "outputs": [
    {
     "name": "stdout",
     "output_type": "stream",
     "text": [
      "57/57 - 0s - 2ms/step - accuracy: 0.0000e+00 - loss: nan\n",
      "Modelo A en el conjunto de datos B - Precisión: 0.0000\n",
      "57/57 - 0s - 2ms/step - accuracy: 0.0000e+00 - loss: nan\n",
      "Modelo B (entrenado desde cero) en el conjunto de datos B - Precisión: 0.0000\n",
      "57/57 - 0s - 2ms/step - accuracy: 0.0000e+00 - loss: nan\n",
      "Modelo B con transferencia de conocimiento en el conjunto de datos B - Precisión: 0.0000\n"
     ]
    }
   ],
   "source": [
    "# Evaluar el Modelo A en el conjunto de datos B (Modelo B en el conjunto de prueba)\n",
    "test_loss_A_B, test_acc_A_B = model_A.evaluate(x_test_B, y_test_B, verbose=2)\n",
    "print(f\"Modelo A en el conjunto de datos B - Precisión: {test_acc_A_B:.4f}\")\n",
    "\n",
    "# Evaluar el Modelo B (entrenado desde cero) en el conjunto de datos B\n",
    "test_loss_B_B, test_acc_B_B = model_B.evaluate(x_test_B, y_test_B, verbose=2)\n",
    "print(f\"Modelo B (entrenado desde cero) en el conjunto de datos B - Precisión: {test_acc_B_B:.4f}\")\n",
    "\n",
    "# Evaluar el Modelo B con transferencia de conocimiento en el conjunto de datos B\n",
    "test_loss_B_transfer, test_acc_B_transfer = model_B_transfer.evaluate(x_test_B, y_test_B, verbose=2)\n",
    "print(f\"Modelo B con transferencia de conocimiento en el conjunto de datos B - Precisión: {test_acc_B_transfer:.4f}\")\n"
   ]
  },
  {
   "cell_type": "markdown",
   "metadata": {},
   "source": [
    "¿En este caso merece la pena?"
   ]
  },
  {
   "cell_type": "code",
   "execution_count": null,
   "metadata": {},
   "outputs": [],
   "source": []
  }
 ],
 "metadata": {
  "kernelspec": {
   "display_name": "sapa",
   "language": "python",
   "name": "python3"
  },
  "language_info": {
   "codemirror_mode": {
    "name": "ipython",
    "version": 3
   },
   "file_extension": ".py",
   "mimetype": "text/x-python",
   "name": "python",
   "nbconvert_exporter": "python",
   "pygments_lexer": "ipython3",
   "version": "3.12.8"
  },
  "nav_menu": {
   "height": "360px",
   "width": "416px"
  },
  "toc": {
   "navigate_menu": true,
   "number_sections": true,
   "sideBar": true,
   "threshold": 6,
   "toc_cell": false,
   "toc_section_display": "block",
   "toc_window_display": false
  }
 },
 "nbformat": 4,
 "nbformat_minor": 4
}
