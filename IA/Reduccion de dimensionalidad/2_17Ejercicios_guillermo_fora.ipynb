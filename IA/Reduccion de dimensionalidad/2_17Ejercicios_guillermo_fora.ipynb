{
 "cells": [
  {
   "cell_type": "markdown",
   "metadata": {
    "tags": []
   },
   "source": [
    "# EJERCICIOS"
   ]
  },
  {
   "cell_type": "code",
   "execution_count": 24,
   "metadata": {},
   "outputs": [],
   "source": [
    "import numpy as np\n",
    "from sklearn.datasets import fetch_openml\n",
    "from sklearn.ensemble import RandomForestClassifier\n",
    "from sklearn.metrics import accuracy_score\n",
    "from sklearn.decomposition import PCA\n",
    "from sklearn.linear_model import SGDClassifier\n",
    "from matplotlib import pyplot as plt\n",
    "from sklearn.manifold import LocallyLinearEmbedding, MDS, TSNE\n",
    "from sklearn.pipeline import make_pipeline\n",
    "from sklearn.model_selection import train_test_split\n",
    "from sklearn.preprocessing import StandardScaler"
   ]
  },
  {
   "cell_type": "markdown",
   "metadata": {},
   "source": [
    "## EJERCICIO 1"
   ]
  },
  {
   "cell_type": "markdown",
   "metadata": {},
   "source": [
    "Carga el conjunto de datos MNIST y divídelo en un conjunto de entrenamiento y un conjunto de prueba (coge las 60.000 primeras instancias para el entrenamiento y las 10.000 restantes para la prueba). \n",
    "Entrena un clasificador random forest en el conjunto de datos y cronometra cuánto tarda (puedes usar la anotación %time de jupyter notebook); luego, evalúa el modelo resultante en el conjunto de prueba. \n",
    "\n",
    "A continuación, utiliza PCA para reducir la dimensionalidad del conjunto de datos, con un ratio de varianza explicada del 95%. Entrena un nuevo clasificador random forest en el conjunto de datos reducido y comprueba cuánto tarda. ¿Ha sido el entrenamiento mucho más rápido? A continuación, evalúa el clasificador en el conjunto de prueba. ¿Qué tal lo hace en comparación con el clasificador anterior? \n",
    "\n",
    "Prueba otra vez con un SGDClassifier, ¿cuánto ayuda ahora el PCA?"
   ]
  },
  {
   "cell_type": "markdown",
   "metadata": {},
   "source": [
    "### RANDOM FOREST"
   ]
  },
  {
   "cell_type": "code",
   "execution_count": 25,
   "metadata": {},
   "outputs": [],
   "source": [
    "mnist = fetch_openml('mnist_784', as_frame=False, parser=\"auto\" )\n",
    "X, y = mnist.data, mnist.target"
   ]
  },
  {
   "cell_type": "code",
   "execution_count": 26,
   "metadata": {},
   "outputs": [],
   "source": [
    "X_train, X_test, y_train, y_test = train_test_split(X, y, train_size=60000, stratify=y, random_state=42)"
   ]
  },
  {
   "cell_type": "code",
   "execution_count": 27,
   "metadata": {},
   "outputs": [],
   "source": [
    "scaler=StandardScaler()\n",
    "X_train_scaler=scaler.fit_transform(X_train)\n",
    "x_test_scaler=scaler.transform(X_test)"
   ]
  },
  {
   "cell_type": "code",
   "execution_count": 28,
   "metadata": {},
   "outputs": [
    {
     "name": "stdout",
     "output_type": "stream",
     "text": [
      "CPU times: user 34.6 s, sys: 20.2 ms, total: 34.7 s\n",
      "Wall time: 34.7 s\n",
      "Exactitud en el conjunto de entrenamiento: 0.9684\n",
      "\n"
     ]
    }
   ],
   "source": [
    "rnd_cl= RandomForestClassifier(random_state=42)\n",
    "%time rnd_cl.fit(X_train_scaler,y_train)\n",
    "\n",
    "accuracy = accuracy_score(y_test, rnd_cl.predict(x_test_scaler))\n",
    "print(f\"Exactitud en el conjunto de entrenamiento: {accuracy:.4f}\\n\")   "
   ]
  },
  {
   "cell_type": "code",
   "execution_count": 29,
   "metadata": {},
   "outputs": [
    {
     "name": "stdout",
     "output_type": "stream",
     "text": [
      "Número de dimensiones seleccionadas por PCA: 332\n"
     ]
    }
   ],
   "source": [
    "pca = PCA(n_components=0.95)\n",
    "X_train_pca = pca.fit_transform(X_train_scaler)\n",
    "X_test_pca = pca.transform(x_test_scaler)\n",
    "\n",
    "n_components = pca.n_components_\n",
    "print(f\"Número de dimensiones seleccionadas por PCA: {n_components}\")"
   ]
  },
  {
   "cell_type": "code",
   "execution_count": 30,
   "metadata": {},
   "outputs": [
    {
     "name": "stdout",
     "output_type": "stream",
     "text": [
      "CPU times: user 2min 50s, sys: 170 ms, total: 2min 50s\n",
      "Wall time: 2min 50s\n",
      "Exactitud en el conjunto de entrenamiento: 0.9369\n",
      "\n"
     ]
    }
   ],
   "source": [
    "rnd_cl_pca = RandomForestClassifier(random_state=42)\n",
    "\n",
    "%time rnd_cl_pca.fit(X_train_pca, y_train)\n",
    "\n",
    "accuracy = accuracy_score(y_test, rnd_cl_pca.predict(X_test_pca))\n",
    "print(f\"Exactitud en el conjunto de entrenamiento: {accuracy:.4f}\\n\")   "
   ]
  },
  {
   "cell_type": "markdown",
   "metadata": {},
   "source": [
    "Utilizando PCA, el modelo RandomForest, da peores resultados y tarda mucho mas tiempo que son PCA por lo que dedudimos que el PCA para este modelo no es muy recomendable."
   ]
  },
  {
   "cell_type": "markdown",
   "metadata": {},
   "source": [
    "### SGDClassifier"
   ]
  },
  {
   "cell_type": "code",
   "execution_count": 33,
   "metadata": {},
   "outputs": [
    {
     "name": "stdout",
     "output_type": "stream",
     "text": [
      "CPU times: user 4min 50s, sys: 4.65 ms, total: 4min 50s\n",
      "Wall time: 4min 50s\n",
      "Exactitud en el conjunto de entrenamiento: 0.9025\n",
      "\n"
     ]
    }
   ],
   "source": [
    "sgd_cla=SGDClassifier(random_state=42)\n",
    "\n",
    "%time sgd_cla.fit(X_train_scaler,y_train)\n",
    "\n",
    "accuracy = accuracy_score(y_test, sgd_cla.predict(x_test_scaler))\n",
    "print(f\"Exactitud en el conjunto de entrenamiento: {accuracy:.4f}\\n\")   \n"
   ]
  },
  {
   "cell_type": "code",
   "execution_count": 34,
   "metadata": {},
   "outputs": [
    {
     "name": "stdout",
     "output_type": "stream",
     "text": [
      "CPU times: user 2min 37s, sys: 239 μs, total: 2min 37s\n",
      "Wall time: 2min 37s\n",
      "Exactitud en el conjunto de entrenamiento: 0.8991\n",
      "\n"
     ]
    }
   ],
   "source": [
    "sgd_cla_pca=SGDClassifier(random_state=42)\n",
    "\n",
    "%time sgd_cla_pca.fit(X_train_pca, y_train)\n",
    "\n",
    "accuracy = accuracy_score(y_test, sgd_cla_pca.predict(X_test_pca))\n",
    "print(f\"Exactitud en el conjunto de entrenamiento: {accuracy:.4f}\\n\")   "
   ]
  },
  {
   "cell_type": "markdown",
   "metadata": {},
   "source": [
    "Ahora el entrenamiento es la mitad de rapido en el PCA que en el normal."
   ]
  },
  {
   "cell_type": "markdown",
   "metadata": {},
   "source": [
    "## EJERCICIO 2 (OPCIONAL)"
   ]
  },
  {
   "cell_type": "markdown",
   "metadata": {},
   "source": [
    "Utiliza t-SNE para reducir las primeras 5.000 imágenes del conjunto de datos MNIST a dos dimensiones (2 columas) "
   ]
  },
  {
   "cell_type": "code",
   "execution_count": null,
   "metadata": {},
   "outputs": [],
   "source": []
  },
  {
   "cell_type": "markdown",
   "metadata": {},
   "source": [
    "Representa el resultado utilizando un gráfico de dispersión con 10 colores diferentes para representar la clase objetivo de cada imagen. "
   ]
  },
  {
   "cell_type": "code",
   "execution_count": null,
   "metadata": {},
   "outputs": [],
   "source": []
  },
  {
   "cell_type": "markdown",
   "metadata": {},
   "source": [
    " Prueba a utilizar otros algoritmos de reducción de dimensionalidad como PCA, LLE o MDS y compara las visualizaciones resultantes (la opción de MDS puede que tarde un rato)."
   ]
  },
  {
   "cell_type": "code",
   "execution_count": null,
   "metadata": {},
   "outputs": [],
   "source": []
  },
  {
   "cell_type": "markdown",
   "metadata": {},
   "source": [
    " Prueba ahora creando un pipeline que primero aplique PCA y luego MDS (lanzalo con tiempo)."
   ]
  },
  {
   "cell_type": "code",
   "execution_count": null,
   "metadata": {},
   "outputs": [],
   "source": []
  }
 ],
 "metadata": {
  "kernelspec": {
   "display_name": "MachineLearning",
   "language": "python",
   "name": "python3"
  },
  "language_info": {
   "codemirror_mode": {
    "name": "ipython",
    "version": 3
   },
   "file_extension": ".py",
   "mimetype": "text/x-python",
   "name": "python",
   "nbconvert_exporter": "python",
   "pygments_lexer": "ipython3",
   "version": "3.12.7"
  }
 },
 "nbformat": 4,
 "nbformat_minor": 4
}
