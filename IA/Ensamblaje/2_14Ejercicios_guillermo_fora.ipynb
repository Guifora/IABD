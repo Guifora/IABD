{
 "cells": [
  {
   "cell_type": "markdown",
   "metadata": {},
   "source": [
    "# EJERCICIOS"
   ]
  },
  {
   "cell_type": "code",
   "execution_count": 28,
   "metadata": {},
   "outputs": [],
   "source": [
    "import pandas as pd\n",
    "import matplotlib.pyplot as plt\n",
    "import warnings\n",
    "import numpy as np\n",
    "from sklearn.datasets import fetch_openml\n",
    "from sklearn.linear_model import LogisticRegression\n",
    "from sklearn.svm import SVC\n",
    "from sklearn.tree import DecisionTreeClassifier\n",
    "from sklearn.ensemble import VotingClassifier, RandomForestClassifier,StackingClassifier\n",
    "from sklearn.metrics import accuracy_score,confusion_matrix,ConfusionMatrixDisplay\n",
    "from sklearn.neighbors import KNeighborsClassifier\n",
    "from sklearn.model_selection import train_test_split\n",
    "from sklearn.pipeline import Pipeline, make_pipeline\n",
    "from sklearn.model_selection import cross_val_predict,cross_val_score,cross_validate\n",
    "from sklearn.preprocessing import StandardScaler"
   ]
  },
  {
   "cell_type": "code",
   "execution_count": 29,
   "metadata": {},
   "outputs": [],
   "source": [
    "warnings.filterwarnings(\"ignore\", category=FutureWarning)"
   ]
  },
  {
   "cell_type": "markdown",
   "metadata": {},
   "source": [
    "## EJERCICIO 1"
   ]
  },
  {
   "cell_type": "markdown",
   "metadata": {},
   "source": [
    "Si has entrenado cinco modelos diferentes en el mismo conjunto de entrenamiento exacto y todos consiguen una precisión del 95%, ¿hay alguna posibilidad de que puedas combinar estos modelos para obtener mejores resultados? \n",
    "\n",
    "Si la respuesta es sí, ¿cómo? Si la respuesta es no, ¿por qué?"
   ]
  },
  {
   "cell_type": "markdown",
   "metadata": {},
   "source": [
    "Si es posible combianr estos modelos y puede ser que mejoren los resultados.\n",
    "Puedes usar varios metodos de ensamblaje.\n",
    "- Voting\n",
    "- Stacking\n",
    "- Bagging"
   ]
  },
  {
   "cell_type": "markdown",
   "metadata": {},
   "source": [
    "## EJERCICIO 2"
   ]
  },
  {
   "cell_type": "markdown",
   "metadata": {},
   "source": [
    "Carga el conjunto de datos MNIST y divídelo en un conjunto de entrenamiento, un conjunto de validación y un conjunto de prueba (por ejemplo, utiliza 50.000 instancias para entrenamiento, 10.000 para validación y 10.000 para pruebas). \n",
    "\n",
    "Después, entrena varios clasificadores diferentes (uno de ellos que sea un árbol de decisión). \n",
    "\n",
    "A continuación, intenta combinarlos en un ensamble que supere en rendimiento a cada clasificador individual del conjunto de validación, utilizando hard voting. \n",
    "\n",
    "Una vez que hayas encontrado uno, pruébalo en el conjunto de pruebas."
   ]
  },
  {
   "cell_type": "code",
   "execution_count": 30,
   "metadata": {},
   "outputs": [],
   "source": [
    "mnist = fetch_openml('mnist_784', as_frame=False, parser=\"auto\" )\n",
    "X, y = mnist.data, mnist.target"
   ]
  },
  {
   "cell_type": "code",
   "execution_count": 31,
   "metadata": {},
   "outputs": [],
   "source": [
    "## Conjunto de entrenamiento\n",
    "X_train, X_temp, y_train, y_temp = train_test_split(X, y, train_size=50000, stratify=y, random_state=42)\n",
    "## Conjunto de prueba(test) y validacion\n",
    "X_val, X_test, y_val, y_test = train_test_split(X_temp, y_temp, train_size=10000, stratify=y_temp, random_state=42)"
   ]
  },
  {
   "cell_type": "code",
   "execution_count": 32,
   "metadata": {},
   "outputs": [
    {
     "name": "stdout",
     "output_type": "stream",
     "text": [
      "Evaluando Regresión Logística:\n",
      "Exactitud en el conjunto de entrenamiento: 0.9107\n",
      "\n",
      "Evaluando Arbol de decisiones:\n",
      "Exactitud en el conjunto de entrenamiento: 0.8678\n",
      "\n",
      "Evaluando Random Forest:\n",
      "Exactitud en el conjunto de entrenamiento: 0.9670\n",
      "\n",
      "Evaluando KNeighborsClassifier:\n",
      "Exactitud en el conjunto de entrenamiento: 0.9422\n",
      "\n"
     ]
    }
   ],
   "source": [
    "models = {\n",
    "    'Regresión Logística': LogisticRegression(max_iter=10000, random_state=42),\n",
    "    'Arbol de decisiones': DecisionTreeClassifier(random_state=42),\n",
    "    'Random Forest': RandomForestClassifier(random_state=42),\n",
    "    'KNeighborsClassifier': KNeighborsClassifier()\n",
    "}\n",
    "\n",
    "# Bucle para entrenar, evaluar y calcular la matriz de confusión para cada modelo\n",
    "for name, model in models.items():\n",
    "    print(f\"Evaluando {name}:\")\n",
    "    \n",
    "    model_pipeline=make_pipeline(StandardScaler(),model)\n",
    "\n",
    "    model_pipeline.fit(X_train,y_train)\n",
    "    \n",
    "    # Calcular exactitud (accuracy) en el conjunto de entrenamiento\n",
    "    accuracy = accuracy_score(y_val, model_pipeline.predict(X_val))\n",
    "    print(f\"Exactitud en el conjunto de entrenamiento: {accuracy:.4f}\\n\")   \n",
    "\n"
   ]
  },
  {
   "cell_type": "code",
   "execution_count": 33,
   "metadata": {},
   "outputs": [
    {
     "name": "stdout",
     "output_type": "stream",
     "text": [
      "Exactitud del ensemble (Hard Voting): 0.9674\n"
     ]
    }
   ],
   "source": [
    "voting_clf = VotingClassifier(\n",
    "    estimators=[\n",
    "        ('reg_log', LogisticRegression(max_iter=5000,random_state=42)),\n",
    "        ('tree_cla', DecisionTreeClassifier(random_state=42)),\n",
    "        ('rnd_cl', RandomForestClassifier(random_state=42)),\n",
    "        ('kn_cl', KNeighborsClassifier())\n",
    "    ],voting='hard',\n",
    "    weights=[1, 1, 3, 1]\n",
    ")\n",
    "\n",
    "voting_clf_pipeline = make_pipeline(StandardScaler(), voting_clf)\n",
    "\n",
    "voting_clf_pipeline.fit(X_train,y_train)\n",
    "\n",
    "# Calcular exactitud del ensemble\n",
    "accuracy_voting = accuracy_score(y_val,voting_clf_pipeline.predict(X_val))\n",
    "print(f\"Exactitud del ensemble (Hard Voting): {accuracy_voting:.4f}\")\n"
   ]
  },
  {
   "cell_type": "markdown",
   "metadata": {},
   "source": [
    "## EJERCICIO 3"
   ]
  },
  {
   "cell_type": "markdown",
   "metadata": {},
   "source": [
    "Ejecuta los clasificadores individuales del ejercicio anterior para hacer predicciones en el conjunto de entrenamiento y crea un nuevo conjunto de entrenamiento con las predicciones resultantes: cada instancia de entrenamiento es un vector que contiene el conjunto de predicciones de todos tus clasificadores para una imagen y el objetivo es la clase de la imagen. Entrena un clasificador (RandomForestClassifier) en este nuevo conjunto de entrenamiento. \n",
    "\n",
    "Acabas de entrenar un blender y, junto a los clasificadores, forma un ensamble de stacking.\n",
    "\n",
    "Ahora, evalúa el ensamble en el conjunto de prueba. \n",
    "\n",
    "¿Cómo es en comparación con el clasificador de votación que has entrenado antes?\n",
    "\n",
    "Haz lo mismo usando StackingClassifier"
   ]
  },
  {
   "cell_type": "code",
   "execution_count": null,
   "metadata": {},
   "outputs": [
    {
     "name": "stdout",
     "output_type": "stream",
     "text": [
      "Entrenando y evaluando Regresión Logística:\n",
      "Entrenando y evaluando Árbol de decisiones:\n",
      "Entrenando y evaluando Random Forest:\n",
      "Entrenando y evaluando KNeighborsClassifier:\n",
      "Entrenando y evaluando Regresión Logística:\n",
      "Entrenando y evaluando Árbol de decisiones:\n",
      "Entrenando y evaluando Random Forest:\n",
      "Entrenando y evaluando KNeighborsClassifier:\n"
     ]
    }
   ],
   "source": [
    "models = {\n",
    "    'Regresión Logística': LogisticRegression(max_iter=10000, random_state=42),\n",
    "    'Árbol de decisiones': DecisionTreeClassifier(random_state=42),\n",
    "    'Random Forest': RandomForestClassifier(random_state=42),\n",
    "    'KNeighborsClassifier': KNeighborsClassifier()\n",
    "}\n",
    "\n",
    "# Crear un array para almacenar las predicciones de cada modelo\n",
    "base_predictions_train = []\n",
    "base_predictions_test = []\n",
    "\n",
    "# Bucle para entrenar cada modelo y generar sus predicciones en el conjunto de entrenamiento\n",
    "for name, model in models.items():\n",
    "    print(f\"Entrenando y evaluando {name}:\")\n",
    "\n",
    "    # Crear un pipeline con escalado y el modelo\n",
    "    model_pipeline = make_pipeline(StandardScaler(), model)\n",
    "\n",
    "    # Entrenar el modelo en el conjunto de entrenamiento\n",
    "    model_pipeline.fit(X_train, y_train)\n",
    "\n",
    "    # Generar las predicciones del modelo en el conjunto de entrenamiento\n",
    "    y_train_pred = model_pipeline.predict(X_train)\n",
    "\n",
    "    # Agregar las predicciones al array\n",
    "    base_predictions_train.append(y_train_pred)\n",
    "\n",
    "# Bucle para entrenar cada modelo y generar sus predicciones en el conjunto de prueba\n",
    "for name, model in models.items():\n",
    "    print(f\"Entrenando y evaluando {name}:\")\n",
    "\n",
    "    # Crear un pipeline con escalado y el modelo\n",
    "    model_pipeline = make_pipeline(StandardScaler(), model)\n",
    "\n",
    "    # Generar las predicciones del modelo en el conjunto de entrenamiento\n",
    "    y_test_pred = model_pipeline.predict(X_test)\n",
    "\n",
    "    # Agregar las predicciones al array\n",
    "    base_predictions_test.append(y_test_pred)\n",
    "\n",
    "# Convertir las predicciones en un DataFrame\n",
    "base_predictions_train_df = pd.DataFrame(np.array(base_predictions_train).T, columns=models.keys())  # Transponer y poner nombres a las columnas\n",
    "base_predictions_test_df = pd.DataFrame(np.array(base_predictions_test).T, columns=models.keys())  # Transponer y poner nombres a las columnas"
   ]
  },
  {
   "cell_type": "code",
   "execution_count": 36,
   "metadata": {},
   "outputs": [
    {
     "data": {
      "text/html": [
       "<div>\n",
       "<style scoped>\n",
       "    .dataframe tbody tr th:only-of-type {\n",
       "        vertical-align: middle;\n",
       "    }\n",
       "\n",
       "    .dataframe tbody tr th {\n",
       "        vertical-align: top;\n",
       "    }\n",
       "\n",
       "    .dataframe thead th {\n",
       "        text-align: right;\n",
       "    }\n",
       "</style>\n",
       "<table border=\"1\" class=\"dataframe\">\n",
       "  <thead>\n",
       "    <tr style=\"text-align: right;\">\n",
       "      <th></th>\n",
       "      <th>Regresión Logística</th>\n",
       "      <th>Árbol de decisiones</th>\n",
       "      <th>Random Forest</th>\n",
       "      <th>KNeighborsClassifier</th>\n",
       "    </tr>\n",
       "  </thead>\n",
       "  <tbody>\n",
       "    <tr>\n",
       "      <th>0</th>\n",
       "      <td>3</td>\n",
       "      <td>3</td>\n",
       "      <td>3</td>\n",
       "      <td>3</td>\n",
       "    </tr>\n",
       "    <tr>\n",
       "      <th>1</th>\n",
       "      <td>9</td>\n",
       "      <td>9</td>\n",
       "      <td>9</td>\n",
       "      <td>9</td>\n",
       "    </tr>\n",
       "    <tr>\n",
       "      <th>2</th>\n",
       "      <td>1</td>\n",
       "      <td>1</td>\n",
       "      <td>1</td>\n",
       "      <td>1</td>\n",
       "    </tr>\n",
       "    <tr>\n",
       "      <th>3</th>\n",
       "      <td>2</td>\n",
       "      <td>2</td>\n",
       "      <td>2</td>\n",
       "      <td>2</td>\n",
       "    </tr>\n",
       "    <tr>\n",
       "      <th>4</th>\n",
       "      <td>1</td>\n",
       "      <td>1</td>\n",
       "      <td>1</td>\n",
       "      <td>1</td>\n",
       "    </tr>\n",
       "  </tbody>\n",
       "</table>\n",
       "</div>"
      ],
      "text/plain": [
       "  Regresión Logística Árbol de decisiones Random Forest KNeighborsClassifier\n",
       "0                   3                   3             3                    3\n",
       "1                   9                   9             9                    9\n",
       "2                   1                   1             1                    1\n",
       "3                   2                   2             2                    2\n",
       "4                   1                   1             1                    1"
      ]
     },
     "execution_count": 36,
     "metadata": {},
     "output_type": "execute_result"
    }
   ],
   "source": [
    "base_predictions_train_df.head()"
   ]
  },
  {
   "cell_type": "markdown",
   "metadata": {},
   "source": [
    "Creamos el conjunto de entrenamiento"
   ]
  },
  {
   "cell_type": "code",
   "execution_count": 37,
   "metadata": {},
   "outputs": [],
   "source": [
    "new_x_train=base_predictions_train_df\n",
    "new_y_train= y_train\n",
    "new_X_test=base_predictions_test_df\n",
    "new_y_test=y_test"
   ]
  },
  {
   "cell_type": "markdown",
   "metadata": {},
   "source": [
    "ENTRENAMOS EL META MODELO CON EL NUEVO CONJUNTO DE ENTRENAMIENTO"
   ]
  },
  {
   "cell_type": "code",
   "execution_count": null,
   "metadata": {},
   "outputs": [
    {
     "name": "stdout",
     "output_type": "stream",
     "text": [
      "Exactitud del ensemble meta-modelo (RandomForest): 1.0000\n"
     ]
    }
   ],
   "source": [
    "rf_meta = RandomForestClassifier(random_state=42)\n",
    "rf_meta.fit(new_x_train, new_y_train)\n",
    "\n",
    "# Calcular exactitud del ensemble meta-modelo\n",
    "accuracy_meta_model = accuracy_score(new_y_test, rf_meta.predict(new_X_test))\n",
    "print(f\"Exactitud del ensemble meta-modelo (RandomForest): {accuracy_meta_model:.4f}\")"
   ]
  },
  {
   "cell_type": "markdown",
   "metadata": {},
   "source": [
    "STACKING CLASSIFIER"
   ]
  },
  {
   "cell_type": "code",
   "execution_count": 39,
   "metadata": {},
   "outputs": [
    {
     "name": "stdout",
     "output_type": "stream",
     "text": [
      "Exactitud del ensemble (Stacking): 0.9719\n"
     ]
    }
   ],
   "source": [
    "stacking_clf = StackingClassifier(\n",
    "    estimators=[\n",
    "        ('reg_log', LogisticRegression(max_iter=5000,random_state=42)),\n",
    "        ('tree_cla', DecisionTreeClassifier(random_state=42)),\n",
    "        ('rnd_cl', RandomForestClassifier(random_state=42)),\n",
    "        ('kn_cl', KNeighborsClassifier())\n",
    "    ],\n",
    "    final_estimator=RandomForestClassifier(random_state=43),\n",
    "    cv=5  # number of cross-validation folds\n",
    ")\n",
    "\n",
    "stacking_clf_pipeline=make_pipeline(StandardScaler(),stacking_clf)\n",
    "stacking_clf_pipeline.fit(X_train,y_train)\n",
    "\n",
    "accuracy_voting = accuracy_score(y_test,stacking_clf_pipeline.predict(X_test))\n",
    "print(f\"Exactitud del ensemble (Stacking): {accuracy_voting:.4f}\")"
   ]
  }
 ],
 "metadata": {
  "kernelspec": {
   "display_name": "MachineLearning",
   "language": "python",
   "name": "python3"
  },
  "language_info": {
   "codemirror_mode": {
    "name": "ipython",
    "version": 3
   },
   "file_extension": ".py",
   "mimetype": "text/x-python",
   "name": "python",
   "nbconvert_exporter": "python",
   "pygments_lexer": "ipython3",
   "version": "3.12.7"
  },
  "nav_menu": {
   "height": "252px",
   "width": "333px"
  },
  "toc": {
   "navigate_menu": true,
   "number_sections": true,
   "sideBar": true,
   "threshold": 6,
   "toc_cell": false,
   "toc_section_display": "block",
   "toc_window_display": false
  }
 },
 "nbformat": 4,
 "nbformat_minor": 4
}
